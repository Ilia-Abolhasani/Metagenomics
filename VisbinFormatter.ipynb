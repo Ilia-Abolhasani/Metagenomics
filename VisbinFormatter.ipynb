{
 "cells": [
  {
   "cell_type": "code",
   "execution_count": 19,
   "metadata": {
    "ExecuteTime": {
     "end_time": "2021-06-24T10:00:47.007068Z",
     "start_time": "2021-06-24T10:00:47.003397Z"
    }
   },
   "outputs": [],
   "source": [
    "import pandas as pd"
   ]
  },
  {
   "cell_type": "code",
   "execution_count": 20,
   "metadata": {
    "ExecuteTime": {
     "end_time": "2021-06-24T10:00:56.224957Z",
     "start_time": "2021-06-24T10:00:56.221239Z"
    }
   },
   "outputs": [],
   "source": [
    "dataset_name = 'Gregor2016'"
   ]
  },
  {
   "cell_type": "markdown",
   "metadata": {
    "heading_collapsed": true
   },
   "source": [
    "# for Toy"
   ]
  },
  {
   "cell_type": "code",
   "execution_count": 2,
   "metadata": {
    "ExecuteTime": {
     "end_time": "2021-06-23T17:47:37.939211Z",
     "start_time": "2021-06-23T17:47:37.256141Z"
    },
    "hidden": true
   },
   "outputs": [
    {
     "data": {
      "text/html": [
       "<div>\n",
       "<style scoped>\n",
       "    .dataframe tbody tr th:only-of-type {\n",
       "        vertical-align: middle;\n",
       "    }\n",
       "\n",
       "    .dataframe tbody tr th {\n",
       "        vertical-align: top;\n",
       "    }\n",
       "\n",
       "    .dataframe thead th {\n",
       "        text-align: right;\n",
       "    }\n",
       "</style>\n",
       "<table border=\"1\" class=\"dataframe\">\n",
       "  <thead>\n",
       "    <tr style=\"text-align: right;\">\n",
       "      <th></th>\n",
       "      <th>#anonymous_gsa_id</th>\n",
       "      <th>genome_id</th>\n",
       "      <th>tax_id</th>\n",
       "      <th>sequence_id</th>\n",
       "      <th>number_reads</th>\n",
       "    </tr>\n",
       "  </thead>\n",
       "  <tbody>\n",
       "    <tr>\n",
       "      <th>0</th>\n",
       "      <td>H|P|C46172</td>\n",
       "      <td>424182.1</td>\n",
       "      <td>424182</td>\n",
       "      <td>NC_022535.1</td>\n",
       "      <td>1378684</td>\n",
       "    </tr>\n",
       "    <tr>\n",
       "      <th>1</th>\n",
       "      <td>H|P|C144667</td>\n",
       "      <td>424182.1</td>\n",
       "      <td>424182</td>\n",
       "      <td>NC_022545.1</td>\n",
       "      <td>986526</td>\n",
       "    </tr>\n",
       "  </tbody>\n",
       "</table>\n",
       "</div>"
      ],
      "text/plain": [
       "  #anonymous_gsa_id  genome_id  tax_id  sequence_id  number_reads\n",
       "0        H|P|C46172   424182.1  424182  NC_022535.1       1378684\n",
       "1       H|P|C144667   424182.1  424182  NC_022545.1        986526"
      ]
     },
     "execution_count": 2,
     "metadata": {},
     "output_type": "execute_result"
    }
   ],
   "source": [
    "path_gold_standard = f\"./Dataset/{dataset_name}/mapping.tsv\"\n",
    "df = pd.read_csv(path_gold_standard, sep='\\t')\n",
    "df.head(2)"
   ]
  },
  {
   "cell_type": "code",
   "execution_count": 53,
   "metadata": {
    "ExecuteTime": {
     "end_time": "2021-06-23T15:12:43.907426Z",
     "start_time": "2021-06-23T15:12:24.459907Z"
    },
    "hidden": true
   },
   "outputs": [],
   "source": [
    "contig2taxid = {}\n",
    "contig2seqid = {}\n",
    "def add2dict(row):\n",
    "    contig2taxid[row['#anonymous_gsa_id']] = row['tax_id']\n",
    "    contig2seqid[row['#anonymous_gsa_id']] = row['sequence_id']    \n",
    "df.apply(lambda row: add2dict(row),axis=1);"
   ]
  },
  {
   "cell_type": "code",
   "execution_count": 54,
   "metadata": {
    "ExecuteTime": {
     "end_time": "2021-06-23T15:12:43.918093Z",
     "start_time": "2021-06-23T15:12:43.911586Z"
    },
    "code_folding": [],
    "hidden": true
   },
   "outputs": [],
   "source": [
    "counter = 0\n",
    "def reformat(l):    \n",
    "    if(len(l)==0):\n",
    "        return \"\"\n",
    "    if(l[0] != '>'):\n",
    "        return l        \n",
    "    \n",
    "    global counter    \n",
    "    counter += 1\n",
    "    contig = l[1:]\n",
    "    taxId = contig2taxid[contig]    \n",
    "    seqid = contig2seqid[contig]\n",
    "    print(counter,end=\"\\r\")\n",
    "    return f'''>{counter} reference=gi|{taxId}|ref|{seqid}| position=complement({taxId}..{taxId}) description=\"{taxId}\"'''"
   ]
  },
  {
   "cell_type": "code",
   "execution_count": 55,
   "metadata": {
    "ExecuteTime": {
     "end_time": "2021-06-23T15:15:43.665834Z",
     "start_time": "2021-06-23T15:12:49.002951Z"
    },
    "hidden": true
   },
   "outputs": [
    {
     "name": "stdout",
     "output_type": "stream",
     "text": [
      "file was read\n",
      "file was reformatted\n",
      "file was written\n"
     ]
    }
   ],
   "source": [
    "with open(f'./Dataset/{dataset_name}/anonymous.fasta', 'r') as file:\n",
    "    lines = [line for line in file.read().split('\\n')]        \n",
    "print('file was read')    \n",
    "\n",
    "lines = [reformat(l) for l in lines]\n",
    "\n",
    "print('file was reformatted')    \n",
    "\n",
    "with open('./for_run_visbin.fasta', 'w') as file:\n",
    "    file.write('\\n'.join(lines))\n",
    "\n",
    "print('file was written')    "
   ]
  },
  {
   "cell_type": "markdown",
   "metadata": {
    "heading_collapsed": true
   },
   "source": [
    "# for airways, urog, gi ,..."
   ]
  },
  {
   "cell_type": "code",
   "execution_count": 14,
   "metadata": {
    "ExecuteTime": {
     "end_time": "2021-06-23T19:28:27.433940Z",
     "start_time": "2021-06-23T19:28:27.130137Z"
    },
    "hidden": true
   },
   "outputs": [
    {
     "data": {
      "text/html": [
       "<div>\n",
       "<style scoped>\n",
       "    .dataframe tbody tr th:only-of-type {\n",
       "        vertical-align: middle;\n",
       "    }\n",
       "\n",
       "    .dataframe tbody tr th {\n",
       "        vertical-align: top;\n",
       "    }\n",
       "\n",
       "    .dataframe thead th {\n",
       "        text-align: right;\n",
       "    }\n",
       "</style>\n",
       "<table border=\"1\" class=\"dataframe\">\n",
       "  <thead>\n",
       "    <tr style=\"text-align: right;\">\n",
       "      <th></th>\n",
       "      <th>#anonymous_gsa_id</th>\n",
       "      <th>OTU</th>\n",
       "      <th>Genbank Accession Number</th>\n",
       "      <th>a</th>\n",
       "      <th>b</th>\n",
       "      <th>Bacteria</th>\n",
       "      <th>Family</th>\n",
       "    </tr>\n",
       "  </thead>\n",
       "  <tbody>\n",
       "    <tr>\n",
       "      <th>0</th>\n",
       "      <td>S0C23009</td>\n",
       "      <td>OTU_97.373.0</td>\n",
       "      <td>LN831029.1</td>\n",
       "      <td>2979638</td>\n",
       "      <td>2986598</td>\n",
       "      <td>Achromobacter xylosoxidans</td>\n",
       "      <td>Achromobacter</td>\n",
       "    </tr>\n",
       "    <tr>\n",
       "      <th>1</th>\n",
       "      <td>S0C14682</td>\n",
       "      <td>OTU_97.373.0</td>\n",
       "      <td>LN831029.1</td>\n",
       "      <td>5000845</td>\n",
       "      <td>5002952</td>\n",
       "      <td>Achromobacter xylosoxidans</td>\n",
       "      <td>Achromobacter</td>\n",
       "    </tr>\n",
       "  </tbody>\n",
       "</table>\n",
       "</div>"
      ],
      "text/plain": [
       "  #anonymous_gsa_id           OTU Genbank Accession Number        a        b  \\\n",
       "0          S0C23009  OTU_97.373.0               LN831029.1  2979638  2986598   \n",
       "1          S0C14682  OTU_97.373.0               LN831029.1  5000845  5002952   \n",
       "\n",
       "                     Bacteria         Family  \n",
       "0  Achromobacter xylosoxidans  Achromobacter  \n",
       "1  Achromobacter xylosoxidans  Achromobacter  "
      ]
     },
     "execution_count": 14,
     "metadata": {},
     "output_type": "execute_result"
    }
   ],
   "source": [
    "path = f\"./Dataset/{dataset_name}/reference.tsv\"\n",
    "info = pd.read_csv(path, sep='\\t',header=None)\n",
    "info.columns = ['#anonymous_gsa_id','OTU','Genbank Accession Number','a','b']\n",
    "\n",
    "df = pd.read_csv(f\"./Dataset/{dataset_name}/taxonomy.tsv\", sep='\\t',header=None)\n",
    "df.columns=['OTU','Bacteria','Family']\n",
    "info = pd.merge(info, df, how='inner', on='OTU')\n",
    "info.head(2)"
   ]
  },
  {
   "cell_type": "code",
   "execution_count": 15,
   "metadata": {
    "ExecuteTime": {
     "end_time": "2021-06-23T19:28:34.913400Z",
     "start_time": "2021-06-23T19:28:33.401363Z"
    },
    "hidden": true
   },
   "outputs": [],
   "source": [
    "contig2bactria = {}\n",
    "def add2dict(row):\n",
    "    contig2bactria[row['#anonymous_gsa_id']] = row['Bacteria']    \n",
    "info.apply(lambda row: add2dict(row),axis=1);"
   ]
  },
  {
   "cell_type": "code",
   "execution_count": 25,
   "metadata": {
    "ExecuteTime": {
     "end_time": "2021-06-24T10:03:51.279774Z",
     "start_time": "2021-06-24T10:03:51.272698Z"
    },
    "hidden": true
   },
   "outputs": [],
   "source": [
    "counter = 0\n",
    "def reformat(l):      \n",
    "    if(len(l)==0):\n",
    "        return \"\"\n",
    "    if(l[0] != '>'):\n",
    "        return l            \n",
    "    global counter    \n",
    "    counter += 1\n",
    "    contig = l[1:]\n",
    "    bactria = contig2bactria[contig]        \n",
    "    print(counter,end=\"\\r\")\n",
    "    return f'''>{counter} reference=gi|{bactria}|ref|{bactria}| position=complement({bactria}..{bactria}) description=\"{bactria}\"'''"
   ]
  },
  {
   "cell_type": "code",
   "execution_count": null,
   "metadata": {
    "ExecuteTime": {
     "end_time": "2021-06-24T10:03:51.855747Z",
     "start_time": "2021-06-24T10:03:51.841758Z"
    },
    "hidden": true
   },
   "outputs": [],
   "source": [
    "with open(f\"./Dataset/{dataset_name}/contigs.fna\", 'r') as file:\n",
    "    lines = [line for line in file.read().split('\\n')]        \n",
    "    \n",
    "print('file was read')    \n",
    "\n",
    "lines = [reformat(l) for l in lines]\n",
    "\n",
    "print('file was reformatted')    \n",
    "\n",
    "with open('./for_run_visbin.fasta', 'w') as file:\n",
    "    file.write('\\n'.join(lines))\n",
    "\n",
    "print('file was written')    "
   ]
  },
  {
   "cell_type": "code",
   "execution_count": 18,
   "metadata": {
    "ExecuteTime": {
     "end_time": "2021-06-23T19:30:18.363932Z",
     "start_time": "2021-06-23T19:30:15.376024Z"
    },
    "hidden": true
   },
   "outputs": [],
   "source": [
    "del lines"
   ]
  },
  {
   "cell_type": "markdown",
   "metadata": {
    "heading_collapsed": true
   },
   "source": [
    "# for Gregor2016"
   ]
  },
  {
   "cell_type": "code",
   "execution_count": 27,
   "metadata": {
    "ExecuteTime": {
     "end_time": "2021-06-24T10:04:24.496553Z",
     "start_time": "2021-06-24T10:04:24.472454Z"
    },
    "hidden": true
   },
   "outputs": [
    {
     "data": {
      "text/html": [
       "<div>\n",
       "<style scoped>\n",
       "    .dataframe tbody tr th:only-of-type {\n",
       "        vertical-align: middle;\n",
       "    }\n",
       "\n",
       "    .dataframe tbody tr th {\n",
       "        vertical-align: top;\n",
       "    }\n",
       "\n",
       "    .dataframe thead th {\n",
       "        text-align: right;\n",
       "    }\n",
       "</style>\n",
       "<table border=\"1\" class=\"dataframe\">\n",
       "  <thead>\n",
       "    <tr style=\"text-align: right;\">\n",
       "      <th></th>\n",
       "      <th>#anonymous_gsa_id</th>\n",
       "      <th>tax_id</th>\n",
       "    </tr>\n",
       "  </thead>\n",
       "  <tbody>\n",
       "    <tr>\n",
       "      <th>0</th>\n",
       "      <td>11543</td>\n",
       "      <td>369723</td>\n",
       "    </tr>\n",
       "    <tr>\n",
       "      <th>1</th>\n",
       "      <td>11546</td>\n",
       "      <td>369723</td>\n",
       "    </tr>\n",
       "  </tbody>\n",
       "</table>\n",
       "</div>"
      ],
      "text/plain": [
       "  #anonymous_gsa_id  tax_id\n",
       "0             11543  369723\n",
       "1             11546  369723"
      ]
     },
     "execution_count": 27,
     "metadata": {},
     "output_type": "execute_result"
    }
   ],
   "source": [
    "path_gold_standard = f\"./Dataset/Gregor2016/simulated_dataset_uniform.csv\"\n",
    "df = pd.read_csv(path_gold_standard, sep='\\t',header=None)\n",
    "df.columns = ['#anonymous_gsa_id','tax_id']\n",
    "df.head(2)"
   ]
  },
  {
   "cell_type": "code",
   "execution_count": 28,
   "metadata": {
    "ExecuteTime": {
     "end_time": "2021-06-24T10:04:30.853355Z",
     "start_time": "2021-06-24T10:04:30.495720Z"
    },
    "hidden": true
   },
   "outputs": [],
   "source": [
    "contig2taxid = {}\n",
    "def add2dict(row):\n",
    "    contig2taxid[row['#anonymous_gsa_id']] = row['tax_id']\n",
    "df.apply(lambda row: add2dict(row),axis=1);"
   ]
  },
  {
   "cell_type": "code",
   "execution_count": 29,
   "metadata": {
    "ExecuteTime": {
     "end_time": "2021-06-24T10:05:51.631564Z",
     "start_time": "2021-06-24T10:05:51.625302Z"
    },
    "hidden": true
   },
   "outputs": [],
   "source": [
    "counter = 0\n",
    "def reformat(l):    \n",
    "    if(len(l)==0):\n",
    "        return \"\"\n",
    "    if(l[0] != '>'):\n",
    "        return l            \n",
    "    global counter    \n",
    "    counter += 1    \n",
    "    taxId = contig2taxid[l[1:]]        \n",
    "    print(counter,end=\"\\r\")\n",
    "    return f'''>{counter} reference=gi|{taxId}|ref|{taxId}| position=complement({taxId}..{taxId}) description=\"{taxId}\"'''"
   ]
  },
  {
   "cell_type": "code",
   "execution_count": 31,
   "metadata": {
    "ExecuteTime": {
     "end_time": "2021-06-24T10:06:41.899815Z",
     "start_time": "2021-06-24T10:06:35.056589Z"
    },
    "hidden": true
   },
   "outputs": [
    {
     "name": "stdout",
     "output_type": "stream",
     "text": [
      "file was read\n",
      "file was reformatted\n",
      "file was written\n"
     ]
    }
   ],
   "source": [
    "with open(f'./Dataset/Gregor2016/simulated_dataset_uniform.fna', 'r') as file:\n",
    "    lines = [line for line in file.read().split('\\n')]        \n",
    "print('file was read')    \n",
    "\n",
    "lines = [reformat(l) for l in lines]\n",
    "\n",
    "print('file was reformatted')    \n",
    "\n",
    "with open('./for_run_visbin.fasta', 'w') as file:\n",
    "    file.write('\\n'.join(lines))\n",
    "\n",
    "print('file was written')    "
   ]
  },
  {
   "cell_type": "code",
   "execution_count": null,
   "metadata": {
    "hidden": true
   },
   "outputs": [],
   "source": []
  }
 ],
 "metadata": {
  "kernelspec": {
   "display_name": "Python 3",
   "language": "python",
   "name": "python3"
  },
  "language_info": {
   "codemirror_mode": {
    "name": "ipython",
    "version": 3
   },
   "file_extension": ".py",
   "mimetype": "text/x-python",
   "name": "python",
   "nbconvert_exporter": "python",
   "pygments_lexer": "ipython3",
   "version": "3.8.5"
  }
 },
 "nbformat": 4,
 "nbformat_minor": 4
}
