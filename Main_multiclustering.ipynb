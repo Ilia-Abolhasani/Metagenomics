{
 "cells": [
  {
   "cell_type": "markdown",
   "metadata": {},
   "source": [
    "# Imports"
   ]
  },
  {
   "cell_type": "code",
   "execution_count": 1,
   "metadata": {
    "ExecuteTime": {
     "end_time": "2021-10-03T12:29:42.844644Z",
     "start_time": "2021-10-03T12:29:40.933833Z"
    },
    "code_folding": [],
    "run_control": {
     "marked": true
    },
    "slideshow": {
     "slide_type": "-"
    }
   },
   "outputs": [],
   "source": [
    "#!pip install obonet  numpy pandas matplotlib  sklearn python-bidi arabic_reshaper \n",
    "#!wget http://purl.obolibrary.org/obo/go.obo\n",
    "import pandas\n",
    "import numpy\n",
    "import requests,math,pickle\n",
    "import networkx,obonet\n",
    "import numpy as np ,pandas as pd, matplotlib.pyplot as plt\n",
    "import arabic_reshaper\n",
    "import multiprocessing as mp\n",
    "import scipy.stats as stats\n",
    "from sklearn.metrics.cluster import *\n",
    "from bidi.algorithm import get_display\n",
    "from functools import partial\n",
    "import sys\n",
    "import gc\n",
    "from IPython.display import clear_output\n",
    "if sys.version_info[0] < 3: \n",
    "    from StringIO import StringIO\n",
    "else:\n",
    "    from io import StringIO\n",
    "\n",
    "def fa(text):\n",
    "    return get_display(arabic_reshaper.reshape(u'%s' % str(text)))"
   ]
  },
  {
   "cell_type": "markdown",
   "metadata": {
    "ExecuteTime": {
     "end_time": "2021-09-30T10:08:40.926465Z",
     "start_time": "2021-09-30T10:08:40.920622Z"
    }
   },
   "source": [
    "## Multi server parallel computing"
   ]
  },
  {
   "cell_type": "code",
   "execution_count": 4,
   "metadata": {
    "ExecuteTime": {
     "end_time": "2021-10-03T12:30:45.881690Z",
     "start_time": "2021-10-03T12:30:38.329565Z"
    }
   },
   "outputs": [
    {
     "name": "stdout",
     "output_type": "stream",
     "text": [
      "[0, 1, 2, 3, 4, 5, 6, 7, 8, 9]\n"
     ]
    }
   ],
   "source": [
    "import ipyparallel as ipp\n",
    "!./runAndCpToEngine.sh\n",
    "clear_output()\n",
    "c = ipp.Client()\n",
    "print(c.ids)\n",
    "dview = c[:]"
   ]
  },
  {
   "cell_type": "code",
   "execution_count": 12,
   "metadata": {
    "ExecuteTime": {
     "end_time": "2021-10-03T12:35:06.247005Z",
     "start_time": "2021-10-03T12:35:06.201501Z"
    }
   },
   "outputs": [],
   "source": [
    "%%px\n",
    "import mpi4py\n",
    "from mpi4py import MPI\n",
    "from ipykernel.datapub import publish_data\n",
    "\n",
    "world = MPI.COMM_WORLD\n",
    "world_group = world.Get_group()\n",
    "group = world_group.Incl(range(0, 10))\n",
    "my_root = group.Translate_ranks(group, [0], world_group)[0]\n",
    "comm = world.Create(group)"
   ]
  },
  {
   "cell_type": "code",
   "execution_count": 15,
   "metadata": {
    "ExecuteTime": {
     "end_time": "2021-10-03T12:44:23.231474Z",
     "start_time": "2021-10-03T12:44:22.877149Z"
    }
   },
   "outputs": [
    {
     "name": "stdout",
     "output_type": "stream",
     "text": [
      "[stdout:0] MPI rank: 2/10\n",
      "[stdout:1] MPI rank: 0/10\n",
      "[stdout:2] MPI rank: 6/10\n",
      "[stdout:3] MPI rank: 4/10\n",
      "[stdout:4] MPI rank: 1/10\n",
      "[stdout:5] MPI rank: 3/10\n",
      "[stdout:6] MPI rank: 8/10\n",
      "[stdout:7] MPI rank: 5/10\n",
      "[stdout:8] MPI rank: 9/10\n",
      "[stdout:9] MPI rank: 7/10\n"
     ]
    },
    {
     "name": "stderr",
     "output_type": "stream",
     "text": [
      "[stderr:0] \n",
      "<ipython-input-9-d927632362d1>:4: DeprecationWarning: ipykernel.datapub is deprecated. It has moved to ipyparallel.datapub\n",
      "  from ipykernel.datapub import publish_data\n",
      "[stderr:1] \n",
      "<ipython-input-9-d927632362d1>:4: DeprecationWarning: ipykernel.datapub is deprecated. It has moved to ipyparallel.datapub\n",
      "  from ipykernel.datapub import publish_data\n",
      "[stderr:2] \n",
      "<ipython-input-9-d927632362d1>:4: DeprecationWarning: ipykernel.datapub is deprecated. It has moved to ipyparallel.datapub\n",
      "  from ipykernel.datapub import publish_data\n",
      "[stderr:3] \n",
      "<ipython-input-9-d927632362d1>:4: DeprecationWarning: ipykernel.datapub is deprecated. It has moved to ipyparallel.datapub\n",
      "  from ipykernel.datapub import publish_data\n",
      "[stderr:4] \n",
      "<ipython-input-9-d927632362d1>:4: DeprecationWarning: ipykernel.datapub is deprecated. It has moved to ipyparallel.datapub\n",
      "  from ipykernel.datapub import publish_data\n",
      "[stderr:5] \n",
      "<ipython-input-9-d927632362d1>:4: DeprecationWarning: ipykernel.datapub is deprecated. It has moved to ipyparallel.datapub\n",
      "  from ipykernel.datapub import publish_data\n",
      "[stderr:6] \n",
      "<ipython-input-9-d927632362d1>:4: DeprecationWarning: ipykernel.datapub is deprecated. It has moved to ipyparallel.datapub\n",
      "  from ipykernel.datapub import publish_data\n",
      "[stderr:7] \n",
      "<ipython-input-9-d927632362d1>:4: DeprecationWarning: ipykernel.datapub is deprecated. It has moved to ipyparallel.datapub\n",
      "  from ipykernel.datapub import publish_data\n",
      "[stderr:8] \n",
      "<ipython-input-9-d927632362d1>:4: DeprecationWarning: ipykernel.datapub is deprecated. It has moved to ipyparallel.datapub\n",
      "  from ipykernel.datapub import publish_data\n",
      "[stderr:9] \n",
      "<ipython-input-9-d927632362d1>:4: DeprecationWarning: ipykernel.datapub is deprecated. It has moved to ipyparallel.datapub\n",
      "  from ipykernel.datapub import publish_data\n"
     ]
    }
   ],
   "source": [
    "%%px\n",
    "# MPI initialization, library imports and sanity checks on all engines\n",
    "from mpi4py import MPI\n",
    "# Load data publication API so engines can send data to notebook client\n",
    "from ipykernel.datapub import publish_data\n",
    "import numpy as np\n",
    "import time\n",
    "\n",
    "mpi = MPI.COMM_WORLD\n",
    "bcast = mpi.bcast\n",
    "barrier = mpi.barrier\n",
    "rank = mpi.rank\n",
    "size = mpi.size\n",
    "print(\"MPI rank: %i/%i\" % (mpi.rank,mpi.size))"
   ]
  },
  {
   "cell_type": "code",
   "execution_count": 16,
   "metadata": {
    "ExecuteTime": {
     "end_time": "2021-10-03T12:44:35.066350Z",
     "start_time": "2021-10-03T12:44:35.024520Z"
    }
   },
   "outputs": [
    {
     "data": {
      "text/plain": [
       "[2, 0, 6, 4, 1, 3, 8, 5, 9, 7]"
      ]
     },
     "execution_count": 16,
     "metadata": {},
     "output_type": "execute_result"
    }
   ],
   "source": [
    "dview['rank']"
   ]
  },
  {
   "cell_type": "code",
   "execution_count": 5,
   "metadata": {
    "ExecuteTime": {
     "end_time": "2021-10-01T21:10:30.978760Z",
     "start_time": "2021-10-01T21:10:30.374244Z"
    }
   },
   "outputs": [
    {
     "name": "stdout",
     "output_type": "stream",
     "text": [
      "importing pandas on engine(s)\n",
      "importing numpy on engine(s)\n"
     ]
    }
   ],
   "source": [
    "with dview.sync_imports():\n",
    "    import pandas\n",
    "    import numpy"
   ]
  },
  {
   "cell_type": "code",
   "execution_count": 6,
   "metadata": {
    "ExecuteTime": {
     "end_time": "2021-10-01T21:10:31.309104Z",
     "start_time": "2021-10-01T21:10:30.982318Z"
    }
   },
   "outputs": [],
   "source": [
    "dataset_name = \"CAMI_Low\"\n",
    "num_cores = max(mp.cpu_count() - 3, 1)\n",
    "!mkdir -p ./Output/{dataset_name}/figs\n",
    "!mkdir -p ./Temp/{dataset_name}/"
   ]
  },
  {
   "cell_type": "code",
   "execution_count": 7,
   "metadata": {
    "ExecuteTime": {
     "end_time": "2021-10-01T21:10:31.318677Z",
     "start_time": "2021-10-01T21:10:31.313064Z"
    }
   },
   "outputs": [],
   "source": [
    "def to_biobox(df, path):\n",
    "    df[df[\"bin_id\"]!= 0].to_csv(path, index=None, sep='\\t',header=None)    \n",
    "    with open(path, 'r') as file:        \n",
    "        text = file.read()\n",
    "    with open(path, 'w', encoding='utf8') as file:\n",
    "        file.write(\"@Version:0.9.1\\n@SampleID:gsa\\n\\n@@SEQUENCEID\\tBINID\\n\" + text)"
   ]
  },
  {
   "cell_type": "markdown",
   "metadata": {},
   "source": [
    "# Read Fasta"
   ]
  },
  {
   "cell_type": "code",
   "execution_count": 8,
   "metadata": {
    "ExecuteTime": {
     "end_time": "2021-10-01T21:10:31.328622Z",
     "start_time": "2021-10-01T21:10:31.321527Z"
    },
    "code_folding": []
   },
   "outputs": [],
   "source": [
    "def fasta_to_df(path):\n",
    "    with open(path, 'r') as file:\n",
    "        text = file.read()\n",
    "    lines = [line for line in text.split('\\n') if len(line) > 0]\n",
    "    s = ''\n",
    "    ids = []\n",
    "    contigs = []\n",
    "    for l in lines:\n",
    "        if(l[0]=='>'):\n",
    "            ids.append(l)        \n",
    "            contigs.append(s)\n",
    "            s = ''\n",
    "        else:\n",
    "            s += l    \n",
    "    contigs.append(s)\n",
    "    df = pd.DataFrame(\n",
    "            {\n",
    "                '#anonymous_gsa_id': ids,\n",
    "                'contig': contigs[1:]\n",
    "            })\n",
    "    df['#anonymous_gsa_id'] = df['#anonymous_gsa_id'].apply(lambda x: x[1:])    \n",
    "    return df"
   ]
  },
  {
   "cell_type": "code",
   "execution_count": 9,
   "metadata": {
    "ExecuteTime": {
     "end_time": "2021-10-01T21:10:33.440309Z",
     "start_time": "2021-10-01T21:10:31.331297Z"
    }
   },
   "outputs": [
    {
     "data": {
      "text/html": [
       "<div>\n",
       "<style scoped>\n",
       "    .dataframe tbody tr th:only-of-type {\n",
       "        vertical-align: middle;\n",
       "    }\n",
       "\n",
       "    .dataframe tbody tr th {\n",
       "        vertical-align: top;\n",
       "    }\n",
       "\n",
       "    .dataframe thead th {\n",
       "        text-align: right;\n",
       "    }\n",
       "</style>\n",
       "<table border=\"1\" class=\"dataframe\">\n",
       "  <thead>\n",
       "    <tr style=\"text-align: right;\">\n",
       "      <th></th>\n",
       "      <th>#anonymous_gsa_id</th>\n",
       "      <th>contig_length</th>\n",
       "    </tr>\n",
       "  </thead>\n",
       "  <tbody>\n",
       "    <tr>\n",
       "      <th>0</th>\n",
       "      <td>RL|S1|C0</td>\n",
       "      <td>809</td>\n",
       "    </tr>\n",
       "    <tr>\n",
       "      <th>1</th>\n",
       "      <td>RL|S1|C1</td>\n",
       "      <td>626</td>\n",
       "    </tr>\n",
       "  </tbody>\n",
       "</table>\n",
       "</div>"
      ],
      "text/plain": [
       "  #anonymous_gsa_id  contig_length\n",
       "0          RL|S1|C0            809\n",
       "1          RL|S1|C1            626"
      ]
     },
     "execution_count": 9,
     "metadata": {},
     "output_type": "execute_result"
    }
   ],
   "source": [
    "contigs = fasta_to_df(f\"./Dataset/{dataset_name}/contigs.fna\")\n",
    "all_number = contigs.shape[0]\n",
    "contigs[\"contig_length\"] = contigs[\"contig\"].apply(lambda x: len(x))\n",
    "del contigs['contig']\n",
    "contigs.head(2)"
   ]
  },
  {
   "cell_type": "code",
   "execution_count": 10,
   "metadata": {
    "ExecuteTime": {
     "end_time": "2021-10-01T21:10:33.624724Z",
     "start_time": "2021-10-01T21:10:33.443101Z"
    }
   },
   "outputs": [
    {
     "data": {
      "text/html": [
       "<div>\n",
       "<style scoped>\n",
       "    .dataframe tbody tr th:only-of-type {\n",
       "        vertical-align: middle;\n",
       "    }\n",
       "\n",
       "    .dataframe tbody tr th {\n",
       "        vertical-align: top;\n",
       "    }\n",
       "\n",
       "    .dataframe thead th {\n",
       "        text-align: right;\n",
       "    }\n",
       "</style>\n",
       "<table border=\"1\" class=\"dataframe\">\n",
       "  <thead>\n",
       "    <tr style=\"text-align: right;\">\n",
       "      <th></th>\n",
       "      <th>#anonymous_gsa_id</th>\n",
       "      <th>contig_length</th>\n",
       "      <th>bin_id</th>\n",
       "      <th>tax_id</th>\n",
       "      <th>number_reads</th>\n",
       "    </tr>\n",
       "  </thead>\n",
       "  <tbody>\n",
       "    <tr>\n",
       "      <th>0</th>\n",
       "      <td>RL|S1|C0</td>\n",
       "      <td>809</td>\n",
       "      <td>1220_AJ</td>\n",
       "      <td>75309</td>\n",
       "      <td>12</td>\n",
       "    </tr>\n",
       "    <tr>\n",
       "      <th>1</th>\n",
       "      <td>RL|S1|C1</td>\n",
       "      <td>626</td>\n",
       "      <td>1048993</td>\n",
       "      <td>328515</td>\n",
       "      <td>16</td>\n",
       "    </tr>\n",
       "  </tbody>\n",
       "</table>\n",
       "</div>"
      ],
      "text/plain": [
       "  #anonymous_gsa_id  contig_length   bin_id  tax_id  number_reads\n",
       "0          RL|S1|C0            809  1220_AJ   75309            12\n",
       "1          RL|S1|C1            626  1048993  328515            16"
      ]
     },
     "execution_count": 10,
     "metadata": {},
     "output_type": "execute_result"
    }
   ],
   "source": [
    "df = pd.read_csv(f\"./Dataset/{dataset_name}/mapping.tsv\", sep='\\t')\n",
    "contigs = pd.merge(contigs, df, how='inner', on='#anonymous_gsa_id')\n",
    "del contigs['sequence_id']\n",
    "contigs.head(2)"
   ]
  },
  {
   "cell_type": "markdown",
   "metadata": {},
   "source": [
    "# Save gold standard data as CAMI binning Bioboxes format."
   ]
  },
  {
   "cell_type": "code",
   "execution_count": 11,
   "metadata": {
    "ExecuteTime": {
     "end_time": "2021-10-01T21:10:33.751049Z",
     "start_time": "2021-10-01T21:10:33.629495Z"
    },
    "code_folding": [],
    "run_control": {
     "marked": true
    }
   },
   "outputs": [],
   "source": [
    "path = f\"./Temp/{dataset_name}/gold_standard\"\n",
    "contigs[['#anonymous_gsa_id', 'bin_id', 'tax_id',\n",
    "         'contig_length']].to_csv(path, index=None, sep='\\t')\n",
    "\n",
    "with open(path, 'r') as file:\n",
    "    file.readline()\n",
    "    text = file.read()\n",
    "\n",
    "with open(path, 'w', encoding='utf8') as file:\n",
    "    file.write(\"@Version:0.9.1\\n@SampleID:gsa\\n\\n@@SEQUENCEID\\tBINID\\tTAXID\\t_LENGTH\\n\"+ text)"
   ]
  },
  {
   "cell_type": "markdown",
   "metadata": {},
   "source": [
    "# Base Algorithms"
   ]
  },
  {
   "cell_type": "code",
   "execution_count": 12,
   "metadata": {
    "ExecuteTime": {
     "end_time": "2021-10-01T21:10:33.762193Z",
     "start_time": "2021-10-01T21:10:33.755968Z"
    }
   },
   "outputs": [],
   "source": [
    "def get_base_bin(bin_name, prob=0):\n",
    "    try:\n",
    "        df = pd.read_csv(f\"./Binning/{dataset_name}/{bin_name}/prob{prob}/contigs.tab\", sep='\\t', header = None)\n",
    "        df.columns = ['#anonymous_gsa_id','bin_id']\n",
    "        df = df[df[\"bin_id\"]!= 0]\n",
    "        to_biobox(df, f\"./Temp/{dataset_name}/{bin_name}_p{prob}\")\n",
    "        print(f'binned contigs: {df.shape[0]}', f'{round(df.shape[0]*100 / all_number,2)}% assigned')    \n",
    "        display(df.head(2))\n",
    "        return df\n",
    "    except:\n",
    "        print(\"error happend\")\n",
    "        return None"
   ]
  },
  {
   "cell_type": "markdown",
   "metadata": {},
   "source": [
    "## busybee"
   ]
  },
  {
   "cell_type": "code",
   "execution_count": 13,
   "metadata": {
    "ExecuteTime": {
     "end_time": "2021-10-01T21:10:33.902559Z",
     "start_time": "2021-10-01T21:10:33.766366Z"
    }
   },
   "outputs": [
    {
     "name": "stdout",
     "output_type": "stream",
     "text": [
      "binned contigs: 12857 65.94% assigned\n"
     ]
    },
    {
     "data": {
      "text/html": [
       "<div>\n",
       "<style scoped>\n",
       "    .dataframe tbody tr th:only-of-type {\n",
       "        vertical-align: middle;\n",
       "    }\n",
       "\n",
       "    .dataframe tbody tr th {\n",
       "        vertical-align: top;\n",
       "    }\n",
       "\n",
       "    .dataframe thead th {\n",
       "        text-align: right;\n",
       "    }\n",
       "</style>\n",
       "<table border=\"1\" class=\"dataframe\">\n",
       "  <thead>\n",
       "    <tr style=\"text-align: right;\">\n",
       "      <th></th>\n",
       "      <th>#anonymous_gsa_id</th>\n",
       "      <th>bin_id</th>\n",
       "    </tr>\n",
       "  </thead>\n",
       "  <tbody>\n",
       "    <tr>\n",
       "      <th>0</th>\n",
       "      <td>RL|S1|C0</td>\n",
       "      <td>1</td>\n",
       "    </tr>\n",
       "    <tr>\n",
       "      <th>1</th>\n",
       "      <td>RL|S1|C1</td>\n",
       "      <td>5</td>\n",
       "    </tr>\n",
       "  </tbody>\n",
       "</table>\n",
       "</div>"
      ],
      "text/plain": [
       "  #anonymous_gsa_id  bin_id\n",
       "0          RL|S1|C0       1\n",
       "1          RL|S1|C1       5"
      ]
     },
     "metadata": {},
     "output_type": "display_data"
    }
   ],
   "source": [
    "busybee_p0 = get_base_bin('Busybee',0)"
   ]
  },
  {
   "cell_type": "code",
   "execution_count": 14,
   "metadata": {
    "ExecuteTime": {
     "end_time": "2021-10-01T21:10:33.966635Z",
     "start_time": "2021-10-01T21:10:33.905338Z"
    }
   },
   "outputs": [
    {
     "name": "stdout",
     "output_type": "stream",
     "text": [
      "binned contigs: 12514 64.18% assigned\n"
     ]
    },
    {
     "data": {
      "text/html": [
       "<div>\n",
       "<style scoped>\n",
       "    .dataframe tbody tr th:only-of-type {\n",
       "        vertical-align: middle;\n",
       "    }\n",
       "\n",
       "    .dataframe tbody tr th {\n",
       "        vertical-align: top;\n",
       "    }\n",
       "\n",
       "    .dataframe thead th {\n",
       "        text-align: right;\n",
       "    }\n",
       "</style>\n",
       "<table border=\"1\" class=\"dataframe\">\n",
       "  <thead>\n",
       "    <tr style=\"text-align: right;\">\n",
       "      <th></th>\n",
       "      <th>#anonymous_gsa_id</th>\n",
       "      <th>bin_id</th>\n",
       "    </tr>\n",
       "  </thead>\n",
       "  <tbody>\n",
       "    <tr>\n",
       "      <th>0</th>\n",
       "      <td>RL|S1|C0</td>\n",
       "      <td>1</td>\n",
       "    </tr>\n",
       "    <tr>\n",
       "      <th>1</th>\n",
       "      <td>RL|S1|C1</td>\n",
       "      <td>5</td>\n",
       "    </tr>\n",
       "  </tbody>\n",
       "</table>\n",
       "</div>"
      ],
      "text/plain": [
       "  #anonymous_gsa_id  bin_id\n",
       "0          RL|S1|C0       1\n",
       "1          RL|S1|C1       5"
      ]
     },
     "metadata": {},
     "output_type": "display_data"
    }
   ],
   "source": [
    "busybee_p20 = get_base_bin('Busybee',20)"
   ]
  },
  {
   "cell_type": "code",
   "execution_count": 15,
   "metadata": {
    "ExecuteTime": {
     "end_time": "2021-10-01T21:10:34.018783Z",
     "start_time": "2021-10-01T21:10:33.969555Z"
    }
   },
   "outputs": [
    {
     "name": "stdout",
     "output_type": "stream",
     "text": [
      "binned contigs: 8662 44.42% assigned\n"
     ]
    },
    {
     "data": {
      "text/html": [
       "<div>\n",
       "<style scoped>\n",
       "    .dataframe tbody tr th:only-of-type {\n",
       "        vertical-align: middle;\n",
       "    }\n",
       "\n",
       "    .dataframe tbody tr th {\n",
       "        vertical-align: top;\n",
       "    }\n",
       "\n",
       "    .dataframe thead th {\n",
       "        text-align: right;\n",
       "    }\n",
       "</style>\n",
       "<table border=\"1\" class=\"dataframe\">\n",
       "  <thead>\n",
       "    <tr style=\"text-align: right;\">\n",
       "      <th></th>\n",
       "      <th>#anonymous_gsa_id</th>\n",
       "      <th>bin_id</th>\n",
       "    </tr>\n",
       "  </thead>\n",
       "  <tbody>\n",
       "    <tr>\n",
       "      <th>2</th>\n",
       "      <td>RL|S1|C2</td>\n",
       "      <td>3</td>\n",
       "    </tr>\n",
       "    <tr>\n",
       "      <th>3</th>\n",
       "      <td>RL|S1|C3</td>\n",
       "      <td>1</td>\n",
       "    </tr>\n",
       "  </tbody>\n",
       "</table>\n",
       "</div>"
      ],
      "text/plain": [
       "  #anonymous_gsa_id  bin_id\n",
       "2          RL|S1|C2       3\n",
       "3          RL|S1|C3       1"
      ]
     },
     "metadata": {},
     "output_type": "display_data"
    }
   ],
   "source": [
    "busybee_p50 = get_base_bin('Busybee',50)"
   ]
  },
  {
   "cell_type": "markdown",
   "metadata": {},
   "source": [
    "## metabat 1"
   ]
  },
  {
   "cell_type": "code",
   "execution_count": 16,
   "metadata": {
    "ExecuteTime": {
     "end_time": "2021-10-01T21:10:34.100777Z",
     "start_time": "2021-10-01T21:10:34.022337Z"
    }
   },
   "outputs": [
    {
     "name": "stdout",
     "output_type": "stream",
     "text": [
      "binned contigs: 5986 30.7% assigned\n"
     ]
    },
    {
     "data": {
      "text/html": [
       "<div>\n",
       "<style scoped>\n",
       "    .dataframe tbody tr th:only-of-type {\n",
       "        vertical-align: middle;\n",
       "    }\n",
       "\n",
       "    .dataframe tbody tr th {\n",
       "        vertical-align: top;\n",
       "    }\n",
       "\n",
       "    .dataframe thead th {\n",
       "        text-align: right;\n",
       "    }\n",
       "</style>\n",
       "<table border=\"1\" class=\"dataframe\">\n",
       "  <thead>\n",
       "    <tr style=\"text-align: right;\">\n",
       "      <th></th>\n",
       "      <th>#anonymous_gsa_id</th>\n",
       "      <th>bin_id</th>\n",
       "    </tr>\n",
       "  </thead>\n",
       "  <tbody>\n",
       "    <tr>\n",
       "      <th>0</th>\n",
       "      <td>RL|S1|C19179</td>\n",
       "      <td>1</td>\n",
       "    </tr>\n",
       "    <tr>\n",
       "      <th>1</th>\n",
       "      <td>RL|S1|C19147</td>\n",
       "      <td>1</td>\n",
       "    </tr>\n",
       "  </tbody>\n",
       "</table>\n",
       "</div>"
      ],
      "text/plain": [
       "  #anonymous_gsa_id  bin_id\n",
       "0      RL|S1|C19179       1\n",
       "1      RL|S1|C19147       1"
      ]
     },
     "metadata": {},
     "output_type": "display_data"
    }
   ],
   "source": [
    "metabat1_p30 = get_base_bin('Metabat1',30)"
   ]
  },
  {
   "cell_type": "code",
   "execution_count": 17,
   "metadata": {
    "ExecuteTime": {
     "end_time": "2021-10-01T21:10:34.167069Z",
     "start_time": "2021-10-01T21:10:34.103809Z"
    }
   },
   "outputs": [
    {
     "name": "stdout",
     "output_type": "stream",
     "text": [
      "binned contigs: 5710 29.28% assigned\n"
     ]
    },
    {
     "data": {
      "text/html": [
       "<div>\n",
       "<style scoped>\n",
       "    .dataframe tbody tr th:only-of-type {\n",
       "        vertical-align: middle;\n",
       "    }\n",
       "\n",
       "    .dataframe tbody tr th {\n",
       "        vertical-align: top;\n",
       "    }\n",
       "\n",
       "    .dataframe thead th {\n",
       "        text-align: right;\n",
       "    }\n",
       "</style>\n",
       "<table border=\"1\" class=\"dataframe\">\n",
       "  <thead>\n",
       "    <tr style=\"text-align: right;\">\n",
       "      <th></th>\n",
       "      <th>#anonymous_gsa_id</th>\n",
       "      <th>bin_id</th>\n",
       "    </tr>\n",
       "  </thead>\n",
       "  <tbody>\n",
       "    <tr>\n",
       "      <th>0</th>\n",
       "      <td>RL|S1|C19179</td>\n",
       "      <td>1</td>\n",
       "    </tr>\n",
       "    <tr>\n",
       "      <th>1</th>\n",
       "      <td>RL|S1|C19147</td>\n",
       "      <td>1</td>\n",
       "    </tr>\n",
       "  </tbody>\n",
       "</table>\n",
       "</div>"
      ],
      "text/plain": [
       "  #anonymous_gsa_id  bin_id\n",
       "0      RL|S1|C19179       1\n",
       "1      RL|S1|C19147       1"
      ]
     },
     "metadata": {},
     "output_type": "display_data"
    }
   ],
   "source": [
    "metabat1_p50 = get_base_bin('Metabat1',50)"
   ]
  },
  {
   "cell_type": "code",
   "execution_count": 18,
   "metadata": {
    "ExecuteTime": {
     "end_time": "2021-10-01T21:10:34.221592Z",
     "start_time": "2021-10-01T21:10:34.169927Z"
    }
   },
   "outputs": [
    {
     "name": "stdout",
     "output_type": "stream",
     "text": [
      "binned contigs: 5815 29.82% assigned\n"
     ]
    },
    {
     "data": {
      "text/html": [
       "<div>\n",
       "<style scoped>\n",
       "    .dataframe tbody tr th:only-of-type {\n",
       "        vertical-align: middle;\n",
       "    }\n",
       "\n",
       "    .dataframe tbody tr th {\n",
       "        vertical-align: top;\n",
       "    }\n",
       "\n",
       "    .dataframe thead th {\n",
       "        text-align: right;\n",
       "    }\n",
       "</style>\n",
       "<table border=\"1\" class=\"dataframe\">\n",
       "  <thead>\n",
       "    <tr style=\"text-align: right;\">\n",
       "      <th></th>\n",
       "      <th>#anonymous_gsa_id</th>\n",
       "      <th>bin_id</th>\n",
       "    </tr>\n",
       "  </thead>\n",
       "  <tbody>\n",
       "    <tr>\n",
       "      <th>0</th>\n",
       "      <td>RL|S1|C19179</td>\n",
       "      <td>1</td>\n",
       "    </tr>\n",
       "    <tr>\n",
       "      <th>1</th>\n",
       "      <td>RL|S1|C19147</td>\n",
       "      <td>1</td>\n",
       "    </tr>\n",
       "  </tbody>\n",
       "</table>\n",
       "</div>"
      ],
      "text/plain": [
       "  #anonymous_gsa_id  bin_id\n",
       "0      RL|S1|C19179       1\n",
       "1      RL|S1|C19147       1"
      ]
     },
     "metadata": {},
     "output_type": "display_data"
    }
   ],
   "source": [
    "metabat1_p70 = get_base_bin('Metabat1',70)"
   ]
  },
  {
   "cell_type": "code",
   "execution_count": 19,
   "metadata": {
    "ExecuteTime": {
     "end_time": "2021-10-01T21:10:34.302569Z",
     "start_time": "2021-10-01T21:10:34.224966Z"
    }
   },
   "outputs": [
    {
     "name": "stdout",
     "output_type": "stream",
     "text": [
      "binned contigs: 5673 29.09% assigned\n"
     ]
    },
    {
     "data": {
      "text/html": [
       "<div>\n",
       "<style scoped>\n",
       "    .dataframe tbody tr th:only-of-type {\n",
       "        vertical-align: middle;\n",
       "    }\n",
       "\n",
       "    .dataframe tbody tr th {\n",
       "        vertical-align: top;\n",
       "    }\n",
       "\n",
       "    .dataframe thead th {\n",
       "        text-align: right;\n",
       "    }\n",
       "</style>\n",
       "<table border=\"1\" class=\"dataframe\">\n",
       "  <thead>\n",
       "    <tr style=\"text-align: right;\">\n",
       "      <th></th>\n",
       "      <th>#anonymous_gsa_id</th>\n",
       "      <th>bin_id</th>\n",
       "    </tr>\n",
       "  </thead>\n",
       "  <tbody>\n",
       "    <tr>\n",
       "      <th>0</th>\n",
       "      <td>RL|S1|C19147</td>\n",
       "      <td>1</td>\n",
       "    </tr>\n",
       "    <tr>\n",
       "      <th>1</th>\n",
       "      <td>RL|S1|C19085</td>\n",
       "      <td>1</td>\n",
       "    </tr>\n",
       "  </tbody>\n",
       "</table>\n",
       "</div>"
      ],
      "text/plain": [
       "  #anonymous_gsa_id  bin_id\n",
       "0      RL|S1|C19147       1\n",
       "1      RL|S1|C19085       1"
      ]
     },
     "metadata": {},
     "output_type": "display_data"
    }
   ],
   "source": [
    "metabat1_p80 = get_base_bin('Metabat1',80)"
   ]
  },
  {
   "cell_type": "code",
   "execution_count": 20,
   "metadata": {
    "ExecuteTime": {
     "end_time": "2021-10-01T21:10:34.346704Z",
     "start_time": "2021-10-01T21:10:34.305399Z"
    }
   },
   "outputs": [
    {
     "name": "stdout",
     "output_type": "stream",
     "text": [
      "binned contigs: 5322 27.29% assigned\n"
     ]
    },
    {
     "data": {
      "text/html": [
       "<div>\n",
       "<style scoped>\n",
       "    .dataframe tbody tr th:only-of-type {\n",
       "        vertical-align: middle;\n",
       "    }\n",
       "\n",
       "    .dataframe tbody tr th {\n",
       "        vertical-align: top;\n",
       "    }\n",
       "\n",
       "    .dataframe thead th {\n",
       "        text-align: right;\n",
       "    }\n",
       "</style>\n",
       "<table border=\"1\" class=\"dataframe\">\n",
       "  <thead>\n",
       "    <tr style=\"text-align: right;\">\n",
       "      <th></th>\n",
       "      <th>#anonymous_gsa_id</th>\n",
       "      <th>bin_id</th>\n",
       "    </tr>\n",
       "  </thead>\n",
       "  <tbody>\n",
       "    <tr>\n",
       "      <th>0</th>\n",
       "      <td>RL|S1|C19446</td>\n",
       "      <td>1</td>\n",
       "    </tr>\n",
       "    <tr>\n",
       "      <th>1</th>\n",
       "      <td>RL|S1|C19333</td>\n",
       "      <td>1</td>\n",
       "    </tr>\n",
       "  </tbody>\n",
       "</table>\n",
       "</div>"
      ],
      "text/plain": [
       "  #anonymous_gsa_id  bin_id\n",
       "0      RL|S1|C19446       1\n",
       "1      RL|S1|C19333       1"
      ]
     },
     "metadata": {},
     "output_type": "display_data"
    }
   ],
   "source": [
    "metabat1_p90 = get_base_bin('Metabat1',90)"
   ]
  },
  {
   "cell_type": "code",
   "execution_count": 21,
   "metadata": {
    "ExecuteTime": {
     "end_time": "2021-10-01T21:10:34.407711Z",
     "start_time": "2021-10-01T21:10:34.349432Z"
    }
   },
   "outputs": [
    {
     "name": "stdout",
     "output_type": "stream",
     "text": [
      "binned contigs: 5021 25.75% assigned\n"
     ]
    },
    {
     "data": {
      "text/html": [
       "<div>\n",
       "<style scoped>\n",
       "    .dataframe tbody tr th:only-of-type {\n",
       "        vertical-align: middle;\n",
       "    }\n",
       "\n",
       "    .dataframe tbody tr th {\n",
       "        vertical-align: top;\n",
       "    }\n",
       "\n",
       "    .dataframe thead th {\n",
       "        text-align: right;\n",
       "    }\n",
       "</style>\n",
       "<table border=\"1\" class=\"dataframe\">\n",
       "  <thead>\n",
       "    <tr style=\"text-align: right;\">\n",
       "      <th></th>\n",
       "      <th>#anonymous_gsa_id</th>\n",
       "      <th>bin_id</th>\n",
       "    </tr>\n",
       "  </thead>\n",
       "  <tbody>\n",
       "    <tr>\n",
       "      <th>0</th>\n",
       "      <td>RL|S1|C19446</td>\n",
       "      <td>1</td>\n",
       "    </tr>\n",
       "    <tr>\n",
       "      <th>1</th>\n",
       "      <td>RL|S1|C19333</td>\n",
       "      <td>1</td>\n",
       "    </tr>\n",
       "  </tbody>\n",
       "</table>\n",
       "</div>"
      ],
      "text/plain": [
       "  #anonymous_gsa_id  bin_id\n",
       "0      RL|S1|C19446       1\n",
       "1      RL|S1|C19333       1"
      ]
     },
     "metadata": {},
     "output_type": "display_data"
    }
   ],
   "source": [
    "metabat1_p95 = get_base_bin('Metabat1',95)"
   ]
  },
  {
   "cell_type": "markdown",
   "metadata": {},
   "source": [
    "## metabat2"
   ]
  },
  {
   "cell_type": "code",
   "execution_count": 22,
   "metadata": {
    "ExecuteTime": {
     "end_time": "2021-10-01T21:10:34.487447Z",
     "start_time": "2021-10-01T21:10:34.410425Z"
    }
   },
   "outputs": [
    {
     "name": "stdout",
     "output_type": "stream",
     "text": [
      "binned contigs: 3869 19.84% assigned\n"
     ]
    },
    {
     "data": {
      "text/html": [
       "<div>\n",
       "<style scoped>\n",
       "    .dataframe tbody tr th:only-of-type {\n",
       "        vertical-align: middle;\n",
       "    }\n",
       "\n",
       "    .dataframe tbody tr th {\n",
       "        vertical-align: top;\n",
       "    }\n",
       "\n",
       "    .dataframe thead th {\n",
       "        text-align: right;\n",
       "    }\n",
       "</style>\n",
       "<table border=\"1\" class=\"dataframe\">\n",
       "  <thead>\n",
       "    <tr style=\"text-align: right;\">\n",
       "      <th></th>\n",
       "      <th>#anonymous_gsa_id</th>\n",
       "      <th>bin_id</th>\n",
       "    </tr>\n",
       "  </thead>\n",
       "  <tbody>\n",
       "    <tr>\n",
       "      <th>0</th>\n",
       "      <td>RL|S1|C9238</td>\n",
       "      <td>1</td>\n",
       "    </tr>\n",
       "    <tr>\n",
       "      <th>1</th>\n",
       "      <td>RL|S1|C15230</td>\n",
       "      <td>1</td>\n",
       "    </tr>\n",
       "  </tbody>\n",
       "</table>\n",
       "</div>"
      ],
      "text/plain": [
       "  #anonymous_gsa_id  bin_id\n",
       "0       RL|S1|C9238       1\n",
       "1      RL|S1|C15230       1"
      ]
     },
     "metadata": {},
     "output_type": "display_data"
    }
   ],
   "source": [
    "metabat2_p50 = get_base_bin('Metabat2',50)"
   ]
  },
  {
   "cell_type": "code",
   "execution_count": 23,
   "metadata": {
    "ExecuteTime": {
     "end_time": "2021-10-01T21:10:34.495417Z",
     "start_time": "2021-10-01T21:10:34.490161Z"
    }
   },
   "outputs": [
    {
     "name": "stdout",
     "output_type": "stream",
     "text": [
      "error happend\n"
     ]
    }
   ],
   "source": [
    "metabat2_p80 = get_base_bin('Metabat2',80)"
   ]
  },
  {
   "cell_type": "code",
   "execution_count": 24,
   "metadata": {
    "ExecuteTime": {
     "end_time": "2021-10-01T21:10:34.554733Z",
     "start_time": "2021-10-01T21:10:34.498356Z"
    }
   },
   "outputs": [
    {
     "name": "stdout",
     "output_type": "stream",
     "text": [
      "binned contigs: 1687 8.65% assigned\n"
     ]
    },
    {
     "data": {
      "text/html": [
       "<div>\n",
       "<style scoped>\n",
       "    .dataframe tbody tr th:only-of-type {\n",
       "        vertical-align: middle;\n",
       "    }\n",
       "\n",
       "    .dataframe tbody tr th {\n",
       "        vertical-align: top;\n",
       "    }\n",
       "\n",
       "    .dataframe thead th {\n",
       "        text-align: right;\n",
       "    }\n",
       "</style>\n",
       "<table border=\"1\" class=\"dataframe\">\n",
       "  <thead>\n",
       "    <tr style=\"text-align: right;\">\n",
       "      <th></th>\n",
       "      <th>#anonymous_gsa_id</th>\n",
       "      <th>bin_id</th>\n",
       "    </tr>\n",
       "  </thead>\n",
       "  <tbody>\n",
       "    <tr>\n",
       "      <th>0</th>\n",
       "      <td>RL|S1|C6180</td>\n",
       "      <td>1</td>\n",
       "    </tr>\n",
       "    <tr>\n",
       "      <th>1</th>\n",
       "      <td>RL|S1|C7437</td>\n",
       "      <td>1</td>\n",
       "    </tr>\n",
       "  </tbody>\n",
       "</table>\n",
       "</div>"
      ],
      "text/plain": [
       "  #anonymous_gsa_id  bin_id\n",
       "0       RL|S1|C6180       1\n",
       "1       RL|S1|C7437       1"
      ]
     },
     "metadata": {},
     "output_type": "display_data"
    }
   ],
   "source": [
    "metabat2_p95 = get_base_bin('Metabat2',95)"
   ]
  },
  {
   "cell_type": "markdown",
   "metadata": {},
   "source": [
    "## maxbin2"
   ]
  },
  {
   "cell_type": "code",
   "execution_count": 25,
   "metadata": {
    "ExecuteTime": {
     "end_time": "2021-10-01T21:10:34.625080Z",
     "start_time": "2021-10-01T21:10:34.557462Z"
    }
   },
   "outputs": [
    {
     "name": "stdout",
     "output_type": "stream",
     "text": [
      "binned contigs: 7999 41.02% assigned\n"
     ]
    },
    {
     "data": {
      "text/html": [
       "<div>\n",
       "<style scoped>\n",
       "    .dataframe tbody tr th:only-of-type {\n",
       "        vertical-align: middle;\n",
       "    }\n",
       "\n",
       "    .dataframe tbody tr th {\n",
       "        vertical-align: top;\n",
       "    }\n",
       "\n",
       "    .dataframe thead th {\n",
       "        text-align: right;\n",
       "    }\n",
       "</style>\n",
       "<table border=\"1\" class=\"dataframe\">\n",
       "  <thead>\n",
       "    <tr style=\"text-align: right;\">\n",
       "      <th></th>\n",
       "      <th>#anonymous_gsa_id</th>\n",
       "      <th>bin_id</th>\n",
       "    </tr>\n",
       "  </thead>\n",
       "  <tbody>\n",
       "    <tr>\n",
       "      <th>0</th>\n",
       "      <td>RL|S1|C135</td>\n",
       "      <td>7</td>\n",
       "    </tr>\n",
       "    <tr>\n",
       "      <th>1</th>\n",
       "      <td>RL|S1|C465</td>\n",
       "      <td>7</td>\n",
       "    </tr>\n",
       "  </tbody>\n",
       "</table>\n",
       "</div>"
      ],
      "text/plain": [
       "  #anonymous_gsa_id  bin_id\n",
       "0        RL|S1|C135       7\n",
       "1        RL|S1|C465       7"
      ]
     },
     "metadata": {},
     "output_type": "display_data"
    }
   ],
   "source": [
    "maxbin2_p50 = get_base_bin('Maxbin2',50)"
   ]
  },
  {
   "cell_type": "code",
   "execution_count": 26,
   "metadata": {
    "ExecuteTime": {
     "end_time": "2021-10-01T21:10:34.689456Z",
     "start_time": "2021-10-01T21:10:34.630716Z"
    }
   },
   "outputs": [
    {
     "name": "stdout",
     "output_type": "stream",
     "text": [
      "binned contigs: 7567 38.81% assigned\n"
     ]
    },
    {
     "data": {
      "text/html": [
       "<div>\n",
       "<style scoped>\n",
       "    .dataframe tbody tr th:only-of-type {\n",
       "        vertical-align: middle;\n",
       "    }\n",
       "\n",
       "    .dataframe tbody tr th {\n",
       "        vertical-align: top;\n",
       "    }\n",
       "\n",
       "    .dataframe thead th {\n",
       "        text-align: right;\n",
       "    }\n",
       "</style>\n",
       "<table border=\"1\" class=\"dataframe\">\n",
       "  <thead>\n",
       "    <tr style=\"text-align: right;\">\n",
       "      <th></th>\n",
       "      <th>#anonymous_gsa_id</th>\n",
       "      <th>bin_id</th>\n",
       "    </tr>\n",
       "  </thead>\n",
       "  <tbody>\n",
       "    <tr>\n",
       "      <th>0</th>\n",
       "      <td>RL|S1|C135</td>\n",
       "      <td>7</td>\n",
       "    </tr>\n",
       "    <tr>\n",
       "      <th>1</th>\n",
       "      <td>RL|S1|C465</td>\n",
       "      <td>7</td>\n",
       "    </tr>\n",
       "  </tbody>\n",
       "</table>\n",
       "</div>"
      ],
      "text/plain": [
       "  #anonymous_gsa_id  bin_id\n",
       "0        RL|S1|C135       7\n",
       "1        RL|S1|C465       7"
      ]
     },
     "metadata": {},
     "output_type": "display_data"
    }
   ],
   "source": [
    "maxbin2_p80 = get_base_bin('Maxbin2',80)"
   ]
  },
  {
   "cell_type": "code",
   "execution_count": 27,
   "metadata": {
    "ExecuteTime": {
     "end_time": "2021-10-01T21:10:34.751641Z",
     "start_time": "2021-10-01T21:10:34.692430Z"
    }
   },
   "outputs": [
    {
     "name": "stdout",
     "output_type": "stream",
     "text": [
      "binned contigs: 7498 38.45% assigned\n"
     ]
    },
    {
     "data": {
      "text/html": [
       "<div>\n",
       "<style scoped>\n",
       "    .dataframe tbody tr th:only-of-type {\n",
       "        vertical-align: middle;\n",
       "    }\n",
       "\n",
       "    .dataframe tbody tr th {\n",
       "        vertical-align: top;\n",
       "    }\n",
       "\n",
       "    .dataframe thead th {\n",
       "        text-align: right;\n",
       "    }\n",
       "</style>\n",
       "<table border=\"1\" class=\"dataframe\">\n",
       "  <thead>\n",
       "    <tr style=\"text-align: right;\">\n",
       "      <th></th>\n",
       "      <th>#anonymous_gsa_id</th>\n",
       "      <th>bin_id</th>\n",
       "    </tr>\n",
       "  </thead>\n",
       "  <tbody>\n",
       "    <tr>\n",
       "      <th>0</th>\n",
       "      <td>RL|S1|C135</td>\n",
       "      <td>7</td>\n",
       "    </tr>\n",
       "    <tr>\n",
       "      <th>1</th>\n",
       "      <td>RL|S1|C465</td>\n",
       "      <td>7</td>\n",
       "    </tr>\n",
       "  </tbody>\n",
       "</table>\n",
       "</div>"
      ],
      "text/plain": [
       "  #anonymous_gsa_id  bin_id\n",
       "0        RL|S1|C135       7\n",
       "1        RL|S1|C465       7"
      ]
     },
     "metadata": {},
     "output_type": "display_data"
    }
   ],
   "source": [
    "maxbin2_p90 = get_base_bin('Maxbin2',90)"
   ]
  },
  {
   "cell_type": "code",
   "execution_count": 28,
   "metadata": {
    "ExecuteTime": {
     "end_time": "2021-10-01T21:10:34.818193Z",
     "start_time": "2021-10-01T21:10:34.754395Z"
    }
   },
   "outputs": [
    {
     "name": "stdout",
     "output_type": "stream",
     "text": [
      "binned contigs: 7227 37.06% assigned\n"
     ]
    },
    {
     "data": {
      "text/html": [
       "<div>\n",
       "<style scoped>\n",
       "    .dataframe tbody tr th:only-of-type {\n",
       "        vertical-align: middle;\n",
       "    }\n",
       "\n",
       "    .dataframe tbody tr th {\n",
       "        vertical-align: top;\n",
       "    }\n",
       "\n",
       "    .dataframe thead th {\n",
       "        text-align: right;\n",
       "    }\n",
       "</style>\n",
       "<table border=\"1\" class=\"dataframe\">\n",
       "  <thead>\n",
       "    <tr style=\"text-align: right;\">\n",
       "      <th></th>\n",
       "      <th>#anonymous_gsa_id</th>\n",
       "      <th>bin_id</th>\n",
       "    </tr>\n",
       "  </thead>\n",
       "  <tbody>\n",
       "    <tr>\n",
       "      <th>0</th>\n",
       "      <td>RL|S1|C465</td>\n",
       "      <td>7</td>\n",
       "    </tr>\n",
       "    <tr>\n",
       "      <th>1</th>\n",
       "      <td>RL|S1|C618</td>\n",
       "      <td>7</td>\n",
       "    </tr>\n",
       "  </tbody>\n",
       "</table>\n",
       "</div>"
      ],
      "text/plain": [
       "  #anonymous_gsa_id  bin_id\n",
       "0        RL|S1|C465       7\n",
       "1        RL|S1|C618       7"
      ]
     },
     "metadata": {},
     "output_type": "display_data"
    }
   ],
   "source": [
    "maxbin2_p95 = get_base_bin('Maxbin2',95)"
   ]
  },
  {
   "cell_type": "markdown",
   "metadata": {},
   "source": [
    "## Assesment"
   ]
  },
  {
   "cell_type": "code",
   "execution_count": null,
   "metadata": {
    "ExecuteTime": {
     "end_time": "2021-10-01T21:10:11.527124Z",
     "start_time": "2021-10-01T21:09:59.770Z"
    }
   },
   "outputs": [],
   "source": [
    "!amber.py -g ./Temp/{dataset_name}/gold_standard \\\n",
    "-o ./Output/{dataset_name}/Assesment \\\n",
    "./Temp/{dataset_name}/maxbin2_p50 \\\n",
    "./Temp/{dataset_name}/maxbin2_p80 \\\n",
    "./Temp/{dataset_name}/maxbin2_p90 \\\n",
    "./Temp/{dataset_name}/maxbin2_p95 \n",
    "\n",
    "'''./Temp/{dataset_name}/busybee_p0 \\\n",
    "./Temp/{dataset_name}/busybee_p20 \\\n",
    "./Temp/{dataset_name}/busybee_p50 \\\n",
    "./Temp/{dataset_name}/metabat1_p30 \\\n",
    "./Temp/{dataset_name}/metabat1_p50 \\\n",
    "./Temp/{dataset_name}/metabat1_p70 \\\n",
    "./Temp/{dataset_name}/metabat1_p80 \\\n",
    "./Temp/{dataset_name}/metabat1_p90 \\\n",
    "./Temp/{dataset_name}/metabat1_p95 \\\n",
    "./Temp/{dataset_name}/metabat2_p50 \\\n",
    "./Temp/{dataset_name}/metabat2_p95 \\ ''';"
   ]
  },
  {
   "cell_type": "markdown",
   "metadata": {},
   "source": [
    "# Gene Ontology\n",
    "## https://www.ebi.ac.uk/QuickGO/api/index.html#/gene_ontology"
   ]
  },
  {
   "cell_type": "code",
   "execution_count": 29,
   "metadata": {
    "ExecuteTime": {
     "end_time": "2021-10-01T21:10:36.348199Z",
     "start_time": "2021-10-01T21:10:34.820989Z"
    }
   },
   "outputs": [
    {
     "data": {
      "text/html": [
       "<div>\n",
       "<style scoped>\n",
       "    .dataframe tbody tr th:only-of-type {\n",
       "        vertical-align: middle;\n",
       "    }\n",
       "\n",
       "    .dataframe tbody tr th {\n",
       "        vertical-align: top;\n",
       "    }\n",
       "\n",
       "    .dataframe thead th {\n",
       "        text-align: right;\n",
       "    }\n",
       "</style>\n",
       "<table border=\"1\" class=\"dataframe\">\n",
       "  <thead>\n",
       "    <tr style=\"text-align: right;\">\n",
       "      <th></th>\n",
       "      <th>#Gene</th>\n",
       "      <th>Contig</th>\n",
       "      <th>TM</th>\n",
       "    </tr>\n",
       "  </thead>\n",
       "  <tbody>\n",
       "    <tr>\n",
       "      <th>0</th>\n",
       "      <td>RL|S1|C13963</td>\n",
       "      <td>1160</td>\n",
       "      <td>GO:0016811</td>\n",
       "    </tr>\n",
       "    <tr>\n",
       "      <th>1</th>\n",
       "      <td>RL|S1|C13963</td>\n",
       "      <td>1160</td>\n",
       "      <td>GO:0019740</td>\n",
       "    </tr>\n",
       "  </tbody>\n",
       "</table>\n",
       "</div>"
      ],
      "text/plain": [
       "          #Gene  Contig          TM\n",
       "0  RL|S1|C13963    1160  GO:0016811\n",
       "1  RL|S1|C13963    1160  GO:0019740"
      ]
     },
     "execution_count": 29,
     "metadata": {},
     "output_type": "execute_result"
    }
   ],
   "source": [
    "go = pd.read_csv(f\"./Annotation/{dataset_name}/cds.gene2go.tab.txt\", sep='\\t')\n",
    "go = go.reset_index(drop=True)\n",
    "go = go[['#Gene','Contig','TM']]\n",
    "go.head(2)"
   ]
  },
  {
   "cell_type": "markdown",
   "metadata": {},
   "source": [
    "## Add namespace [ cc, bp, mf ]"
   ]
  },
  {
   "cell_type": "code",
   "execution_count": 30,
   "metadata": {
    "ExecuteTime": {
     "end_time": "2021-10-01T21:11:30.964321Z",
     "start_time": "2021-10-01T21:10:36.350952Z"
    },
    "code_folding": [],
    "run_control": {
     "marked": true
    }
   },
   "outputs": [],
   "source": [
    "go_graph = obonet.read_obo('./go.obo') \n",
    "accession_to_namespace = dict()\n",
    "go_ids = go['TM'].unique()\n",
    "for accession in go_ids:\n",
    "    try:        \n",
    "        accession_to_namespace[accession] =  go_graph.nodes[accession]['namespace']\n",
    "    except: \n",
    "        # if not exist,store in list to get from API                        \n",
    "        r = requests.get(\"https://www.ebi.ac.uk/QuickGO/services/ontology/go/terms/\" + accession\n",
    "                     , headers={ \"Accept\" : \"application/json\"})\n",
    "        if not r.ok:\n",
    "            print(f'Not found ', r.raise_for_status())                                              \n",
    "        else:\n",
    "            accession_to_namespace[accession]= r.json()['results'][0]['aspect']         "
   ]
  },
  {
   "cell_type": "code",
   "execution_count": 31,
   "metadata": {
    "ExecuteTime": {
     "end_time": "2021-10-01T21:11:31.219222Z",
     "start_time": "2021-10-01T21:11:30.968239Z"
    }
   },
   "outputs": [
    {
     "name": "stdout",
     "output_type": "stream",
     "text": [
      "molecular_function    196928\n",
      "biological_process    138153\n",
      "cellular_component     79222\n",
      "Name: Namespace, dtype: int64\n"
     ]
    },
    {
     "data": {
      "text/html": [
       "<div>\n",
       "<style scoped>\n",
       "    .dataframe tbody tr th:only-of-type {\n",
       "        vertical-align: middle;\n",
       "    }\n",
       "\n",
       "    .dataframe tbody tr th {\n",
       "        vertical-align: top;\n",
       "    }\n",
       "\n",
       "    .dataframe thead th {\n",
       "        text-align: right;\n",
       "    }\n",
       "</style>\n",
       "<table border=\"1\" class=\"dataframe\">\n",
       "  <thead>\n",
       "    <tr style=\"text-align: right;\">\n",
       "      <th></th>\n",
       "      <th>#Gene</th>\n",
       "      <th>Contig</th>\n",
       "      <th>TM</th>\n",
       "      <th>Namespace</th>\n",
       "    </tr>\n",
       "  </thead>\n",
       "  <tbody>\n",
       "    <tr>\n",
       "      <th>0</th>\n",
       "      <td>RL|S1|C13963</td>\n",
       "      <td>1160</td>\n",
       "      <td>GO:0016811</td>\n",
       "      <td>molecular_function</td>\n",
       "    </tr>\n",
       "    <tr>\n",
       "      <th>1</th>\n",
       "      <td>RL|S1|C13963</td>\n",
       "      <td>1160</td>\n",
       "      <td>GO:0019740</td>\n",
       "      <td>biological_process</td>\n",
       "    </tr>\n",
       "  </tbody>\n",
       "</table>\n",
       "</div>"
      ],
      "text/plain": [
       "          #Gene  Contig          TM           Namespace\n",
       "0  RL|S1|C13963    1160  GO:0016811  molecular_function\n",
       "1  RL|S1|C13963    1160  GO:0019740  biological_process"
      ]
     },
     "execution_count": 31,
     "metadata": {},
     "output_type": "execute_result"
    }
   ],
   "source": [
    "def get_namespace(accession):\n",
    "    if(accession in accession_to_namespace):        \n",
    "        return accession_to_namespace[accession]    \n",
    "    return \"unknown\"\n",
    "\n",
    "go['Namespace'] = go['TM'].apply(lambda x : get_namespace(x) )\n",
    "print(go['Namespace'].value_counts())\n",
    "go.head(2)"
   ]
  },
  {
   "cell_type": "markdown",
   "metadata": {},
   "source": [
    "# Improver Method"
   ]
  },
  {
   "cell_type": "markdown",
   "metadata": {
    "heading_collapsed": true
   },
   "source": [
    "## Create dictionary BP, CC , MF base of GOGO for each pair of go ids"
   ]
  },
  {
   "cell_type": "code",
   "execution_count": 151,
   "metadata": {
    "ExecuteTime": {
     "end_time": "2021-10-01T13:52:39.961305Z",
     "start_time": "2021-10-01T13:52:39.952871Z"
    },
    "hidden": true
   },
   "outputs": [],
   "source": [
    "def runGOGO(i,namespace):        \n",
    "    %cd ./GOGO/\n",
    "    !perl go_comb.pl ../Temp/{dataset_name}/{namespace}/go_ids{i}.txt ../Temp/{dataset_name}/{namespace}/go_ids_scores{i}\n",
    "    %cd ..    "
   ]
  },
  {
   "cell_type": "code",
   "execution_count": 152,
   "metadata": {
    "ExecuteTime": {
     "end_time": "2021-10-01T13:52:42.361428Z",
     "start_time": "2021-10-01T13:52:42.339731Z"
    },
    "code_folding": [],
    "hidden": true
   },
   "outputs": [],
   "source": [
    "def Step1(namespace):    \n",
    "    !rm -r ./Temp/{dataset_name}/{namespace}/ \n",
    "    !mkdir ./Temp/{dataset_name}/{namespace}/\n",
    "    # first create all possible pairs of GOs for Biological Process\n",
    "    go_ids = go[go[\"Namespace\"] == namespace]['TM'].unique()    \n",
    "    go1 = []\n",
    "    go2 = []\n",
    "    for i in range(0,go_ids.shape[0]):\n",
    "        for j in range(i, go_ids.shape[0]):            \n",
    "            go1.append(go_ids[i])\n",
    "            go2.append(go_ids[j])\n",
    "    df = pd.DataFrame({'goid1': go1,'goid2': go2},columns = ['goid1', 'goid2'])\n",
    "    indexes = np.linspace(0,df.shape[0], num_cores + 1) // 1\n",
    "    indexes[-1] =  df.shape[0]\n",
    "    \n",
    "    for i in range(0, num_cores):\n",
    "        dfi = df.iloc[int(indexes[i]):int(indexes[i+1]),:]\n",
    "        dfi.to_csv(f\"./Temp/{dataset_name}/{namespace}/go_ids{i}.txt\",sep=\" \",index=None,header=None)\n",
    "        \n",
    "    # now run GOGO in multiprocessing\n",
    "    if __name__ == '__main__':        \n",
    "        pool = mp.Pool(num_cores)        \n",
    "        pool.map(partial(runGOGO, namespace=namespace), range(0,num_cores))      \n",
    "        \n",
    "    clear_output()"
   ]
  },
  {
   "cell_type": "code",
   "execution_count": 153,
   "metadata": {
    "ExecuteTime": {
     "end_time": "2021-10-01T13:52:44.793212Z",
     "start_time": "2021-10-01T13:52:44.779342Z"
    },
    "hidden": true
   },
   "outputs": [],
   "source": [
    "def Step2(namespace):            \n",
    "    def add2dict(row, dictionary):\n",
    "        dictionary[row[0]+row[1]] = row[3]\n",
    "        dictionary[row[1]+row[0]] = row[3]\n",
    "    print('start reading files')            \n",
    "    lines = []\n",
    "    for i in range(0,num_cores):\n",
    "        with open(f\"./Temp/{dataset_name}/{namespace}/go_ids_scores{i}\",\"r\") as f:\n",
    "            text = f.read()\n",
    "            lines = [*lines, *[l for l in text.split(\"\\n\") if len(l) > 0 and l[-24:] != \"not_in_the_same_ontology\"]]                        \n",
    "    print('files reading process was finished.')        \n",
    "    print('start adding to dictionary')        \n",
    "    df = pd.read_csv(StringIO('\\n'.join(lines)), sep=\" \", header=None)                \n",
    "    dictionary = dict()    \n",
    "    df.apply(lambda row:add2dict(row, dictionary), axis=1)\n",
    "    print('adding to dictionary was finished')                   \n",
    "    with open(f\"./Temp/{dataset_name}/{namespace}.pkl\", \"wb\") as file:\n",
    "        pickle.dump(dictionary, file)        \n",
    "    !rm -r ./Temp/{dataset_name}/{namespace}/    "
   ]
  },
  {
   "cell_type": "markdown",
   "metadata": {
    "hidden": true
   },
   "source": [
    "### biological process"
   ]
  },
  {
   "cell_type": "code",
   "execution_count": 154,
   "metadata": {
    "ExecuteTime": {
     "end_time": "2021-10-01T13:55:44.458329Z",
     "start_time": "2021-10-01T13:52:51.157717Z"
    },
    "hidden": true
   },
   "outputs": [
    {
     "name": "stdout",
     "output_type": "stream",
     "text": [
      "rm: cannot remove './Temp/CAMI_Low/biological_process/': No such file or directory\n",
      "/home/jupyter/Final/GOGO/home/jupyter/Final/GOGO/home/jupyter/Final/GOGO/home/jupyter/Final/GOGO/home/jupyter/Final/GOGO/home/jupyter/Final/GOGO/home/jupyter/Final/GOGO/home/jupyter/Final/GOGO/home/jupyter/Final/GOGO"
     ]
    }
   ],
   "source": [
    "Step1(\"biological_process\")"
   ]
  },
  {
   "cell_type": "code",
   "execution_count": 155,
   "metadata": {
    "ExecuteTime": {
     "end_time": "2021-10-01T14:00:47.213307Z",
     "start_time": "2021-10-01T13:55:44.462250Z"
    },
    "hidden": true
   },
   "outputs": [],
   "source": [
    "Step2(\"biological_process\")"
   ]
  },
  {
   "cell_type": "markdown",
   "metadata": {
    "hidden": true
   },
   "source": [
    "### cellular component"
   ]
  },
  {
   "cell_type": "code",
   "execution_count": 156,
   "metadata": {
    "ExecuteTime": {
     "end_time": "2021-10-01T14:04:02.234455Z",
     "start_time": "2021-10-01T14:03:55.580737Z"
    },
    "hidden": true
   },
   "outputs": [],
   "source": [
    "Step1(\"cellular_component\")"
   ]
  },
  {
   "cell_type": "code",
   "execution_count": 157,
   "metadata": {
    "ExecuteTime": {
     "end_time": "2021-10-01T14:04:10.016793Z",
     "start_time": "2021-10-01T14:04:02.238678Z"
    },
    "hidden": true
   },
   "outputs": [],
   "source": [
    "Step2(\"cellular_component\")"
   ]
  },
  {
   "cell_type": "markdown",
   "metadata": {
    "hidden": true
   },
   "source": [
    "### molecular function"
   ]
  },
  {
   "cell_type": "code",
   "execution_count": 158,
   "metadata": {
    "ExecuteTime": {
     "end_time": "2021-10-01T14:05:15.927410Z",
     "start_time": "2021-10-01T14:04:10.021874Z"
    },
    "hidden": true
   },
   "outputs": [],
   "source": [
    "Step1(\"molecular_function\")"
   ]
  },
  {
   "cell_type": "code",
   "execution_count": 159,
   "metadata": {
    "ExecuteTime": {
     "end_time": "2021-10-01T14:09:57.350150Z",
     "start_time": "2021-10-01T14:05:15.931794Z"
    },
    "hidden": true
   },
   "outputs": [],
   "source": [
    "Step2(\"molecular_function\")"
   ]
  },
  {
   "cell_type": "markdown",
   "metadata": {},
   "source": [
    "## Load data"
   ]
  },
  {
   "cell_type": "code",
   "execution_count": 32,
   "metadata": {
    "ExecuteTime": {
     "end_time": "2021-10-01T21:11:31.228022Z",
     "start_time": "2021-10-01T21:11:31.223106Z"
    }
   },
   "outputs": [],
   "source": [
    "def standard_normalized(data):\n",
    "    data = np.array(sorted(data,reverse=True))\n",
    "    data = (data - data.mean() ) / data.std()\n",
    "    data -= data.min()\n",
    "    data /= data.max()\n",
    "    return data"
   ]
  },
  {
   "cell_type": "code",
   "execution_count": 33,
   "metadata": {
    "ExecuteTime": {
     "end_time": "2021-10-01T21:11:31.244685Z",
     "start_time": "2021-10-01T21:11:31.231487Z"
    }
   },
   "outputs": [
    {
     "name": "stdout",
     "output_type": "stream",
     "text": [
      "(17812, 5)\n",
      "(6754, 5)\n"
     ]
    }
   ],
   "source": [
    "base = metabat2_p95\n",
    "unlabelled = contigs[~contigs['#anonymous_gsa_id'].isin(base['#anonymous_gsa_id'])]\n",
    "print(unlabelled.shape)\n",
    "unlabelled = unlabelled[unlabelled['contig_length']>=1000]\n",
    "print(unlabelled.shape)"
   ]
  },
  {
   "cell_type": "code",
   "execution_count": 34,
   "metadata": {
    "ExecuteTime": {
     "end_time": "2021-10-01T21:11:34.843791Z",
     "start_time": "2021-10-01T21:11:31.247794Z"
    }
   },
   "outputs": [
    {
     "name": "stdout",
     "output_type": "stream",
     "text": [
      "84\n"
     ]
    }
   ],
   "source": [
    "number_of_bins = base['bin_id'].max() \n",
    "print(number_of_bins)\n",
    "\n",
    "bins = [0 for i in range(0,number_of_bins)]\n",
    "for i in range(0, number_of_bins):    \n",
    "    bins[i] = pd.merge(go, base[base['bin_id']==(i+1)], how=\"inner\", \n",
    "                    left_on='#Gene',right_on=\"#anonymous_gsa_id\")    "
   ]
  },
  {
   "cell_type": "code",
   "execution_count": 35,
   "metadata": {
    "ExecuteTime": {
     "end_time": "2021-10-01T21:11:35.223464Z",
     "start_time": "2021-10-01T21:11:34.847008Z"
    }
   },
   "outputs": [
    {
     "data": {
      "image/png": "[encoded data removed]",
      "text/plain": [
       "<Figure size 432x288 with 1 Axes>"
      ]
     },
     "metadata": {
      "needs_background": "light"
     },
     "output_type": "display_data"
    }
   ],
   "source": [
    "bins_portion = [0 for i in range(0,number_of_bins)]    \n",
    "for i in range(0, number_of_bins):    \n",
    "    bins_portion[i] = bins[i].shape[0]\n",
    "    \n",
    "bins_portion = standard_normalized(bins_portion)\n",
    "plt.plot(bins_portion)\n",
    "plt.plot([math.exp(-i) for i in bins_portion])\n",
    "plt.show()"
   ]
  },
  {
   "cell_type": "code",
   "execution_count": 36,
   "metadata": {
    "ExecuteTime": {
     "end_time": "2021-10-01T21:11:35.233116Z",
     "start_time": "2021-10-01T21:11:35.226387Z"
    }
   },
   "outputs": [],
   "source": [
    "bins_portion = [0 for i in range(0,number_of_bins)]    \n",
    "for i in range(0, number_of_bins):    \n",
    "    bins_portion[i] = bins[i].shape[0]\n",
    "    \n",
    "x = np.array(bins_portion)\n",
    "x = (x - x.mean() ) / x.std()\n",
    "x -= x.min()\n",
    "x /= x.max()\n",
    "bins_portion = [math.exp(-i) for i in x]"
   ]
  },
  {
   "cell_type": "code",
   "execution_count": 37,
   "metadata": {
    "ExecuteTime": {
     "end_time": "2021-10-01T21:11:35.336130Z",
     "start_time": "2021-10-01T21:11:35.236426Z"
    }
   },
   "outputs": [],
   "source": [
    "for i in range(0, number_of_bins):    \n",
    "    bins[i] = pd.Series(bins[i]['TM'].unique())    "
   ]
  },
  {
   "cell_type": "code",
   "execution_count": 38,
   "metadata": {
    "ExecuteTime": {
     "end_time": "2021-10-01T21:11:35.438194Z",
     "start_time": "2021-10-01T21:11:35.338980Z"
    }
   },
   "outputs": [],
   "source": [
    "go_rare = go.groupby(\"TM\")[\"TM\"].count()\n",
    "go_rare = (go_rare - go_rare.mean()) / go_rare.std()\n",
    "go_rare = go_rare - go_rare.min()\n",
    "go_rare = go_rare / go_rare.max()\n",
    "go_rare = go_rare.apply(lambda x : math.exp(-x))"
   ]
  },
  {
   "cell_type": "code",
   "execution_count": 39,
   "metadata": {
    "ExecuteTime": {
     "end_time": "2021-10-01T21:11:49.388373Z",
     "start_time": "2021-10-01T21:11:35.441056Z"
    }
   },
   "outputs": [],
   "source": [
    "with open(f\"./Temp/{dataset_name}/biological_process.pkl\", \"rb\") as file:\n",
    "    bp_dictionary = pickle.load(file)\n",
    "\n",
    "with open(f\"./Temp/{dataset_name}/cellular_component.pkl\", \"rb\") as file:\n",
    "    cc_dictionary = pickle.load(file)\n",
    "    \n",
    "with open(f\"./Temp/{dataset_name}/molecular_function.pkl\", \"rb\") as file:\n",
    "    mf_dictionary = pickle.load(file)"
   ]
  },
  {
   "cell_type": "code",
   "execution_count": 40,
   "metadata": {
    "ExecuteTime": {
     "end_time": "2021-10-01T21:11:49.398636Z",
     "start_time": "2021-10-01T21:11:49.394005Z"
    },
    "code_folding": []
   },
   "outputs": [],
   "source": [
    "'''source = []\n",
    "target = []\n",
    "weigth = []\n",
    "TM = df['TM'].to_numpy()\n",
    "Go_id = df['go_id'].to_numpy()\n",
    "\n",
    "for i in range(0, len(TM)-1):\n",
    "    for j in range(i+1, len(TM)):                \n",
    "        if(TM[i] + TM[j] in bp_dictionary):\n",
    "                if(bp_dictionary[TM[i] + TM[j]] > 0.7):\n",
    "                    source.append(Go_id[i])\n",
    "                    target.append(Go_id[j])\n",
    "                    weigth.append(bp_dictionary[ TM[i] + TM[j]])            \n",
    "df = pd.DataFrame({'source': source, 'target': target, 'weigth': weigth})\n",
    "df.to_csv('./data.csv', index=None)''';"
   ]
  },
  {
   "cell_type": "markdown",
   "metadata": {},
   "source": [
    "## Disjoint"
   ]
  },
  {
   "cell_type": "markdown",
   "metadata": {
    "ExecuteTime": {
     "end_time": "2021-05-08T22:31:43.777889Z",
     "start_time": "2021-05-08T22:31:43.771849Z"
    }
   },
   "source": [
    "### 16S"
   ]
  },
  {
   "cell_type": "code",
   "execution_count": 41,
   "metadata": {
    "ExecuteTime": {
     "end_time": "2021-10-01T21:11:49.405630Z",
     "start_time": "2021-10-01T21:11:49.401684Z"
    }
   },
   "outputs": [],
   "source": [
    "'''\n",
    "with open(\"Annotation/Toy_Low/data/16SrRNA.ffn\", \"r\") as file:    \n",
    "    lines = [t for t in file.read().split('\\n') if len(t) > 0]\n",
    "    lines = [t for t in lines if t[0] == '>']\n",
    "    rRNA16S = pd.read_csv(StringIO('\\n'.join(lines)), sep=\"/\", header=None)                \n",
    "    rRNA16S = rRNA16S.iloc[:,1:]\n",
    "    rRNA16S.columns = [\"Name\", \"rRNA_taxon\", \"cid\"]\n",
    "    rRNA16S[\"Name\"] = rRNA16S[\"Name\"].apply(lambda x : x.replace(\"Name=\",\"\"))\n",
    "    rRNA16S[\"rRNA_taxon\"] = rRNA16S[\"rRNA_taxon\"].apply(lambda x : x.replace(\"rRNA_taxon=\",\"\"))\n",
    "    rRNA16S[\"cid\"] = rRNA16S[\"cid\"].apply(lambda x : x.replace(\"cid=\",\"\"))\n",
    "print(rRNA16S.shape)\n",
    "rRNA16S.head()\n",
    "\n",
    "bins = [[] for i in range(0,number_of_bins+1)]\n",
    "for i in range(1, number_of_bins+1):\n",
    "    df = contigs[contigs['Busybee_bin50Percent']==i]\n",
    "    df = pd.merge(df, rRNA16S, how=\"inner\", left_on=\"#anonymous_gsa_id\", right_on=\"cid\")    \n",
    "    for index, row in df.iterrows():\n",
    "        bins[i].append(row['rRNA_taxon'])    \n",
    "    bins[i] = [s for s in set(bins[i])]    \n",
    "    \n",
    "[i for i in range(1, number_of_bins+1) if len(bins[i]) > 1]''';"
   ]
  },
  {
   "cell_type": "markdown",
   "metadata": {},
   "source": [
    "## Main loop"
   ]
  },
  {
   "cell_type": "code",
   "execution_count": 42,
   "metadata": {
    "ExecuteTime": {
     "end_time": "2021-10-01T21:11:49.418065Z",
     "start_time": "2021-10-01T21:11:49.408493Z"
    }
   },
   "outputs": [],
   "source": [
    "def getDictionary(namespace):\n",
    "    if(namespace == \"biological_process\"):\n",
    "        return bp_dictionary\n",
    "    if(namespace == \"cellular_component\"):\n",
    "        return cc_dictionary    \n",
    "    if(namespace == \"molecular_function\"):\n",
    "        return mf_dictionary\n",
    "    \n",
    "# this function recived a contig and return pred bin and score\n",
    "def binScore(inp_bin, go_id, dictionary,portion):        \n",
    "    go_id_rare = go_rare[go_id]\n",
    "    def run(g):\n",
    "        pair = g +  go_id                \n",
    "        if(pair in dictionary):                                          \n",
    "            return  dictionary[pair] #* portion * go_rare[g] * go_id_rare         \n",
    "        return 0                \n",
    "    scores = inp_bin.apply(lambda g: run(g))            \n",
    "    #scores = scores[scores >= 0]            \n",
    "    if(scores.shape[0] == 0):\n",
    "        return 0\n",
    "    st = sorted(scores,reverse=True)[:number]    \n",
    "    return sum(st) / len(st)\n",
    "\n",
    "def getScore(go_id):            \n",
    "    result = numpy.zeros(number_of_bins)    \n",
    "    namespace = accession_to_namespace[go_id]    \n",
    "    for i in range(0,number_of_bins):\n",
    "        result[i] = binScore(bins[i], go_id, getDictionary(namespace),bins_portion[i])    \n",
    "    return go_id, result"
   ]
  },
  {
   "cell_type": "code",
   "execution_count": 43,
   "metadata": {
    "ExecuteTime": {
     "end_time": "2021-10-01T21:11:49.505829Z",
     "start_time": "2021-10-01T21:11:49.420815Z"
    }
   },
   "outputs": [],
   "source": [
    "#pool = mp.Pool(num_cores)    \n",
    "go_ids = pd.merge(unlabelled, go, how='inner',\n",
    "             left_on='#anonymous_gsa_id',right_on='#Gene')['TM'].unique()"
   ]
  },
  {
   "cell_type": "code",
   "execution_count": 44,
   "metadata": {
    "ExecuteTime": {
     "end_time": "2021-10-01T21:12:45.486788Z",
     "start_time": "2021-10-01T21:12:45.459086Z"
    }
   },
   "outputs": [
    {
     "data": {
      "text/plain": [
       "<AsyncResult: scatter>"
      ]
     },
     "execution_count": 44,
     "metadata": {},
     "output_type": "execute_result"
    }
   ],
   "source": [
    "dview.scatter('go_ids',go_ids)"
   ]
  },
  {
   "cell_type": "code",
   "execution_count": 46,
   "metadata": {
    "ExecuteTime": {
     "end_time": "2021-10-01T21:13:31.132030Z",
     "start_time": "2021-10-01T21:13:31.127742Z"
    }
   },
   "outputs": [],
   "source": [
    "dview = c[:3]"
   ]
  },
  {
   "cell_type": "code",
   "execution_count": 49,
   "metadata": {
    "ExecuteTime": {
     "end_time": "2021-10-01T21:15:26.940879Z",
     "start_time": "2021-10-01T21:15:26.935289Z"
    }
   },
   "outputs": [],
   "source": [
    "dview.activate()"
   ]
  },
  {
   "cell_type": "code",
   "execution_count": 50,
   "metadata": {
    "ExecuteTime": {
     "end_time": "2021-10-01T21:15:41.486751Z",
     "start_time": "2021-10-01T21:15:35.508454Z"
    }
   },
   "outputs": [],
   "source": [
    "if __name__ == '__main__':\n",
    "    number = 500        \n",
    "    #dview\n",
    "    dview.push(dict(number=number,\n",
    "                    number_of_bins=number_of_bins,\n",
    "                    accession_to_namespace=accession_to_namespace,\n",
    "                    binScore=binScore,\n",
    "                    bins=bins,\n",
    "                    getDictionary=getDictionary,\n",
    "                    bins_portion=bins_portion,\n",
    "                    bp_dictionary=bp_dictionary))\n",
    " #   go_dictionary = dict()   \n",
    "    #for go_id, result in pool.map(getScore, go_ids):        \n",
    "#    for go_id, result in dview.map_sync(getScore, go_ids):\n",
    "#        go_dictionary[go_id] = result"
   ]
  },
  {
   "cell_type": "markdown",
   "metadata": {
    "ExecuteTime": {
     "end_time": "2021-05-15T05:05:42.571472Z",
     "start_time": "2021-05-15T05:03:44.323356Z"
    }
   },
   "source": [
    "## Pred"
   ]
  },
  {
   "cell_type": "code",
   "execution_count": 380,
   "metadata": {
    "ExecuteTime": {
     "end_time": "2021-08-02T10:32:05.020960Z",
     "start_time": "2021-08-02T10:31:39.633116Z"
    }
   },
   "outputs": [],
   "source": [
    "alpha = 1  # BP\n",
    "beta  = 1  # CC\n",
    "gamma = 1  # MF\n",
    "\n",
    "def getCoefficient(namespace):\n",
    "        if(namespace == \"biological_process\"):\n",
    "            return alpha\n",
    "        if(namespace == \"cellular_component\"):\n",
    "            return beta    \n",
    "        if(namespace == \"molecular_function\"):\n",
    "            return gamma    \n",
    "    \n",
    "def pred(cnt):                                \n",
    "    coeff = 0\n",
    "    selected = go[go['#Gene'] == cnt]\n",
    "    go_ids = selected['TM']                \n",
    "    go_namespace = selected['Namespace']                \n",
    "    result = np.zeros((go_ids.shape[0], number_of_bins))    \n",
    "    for i in range(0,len(go_ids.index)):  \n",
    "        index = go_ids.index[i]               \n",
    "        namespace = go_namespace[index]        \n",
    "        coeff += getCoefficient(namespace)                                         \n",
    "        result[i,:] = go_dictionary[go_ids[index]] * getCoefficient(namespace)                     \n",
    "    score = sum(result) / coeff if coeff != 0 else sum(result) * 0            \n",
    "    index = np.where(score == max(score))[0][0] + 1                \n",
    "    return index, max(score), cnt    \n",
    "\n",
    "if __name__ == '__main__':\n",
    "    answer = {}        \n",
    "    pool = mp.Pool(num_cores)    \n",
    "    unlabelledContigs = pd.Series(list(set(unlabelled['#anonymous_gsa_id']).intersection(set(go['#Gene']))))            \n",
    "    for index, score, cnt in pool.map(pred,unlabelledContigs):        \n",
    "        answer[cnt] = (index,  score)"
   ]
  },
  {
   "cell_type": "code",
   "execution_count": 381,
   "metadata": {
    "ExecuteTime": {
     "end_time": "2021-08-02T10:32:05.597509Z",
     "start_time": "2021-08-02T10:32:05.027249Z"
    }
   },
   "outputs": [
    {
     "name": "stdout",
     "output_type": "stream",
     "text": [
      "{65, 22, 1}\n"
     ]
    },
    {
     "data": {
      "image/png": "[encoded data removed]",
      "text/plain": [
       "<Figure size 432x288 with 1 Axes>"
      ]
     },
     "metadata": {
      "needs_background": "light"
     },
     "output_type": "display_data"
    }
   ],
   "source": [
    "x = [v[0] for v in answer.values()]\n",
    "plt.hist(x, bins=number_of_bins)\n",
    "print(set(x))"
   ]
  },
  {
   "cell_type": "code",
   "execution_count": 368,
   "metadata": {
    "ExecuteTime": {
     "end_time": "2021-08-02T09:35:47.106246Z",
     "start_time": "2021-08-02T09:35:46.854355Z"
    }
   },
   "outputs": [
    {
     "data": {
      "text/plain": [
       "[<matplotlib.lines.Line2D at 0x7f5839305580>]"
      ]
     },
     "execution_count": 368,
     "metadata": {},
     "output_type": "execute_result"
    },
    {
     "data": {
      "image/png": "[encoded data removed]",
      "text/plain": [
       "<Figure size 432x288 with 1 Axes>"
      ]
     },
     "metadata": {
      "needs_background": "light"
     },
     "output_type": "display_data"
    }
   ],
   "source": [
    "l = []\n",
    "for i in range(len(bins)):\n",
    "    l.append(len(bins[i]))\n",
    "\n",
    "bin_size = np.array(l)/max(np.array(l))    \n",
    "index = np.argsort(bin_size)\n",
    "plt.plot([bin_size[i] for i in index],'o')\n",
    "plt.plot([bins_portion[i] for i in index],'o')"
   ]
  },
  {
   "cell_type": "code",
   "execution_count": 377,
   "metadata": {
    "ExecuteTime": {
     "end_time": "2021-08-02T10:27:07.465611Z",
     "start_time": "2021-08-02T10:27:07.147174Z"
    }
   },
   "outputs": [
    {
     "name": "stdout",
     "output_type": "stream",
     "text": [
      "0.1275888000000001\n",
      "2262\n"
     ]
    }
   ],
   "source": [
    "threshold = sorted([i[1] for i in answer.values()], reverse=True)[3000]\n",
    "print(threshold)\n",
    "threshold = 0.15\n",
    "counter = 0\n",
    "def assign(row):\n",
    "    global counter\n",
    "    cnt = row['#anonymous_gsa_id']\n",
    "    if(cnt in answer and answer[cnt][1] >= threshold):                \n",
    "        counter += 1\n",
    "        return answer[cnt][0]    \n",
    "    return 0\n",
    "\n",
    "unlabelled['pred'] = unlabelled.apply(lambda row:assign(row),axis=1)    \n",
    "print(counter)"
   ]
  },
  {
   "cell_type": "code",
   "execution_count": 378,
   "metadata": {
    "ExecuteTime": {
     "end_time": "2021-08-02T10:27:11.140869Z",
     "start_time": "2021-08-02T10:27:11.113497Z"
    }
   },
   "outputs": [],
   "source": [
    "df = unlabelled[unlabelled['pred']!=0][['#anonymous_gsa_id','pred']]\n",
    "df.columns = ['#anonymous_gsa_id','bin_id']\n",
    "to_biobox(pd.concat([base,df]), f\"./Temp/{dataset_name}/improved\")"
   ]
  },
  {
   "cell_type": "code",
   "execution_count": 379,
   "metadata": {
    "ExecuteTime": {
     "end_time": "2021-08-02T10:27:36.043627Z",
     "start_time": "2021-08-02T10:27:11.468845Z"
    }
   },
   "outputs": [
    {
     "name": "stdout",
     "output_type": "stream",
     "text": [
      "2021-08-02 14:57:14,218 INFO Loading Gold standard\n",
      "2021-08-02 14:57:14,270 INFO Loading metabat1_p95\n",
      "2021-08-02 14:57:14,288 INFO Loading metabat2_p95\n",
      "2021-08-02 14:57:14,300 INFO Loading improved\n",
      "2021-08-02 14:57:14,317 INFO Creating output directories\n",
      "2021-08-02 14:57:14,319 INFO Evaluating Gold standard (sample gsa, genome binning)\n",
      "2021-08-02 14:57:14,517 INFO Evaluating metabat1_p95 (sample gsa, genome binning)\n",
      "2021-08-02 14:57:14,726 INFO Evaluating metabat2_p95 (sample gsa, genome binning)\n",
      "2021-08-02 14:57:14,928 INFO Evaluating improved (sample gsa, genome binning)\n",
      "2021-08-02 14:57:15,122 INFO Saving computed metrics\n",
      "2021-08-02 14:57:15,153 INFO Creating genome binning plots\n",
      "/home/emadi/.local/lib/python3.8/site-packages/numpy/core/_asarray.py:102: VisibleDeprecationWarning: Creating an ndarray from ragged nested sequences (which is a list-or-tuple of lists-or-tuples-or ndarrays with different lengths or shapes) is deprecated. If you meant to do this, you must specify 'dtype=object' when creating the ndarray.\n",
      "  return array(a, dtype, copy=False, order=order)\n",
      "2021-08-02 14:57:33,653 INFO Creating HTML page\n",
      "2021-08-02 14:57:35,575 INFO AMBER finished successfully. All results have been saved to /home/jupyter/Final/Output/CAMI_Low/Assesment\n"
     ]
    }
   ],
   "source": [
    "!amber.py -g ./Temp/{dataset_name}/gold_standard \\\n",
    "-o ./Output/{dataset_name}/Assesment \\\n",
    "./Temp/{dataset_name}/metabat1_p95 \\\n",
    "./Temp/{dataset_name}/metabat2_p95 \\\n",
    "./Temp/{dataset_name}/improved                  "
   ]
  },
  {
   "cell_type": "markdown",
   "metadata": {
    "heading_collapsed": true
   },
   "source": [
    "# KEGG"
   ]
  },
  {
   "cell_type": "code",
   "execution_count": null,
   "metadata": {
    "hidden": true,
    "scrolled": true
   },
   "outputs": [],
   "source": [
    "kegg = pd.read_csv('./Annotation/Toy_low/data/cds.gene2kegg.tab.txt',sep='\\t')\n",
    "print(kegg.shape)\n",
    "kegg = pd.merge(kegg,Geneid2Contigid,how='inner',on='#Geneid')\n",
    "kegg.head(2)"
   ]
  },
  {
   "cell_type": "code",
   "execution_count": null,
   "metadata": {
    "hidden": true
   },
   "outputs": [],
   "source": [
    "print(np.median(list(kegg['Kegg_id'].value_counts())))\n",
    "plt.plot(list(kegg['Kegg_id'].value_counts()))\n",
    "plt.show()"
   ]
  },
  {
   "cell_type": "markdown",
   "metadata": {},
   "source": [
    "# KO"
   ]
  },
  {
   "cell_type": "code",
   "execution_count": null,
   "metadata": {},
   "outputs": [],
   "source": [
    "ko = pd.read_csv('./Annotation/Toy_low/data/cds.gene2ko.tab.txt',sep='\\t')\n",
    "print(ko.shape)\n",
    "ko.head(5)"
   ]
  },
  {
   "cell_type": "code",
   "execution_count": null,
   "metadata": {},
   "outputs": [],
   "source": [
    "print(np.median(list(ko['koid'].value_counts())))\n",
    "plt.plot(list(ko['koid'].value_counts()))\n",
    "plt.show()"
   ]
  },
  {
   "cell_type": "code",
   "execution_count": null,
   "metadata": {},
   "outputs": [],
   "source": [
    "print(np.median(list(ko['Contig'].value_counts())))\n",
    "plt.plot(list(ko['Contig'].value_counts()))\n",
    "plt.show()"
   ]
  },
  {
   "cell_type": "code",
   "execution_count": null,
   "metadata": {},
   "outputs": [],
   "source": [
    "df = pd.read_csv('./Annotation/Toy_low/data/cds.gene2sprot.tab.txt',sep='\\t')\n",
    "print(df.shape)\n",
    "df.head(2)"
   ]
  },
  {
   "cell_type": "code",
   "execution_count": null,
   "metadata": {},
   "outputs": [],
   "source": [
    "uniprot = pd.read_csv('./uniprot-filtered-reviewed-yes.tab',sep='\\t')\n",
    "print(uniprot.shape)\n",
    "uniprot.head(2)"
   ]
  },
  {
   "cell_type": "code",
   "execution_count": null,
   "metadata": {},
   "outputs": [],
   "source": [
    "df = pd.merge(uniprot,df,how='inner',left_on='Protein names',right_on='sprot_desc')\n",
    "print(df.shape)\n",
    "df.head(2)"
   ]
  }
 ],
 "metadata": {
  "hide_input": false,
  "kernelspec": {
   "display_name": "Python 3",
   "language": "python",
   "name": "python3"
  },
  "language_info": {
   "codemirror_mode": {
    "name": "ipython",
    "version": 3
   },
   "file_extension": ".py",
   "mimetype": "text/x-python",
   "name": "python",
   "nbconvert_exporter": "python",
   "pygments_lexer": "ipython3",
   "version": "3.8.10"
  },
  "varInspector": {
   "cols": {
    "lenName": 16,
    "lenType": 16,
    "lenVar": 40
   },
   "kernels_config": {
    "python": {
     "delete_cmd_postfix": "",
     "delete_cmd_prefix": "del ",
     "library": "var_list.py",
     "varRefreshCmd": "print(var_dic_list())"
    },
    "r": {
     "delete_cmd_postfix": ") ",
     "delete_cmd_prefix": "rm(",
     "library": "var_list.r",
     "varRefreshCmd": "cat(var_dic_list()) "
    }
   },
   "types_to_exclude": [
    "module",
    "function",
    "builtin_function_or_method",
    "instance",
    "_Feature"
   ],
   "window_display": false
  }
 },
 "nbformat": 4,
 "nbformat_minor": 2
}
