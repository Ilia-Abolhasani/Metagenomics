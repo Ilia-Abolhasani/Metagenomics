{
 "cells": [
  {
   "cell_type": "code",
   "execution_count": 1,
   "metadata": {
    "ExecuteTime": {
     "end_time": "2021-06-06T12:36:18.190676Z",
     "start_time": "2021-06-06T12:36:10.257325Z"
    }
   },
   "outputs": [],
   "source": [
    "#from plotnine import *\n",
    "import requests,math,pickle\n",
    "import networkx,obonet\n",
    "import time\n",
    "import numpy as np ,pandas as pd, matplotlib.pyplot as plt\n",
    "import arabic_reshaper\n",
    "import multiprocessing as mp\n",
    "from sklearn.metrics.cluster import *\n",
    "from bidi.algorithm import get_display\n",
    "from functools import partial\n",
    "from IPython.display import clear_output\n",
    "import sys\n",
    "if sys.version_info[0] < 3: \n",
    "    from StringIO import StringIO\n",
    "else:\n",
    "    from io import StringIO"
   ]
  },
  {
   "cell_type": "code",
   "execution_count": 5,
   "metadata": {
    "ExecuteTime": {
     "end_time": "2021-06-02T15:29:46.816737Z",
     "start_time": "2021-06-02T15:24:04.526391Z"
    }
   },
   "outputs": [
    {
     "name": "stdout",
     "output_type": "stream",
     "text": [
      "1\n",
      "2\n",
      "3\n",
      "4\n",
      "5\n",
      "1\n",
      "2\n",
      "3\n",
      "4\n",
      "5\n",
      "1\n",
      "2\n",
      "3\n",
      "4\n",
      "5\n",
      "1\n",
      "2\n",
      "3\n",
      "4\n",
      "5\n",
      "1\n",
      "2\n",
      "3\n",
      "4\n",
      "5\n",
      "1\n",
      "2\n",
      "3\n",
      "4\n",
      "5\n"
     ]
    }
   ],
   "source": [
    "for Dataset_Name in [\"airways\", \"gi\", \"metahit\", \"oral\", \"skin\", \"urog\"]:\n",
    "    path_contigs = f\"./Dataset/{Dataset_Name}/contigs.fna\"\n",
    "    with open(path_contigs, 'r') as file:\n",
    "        text = file.read()\n",
    "        lines = text.split('\\n')\n",
    "        if(len(lines[-1]) == 0):\n",
    "            lines = lines[:-1]         \n",
    "    n = len(lines)\n",
    "    counter = 0;\n",
    "    temp = []\n",
    "    \n",
    "    for l in lines:\n",
    "        if(l[0] == \">\"):\n",
    "            if(len(temp) > n/6):\n",
    "                with open(f\"./Dataset/{Dataset_Name}/contigs{counter}.fna\", 'w') as file:\n",
    "                    file.write('\\n'.join(temp))\n",
    "                    counter += 1\n",
    "                    print(counter)\n",
    "                temp = []                                    \n",
    "        temp.append(l)    \n",
    "    with open(f\"./Dataset/{Dataset_Name}/contigs{counter}.fna\", 'w') as file:\n",
    "        file.write('\\n'.join(temp))                "
   ]
  },
  {
   "cell_type": "code",
   "execution_count": 4,
   "metadata": {
    "ExecuteTime": {
     "end_time": "2021-06-06T12:40:10.124481Z",
     "start_time": "2021-06-06T12:40:01.579077Z"
    }
   },
   "outputs": [
    {
     "name": "stdout",
     "output_type": "stream",
     "text": [
      "1\n",
      "2\n",
      "3\n",
      "4\n",
      "5\n"
     ]
    }
   ],
   "source": [
    "path_contigs = f\"./Dataset/Toy_High/H_pooled_gsa_anonymous.fasta\"\n",
    "with open(path_contigs, 'r') as file:\n",
    "    text = file.read()\n",
    "lines = text.split('\\n')\n",
    "if(len(lines[-1]) == 0):\n",
    "    lines = lines[:-1]         \n",
    "n = len(lines)\n",
    "counter = 0;\n",
    "temp = []\n",
    "    \n",
    "for l in lines:\n",
    "    if(l[0] == \">\"):\n",
    "        if(len(temp) > n/6):\n",
    "            with open(f\"./Dataset/Toy_High/contigs{counter}.fna\", 'w') as file:\n",
    "                file.write('\\n'.join(temp))\n",
    "            counter += 1\n",
    "            print(counter)\n",
    "            temp = []                                    \n",
    "    temp.append(l)    \n",
    "with open(f\"./Dataset/Toy_High/contigs{counter}.fna\", 'w') as file:\n",
    "    file.write('\\n'.join(temp))                "
   ]
  },
  {
   "cell_type": "code",
   "execution_count": null,
   "metadata": {},
   "outputs": [],
   "source": []
  }
 ],
 "metadata": {
  "kernelspec": {
   "display_name": "Python 3",
   "language": "python",
   "name": "python3"
  },
  "language_info": {
   "codemirror_mode": {
    "name": "ipython",
    "version": 3
   },
   "file_extension": ".py",
   "mimetype": "text/x-python",
   "name": "python",
   "nbconvert_exporter": "python",
   "pygments_lexer": "ipython3",
   "version": "3.8.5"
  }
 },
 "nbformat": 4,
 "nbformat_minor": 4
}
