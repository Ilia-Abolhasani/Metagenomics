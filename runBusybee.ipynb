{
 "cells": [
  {
   "cell_type": "code",
   "execution_count": 39,
   "metadata": {
    "ExecuteTime": {
     "end_time": "2021-07-29T10:34:46.496818Z",
     "start_time": "2021-07-29T10:34:46.493139Z"
    }
   },
   "outputs": [],
   "source": [
    "import glob\n",
    "import pandas as pd"
   ]
  },
  {
   "cell_type": "code",
   "execution_count": 47,
   "metadata": {
    "ExecuteTime": {
     "end_time": "2021-07-29T10:35:46.113105Z",
     "start_time": "2021-07-29T10:35:46.109232Z"
    }
   },
   "outputs": [],
   "source": [
    "dataset_name = \"CAMI_Low\"\n",
    "prob = 50"
   ]
  },
  {
   "cell_type": "code",
   "execution_count": 48,
   "metadata": {
    "ExecuteTime": {
     "end_time": "2021-07-29T10:35:46.928513Z",
     "start_time": "2021-07-29T10:35:46.921024Z"
    }
   },
   "outputs": [],
   "source": [
    "def fasta_to_df(path):\n",
    "    with open(path, 'r') as file:\n",
    "        text = file.read()\n",
    "    lines = [line for line in text.split('\\n') if len(line) > 0]\n",
    "    s = ''\n",
    "    ids = []\n",
    "    contigs = []\n",
    "    for l in lines:\n",
    "        if(l[0]=='>'):\n",
    "            ids.append(l)        \n",
    "            contigs.append(s)\n",
    "            s = ''\n",
    "        else:\n",
    "            s += l    \n",
    "    contigs.append(s)\n",
    "    df = pd.DataFrame(\n",
    "            {\n",
    "                '#anonymous_gsa_id': ids,\n",
    "                'contig': contigs[1:]\n",
    "            })\n",
    "    df['#anonymous_gsa_id'] = df['#anonymous_gsa_id'].apply(lambda x: x[1:])    \n",
    "    return df"
   ]
  },
  {
   "cell_type": "code",
   "execution_count": 49,
   "metadata": {
    "ExecuteTime": {
     "end_time": "2021-07-29T10:35:47.779198Z",
     "start_time": "2021-07-29T10:35:47.217247Z"
    }
   },
   "outputs": [
    {
     "data": {
      "text/html": [
       "<div>\n",
       "<style scoped>\n",
       "    .dataframe tbody tr th:only-of-type {\n",
       "        vertical-align: middle;\n",
       "    }\n",
       "\n",
       "    .dataframe tbody tr th {\n",
       "        vertical-align: top;\n",
       "    }\n",
       "\n",
       "    .dataframe thead th {\n",
       "        text-align: right;\n",
       "    }\n",
       "</style>\n",
       "<table border=\"1\" class=\"dataframe\">\n",
       "  <thead>\n",
       "    <tr style=\"text-align: right;\">\n",
       "      <th></th>\n",
       "      <th>#anonymous_gsa_id</th>\n",
       "      <th>contig</th>\n",
       "    </tr>\n",
       "  </thead>\n",
       "  <tbody>\n",
       "    <tr>\n",
       "      <th>0</th>\n",
       "      <td>RL|S1|C0</td>\n",
       "      <td>TCTCCGCCGACGAGAGCTACACGTTCGACCGTGATCACGCCGACTG...</td>\n",
       "    </tr>\n",
       "    <tr>\n",
       "      <th>1</th>\n",
       "      <td>RL|S1|C1</td>\n",
       "      <td>CCTGGCCATACTTTTCCTTTCATATAAGGTCCATCAGCACGTTTAC...</td>\n",
       "    </tr>\n",
       "    <tr>\n",
       "      <th>2</th>\n",
       "      <td>RL|S1|C2</td>\n",
       "      <td>TTCCATTGTAATTGCAACGAACAATCCCGTTGTTTCTGTATATGAC...</td>\n",
       "    </tr>\n",
       "    <tr>\n",
       "      <th>3</th>\n",
       "      <td>RL|S1|C3</td>\n",
       "      <td>CGTGGCCTCGGCAAGACCTTCACCCAGGGCACCTACTCGGTGCAGG...</td>\n",
       "    </tr>\n",
       "    <tr>\n",
       "      <th>4</th>\n",
       "      <td>RL|S1|C4</td>\n",
       "      <td>GAATATTCTACAACTATTACATCTTTTTGATAGCGTTGAACCAAAT...</td>\n",
       "    </tr>\n",
       "  </tbody>\n",
       "</table>\n",
       "</div>"
      ],
      "text/plain": [
       "  #anonymous_gsa_id                                             contig\n",
       "0          RL|S1|C0  TCTCCGCCGACGAGAGCTACACGTTCGACCGTGATCACGCCGACTG...\n",
       "1          RL|S1|C1  CCTGGCCATACTTTTCCTTTCATATAAGGTCCATCAGCACGTTTAC...\n",
       "2          RL|S1|C2  TTCCATTGTAATTGCAACGAACAATCCCGTTGTTTCTGTATATGAC...\n",
       "3          RL|S1|C3  CGTGGCCTCGGCAAGACCTTCACCCAGGGCACCTACTCGGTGCAGG...\n",
       "4          RL|S1|C4  GAATATTCTACAACTATTACATCTTTTTGATAGCGTTGAACCAAAT..."
      ]
     },
     "execution_count": 49,
     "metadata": {},
     "output_type": "execute_result"
    }
   ],
   "source": [
    "contigs = fasta_to_df(f\"./Dataset/{dataset_name}/contigs.fna\")\n",
    "contigs.head()"
   ]
  },
  {
   "cell_type": "markdown",
   "metadata": {},
   "source": [
    "# Convert list of fasta to tsv file"
   ]
  },
  {
   "cell_type": "code",
   "execution_count": 50,
   "metadata": {
    "ExecuteTime": {
     "end_time": "2021-07-29T10:35:48.159785Z",
     "start_time": "2021-07-29T10:35:48.136135Z"
    }
   },
   "outputs": [
    {
     "data": {
      "text/html": [
       "<div>\n",
       "<style scoped>\n",
       "    .dataframe tbody tr th:only-of-type {\n",
       "        vertical-align: middle;\n",
       "    }\n",
       "\n",
       "    .dataframe tbody tr th {\n",
       "        vertical-align: top;\n",
       "    }\n",
       "\n",
       "    .dataframe thead th {\n",
       "        text-align: right;\n",
       "    }\n",
       "</style>\n",
       "<table border=\"1\" class=\"dataframe\">\n",
       "  <thead>\n",
       "    <tr style=\"text-align: right;\">\n",
       "      <th></th>\n",
       "      <th>seqId</th>\n",
       "      <th>newId</th>\n",
       "    </tr>\n",
       "  </thead>\n",
       "  <tbody>\n",
       "    <tr>\n",
       "      <th>0</th>\n",
       "      <td>RL|S1|C0</td>\n",
       "      <td>0</td>\n",
       "    </tr>\n",
       "    <tr>\n",
       "      <th>1</th>\n",
       "      <td>RL|S1|C1</td>\n",
       "      <td>1</td>\n",
       "    </tr>\n",
       "    <tr>\n",
       "      <th>2</th>\n",
       "      <td>RL|S1|C2</td>\n",
       "      <td>2</td>\n",
       "    </tr>\n",
       "    <tr>\n",
       "      <th>3</th>\n",
       "      <td>RL|S1|C3</td>\n",
       "      <td>3</td>\n",
       "    </tr>\n",
       "    <tr>\n",
       "      <th>4</th>\n",
       "      <td>RL|S1|C4</td>\n",
       "      <td>4</td>\n",
       "    </tr>\n",
       "  </tbody>\n",
       "</table>\n",
       "</div>"
      ],
      "text/plain": [
       "      seqId  newId\n",
       "0  RL|S1|C0      0\n",
       "1  RL|S1|C1      1\n",
       "2  RL|S1|C2      2\n",
       "3  RL|S1|C3      3\n",
       "4  RL|S1|C4      4"
      ]
     },
     "execution_count": 50,
     "metadata": {},
     "output_type": "execute_result"
    }
   ],
   "source": [
    "path = f'/home/jupyter/Final/Binning/{dataset_name}/Busybee/prob{prob}/'\n",
    "seqId2newId = pd.read_csv(path + \"contigs.tab\",sep ='\\t', header=None)\n",
    "seqId2newId.columns = ['seqId','newId']\n",
    "seqId2newId.head()"
   ]
  },
  {
   "cell_type": "code",
   "execution_count": 51,
   "metadata": {
    "ExecuteTime": {
     "end_time": "2021-07-29T10:35:48.430336Z",
     "start_time": "2021-07-29T10:35:48.414303Z"
    }
   },
   "outputs": [
    {
     "data": {
      "text/html": [
       "<div>\n",
       "<style scoped>\n",
       "    .dataframe tbody tr th:only-of-type {\n",
       "        vertical-align: middle;\n",
       "    }\n",
       "\n",
       "    .dataframe tbody tr th {\n",
       "        vertical-align: top;\n",
       "    }\n",
       "\n",
       "    .dataframe thead th {\n",
       "        text-align: right;\n",
       "    }\n",
       "</style>\n",
       "<table border=\"1\" class=\"dataframe\">\n",
       "  <thead>\n",
       "    <tr style=\"text-align: right;\">\n",
       "      <th></th>\n",
       "      <th>newId</th>\n",
       "      <th>binId</th>\n",
       "    </tr>\n",
       "  </thead>\n",
       "  <tbody>\n",
       "    <tr>\n",
       "      <th>0</th>\n",
       "      <td>315</td>\n",
       "      <td>0</td>\n",
       "    </tr>\n",
       "    <tr>\n",
       "      <th>1</th>\n",
       "      <td>543</td>\n",
       "      <td>1</td>\n",
       "    </tr>\n",
       "    <tr>\n",
       "      <th>2</th>\n",
       "      <td>2698</td>\n",
       "      <td>1</td>\n",
       "    </tr>\n",
       "    <tr>\n",
       "      <th>3</th>\n",
       "      <td>2801</td>\n",
       "      <td>0</td>\n",
       "    </tr>\n",
       "    <tr>\n",
       "      <th>4</th>\n",
       "      <td>3522</td>\n",
       "      <td>0</td>\n",
       "    </tr>\n",
       "  </tbody>\n",
       "</table>\n",
       "</div>"
      ],
      "text/plain": [
       "   newId  binId\n",
       "0    315      0\n",
       "1    543      1\n",
       "2   2698      1\n",
       "3   2801      0\n",
       "4   3522      0"
      ]
     },
     "execution_count": 51,
     "metadata": {},
     "output_type": "execute_result"
    }
   ],
   "source": [
    "newId2binId = pd.read_csv(path + \"data/contigs.bin.table.tsv\",sep ='\\t', header=None)\n",
    "newId2binId.columns = ['newId','binId']\n",
    "newId2binId.head()"
   ]
  },
  {
   "cell_type": "code",
   "execution_count": 52,
   "metadata": {
    "ExecuteTime": {
     "end_time": "2021-07-29T10:35:49.430709Z",
     "start_time": "2021-07-29T10:35:49.191905Z"
    }
   },
   "outputs": [],
   "source": [
    "df = pd.merge(seqId2newId,newId2binId,how='inner',on='newId')[['seqId','binId']]\n",
    "!rm -r {path}/*\n",
    "df.to_csv(path + \"contigs.tab\", index=None, sep='\\t',header=None)"
   ]
  }
 ],
 "metadata": {
  "kernelspec": {
   "display_name": "Python 3",
   "language": "python",
   "name": "python3"
  },
  "language_info": {
   "codemirror_mode": {
    "name": "ipython",
    "version": 3
   },
   "file_extension": ".py",
   "mimetype": "text/x-python",
   "name": "python",
   "nbconvert_exporter": "python",
   "pygments_lexer": "ipython3",
   "version": "3.8.10"
  }
 },
 "nbformat": 4,
 "nbformat_minor": 4
}
