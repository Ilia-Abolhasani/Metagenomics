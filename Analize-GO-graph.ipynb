{
 "cells": [
  {
   "cell_type": "markdown",
   "metadata": {},
   "source": [
    "# Imports"
   ]
  },
  {
   "cell_type": "code",
   "execution_count": 30,
   "metadata": {
    "ExecuteTime": {
     "end_time": "2021-11-18T10:02:44.571793Z",
     "start_time": "2021-11-18T10:02:42.617539Z"
    },
    "code_folding": [],
    "run_control": {
     "marked": true
    },
    "slideshow": {
     "slide_type": "-"
    }
   },
   "outputs": [],
   "source": [
    "import os\n",
    "from tqdm.contrib.concurrent import process_map\n",
    "from tqdm.notebook import tqdm\n",
    "tqdm.pandas()\n",
    "import ipyparallel as ipp\n",
    "import requests,math,pickle\n",
    "import networkx,obonet\n",
    "import time\n",
    "import shutil\n",
    "import numpy as np ,pandas as pd, matplotlib.pyplot as plt\n",
    "import multiprocessing as mp\n",
    "import scipy.stats as stats\n",
    "from sklearn.metrics.cluster import *\n",
    "from functools import partial\n",
    "from IPython.display import clear_output\n",
    "import sys\n",
    "if sys.version_info[0] < 3: \n",
    "    from StringIO import StringIO\n",
    "else:\n",
    "    from io import StringIO"
   ]
  },
  {
   "cell_type": "code",
   "execution_count": 2,
   "metadata": {
    "ExecuteTime": {
     "end_time": "2021-11-18T10:02:45.840986Z",
     "start_time": "2021-11-18T10:02:45.837169Z"
    }
   },
   "outputs": [],
   "source": [
    "#!wget http://purl.obolibrary.org/obo/go.obo"
   ]
  },
  {
   "cell_type": "markdown",
   "metadata": {
    "heading_collapsed": true
   },
   "source": [
    "# Variables"
   ]
  },
  {
   "cell_type": "code",
   "execution_count": 3,
   "metadata": {
    "ExecuteTime": {
     "end_time": "2021-11-18T10:02:47.153129Z",
     "start_time": "2021-11-18T10:02:46.907201Z"
    },
    "hidden": true
   },
   "outputs": [],
   "source": [
    "dataset_name = \"Toy_Low\"\n",
    "num_cores = max(mp.cpu_count() - 1, 1)\n",
    "#!mkdir -p ./Output/{dataset_name}/figs\n",
    "#!mkdir -p ./Temp/{dataset_name}/"
   ]
  },
  {
   "cell_type": "markdown",
   "metadata": {
    "heading_collapsed": true
   },
   "source": [
    "# Common functions"
   ]
  },
  {
   "cell_type": "code",
   "execution_count": 4,
   "metadata": {
    "ExecuteTime": {
     "end_time": "2021-11-18T10:02:47.851620Z",
     "start_time": "2021-11-18T10:02:47.845465Z"
    },
    "hidden": true
   },
   "outputs": [],
   "source": [
    "def to_biobox(df, path):\n",
    "    df[df[\"bin_id\"]!= 0].to_csv(path, index=None, sep='\\t',header=None)    \n",
    "    with open(path, 'r') as file:        \n",
    "        text = file.read()\n",
    "    with open(path, 'w', encoding='utf8') as file:\n",
    "        file.write(\"@Version:0.9.1\\n@SampleID:gsa\\n\\n@@SEQUENCEID\\tBINID\\n\" + text)"
   ]
  },
  {
   "cell_type": "code",
   "execution_count": 5,
   "metadata": {
    "ExecuteTime": {
     "end_time": "2021-11-18T10:02:48.331731Z",
     "start_time": "2021-11-18T10:02:48.323662Z"
    },
    "hidden": true
   },
   "outputs": [],
   "source": [
    "def fasta_to_df(path):\n",
    "    with open(path, 'r') as file:\n",
    "        text = file.read()\n",
    "    lines = [line for line in text.split('\\n') if len(line) > 0]\n",
    "    s = ''\n",
    "    ids = []\n",
    "    contigs = []\n",
    "    for l in lines:\n",
    "        if(l[0]=='>'):\n",
    "            ids.append(l)        \n",
    "            contigs.append(s)\n",
    "            s = ''\n",
    "        else:\n",
    "            s += l    \n",
    "    contigs.append(s)\n",
    "    df = pd.DataFrame(\n",
    "            {\n",
    "                '#anonymous_gsa_id': ids,\n",
    "                'contig': contigs[1:]\n",
    "            })\n",
    "    df['#anonymous_gsa_id'] = df['#anonymous_gsa_id'].apply(lambda x: x[1:])    \n",
    "    return df"
   ]
  },
  {
   "cell_type": "markdown",
   "metadata": {
    "heading_collapsed": true
   },
   "source": [
    "# Read Fasta"
   ]
  },
  {
   "cell_type": "code",
   "execution_count": 6,
   "metadata": {
    "ExecuteTime": {
     "end_time": "2021-11-18T10:02:58.682807Z",
     "start_time": "2021-11-18T10:02:49.286799Z"
    },
    "hidden": true
   },
   "outputs": [
    {
     "data": {
      "text/html": [
       "<div>\n",
       "<style scoped>\n",
       "    .dataframe tbody tr th:only-of-type {\n",
       "        vertical-align: middle;\n",
       "    }\n",
       "\n",
       "    .dataframe tbody tr th {\n",
       "        vertical-align: top;\n",
       "    }\n",
       "\n",
       "    .dataframe thead th {\n",
       "        text-align: right;\n",
       "    }\n",
       "</style>\n",
       "<table border=\"1\" class=\"dataframe\">\n",
       "  <thead>\n",
       "    <tr style=\"text-align: right;\">\n",
       "      <th></th>\n",
       "      <th>#anonymous_gsa_id</th>\n",
       "      <th>contig_length</th>\n",
       "    </tr>\n",
       "  </thead>\n",
       "  <tbody>\n",
       "    <tr>\n",
       "      <th>0</th>\n",
       "      <td>S|S1|C0</td>\n",
       "      <td>186</td>\n",
       "    </tr>\n",
       "    <tr>\n",
       "      <th>1</th>\n",
       "      <td>S|S1|C1</td>\n",
       "      <td>617</td>\n",
       "    </tr>\n",
       "  </tbody>\n",
       "</table>\n",
       "</div>"
      ],
      "text/plain": [
       "  #anonymous_gsa_id  contig_length\n",
       "0           S|S1|C0            186\n",
       "1           S|S1|C1            617"
      ]
     },
     "execution_count": 6,
     "metadata": {},
     "output_type": "execute_result"
    }
   ],
   "source": [
    "contigs = fasta_to_df(f\"./Dataset/{dataset_name}/contigs.fna\")\n",
    "all_number = contigs.shape[0]\n",
    "contigs[\"contig_length\"] = contigs[\"contig\"].apply(lambda x: len(x))\n",
    "del contigs['contig']\n",
    "contigs.head(2)"
   ]
  },
  {
   "cell_type": "code",
   "execution_count": 7,
   "metadata": {
    "ExecuteTime": {
     "end_time": "2021-11-18T10:02:58.821419Z",
     "start_time": "2021-11-18T10:02:58.686628Z"
    },
    "hidden": true
   },
   "outputs": [
    {
     "data": {
      "text/html": [
       "<div>\n",
       "<style scoped>\n",
       "    .dataframe tbody tr th:only-of-type {\n",
       "        vertical-align: middle;\n",
       "    }\n",
       "\n",
       "    .dataframe tbody tr th {\n",
       "        vertical-align: top;\n",
       "    }\n",
       "\n",
       "    .dataframe thead th {\n",
       "        text-align: right;\n",
       "    }\n",
       "</style>\n",
       "<table border=\"1\" class=\"dataframe\">\n",
       "  <thead>\n",
       "    <tr style=\"text-align: right;\">\n",
       "      <th></th>\n",
       "      <th>#anonymous_gsa_id</th>\n",
       "      <th>contig_length</th>\n",
       "      <th>genome_id</th>\n",
       "      <th>tax_id</th>\n",
       "      <th>sequence_id</th>\n",
       "      <th>number_reads</th>\n",
       "    </tr>\n",
       "  </thead>\n",
       "  <tbody>\n",
       "    <tr>\n",
       "      <th>0</th>\n",
       "      <td>S|S1|C0</td>\n",
       "      <td>186</td>\n",
       "      <td>1394711.1</td>\n",
       "      <td>1394711</td>\n",
       "      <td>NC_023004.1</td>\n",
       "      <td>4</td>\n",
       "    </tr>\n",
       "    <tr>\n",
       "      <th>1</th>\n",
       "      <td>S|S1|C1</td>\n",
       "      <td>617</td>\n",
       "      <td>1230476.1</td>\n",
       "      <td>1230476</td>\n",
       "      <td>NZ_KE747857.1</td>\n",
       "      <td>14</td>\n",
       "    </tr>\n",
       "  </tbody>\n",
       "</table>\n",
       "</div>"
      ],
      "text/plain": [
       "  #anonymous_gsa_id  contig_length  genome_id   tax_id    sequence_id  \\\n",
       "0           S|S1|C0            186  1394711.1  1394711    NC_023004.1   \n",
       "1           S|S1|C1            617  1230476.1  1230476  NZ_KE747857.1   \n",
       "\n",
       "   number_reads  \n",
       "0             4  \n",
       "1            14  "
      ]
     },
     "execution_count": 7,
     "metadata": {},
     "output_type": "execute_result"
    }
   ],
   "source": [
    "df = pd.read_csv(f\"./Dataset/{dataset_name}/mapping.tsv\", sep='\\t')\n",
    "contigs = pd.merge(contigs, df, how='inner', on='#anonymous_gsa_id')\n",
    "contigs.head(2)"
   ]
  },
  {
   "cell_type": "code",
   "execution_count": 8,
   "metadata": {},
   "outputs": [
    {
     "name": "stdout",
     "output_type": "stream",
     "text": [
      "tax number: (30,)\n",
      "genome number: (30,)\n"
     ]
    }
   ],
   "source": [
    "print(\"tax number:\", contigs['tax_id'].unique().shape)\n",
    "print(\"genome number:\", contigs['genome_id'].unique().shape)"
   ]
  },
  {
   "cell_type": "markdown",
   "metadata": {},
   "source": [
    "# Gene Ontology"
   ]
  },
  {
   "cell_type": "code",
   "execution_count": 9,
   "metadata": {
    "ExecuteTime": {
     "end_time": "2021-11-18T10:03:19.898190Z",
     "start_time": "2021-11-18T10:02:59.051841Z"
    }
   },
   "outputs": [
    {
     "data": {
      "text/html": [
       "<div>\n",
       "<style scoped>\n",
       "    .dataframe tbody tr th:only-of-type {\n",
       "        vertical-align: middle;\n",
       "    }\n",
       "\n",
       "    .dataframe tbody tr th {\n",
       "        vertical-align: top;\n",
       "    }\n",
       "\n",
       "    .dataframe thead th {\n",
       "        text-align: right;\n",
       "    }\n",
       "</style>\n",
       "<table border=\"1\" class=\"dataframe\">\n",
       "  <thead>\n",
       "    <tr style=\"text-align: right;\">\n",
       "      <th></th>\n",
       "      <th>#Gene</th>\n",
       "      <th>Contig</th>\n",
       "      <th>Start</th>\n",
       "      <th>End</th>\n",
       "      <th>Gene_Length</th>\n",
       "      <th>Strand</th>\n",
       "      <th>SP</th>\n",
       "      <th>TM</th>\n",
       "      <th>go_id</th>\n",
       "      <th>Taxonomy</th>\n",
       "      <th>Terms</th>\n",
       "    </tr>\n",
       "  </thead>\n",
       "  <tbody>\n",
       "    <tr>\n",
       "      <th>0</th>\n",
       "      <td>metaerg.pl|00001</td>\n",
       "      <td>S|S1|C4223</td>\n",
       "      <td>71</td>\n",
       "      <td>1423</td>\n",
       "      <td>1353</td>\n",
       "      <td>1</td>\n",
       "      <td>No</td>\n",
       "      <td>0</td>\n",
       "      <td>GO:0005524</td>\n",
       "      <td>ATP binding</td>\n",
       "      <td>d__Bacteria;p__Firmicutes;c__Bacilli;o__Bacill...</td>\n",
       "    </tr>\n",
       "    <tr>\n",
       "      <th>1</th>\n",
       "      <td>metaerg.pl|00001</td>\n",
       "      <td>S|S1|C4223</td>\n",
       "      <td>71</td>\n",
       "      <td>1423</td>\n",
       "      <td>1353</td>\n",
       "      <td>1</td>\n",
       "      <td>No</td>\n",
       "      <td>0</td>\n",
       "      <td>GO:0005737</td>\n",
       "      <td>cytoplasm</td>\n",
       "      <td>d__Bacteria;p__Firmicutes;c__Bacilli;o__Bacill...</td>\n",
       "    </tr>\n",
       "  </tbody>\n",
       "</table>\n",
       "</div>"
      ],
      "text/plain": [
       "              #Gene      Contig  Start   End  Gene_Length  Strand  SP  TM  \\\n",
       "0  metaerg.pl|00001  S|S1|C4223     71  1423         1353       1  No   0   \n",
       "1  metaerg.pl|00001  S|S1|C4223     71  1423         1353       1  No   0   \n",
       "\n",
       "        go_id     Taxonomy                                              Terms  \n",
       "0  GO:0005524  ATP binding  d__Bacteria;p__Firmicutes;c__Bacilli;o__Bacill...  \n",
       "1  GO:0005737    cytoplasm  d__Bacteria;p__Firmicutes;c__Bacilli;o__Bacill...  "
      ]
     },
     "execution_count": 9,
     "metadata": {},
     "output_type": "execute_result"
    }
   ],
   "source": [
    "go = pd.read_csv(f\"./Annotation/{dataset_name}/cds.gene2go.tab.txt\", sep='\\t')\n",
    "go = go.reset_index(drop=True)\n",
    "go.head(2)"
   ]
  },
  {
   "cell_type": "markdown",
   "metadata": {},
   "source": [
    "## Add namespace [ cc, bp, mf ]"
   ]
  },
  {
   "cell_type": "code",
   "execution_count": 10,
   "metadata": {
    "ExecuteTime": {
     "end_time": "2021-11-18T10:03:42.016875Z",
     "start_time": "2021-11-18T10:03:28.398628Z"
    },
    "code_folding": [],
    "run_control": {
     "marked": true
    }
   },
   "outputs": [
    {
     "data": {
      "application/vnd.jupyter.widget-view+json": {
       "model_id": "e207c162a5ac4e2ea25fa09aaeee4619",
       "version_major": 2,
       "version_minor": 0
      },
      "text/plain": [
       "  0%|          | 0/6745 [00:00<?, ?it/s]"
      ]
     },
     "metadata": {},
     "output_type": "display_data"
    }
   ],
   "source": [
    "go_graph = obonet.read_obo('./go.obo') \n",
    "accession_to_namespace = dict()\n",
    "go_ids = go['go_id'].unique()\n",
    "for accession in tqdm(go_ids):\n",
    "    try:        \n",
    "        accession_to_namespace[accession] =  go_graph.nodes[accession]['namespace']\n",
    "    except: \n",
    "        accession_to_namespace[accession]= \"unknown\""
   ]
  },
  {
   "cell_type": "code",
   "execution_count": 11,
   "metadata": {
    "ExecuteTime": {
     "end_time": "2021-11-18T10:03:49.414263Z",
     "start_time": "2021-11-18T10:03:45.806489Z"
    }
   },
   "outputs": [
    {
     "name": "stdout",
     "output_type": "stream",
     "text": [
      "molecular_function    137731\n",
      "biological_process     89208\n",
      "cellular_component     54892\n",
      "unknown                 8060\n",
      "Name: Namespace, dtype: int64\n"
     ]
    },
    {
     "data": {
      "text/html": [
       "<div>\n",
       "<style scoped>\n",
       "    .dataframe tbody tr th:only-of-type {\n",
       "        vertical-align: middle;\n",
       "    }\n",
       "\n",
       "    .dataframe tbody tr th {\n",
       "        vertical-align: top;\n",
       "    }\n",
       "\n",
       "    .dataframe thead th {\n",
       "        text-align: right;\n",
       "    }\n",
       "</style>\n",
       "<table border=\"1\" class=\"dataframe\">\n",
       "  <thead>\n",
       "    <tr style=\"text-align: right;\">\n",
       "      <th></th>\n",
       "      <th>#Gene</th>\n",
       "      <th>Contig</th>\n",
       "      <th>Start</th>\n",
       "      <th>End</th>\n",
       "      <th>Gene_Length</th>\n",
       "      <th>Strand</th>\n",
       "      <th>SP</th>\n",
       "      <th>TM</th>\n",
       "      <th>go_id</th>\n",
       "      <th>Taxonomy</th>\n",
       "      <th>Terms</th>\n",
       "      <th>Namespace</th>\n",
       "    </tr>\n",
       "  </thead>\n",
       "  <tbody>\n",
       "    <tr>\n",
       "      <th>0</th>\n",
       "      <td>metaerg.pl|00001</td>\n",
       "      <td>S|S1|C4223</td>\n",
       "      <td>71</td>\n",
       "      <td>1423</td>\n",
       "      <td>1353</td>\n",
       "      <td>1</td>\n",
       "      <td>No</td>\n",
       "      <td>0</td>\n",
       "      <td>GO:0005524</td>\n",
       "      <td>ATP binding</td>\n",
       "      <td>d__Bacteria;p__Firmicutes;c__Bacilli;o__Bacill...</td>\n",
       "      <td>molecular_function</td>\n",
       "    </tr>\n",
       "    <tr>\n",
       "      <th>1</th>\n",
       "      <td>metaerg.pl|00001</td>\n",
       "      <td>S|S1|C4223</td>\n",
       "      <td>71</td>\n",
       "      <td>1423</td>\n",
       "      <td>1353</td>\n",
       "      <td>1</td>\n",
       "      <td>No</td>\n",
       "      <td>0</td>\n",
       "      <td>GO:0005737</td>\n",
       "      <td>cytoplasm</td>\n",
       "      <td>d__Bacteria;p__Firmicutes;c__Bacilli;o__Bacill...</td>\n",
       "      <td>cellular_component</td>\n",
       "    </tr>\n",
       "  </tbody>\n",
       "</table>\n",
       "</div>"
      ],
      "text/plain": [
       "              #Gene      Contig  Start   End  Gene_Length  Strand  SP  TM  \\\n",
       "0  metaerg.pl|00001  S|S1|C4223     71  1423         1353       1  No   0   \n",
       "1  metaerg.pl|00001  S|S1|C4223     71  1423         1353       1  No   0   \n",
       "\n",
       "        go_id     Taxonomy                                              Terms  \\\n",
       "0  GO:0005524  ATP binding  d__Bacteria;p__Firmicutes;c__Bacilli;o__Bacill...   \n",
       "1  GO:0005737    cytoplasm  d__Bacteria;p__Firmicutes;c__Bacilli;o__Bacill...   \n",
       "\n",
       "            Namespace  \n",
       "0  molecular_function  \n",
       "1  cellular_component  "
      ]
     },
     "execution_count": 11,
     "metadata": {},
     "output_type": "execute_result"
    }
   ],
   "source": [
    "def get_namespace(accession):\n",
    "    if(accession in accession_to_namespace):        \n",
    "        return accession_to_namespace[accession]    \n",
    "    return \"unknown\"\n",
    "\n",
    "go['Namespace'] = go['go_id'].apply(lambda x : get_namespace(x) )\n",
    "print(go['Namespace'].value_counts())\n",
    "go.head(2)"
   ]
  },
  {
   "cell_type": "code",
   "execution_count": 12,
   "metadata": {
    "ExecuteTime": {
     "end_time": "2021-11-18T10:03:52.704746Z",
     "start_time": "2021-11-18T10:03:49.417236Z"
    }
   },
   "outputs": [],
   "source": [
    "go = go[go['Namespace'] != \"unknown\"]"
   ]
  },
  {
   "cell_type": "markdown",
   "metadata": {},
   "source": [
    "# Improver Method\n",
    "## Create dictionary BP, CC , MF base of GOGO for each pair of go ids"
   ]
  },
  {
   "cell_type": "code",
   "execution_count": 21,
   "metadata": {
    "ExecuteTime": {
     "end_time": "2021-11-17T12:06:45.750811Z",
     "start_time": "2021-11-17T12:06:45.742880Z"
    },
    "hidden": true
   },
   "outputs": [],
   "source": [
    "def runGOGO(i,namespace):        \n",
    "    %cd ./GOGO/\n",
    "    !perl go_comb.pl ../Temp/{dataset_name}/{namespace}/go_ids{i}.txt ../Temp/{dataset_name}/{namespace}/go_ids_scores{i}\n",
    "    %cd .. "
   ]
  },
  {
   "cell_type": "code",
   "execution_count": 35,
   "metadata": {
    "ExecuteTime": {
     "end_time": "2021-11-13T08:32:40.148217Z",
     "start_time": "2021-11-13T08:32:40.126123Z"
    },
    "code_folding": [],
    "hidden": true
   },
   "outputs": [],
   "source": [
    "def Step1(namespace):\n",
    "    path = f'./Temp/{dataset_name}/{namespace}/'\n",
    "    if(os.path.isdir(path)):\n",
    "        shutil.rmtree(path)    \n",
    "    os.mkdir(path)\n",
    "    # first create all possible pairs of GOs for Biological Process\n",
    "    go_ids = go[go[\"Namespace\"] == namespace]['go_id'].unique()    \n",
    "    go1 = []\n",
    "    go2 = []\n",
    "    for i in range(0,go_ids.shape[0]):\n",
    "        for j in range(i, go_ids.shape[0]):            \n",
    "            go1.append(go_ids[i])\n",
    "            go2.append(go_ids[j])\n",
    "    df = pd.DataFrame({'goid1': go1,'goid2': go2},columns = ['goid1', 'goid2'])\n",
    "    indexes = np.linspace(0,df.shape[0], num_cores + 1) // 1\n",
    "    indexes[-1] =  df.shape[0]    \n",
    "    for i in range(0, num_cores):\n",
    "        dfi = df.iloc[int(indexes[i]):int(indexes[i+1]),:]\n",
    "        dfi.to_csv(f\"./Temp/{dataset_name}/{namespace}/go_ids{i}.txt\",sep=\" \",index=None,header=None)\n",
    "        \n",
    "    # now run GOGO in multiprocessing\n",
    "    if __name__ == '__main__':        \n",
    "        pool = mp.Pool(num_cores)        \n",
    "        pool.map(partial(runGOGO, namespace=namespace), range(0,num_cores))              \n",
    "    \n",
    "    clear_output()"
   ]
  },
  {
   "cell_type": "code",
   "execution_count": 36,
   "metadata": {
    "ExecuteTime": {
     "end_time": "2021-11-13T08:32:41.245822Z",
     "start_time": "2021-11-13T08:32:41.239235Z"
    },
    "hidden": true
   },
   "outputs": [],
   "source": [
    "def add_to_matrix(df, go_ids):      \n",
    "    matrix = np.zeros((len(go_ids),len(go_ids)),dtype=float)\n",
    "    for index, row in tqdm(df.iterrows(),total=df.shape[0]):       \n",
    "        i = np.where(go_ids == row['goid1'])[0]\n",
    "        j = np.where(go_ids == row['goid2'])[0]\n",
    "        matrix[i,j] = row['score']\n",
    "        matrix[j,i] = row['score']\n",
    "    return matrix"
   ]
  },
  {
   "cell_type": "code",
   "execution_count": 37,
   "metadata": {
    "ExecuteTime": {
     "end_time": "2021-11-13T08:32:42.122052Z",
     "start_time": "2021-11-13T08:32:42.103132Z"
    },
    "hidden": true
   },
   "outputs": [],
   "source": [
    "def Step2(namespace):              \n",
    "    dfs = []\n",
    "    for i in range(0,num_cores):\n",
    "        with open(f\"./Temp/{dataset_name}/{namespace}/go_ids_scores{i}\",\"r\") as f:\n",
    "            text = f.read()\n",
    "            lines = [l for l in text.split(\"\\n\") if len(l) > 0 and l[-24:] != \"not_in_the_same_ontology\"]\n",
    "            df = pd.read_csv(StringIO('\\n'.join(lines)), sep=\" \", header=None)\n",
    "            df.columns = ['goid1', 'goid2', 'namespace', 'score']\n",
    "            dfs.append(df)\n",
    "    print('*****')\n",
    "    go_ids = go[go[\"Namespace\"] == namespace]['go_id'].unique()                           \n",
    "    if __name__ == '__main__':   \n",
    "        matrix = np.zeros((len(go_ids),len(go_ids)),dtype=float)\n",
    "        pool = mp.Pool(num_cores)        \n",
    "        for m in pool.map(partial(add_to_matrix, go_ids=go_ids), dfs):                \n",
    "            matrix += m         \n",
    "    with open(f\"./Temp/{dataset_name}/{namespace}.pkl\", \"wb\") as file:\n",
    "        pickle.dump(matrix, file)        \n",
    "    shutil.rmtree(f\"./Temp/{dataset_name}/{namespace}/\")    \n",
    "    clear_output()"
   ]
  },
  {
   "cell_type": "markdown",
   "metadata": {
    "heading_collapsed": true,
    "hidden": true
   },
   "source": [
    "### biological process"
   ]
  },
  {
   "cell_type": "code",
   "execution_count": null,
   "metadata": {
    "ExecuteTime": {
     "end_time": "2021-11-13T08:41:09.135879Z",
     "start_time": "2021-11-13T08:32:47.684331Z"
    },
    "hidden": true
   },
   "outputs": [],
   "source": [
    "Step1(\"biological_process\")"
   ]
  },
  {
   "cell_type": "code",
   "execution_count": 24,
   "metadata": {
    "ExecuteTime": {
     "end_time": "2021-11-13T08:54:07.167692Z",
     "start_time": "2021-11-13T08:41:09.140431Z"
    },
    "hidden": true
   },
   "outputs": [],
   "source": [
    "Step2(\"biological_process\")"
   ]
  },
  {
   "cell_type": "markdown",
   "metadata": {
    "heading_collapsed": true,
    "hidden": true
   },
   "source": [
    "### cellular component"
   ]
  },
  {
   "cell_type": "code",
   "execution_count": 25,
   "metadata": {
    "ExecuteTime": {
     "end_time": "2021-11-13T08:54:28.493602Z",
     "start_time": "2021-11-13T08:54:07.207773Z"
    },
    "hidden": true
   },
   "outputs": [],
   "source": [
    "Step1(\"cellular_component\")"
   ]
  },
  {
   "cell_type": "code",
   "execution_count": 26,
   "metadata": {
    "ExecuteTime": {
     "end_time": "2021-11-13T08:54:44.134155Z",
     "start_time": "2021-11-13T08:54:28.498174Z"
    },
    "hidden": true
   },
   "outputs": [],
   "source": [
    "Step2(\"cellular_component\")"
   ]
  },
  {
   "cell_type": "markdown",
   "metadata": {
    "heading_collapsed": true,
    "hidden": true
   },
   "source": [
    "### molecular function"
   ]
  },
  {
   "cell_type": "code",
   "execution_count": 27,
   "metadata": {
    "ExecuteTime": {
     "end_time": "2021-11-13T08:56:51.032445Z",
     "start_time": "2021-11-13T08:54:44.137994Z"
    },
    "hidden": true
   },
   "outputs": [],
   "source": [
    "Step1(\"molecular_function\")"
   ]
  },
  {
   "cell_type": "code",
   "execution_count": 28,
   "metadata": {
    "ExecuteTime": {
     "end_time": "2021-11-13T09:03:42.704508Z",
     "start_time": "2021-11-13T08:56:51.036794Z"
    },
    "hidden": true
   },
   "outputs": [],
   "source": [
    "Step2(\"molecular_function\")"
   ]
  },
  {
   "cell_type": "markdown",
   "metadata": {},
   "source": [
    "## Load data"
   ]
  },
  {
   "cell_type": "code",
   "execution_count": 15,
   "metadata": {
    "ExecuteTime": {
     "end_time": "2021-11-18T10:03:58.802283Z",
     "start_time": "2021-11-18T10:03:58.782268Z"
    }
   },
   "outputs": [
    {
     "name": "stdout",
     "output_type": "stream",
     "text": [
      "(21797, 4)\n",
      "1145\n"
     ]
    }
   ],
   "source": [
    "unlabelled = contigs[~contigs['#anonymous_gsa_id'].isin(base['#anonymous_gsa_id'])]\n",
    "unlabelled = unlabelled[unlabelled['contig_length']>=1000]\n",
    "number_of_bins = base['bin_id'].max() \n",
    "print(unlabelled.shape)\n",
    "print(number_of_bins)"
   ]
  },
  {
   "cell_type": "code",
   "execution_count": 16,
   "metadata": {
    "ExecuteTime": {
     "end_time": "2021-11-18T10:03:59.741303Z",
     "start_time": "2021-11-18T10:03:59.538498Z"
    }
   },
   "outputs": [],
   "source": [
    "unlabelled = unlabelled[unlabelled['#anonymous_gsa_id'].isin(go['#Gene'])]"
   ]
  },
  {
   "cell_type": "code",
   "execution_count": 17,
   "metadata": {
    "ExecuteTime": {
     "end_time": "2021-11-18T10:04:05.467024Z",
     "start_time": "2021-11-18T10:04:01.133562Z"
    }
   },
   "outputs": [],
   "source": [
    "# biological_process\n",
    "with open(f\"./Temp/{dataset_name}/biological_process.pkl\", \"rb\") as file:\n",
    "    bp_matrix = pickle.load(file)\n",
    "    bp_go_ids = go[go[\"Namespace\"] == 'biological_process']['TM'].unique()     \n",
    "    bp_bins = np.zeros((len(bp_go_ids), number_of_bins), dtype=int)\n",
    "\n",
    "# cellular_component\n",
    "with open(f\"./Temp/{dataset_name}/cellular_component.pkl\", \"rb\") as file:\n",
    "    cc_matrix = pickle.load(file)\n",
    "    cc_go_ids = go[go[\"Namespace\"] == 'cellular_component']['TM'].unique()                           \n",
    "    cc_bins = np.zeros((len(cc_go_ids), number_of_bins), dtype=int)                \n",
    "\n",
    "# molecular_function\n",
    "with open(f\"./Temp/{dataset_name}/molecular_function.pkl\", \"rb\") as file:\n",
    "    mf_matrix = pickle.load(file)\n",
    "    mf_go_ids = go[go[\"Namespace\"] == 'molecular_function']['TM'].unique()\n",
    "    mf_bins = np.zeros((len(mf_go_ids), number_of_bins), dtype=int)                "
   ]
  },
  {
   "cell_type": "code",
   "execution_count": 19,
   "metadata": {
    "ExecuteTime": {
     "end_time": "2021-11-18T10:06:15.054194Z",
     "start_time": "2021-11-18T10:05:15.783508Z"
    }
   },
   "outputs": [
    {
     "name": "stderr",
     "output_type": "stream",
     "text": [
      "<ipython-input-19-8e5bcf55ab80>:25: TqdmWarning: Iterable length 1145 > 1000 but `chunksize` is not set. This may seriously degrade multiprocess performance. Set `chunksize=1` or more.\n",
      "  for i, bp, cc, mf in process_map(add_to_bin_matrix, range(0, number_of_bins), tqdm_class=tqdm, max_workers=num_cores):\n"
     ]
    },
    {
     "data": {
      "application/vnd.jupyter.widget-view+json": {
       "model_id": "2fcc1bfe07d04ff4ae6d6a43cea05506",
       "version_major": 2,
       "version_minor": 0
      },
      "text/plain": [
       "  0%|          | 0/1145 [00:00<?, ?it/s]"
      ]
     },
     "metadata": {},
     "output_type": "display_data"
    }
   ],
   "source": [
    "def add_to_bin_matrix(i):\n",
    "    basei = base[base['bin_id']==(i+1)]['#anonymous_gsa_id']\n",
    "    df = go[go['#Gene'].isin(basei)]\n",
    "    \n",
    "    # biological_process\n",
    "    bp = np.zeros(len(bp_go_ids), dtype=int)\n",
    "    freq =  df[df['Namespace'] == 'biological_process']['TM'].value_counts()                        \n",
    "    for index in freq.index:        \n",
    "        bp[np.where(bp_go_ids == index)[0]] += freq[index]   \n",
    "        \n",
    "    # cellular_component\n",
    "    cc = np.zeros(len(cc_go_ids), dtype=int)                    \n",
    "    freq =  df[df['Namespace'] == 'cellular_component']['TM'].value_counts()                        \n",
    "    for index in freq.index:        \n",
    "        cc[np.where(cc_go_ids == index)[0]] += freq[index]   \n",
    "    \n",
    "    # molecular_function\n",
    "    mf = np.zeros(len(mf_go_ids), dtype=int)                   \n",
    "    freq =  df[df['Namespace'] == 'molecular_function']['TM'].value_counts()                        \n",
    "    for index in freq.index:        \n",
    "        mf[np.where(mf_go_ids == index)[0]] += freq[index]\n",
    "    return [i, bp, cc, mf]\n",
    "\n",
    "if __name__ == '__main__':        \n",
    "    for i, bp, cc, mf in process_map(add_to_bin_matrix, range(0, number_of_bins), tqdm_class=tqdm, max_workers=num_cores):\n",
    "        bp_bins[:, i] = bp\n",
    "        cc_bins[:, i] = cc\n",
    "        mf_bins[:, i] = mf"
   ]
  },
  {
   "cell_type": "code",
   "execution_count": 20,
   "metadata": {
    "ExecuteTime": {
     "end_time": "2021-11-18T10:08:51.489483Z",
     "start_time": "2021-11-18T10:08:51.343307Z"
    }
   },
   "outputs": [],
   "source": [
    "bp_bins_mask = bp_bins.copy()\n",
    "bp_bins_mask[bp_bins_mask != 0] = 1\n",
    "cc_bins_mask = cc_bins.copy()\n",
    "cc_bins_mask[cc_bins_mask != 0] = 1\n",
    "mf_bins_mask = mf_bins.copy()\n",
    "mf_bins_mask[mf_bins_mask != 0] = 1"
   ]
  },
  {
   "cell_type": "code",
   "execution_count": 21,
   "metadata": {
    "ExecuteTime": {
     "end_time": "2021-11-18T10:08:59.480529Z",
     "start_time": "2021-11-18T10:08:58.830714Z"
    }
   },
   "outputs": [],
   "source": [
    "# bin_portion per number of contigs\n",
    "bin_portion = np.zeros(number_of_bins, dtype=int)\n",
    "for i in range(0, number_of_bins):\n",
    "    df = base[base['bin_id']==(i+1)]\n",
    "    bin_portion[i] = df.shape[0]    "
   ]
  },
  {
   "cell_type": "code",
   "execution_count": 23,
   "metadata": {
    "ExecuteTime": {
     "end_time": "2021-11-18T10:09:23.585906Z",
     "start_time": "2021-11-18T10:09:19.222187Z"
    }
   },
   "outputs": [],
   "source": [
    "# bin_portion per number of base pair\n",
    "bin_portion_base_pair = np.zeros(number_of_bins, dtype=int)\n",
    "for i in range(0, number_of_bins):\n",
    "    basei = base[base['bin_id']==(i+1)]['#anonymous_gsa_id']\n",
    "    bin_portion_base_pair[i] = contigs['contig_length'][contigs['#anonymous_gsa_id'].isin(basei)].sum()"
   ]
  },
  {
   "cell_type": "markdown",
   "metadata": {},
   "source": [
    "## Main loop"
   ]
  },
  {
   "cell_type": "code",
   "execution_count": 24,
   "metadata": {
    "ExecuteTime": {
     "end_time": "2021-11-18T10:09:25.265205Z",
     "start_time": "2021-11-18T10:09:23.589637Z"
    }
   },
   "outputs": [],
   "source": [
    "thresh = 0.5\n",
    "#bp\n",
    "tbp_matrix =  bp_matrix.copy()\n",
    "tbp_matrix[tbp_matrix < thresh] = 0\n",
    "bp_result = np.matmul(tbp_matrix, bp_bins_mask)\n",
    "bp_result = bp_result / bp_bins_mask.sum(axis=0)\n",
    "# cc\n",
    "tcc_matrix =  cc_matrix.copy()\n",
    "tcc_matrix[tcc_matrix < thresh] = 0\n",
    "cc_result = np.matmul(tcc_matrix, cc_bins_mask)\n",
    "cc_result = cc_result / cc_bins_mask.sum(axis=0)\n",
    "# mf\n",
    "tmf_matrix =  mf_matrix.copy()\n",
    "tmf_matrix[tmf_matrix < thresh] = 0\n",
    "mf_result = np.matmul(tmf_matrix, mf_bins_mask)\n",
    "mf_result = mf_result / mf_bins_mask.sum(axis=0)"
   ]
  },
  {
   "cell_type": "code",
   "execution_count": 25,
   "metadata": {
    "ExecuteTime": {
     "end_time": "2021-11-18T10:10:09.786602Z",
     "start_time": "2021-11-18T10:09:25.270869Z"
    }
   },
   "outputs": [
    {
     "data": {
      "application/vnd.jupyter.widget-view+json": {
       "model_id": "47dcef4acef14599aa3875a2941e327a",
       "version_major": 2,
       "version_minor": 0
      },
      "text/plain": [
       "  0%|          | 0/1093733 [00:00<?, ?it/s]"
      ]
     },
     "metadata": {},
     "output_type": "display_data"
    }
   ],
   "source": [
    "contig_indexes = {}\n",
    "df = pd.merge(unlabelled, go, how='inner', left_on = '#anonymous_gsa_id', right_on = '#Gene')\n",
    "df.head()\n",
    "def add(row):\n",
    "    cnt = row['#anonymous_gsa_id']\n",
    "    if(cnt not in contig_indexes):\n",
    "        contig_indexes[cnt] = []\n",
    "    contig_indexes[cnt].append(row.name)\n",
    "df.progress_apply(lambda x: add(x), axis=1);"
   ]
  },
  {
   "cell_type": "code",
   "execution_count": 58,
   "metadata": {
    "ExecuteTime": {
     "end_time": "2021-11-18T10:19:09.477632Z",
     "start_time": "2021-11-18T10:19:09.464979Z"
    }
   },
   "outputs": [],
   "source": [
    "alpha = 0.5  # BP\n",
    "beta  = 0.1  # CC\n",
    "def pred(cnt):                                \n",
    "    coeff = 0        \n",
    "    indexs = contig_indexes[cnt]\n",
    "    goids_tm = df.loc[indexs, 'TM']  \n",
    "    namespace = df.loc[indexs, 'Namespace']    \n",
    "    result = np.zeros((goids_tm.shape[0], number_of_bins))      \n",
    "    counter = 0\n",
    "    for i in range(len(indexs)): \n",
    "        ii = indexs[i]\n",
    "        name = namespace[ii]\n",
    "        if(name == 'biological_process'):\n",
    "            _i = np.where(bp_go_ids == goids_tm[ii])[0] \n",
    "            result[i,:] = bp_result[_i,:] * alpha\n",
    "            counter += alpha\n",
    "        if(name == 'cellular_component'):\n",
    "            _i = np.where(cc_go_ids == goids_tm[ii])[0]\n",
    "            result[i,:] = cc_result[_i,:] * beta\n",
    "            counter += beta\n",
    "        if(name == 'molecular_function'):\n",
    "            _i = np.where(mf_go_ids == goids_tm[ii])[0]\n",
    "            result[i,:] = mf_result[_i,:] * (1 -(alpha + beta))\n",
    "            counter += (1 -(alpha + beta))    \n",
    "    score = sum(result) / coeff if coeff != 0 else sum(result) * 0                \n",
    "    score = result.max(axis=0)\n",
    "    index = np.where(score == max(score))[0][0]                \n",
    "    return index, max(score), cnt    \n",
    "\n",
    "#pred(\"RH|P|C32375\")"
   ]
  },
  {
   "cell_type": "code",
   "execution_count": 59,
   "metadata": {
    "ExecuteTime": {
     "end_time": "2021-11-18T10:19:40.464024Z",
     "start_time": "2021-11-18T10:19:12.836310Z"
    },
    "scrolled": true
   },
   "outputs": [
    {
     "data": {
      "application/vnd.jupyter.widget-view+json": {
       "model_id": "9341c320105c4bc99c277e39fd2de5ad",
       "version_major": 2,
       "version_minor": 0
      },
      "text/plain": [
       "  0%|          | 0/18038 [00:00<?, ?it/s]"
      ]
     },
     "metadata": {},
     "output_type": "display_data"
    }
   ],
   "source": [
    "predicts = process_map(pred, unlabelled['#anonymous_gsa_id'], tqdm_class=tqdm, max_workers=num_cores, chunksize=5)"
   ]
  },
  {
   "cell_type": "code",
   "execution_count": 71,
   "metadata": {
    "ExecuteTime": {
     "end_time": "2021-11-18T10:23:53.602644Z",
     "start_time": "2021-11-18T10:23:53.477606Z"
    }
   },
   "outputs": [
    {
     "data": {
      "text/plain": [
       "[(695, 0.10273737373737372, 'RH|P|C2'),\n",
       " (392, 0.014285714285714285, 'RH|P|C3'),\n",
       " (621, 0.01989677419354839, 'RH|P|C4'),\n",
       " (621, 0.0623409090909091, 'RH|P|C5'),\n",
       " (695, 0.10273737373737372, 'RH|P|C9'),\n",
       " (621, 0.058787096774193554, 'RH|P|C11'),\n",
       " (621, 0.08827272727272727, 'RH|P|C15'),\n",
       " (471, 0.029428571428571432, 'RH|P|C16'),\n",
       " (621, 0.058787096774193554, 'RH|P|C19'),\n",
       " (392, 0.01382857142857143, 'RH|P|C21'),\n",
       " (876, 0.024464739884393065, 'RH|P|C22'),\n",
       " (621, 0.058787096774193554, 'RH|P|C23'),\n",
       " (621, 0.058787096774193554, 'RH|P|C24'),\n",
       " (392, 0.05806530612244899, 'RH|P|C26'),\n",
       " (34, 0.059315, 'RH|P|C28'),\n",
       " (621, 0.07531818181818183, 'RH|P|C30'),\n",
       " (621, 0.08827272727272727, 'RH|P|C31'),\n",
       " (621, 0.058787096774193554, 'RH|P|C32'),\n",
       " (621, 0.058787096774193554, 'RH|P|C33'),\n",
       " (621, 0.07531818181818183, 'RH|P|C35'),\n",
       " (11, 0.02657317073170732, 'RH|P|C42'),\n",
       " (621, 0.058787096774193554, 'RH|P|C50'),\n",
       " (392, 0.026083333333333333, 'RH|P|C54'),\n",
       " (621, 0.058787096774193554, 'RH|P|C55'),\n",
       " (621, 0.04022727272727273, 'RH|P|C59'),\n",
       " (178, 0.05662805429864254, 'RH|P|C63'),\n",
       " (621, 0.058787096774193554, 'RH|P|C69'),\n",
       " (621, 0.0623409090909091, 'RH|P|C73'),\n",
       " (621, 0.08827272727272727, 'RH|P|C75'),\n",
       " (695, 0.04591666666666667, 'RH|P|C78'),\n",
       " (621, 0.08827272727272727, 'RH|P|C79'),\n",
       " (621, 0.058787096774193554, 'RH|P|C82'),\n",
       " (621, 0.021096774193548388, 'RH|P|C83'),\n",
       " (621, 0.08827272727272727, 'RH|P|C86'),\n",
       " (621, 0.058787096774193554, 'RH|P|C91'),\n",
       " (621, 0.058787096774193554, 'RH|P|C95'),\n",
       " (621, 0.07531818181818183, 'RH|P|C96'),\n",
       " (695, 0.10273737373737372, 'RH|P|C98'),\n",
       " (621, 0.08827272727272727, 'RH|P|C105'),\n",
       " (392, 0.05806530612244899, 'RH|P|C106'),\n",
       " (392, 0.05806530612244899, 'RH|P|C111'),\n",
       " (860, 0.04584146341463414, 'RH|P|C115'),\n",
       " (621, 0.0623409090909091, 'RH|P|C121'),\n",
       " (621, 0.058787096774193554, 'RH|P|C123'),\n",
       " (34, 0.059315, 'RH|P|C124'),\n",
       " (621, 0.058787096774193554, 'RH|P|C125'),\n",
       " (621, 0.08827272727272727, 'RH|P|C126'),\n",
       " (621, 0.058787096774193554, 'RH|P|C132'),\n",
       " (178, 0.05662805429864254, 'RH|P|C133'),\n",
       " (34, 0.059315, 'RH|P|C134'),\n",
       " (621, 0.022727272727272728, 'RH|P|C135'),\n",
       " (178, 0.05662805429864254, 'RH|P|C139'),\n",
       " (621, 0.058787096774193554, 'RH|P|C140'),\n",
       " (621, 0.08827272727272727, 'RH|P|C141'),\n",
       " (220, 0.023977464788732396, 'RH|P|C142'),\n",
       " (621, 0.058787096774193554, 'RH|P|C143'),\n",
       " (178, 0.05662805429864254, 'RH|P|C145'),\n",
       " (621, 0.058787096774193554, 'RH|P|C147'),\n",
       " (621, 0.058787096774193554, 'RH|P|C155'),\n",
       " (178, 0.05662805429864254, 'RH|P|C156'),\n",
       " (621, 0.058787096774193554, 'RH|P|C158'),\n",
       " (695, 0.10273737373737372, 'RH|P|C159'),\n",
       " (621, 0.058787096774193554, 'RH|P|C161'),\n",
       " (621, 0.058787096774193554, 'RH|P|C164'),\n",
       " (178, 0.05662805429864254, 'RH|P|C165'),\n",
       " (13, 0.03003174603174603, 'RH|P|C173'),\n",
       " (860, 0.023329268292682927, 'RH|P|C174'),\n",
       " (911, 0.023766666666666672, 'RH|P|C176'),\n",
       " (621, 0.058787096774193554, 'RH|P|C178'),\n",
       " (194, 0.023027777777777775, 'RH|P|C180'),\n",
       " (621, 0.058787096774193554, 'RH|P|C182'),\n",
       " (770, 0.025992982456140352, 'RH|P|C184'),\n",
       " (695, 0.04927272727272728, 'RH|P|C189'),\n",
       " (876, 0.024464739884393065, 'RH|P|C190'),\n",
       " (392, 0.05806530612244899, 'RH|P|C194'),\n",
       " (1133, 0.02339175257731959, 'RH|P|C198'),\n",
       " (621, 0.058787096774193554, 'RH|P|C199'),\n",
       " (178, 0.05662805429864254, 'RH|P|C200'),\n",
       " (621, 0.07531818181818183, 'RH|P|C201'),\n",
       " (392, 0.05806530612244899, 'RH|P|C208'),\n",
       " (13, 0.03378571428571429, 'RH|P|C210'),\n",
       " (960, 0.029363095238095244, 'RH|P|C211'),\n",
       " (621, 0.01989677419354839, 'RH|P|C212'),\n",
       " (392, 0.05806530612244899, 'RH|P|C216'),\n",
       " (621, 0.058787096774193554, 'RH|P|C217'),\n",
       " (621, 0.0623409090909091, 'RH|P|C219'),\n",
       " (178, 0.05662805429864254, 'RH|P|C220'),\n",
       " (621, 0.058787096774193554, 'RH|P|C221'),\n",
       " (621, 0.07531818181818183, 'RH|P|C222'),\n",
       " (621, 0.058787096774193554, 'RH|P|C224'),\n",
       " (392, 0.05806530612244899, 'RH|P|C228'),\n",
       " (621, 0.058787096774193554, 'RH|P|C229'),\n",
       " (621, 0.07531818181818183, 'RH|P|C231'),\n",
       " (621, 0.022727272727272728, 'RH|P|C232'),\n",
       " (178, 0.05662805429864254, 'RH|P|C240'),\n",
       " (34, 0.058540000000000016, 'RH|P|C242'),\n",
       " (621, 0.058787096774193554, 'RH|P|C247'),\n",
       " (621, 0.058787096774193554, 'RH|P|C250'),\n",
       " (621, 0.07531818181818183, 'RH|P|C253'),\n",
       " (34, 0.059315, 'RH|P|C255'),\n",
       " (392, 0.026083333333333333, 'RH|P|C259'),\n",
       " (860, 0.02491304347826087, 'RH|P|C263'),\n",
       " (621, 0.058787096774193554, 'RH|P|C264'),\n",
       " (621, 0.07531818181818183, 'RH|P|C269'),\n",
       " (178, 0.05662805429864254, 'RH|P|C270'),\n",
       " (178, 0.05662805429864254, 'RH|P|C272'),\n",
       " (392, 0.026083333333333333, 'RH|P|C273'),\n",
       " (621, 0.058787096774193554, 'RH|P|C275'),\n",
       " (621, 0.058787096774193554, 'RH|P|C278'),\n",
       " (621, 0.07531818181818183, 'RH|P|C279'),\n",
       " (621, 0.058787096774193554, 'RH|P|C281'),\n",
       " (34, 0.05219000000000001, 'RH|P|C282'),\n",
       " (471, 0.029428571428571432, 'RH|P|C286'),\n",
       " (194, 0.023027777777777775, 'RH|P|C287'),\n",
       " (621, 0.07531818181818183, 'RH|P|C288'),\n",
       " (621, 0.036012903225806456, 'RH|P|C290'),\n",
       " (34, 0.059315, 'RH|P|C292'),\n",
       " (178, 0.05662805429864254, 'RH|P|C293'),\n",
       " (621, 0.0623409090909091, 'RH|P|C294'),\n",
       " (621, 0.0623409090909091, 'RH|P|C295'),\n",
       " (621, 0.058787096774193554, 'RH|P|C297'),\n",
       " (621, 0.058787096774193554, 'RH|P|C299'),\n",
       " (34, 0.059315, 'RH|P|C304'),\n",
       " (621, 0.058787096774193554, 'RH|P|C307'),\n",
       " (695, 0.10273737373737372, 'RH|P|C310'),\n",
       " (1070, 0.024438461538461537, 'RH|P|C312'),\n",
       " (621, 0.058787096774193554, 'RH|P|C313'),\n",
       " (621, 0.07531818181818183, 'RH|P|C315'),\n",
       " (220, 0.020540000000000003, 'RH|P|C317'),\n",
       " (621, 0.07531818181818183, 'RH|P|C321'),\n",
       " (621, 0.058787096774193554, 'RH|P|C322'),\n",
       " (392, 0.026083333333333333, 'RH|P|C327'),\n",
       " (178, 0.05662805429864254, 'RH|P|C335'),\n",
       " (392, 0.05806530612244899, 'RH|P|C336'),\n",
       " (621, 0.058787096774193554, 'RH|P|C338'),\n",
       " (621, 0.07531818181818183, 'RH|P|C339'),\n",
       " (621, 0.058787096774193554, 'RH|P|C340'),\n",
       " (621, 0.07531818181818183, 'RH|P|C343'),\n",
       " (621, 0.058787096774193554, 'RH|P|C346'),\n",
       " (621, 0.07531818181818183, 'RH|P|C349'),\n",
       " (178, 0.05662805429864254, 'RH|P|C353'),\n",
       " (621, 0.058787096774193554, 'RH|P|C358'),\n",
       " (178, 0.05662805429864254, 'RH|P|C360'),\n",
       " (621, 0.08827272727272727, 'RH|P|C362'),\n",
       " (621, 0.058787096774193554, 'RH|P|C364'),\n",
       " (991, 0.04558421052631579, 'RH|P|C365'),\n",
       " (621, 0.058787096774193554, 'RH|P|C371'),\n",
       " (621, 0.058787096774193554, 'RH|P|C375'),\n",
       " (178, 0.05662805429864254, 'RH|P|C377'),\n",
       " (621, 0.022727272727272728, 'RH|P|C378'),\n",
       " (621, 0.025181818181818184, 'RH|P|C382'),\n",
       " (695, 0.04927272727272728, 'RH|P|C384'),\n",
       " (621, 0.058787096774193554, 'RH|P|C388'),\n",
       " (621, 0.08827272727272727, 'RH|P|C390'),\n",
       " (392, 0.026083333333333333, 'RH|P|C393'),\n",
       " (178, 0.05662805429864254, 'RH|P|C399'),\n",
       " (621, 0.058787096774193554, 'RH|P|C402'),\n",
       " (621, 0.07531818181818183, 'RH|P|C407'),\n",
       " (392, 0.026083333333333333, 'RH|P|C410'),\n",
       " (621, 0.058787096774193554, 'RH|P|C412'),\n",
       " (695, 0.10273737373737372, 'RH|P|C413'),\n",
       " (621, 0.058787096774193554, 'RH|P|C414'),\n",
       " (621, 0.07531818181818183, 'RH|P|C416'),\n",
       " (621, 0.05285161290322581, 'RH|P|C419'),\n",
       " (621, 0.058787096774193554, 'RH|P|C422'),\n",
       " (621, 0.0623409090909091, 'RH|P|C423'),\n",
       " (621, 0.0623409090909091, 'RH|P|C428'),\n",
       " (621, 0.058787096774193554, 'RH|P|C433'),\n",
       " (621, 0.058787096774193554, 'RH|P|C434'),\n",
       " (621, 0.07531818181818183, 'RH|P|C435'),\n",
       " (621, 0.08827272727272727, 'RH|P|C438'),\n",
       " (860, 0.02491304347826087, 'RH|P|C443'),\n",
       " (392, 0.05806530612244899, 'RH|P|C444'),\n",
       " (621, 0.0623409090909091, 'RH|P|C445'),\n",
       " (34, 0.059315, 'RH|P|C456'),\n",
       " (621, 0.058787096774193554, 'RH|P|C458'),\n",
       " (471, 0.029428571428571432, 'RH|P|C463'),\n",
       " (178, 0.05662805429864254, 'RH|P|C464'),\n",
       " (621, 0.08827272727272727, 'RH|P|C465'),\n",
       " (621, 0.04022727272727273, 'RH|P|C466'),\n",
       " (621, 0.058787096774193554, 'RH|P|C468'),\n",
       " (11, 0.02657317073170732, 'RH|P|C470'),\n",
       " (621, 0.022670967741935485, 'RH|P|C471'),\n",
       " (621, 0.058787096774193554, 'RH|P|C476'),\n",
       " (621, 0.08827272727272727, 'RH|P|C483'),\n",
       " (178, 0.05662805429864254, 'RH|P|C486'),\n",
       " (860, 0.020660869565217392, 'RH|P|C487'),\n",
       " (621, 0.08827272727272727, 'RH|P|C488'),\n",
       " (178, 0.05662805429864254, 'RH|P|C490'),\n",
       " (860, 0.02491304347826087, 'RH|P|C492'),\n",
       " (621, 0.058787096774193554, 'RH|P|C493'),\n",
       " (1133, 0.02339175257731959, 'RH|P|C494'),\n",
       " (178, 0.05662805429864254, 'RH|P|C495'),\n",
       " (621, 0.07531818181818183, 'RH|P|C499'),\n",
       " (178, 0.05662805429864254, 'RH|P|C500'),\n",
       " (621, 0.058787096774193554, 'RH|P|C504'),\n",
       " (392, 0.05806530612244899, 'RH|P|C508'),\n",
       " (34, 0.059315, 'RH|P|C510'),\n",
       " (2, 0.026106382978723402, 'RH|P|C515'),\n",
       " (621, 0.07531818181818183, 'RH|P|C516'),\n",
       " (392, 0.05806530612244899, 'RH|P|C517'),\n",
       " (621, 0.07531818181818183, 'RH|P|C518'),\n",
       " (621, 0.07531818181818183, 'RH|P|C520'),\n",
       " (621, 0.058787096774193554, 'RH|P|C521'),\n",
       " (392, 0.05806530612244899, 'RH|P|C522'),\n",
       " (621, 0.058787096774193554, 'RH|P|C523'),\n",
       " (621, 0.07531818181818183, 'RH|P|C526'),\n",
       " (621, 0.058787096774193554, 'RH|P|C530'),\n",
       " (120, 0.039460550458715604, 'RH|P|C533'),\n",
       " (34, 0.059315, 'RH|P|C534'),\n",
       " (392, 0.05806530612244899, 'RH|P|C536'),\n",
       " (621, 0.058787096774193554, 'RH|P|C546'),\n",
       " (860, 0.020660869565217392, 'RH|P|C547'),\n",
       " (621, 0.058787096774193554, 'RH|P|C553'),\n",
       " (860, 0.046146341463414633, 'RH|P|C558'),\n",
       " (621, 0.08827272727272727, 'RH|P|C560'),\n",
       " (621, 0.0623409090909091, 'RH|P|C566'),\n",
       " (621, 0.07531818181818183, 'RH|P|C567'),\n",
       " (392, 0.026083333333333333, 'RH|P|C569'),\n",
       " (621, 0.058787096774193554, 'RH|P|C570'),\n",
       " (621, 0.0623409090909091, 'RH|P|C571'),\n",
       " (621, 0.058787096774193554, 'RH|P|C574'),\n",
       " (621, 0.022727272727272728, 'RH|P|C576'),\n",
       " (392, 0.05806530612244899, 'RH|P|C579'),\n",
       " (621, 0.021096774193548388, 'RH|P|C581'),\n",
       " (621, 0.058787096774193554, 'RH|P|C586'),\n",
       " (178, 0.05662805429864254, 'RH|P|C587'),\n",
       " (392, 0.026083333333333333, 'RH|P|C588'),\n",
       " (178, 0.05662805429864254, 'RH|P|C590'),\n",
       " (695, 0.10273737373737372, 'RH|P|C592'),\n",
       " (392, 0.05806530612244899, 'RH|P|C601'),\n",
       " (792, 0.018275510204081632, 'RH|P|C603'),\n",
       " (621, 0.04022727272727273, 'RH|P|C606'),\n",
       " (621, 0.058787096774193554, 'RH|P|C608'),\n",
       " (621, 0.058787096774193554, 'RH|P|C609'),\n",
       " (621, 0.058787096774193554, 'RH|P|C615'),\n",
       " (621, 0.07531818181818183, 'RH|P|C617'),\n",
       " (621, 0.058787096774193554, 'RH|P|C619'),\n",
       " (471, 0.029428571428571432, 'RH|P|C623'),\n",
       " (395, 0.023126582278481012, 'RH|P|C626'),\n",
       " (621, 0.022727272727272728, 'RH|P|C635'),\n",
       " (621, 0.07531818181818183, 'RH|P|C639'),\n",
       " (621, 0.07531818181818183, 'RH|P|C641'),\n",
       " (621, 0.058787096774193554, 'RH|P|C643'),\n",
       " (34, 0.059315, 'RH|P|C645'),\n",
       " (621, 0.07531818181818183, 'RH|P|C648'),\n",
       " (621, 0.01593548387096774, 'RH|P|C649'),\n",
       " (770, 0.025992982456140352, 'RH|P|C650'),\n",
       " (621, 0.058787096774193554, 'RH|P|C651'),\n",
       " (392, 0.026083333333333333, 'RH|P|C654'),\n",
       " (392, 0.022840816326530615, 'RH|P|C657'),\n",
       " (392, 0.05806530612244899, 'RH|P|C658'),\n",
       " (860, 0.020660869565217392, 'RH|P|C662'),\n",
       " (621, 0.058787096774193554, 'RH|P|C666'),\n",
       " (621, 0.07531818181818183, 'RH|P|C668'),\n",
       " (621, 0.058787096774193554, 'RH|P|C670'),\n",
       " (621, 0.08827272727272727, 'RH|P|C673'),\n",
       " (621, 0.058787096774193554, 'RH|P|C676'),\n",
       " (621, 0.058787096774193554, 'RH|P|C677'),\n",
       " (621, 0.058787096774193554, 'RH|P|C681'),\n",
       " (13, 0.03378571428571429, 'RH|P|C685'),\n",
       " (178, 0.05662805429864254, 'RH|P|C686'),\n",
       " (621, 0.058787096774193554, 'RH|P|C687'),\n",
       " (621, 0.058787096774193554, 'RH|P|C688'),\n",
       " (621, 0.04022727272727273, 'RH|P|C692'),\n",
       " (621, 0.07531818181818183, 'RH|P|C693'),\n",
       " (621, 0.058787096774193554, 'RH|P|C696'),\n",
       " (621, 0.058787096774193554, 'RH|P|C698'),\n",
       " (621, 0.07531818181818183, 'RH|P|C701'),\n",
       " (178, 0.05662805429864254, 'RH|P|C703'),\n",
       " (11, 0.02657317073170732, 'RH|P|C706'),\n",
       " (621, 0.058787096774193554, 'RH|P|C708'),\n",
       " (621, 0.058787096774193554, 'RH|P|C709'),\n",
       " (471, 0.017530158730158733, 'RH|P|C711'),\n",
       " (11, 0.02657317073170732, 'RH|P|C717'),\n",
       " (621, 0.058787096774193554, 'RH|P|C718'),\n",
       " (621, 0.07531818181818183, 'RH|P|C719'),\n",
       " (621, 0.022727272727272728, 'RH|P|C724'),\n",
       " (392, 0.026083333333333333, 'RH|P|C726'),\n",
       " (621, 0.08827272727272727, 'RH|P|C730'),\n",
       " (621, 0.058787096774193554, 'RH|P|C732'),\n",
       " (621, 0.08827272727272727, 'RH|P|C734'),\n",
       " (690, 0.037033333333333335, 'RH|P|C735'),\n",
       " (34, 0.059315, 'RH|P|C741'),\n",
       " (392, 0.026083333333333333, 'RH|P|C742'),\n",
       " (13, 0.02150877192982456, 'RH|P|C744'),\n",
       " (392, 0.05806530612244899, 'RH|P|C745'),\n",
       " (621, 0.07531818181818183, 'RH|P|C746'),\n",
       " (860, 0.020660869565217392, 'RH|P|C747'),\n",
       " (621, 0.058787096774193554, 'RH|P|C754'),\n",
       " (621, 0.08827272727272727, 'RH|P|C760'),\n",
       " (392, 0.05806530612244899, 'RH|P|C762'),\n",
       " (621, 0.058787096774193554, 'RH|P|C765'),\n",
       " (621, 0.058787096774193554, 'RH|P|C766'),\n",
       " (621, 0.07531818181818183, 'RH|P|C775'),\n",
       " (178, 0.05662805429864254, 'RH|P|C776'),\n",
       " (991, 0.04558421052631579, 'RH|P|C777'),\n",
       " (621, 0.0623409090909091, 'RH|P|C778'),\n",
       " (621, 0.07531818181818183, 'RH|P|C779'),\n",
       " (392, 0.05806530612244899, 'RH|P|C781'),\n",
       " (392, 0.014285714285714285, 'RH|P|C784'),\n",
       " (876, 0.024464739884393065, 'RH|P|C787'),\n",
       " (220, 0.020540000000000003, 'RH|P|C788'),\n",
       " (621, 0.04022727272727273, 'RH|P|C789'),\n",
       " (621, 0.07531818181818183, 'RH|P|C792'),\n",
       " (178, 0.05662805429864254, 'RH|P|C796'),\n",
       " (621, 0.04022727272727273, 'RH|P|C797'),\n",
       " (621, 0.058787096774193554, 'RH|P|C800'),\n",
       " (621, 0.07531818181818183, 'RH|P|C803'),\n",
       " (621, 0.058787096774193554, 'RH|P|C807'),\n",
       " (621, 0.058787096774193554, 'RH|P|C808'),\n",
       " (621, 0.07531818181818183, 'RH|P|C810'),\n",
       " (621, 0.08827272727272727, 'RH|P|C812'),\n",
       " (11, 0.02657317073170732, 'RH|P|C817'),\n",
       " (621, 0.058787096774193554, 'RH|P|C820'),\n",
       " (621, 0.0623409090909091, 'RH|P|C827'),\n",
       " (860, 0.020660869565217392, 'RH|P|C831'),\n",
       " (621, 0.07531818181818183, 'RH|P|C832'),\n",
       " (621, 0.058787096774193554, 'RH|P|C833'),\n",
       " (621, 0.058787096774193554, 'RH|P|C834'),\n",
       " (621, 0.07531818181818183, 'RH|P|C838'),\n",
       " (471, 0.029428571428571432, 'RH|P|C840'),\n",
       " (266, 0.020793103448275865, 'RH|P|C841'),\n",
       " (120, 0.039460550458715604, 'RH|P|C842'),\n",
       " (621, 0.058787096774193554, 'RH|P|C846'),\n",
       " (34, 0.05219000000000001, 'RH|P|C847'),\n",
       " (621, 0.0623409090909091, 'RH|P|C851'),\n",
       " (220, 0.032177083333333335, 'RH|P|C852'),\n",
       " (792, 0.028397959183673473, 'RH|P|C854'),\n",
       " (621, 0.058787096774193554, 'RH|P|C855'),\n",
       " (35, 0.02295108695652174, 'RH|P|C858'),\n",
       " (621, 0.018633333333333335, 'RH|P|C859'),\n",
       " (621, 0.07531818181818183, 'RH|P|C861'),\n",
       " (621, 0.08827272727272727, 'RH|P|C863'),\n",
       " (621, 0.04022727272727273, 'RH|P|C865'),\n",
       " (621, 0.022727272727272728, 'RH|P|C866'),\n",
       " (621, 0.058787096774193554, 'RH|P|C868'),\n",
       " (621, 0.08827272727272727, 'RH|P|C869'),\n",
       " (621, 0.04022727272727273, 'RH|P|C871'),\n",
       " (621, 0.058787096774193554, 'RH|P|C873'),\n",
       " (621, 0.058787096774193554, 'RH|P|C874'),\n",
       " (178, 0.05662805429864254, 'RH|P|C875'),\n",
       " (2, 0.026106382978723402, 'RH|P|C878'),\n",
       " (178, 0.05662805429864254, 'RH|P|C885'),\n",
       " (621, 0.0623409090909091, 'RH|P|C889'),\n",
       " (621, 0.058787096774193554, 'RH|P|C892'),\n",
       " (392, 0.014285714285714285, 'RH|P|C893'),\n",
       " (695, 0.10273737373737372, 'RH|P|C894'),\n",
       " (621, 0.07531818181818183, 'RH|P|C896'),\n",
       " (621, 0.07531818181818183, 'RH|P|C899'),\n",
       " (621, 0.058787096774193554, 'RH|P|C903'),\n",
       " (621, 0.058787096774193554, 'RH|P|C904'),\n",
       " (621, 0.07531818181818183, 'RH|P|C913'),\n",
       " (392, 0.05806530612244899, 'RH|P|C919'),\n",
       " (621, 0.0623409090909091, 'RH|P|C920'),\n",
       " (621, 0.08827272727272727, 'RH|P|C922'),\n",
       " (621, 0.022727272727272728, 'RH|P|C925'),\n",
       " (621, 0.058787096774193554, 'RH|P|C926'),\n",
       " (621, 0.07531818181818183, 'RH|P|C928'),\n",
       " (621, 0.07531818181818183, 'RH|P|C933'),\n",
       " (113, 0.020711764705882357, 'RH|P|C934'),\n",
       " (860, 0.11152439024390243, 'RH|P|C935'),\n",
       " (621, 0.08827272727272727, 'RH|P|C937'),\n",
       " (621, 0.0623409090909091, 'RH|P|C940'),\n",
       " (621, 0.08827272727272727, 'RH|P|C941'),\n",
       " (695, 0.10273737373737372, 'RH|P|C942'),\n",
       " (621, 0.0623409090909091, 'RH|P|C943'),\n",
       " (621, 0.058787096774193554, 'RH|P|C944'),\n",
       " (621, 0.08827272727272727, 'RH|P|C946'),\n",
       " (392, 0.05806530612244899, 'RH|P|C947'),\n",
       " (621, 0.058787096774193554, 'RH|P|C950'),\n",
       " (178, 0.05662805429864254, 'RH|P|C953'),\n",
       " (34, 0.059315, 'RH|P|C954'),\n",
       " (695, 0.04591666666666667, 'RH|P|C955'),\n",
       " (621, 0.058787096774193554, 'RH|P|C956'),\n",
       " (911, 0.023766666666666672, 'RH|P|C957'),\n",
       " (621, 0.08827272727272727, 'RH|P|C959'),\n",
       " (392, 0.026083333333333333, 'RH|P|C962'),\n",
       " (621, 0.08827272727272727, 'RH|P|C964'),\n",
       " (621, 0.058787096774193554, 'RH|P|C965'),\n",
       " (960, 0.029363095238095244, 'RH|P|C970'),\n",
       " (621, 0.07531818181818183, 'RH|P|C971'),\n",
       " (621, 0.058787096774193554, 'RH|P|C974'),\n",
       " (194, 0.023027777777777775, 'RH|P|C975'),\n",
       " (621, 0.022727272727272728, 'RH|P|C976'),\n",
       " (621, 0.058787096774193554, 'RH|P|C979'),\n",
       " (621, 0.058787096774193554, 'RH|P|C983'),\n",
       " (621, 0.04022727272727273, 'RH|P|C984'),\n",
       " (621, 0.058787096774193554, 'RH|P|C990'),\n",
       " (194, 0.023348148148148146, 'RH|P|C991'),\n",
       " (621, 0.058787096774193554, 'RH|P|C993'),\n",
       " (621, 0.07531818181818183, 'RH|P|C994'),\n",
       " (2, 0.026106382978723402, 'RH|P|C997'),\n",
       " (621, 0.058787096774193554, 'RH|P|C998'),\n",
       " (621, 0.07531818181818183, 'RH|P|C1001'),\n",
       " (621, 0.058787096774193554, 'RH|P|C1003'),\n",
       " (621, 0.08827272727272727, 'RH|P|C1004'),\n",
       " (621, 0.058787096774193554, 'RH|P|C1006'),\n",
       " (860, 0.02491304347826087, 'RH|P|C1007'),\n",
       " (621, 0.08827272727272727, 'RH|P|C1008'),\n",
       " (392, 0.026083333333333333, 'RH|P|C1011'),\n",
       " (392, 0.026083333333333333, 'RH|P|C1013'),\n",
       " (621, 0.05285161290322581, 'RH|P|C1014'),\n",
       " (392, 0.05806530612244899, 'RH|P|C1015'),\n",
       " (621, 0.058787096774193554, 'RH|P|C1019'),\n",
       " (621, 0.07531818181818183, 'RH|P|C1027'),\n",
       " (860, 0.023936363636363638, 'RH|P|C1028'),\n",
       " (621, 0.058787096774193554, 'RH|P|C1029'),\n",
       " (392, 0.05806530612244899, 'RH|P|C1033'),\n",
       " (860, 0.020660869565217392, 'RH|P|C1035'),\n",
       " (854, 0.008116504854368933, 'RH|P|C1036'),\n",
       " (621, 0.08827272727272727, 'RH|P|C1037'),\n",
       " (621, 0.058787096774193554, 'RH|P|C1038'),\n",
       " (2, 0.03297872340425532, 'RH|P|C1040'),\n",
       " (178, 0.044991855203619924, 'RH|P|C1042'),\n",
       " (621, 0.07531818181818183, 'RH|P|C1047'),\n",
       " (392, 0.05806530612244899, 'RH|P|C1051'),\n",
       " (621, 0.058787096774193554, 'RH|P|C1052'),\n",
       " (392, 0.05806530612244899, 'RH|P|C1053'),\n",
       " (621, 0.058787096774193554, 'RH|P|C1054'),\n",
       " (621, 0.022670967741935485, 'RH|P|C1055'),\n",
       " (621, 0.08827272727272727, 'RH|P|C1057'),\n",
       " (621, 0.058787096774193554, 'RH|P|C1060'),\n",
       " (621, 0.058787096774193554, 'RH|P|C1061'),\n",
       " (621, 0.07531818181818183, 'RH|P|C1062'),\n",
       " (621, 0.058787096774193554, 'RH|P|C1064'),\n",
       " (621, 0.058787096774193554, 'RH|P|C1067'),\n",
       " (392, 0.05806530612244899, 'RH|P|C1068'),\n",
       " (621, 0.058787096774193554, 'RH|P|C1070'),\n",
       " (34, 0.05219000000000001, 'RH|P|C1071'),\n",
       " (392, 0.05806530612244899, 'RH|P|C1074'),\n",
       " (621, 0.07531818181818183, 'RH|P|C1076'),\n",
       " (34, 0.05219000000000001, 'RH|P|C1077'),\n",
       " (621, 0.04022727272727273, 'RH|P|C1079'),\n",
       " (621, 0.058787096774193554, 'RH|P|C1082'),\n",
       " (34, 0.05219000000000001, 'RH|P|C1084'),\n",
       " (392, 0.05806530612244899, 'RH|P|C1086'),\n",
       " (621, 0.08827272727272727, 'RH|P|C1087'),\n",
       " (621, 0.058787096774193554, 'RH|P|C1089'),\n",
       " (392, 0.05806530612244899, 'RH|P|C1090'),\n",
       " (392, 0.05806530612244899, 'RH|P|C1092'),\n",
       " (34, 0.059315, 'RH|P|C1095'),\n",
       " (621, 0.058787096774193554, 'RH|P|C1096'),\n",
       " (957, 0.01826760563380282, 'RH|P|C1100'),\n",
       " (621, 0.058787096774193554, 'RH|P|C1104'),\n",
       " (621, 0.07531818181818183, 'RH|P|C1106'),\n",
       " (621, 0.058787096774193554, 'RH|P|C1108'),\n",
       " (621, 0.058787096774193554, 'RH|P|C1112'),\n",
       " (392, 0.026083333333333333, 'RH|P|C1114'),\n",
       " (860, 0.020660869565217392, 'RH|P|C1115'),\n",
       " (621, 0.0623409090909091, 'RH|P|C1116'),\n",
       " (621, 0.058787096774193554, 'RH|P|C1119'),\n",
       " (876, 0.024464739884393065, 'RH|P|C1120'),\n",
       " (621, 0.07531818181818183, 'RH|P|C1122'),\n",
       " (11, 0.012195121951219513, 'RH|P|C1128'),\n",
       " (621, 0.058787096774193554, 'RH|P|C1134'),\n",
       " (220, 0.020540000000000003, 'RH|P|C1137'),\n",
       " (621, 0.0623409090909091, 'RH|P|C1140'),\n",
       " (860, 0.015012195121951217, 'RH|P|C1144'),\n",
       " (621, 0.05285161290322581, 'RH|P|C1151'),\n",
       " (1133, 0.02339175257731959, 'RH|P|C1152'),\n",
       " (621, 0.07531818181818183, 'RH|P|C1155'),\n",
       " (621, 0.07531818181818183, 'RH|P|C1157'),\n",
       " (34, 0.05219000000000001, 'RH|P|C1162'),\n",
       " (621, 0.07531818181818183, 'RH|P|C1164'),\n",
       " (621, 0.058787096774193554, 'RH|P|C1167'),\n",
       " (621, 0.022670967741935485, 'RH|P|C1172'),\n",
       " (621, 0.058787096774193554, 'RH|P|C1173'),\n",
       " (621, 0.07531818181818183, 'RH|P|C1175'),\n",
       " (392, 0.05806530612244899, 'RH|P|C1177'),\n",
       " (621, 0.058787096774193554, 'RH|P|C1179'),\n",
       " (34, 0.059315, 'RH|P|C1181'),\n",
       " (621, 0.08827272727272727, 'RH|P|C1183'),\n",
       " (392, 0.05806530612244899, 'RH|P|C1188'),\n",
       " (34, 0.059315, 'RH|P|C1191'),\n",
       " (695, 0.04927272727272728, 'RH|P|C1192'),\n",
       " (621, 0.058787096774193554, 'RH|P|C1193'),\n",
       " (34, 0.05219000000000001, 'RH|P|C1194'),\n",
       " (621, 0.058787096774193554, 'RH|P|C1199'),\n",
       " (621, 0.058787096774193554, 'RH|P|C1205'),\n",
       " (392, 0.05806530612244899, 'RH|P|C1206'),\n",
       " (392, 0.026083333333333333, 'RH|P|C1207'),\n",
       " (621, 0.058787096774193554, 'RH|P|C1208'),\n",
       " (34, 0.029511904761904764, 'RH|P|C1210'),\n",
       " (621, 0.058787096774193554, 'RH|P|C1214'),\n",
       " (621, 0.022670967741935485, 'RH|P|C1219'),\n",
       " (178, 0.05662805429864254, 'RH|P|C1221'),\n",
       " (621, 0.058787096774193554, 'RH|P|C1227'),\n",
       " (621, 0.058787096774193554, 'RH|P|C1230'),\n",
       " (621, 0.058787096774193554, 'RH|P|C1233'),\n",
       " (991, 0.012072164948453609, 'RH|P|C1236'),\n",
       " (34, 0.059315, 'RH|P|C1237'),\n",
       " (621, 0.022727272727272728, 'RH|P|C1238'),\n",
       " (770, 0.025992982456140352, 'RH|P|C1239'),\n",
       " (621, 0.058787096774193554, 'RH|P|C1241'),\n",
       " (621, 0.058787096774193554, 'RH|P|C1247'),\n",
       " (621, 0.036012903225806456, 'RH|P|C1251'),\n",
       " (621, 0.058787096774193554, 'RH|P|C1252'),\n",
       " (178, 0.05662805429864254, 'RH|P|C1254'),\n",
       " (1070, 0.024438461538461537, 'RH|P|C1255'),\n",
       " (860, 0.02491304347826087, 'RH|P|C1257'),\n",
       " (621, 0.07531818181818183, 'RH|P|C1260'),\n",
       " (34, 0.059315, 'RH|P|C1262'),\n",
       " (621, 0.058787096774193554, 'RH|P|C1265'),\n",
       " (1144, 0.019513402061855672, 'RH|P|C1267'),\n",
       " (621, 0.058787096774193554, 'RH|P|C1268'),\n",
       " (621, 0.058787096774193554, 'RH|P|C1271'),\n",
       " (621, 0.07531818181818183, 'RH|P|C1275'),\n",
       " (34, 0.010671428571428573, 'RH|P|C1276'),\n",
       " (621, 0.058787096774193554, 'RH|P|C1283'),\n",
       " (860, 0.02491304347826087, 'RH|P|C1287'),\n",
       " (621, 0.058787096774193554, 'RH|P|C1288'),\n",
       " (860, 0.04584146341463414, 'RH|P|C1289'),\n",
       " (621, 0.058787096774193554, 'RH|P|C1291'),\n",
       " (621, 0.07531818181818183, 'RH|P|C1296'),\n",
       " (621, 0.058787096774193554, 'RH|P|C1302'),\n",
       " (621, 0.058787096774193554, 'RH|P|C1303'),\n",
       " (392, 0.026083333333333333, 'RH|P|C1305'),\n",
       " (392, 0.05806530612244899, 'RH|P|C1306'),\n",
       " (621, 0.058787096774193554, 'RH|P|C1309'),\n",
       " (392, 0.05806530612244899, 'RH|P|C1313'),\n",
       " (178, 0.05662805429864254, 'RH|P|C1314'),\n",
       " (621, 0.08827272727272727, 'RH|P|C1315'),\n",
       " (621, 0.08827272727272727, 'RH|P|C1317'),\n",
       " (178, 0.05662805429864254, 'RH|P|C1318'),\n",
       " (392, 0.05806530612244899, 'RH|P|C1329'),\n",
       " (621, 0.058787096774193554, 'RH|P|C1334'),\n",
       " (621, 0.058787096774193554, 'RH|P|C1335'),\n",
       " (392, 0.027142857142857142, 'RH|P|C1336'),\n",
       " (860, 0.02491304347826087, 'RH|P|C1337'),\n",
       " (621, 0.058787096774193554, 'RH|P|C1343'),\n",
       " (621, 0.08827272727272727, 'RH|P|C1344'),\n",
       " (392, 0.05806530612244899, 'RH|P|C1350'),\n",
       " (178, 0.05662805429864254, 'RH|P|C1353'),\n",
       " (621, 0.058787096774193554, 'RH|P|C1354'),\n",
       " (621, 0.07531818181818183, 'RH|P|C1356'),\n",
       " (621, 0.058787096774193554, 'RH|P|C1359'),\n",
       " (621, 0.058787096774193554, 'RH|P|C1360'),\n",
       " (178, 0.05662805429864254, 'RH|P|C1361'),\n",
       " (392, 0.026083333333333333, 'RH|P|C1362'),\n",
       " (178, 0.05662805429864254, 'RH|P|C1363'),\n",
       " (392, 0.05806530612244899, 'RH|P|C1368'),\n",
       " (621, 0.0375, 'RH|P|C1369'),\n",
       " (621, 0.07531818181818183, 'RH|P|C1371'),\n",
       " (621, 0.07531818181818183, 'RH|P|C1372'),\n",
       " (621, 0.07531818181818183, 'RH|P|C1373'),\n",
       " (621, 0.058787096774193554, 'RH|P|C1375'),\n",
       " (11, 0.02657317073170732, 'RH|P|C1376'),\n",
       " (621, 0.058787096774193554, 'RH|P|C1377'),\n",
       " (621, 0.058787096774193554, 'RH|P|C1380'),\n",
       " (621, 0.07531818181818183, 'RH|P|C1381'),\n",
       " (621, 0.058787096774193554, 'RH|P|C1382'),\n",
       " (621, 0.058787096774193554, 'RH|P|C1383'),\n",
       " (178, 0.05662805429864254, 'RH|P|C1384'),\n",
       " (621, 0.05285161290322581, 'RH|P|C1387'),\n",
       " (621, 0.0623409090909091, 'RH|P|C1393'),\n",
       " (392, 0.026083333333333333, 'RH|P|C1396'),\n",
       " (621, 0.058787096774193554, 'RH|P|C1398'),\n",
       " (621, 0.022727272727272728, 'RH|P|C1399'),\n",
       " (392, 0.05806530612244899, 'RH|P|C1400'),\n",
       " (621, 0.08827272727272727, 'RH|P|C1407'),\n",
       " (621, 0.07531818181818183, 'RH|P|C1408'),\n",
       " (621, 0.07531818181818183, 'RH|P|C1409'),\n",
       " (621, 0.058787096774193554, 'RH|P|C1413'),\n",
       " (621, 0.058787096774193554, 'RH|P|C1415'),\n",
       " (621, 0.04022727272727273, 'RH|P|C1418'),\n",
       " (11, 0.02657317073170732, 'RH|P|C1419'),\n",
       " (960, 0.029363095238095244, 'RH|P|C1421'),\n",
       " (621, 0.07531818181818183, 'RH|P|C1423'),\n",
       " (621, 0.058787096774193554, 'RH|P|C1426'),\n",
       " (621, 0.022727272727272728, 'RH|P|C1427'),\n",
       " (621, 0.07531818181818183, 'RH|P|C1428'),\n",
       " (392, 0.027142857142857142, 'RH|P|C1429'),\n",
       " (220, 0.020540000000000003, 'RH|P|C1430'),\n",
       " (621, 0.058787096774193554, 'RH|P|C1431'),\n",
       " (621, 0.058787096774193554, 'RH|P|C1432'),\n",
       " (621, 0.058787096774193554, 'RH|P|C1433'),\n",
       " (178, 0.05662805429864254, 'RH|P|C1438'),\n",
       " (621, 0.04022727272727273, 'RH|P|C1439'),\n",
       " (178, 0.05662805429864254, 'RH|P|C1449'),\n",
       " (194, 0.013888888888888888, 'RH|P|C1453'),\n",
       " (621, 0.058787096774193554, 'RH|P|C1454'),\n",
       " (621, 0.07531818181818183, 'RH|P|C1457'),\n",
       " (621, 0.058787096774193554, 'RH|P|C1458'),\n",
       " (621, 0.058787096774193554, 'RH|P|C1460'),\n",
       " (621, 0.07531818181818183, 'RH|P|C1461'),\n",
       " (621, 0.07531818181818183, 'RH|P|C1462'),\n",
       " (679, 0.02917894736842105, 'RH|P|C1463'),\n",
       " (621, 0.08827272727272727, 'RH|P|C1467'),\n",
       " (621, 0.08827272727272727, 'RH|P|C1469'),\n",
       " (621, 0.07531818181818183, 'RH|P|C1471'),\n",
       " (911, 0.01778888888888889, 'RH|P|C1473'),\n",
       " (621, 0.058787096774193554, 'RH|P|C1476'),\n",
       " (621, 0.0623409090909091, 'RH|P|C1477'),\n",
       " (321, 0.039391304347826096, 'RH|P|C1479'),\n",
       " (392, 0.05806530612244899, 'RH|P|C1481'),\n",
       " (621, 0.01989677419354839, 'RH|P|C1483'),\n",
       " (621, 0.058787096774193554, 'RH|P|C1488'),\n",
       " (695, 0.10273737373737372, 'RH|P|C1489'),\n",
       " (621, 0.021690322580645165, 'RH|P|C1491'),\n",
       " (621, 0.023329032258064517, 'RH|P|C1492'),\n",
       " (621, 0.058787096774193554, 'RH|P|C1497'),\n",
       " (621, 0.08827272727272727, 'RH|P|C1498'),\n",
       " (621, 0.058787096774193554, 'RH|P|C1499'),\n",
       " (621, 0.07531818181818183, 'RH|P|C1500'),\n",
       " (621, 0.058787096774193554, 'RH|P|C1501'),\n",
       " (471, 0.029428571428571432, 'RH|P|C1505'),\n",
       " (621, 0.058787096774193554, 'RH|P|C1506'),\n",
       " (621, 0.022727272727272728, 'RH|P|C1508'),\n",
       " (621, 0.058787096774193554, 'RH|P|C1509'),\n",
       " (392, 0.026083333333333333, 'RH|P|C1516'),\n",
       " (621, 0.058787096774193554, 'RH|P|C1517'),\n",
       " (621, 0.022727272727272728, 'RH|P|C1525'),\n",
       " (395, 0.023126582278481012, 'RH|P|C1527'),\n",
       " (621, 0.0623409090909091, 'RH|P|C1530'),\n",
       " (621, 0.08827272727272727, 'RH|P|C1531'),\n",
       " (392, 0.05806530612244899, 'RH|P|C1532'),\n",
       " (621, 0.058787096774193554, 'RH|P|C1533'),\n",
       " (621, 0.058787096774193554, 'RH|P|C1537'),\n",
       " (392, 0.05806530612244899, 'RH|P|C1540'),\n",
       " (621, 0.07531818181818183, 'RH|P|C1545'),\n",
       " (392, 0.026083333333333333, 'RH|P|C1547'),\n",
       " (621, 0.08827272727272727, 'RH|P|C1548'),\n",
       " (34, 0.05219000000000001, 'RH|P|C1549'),\n",
       " (621, 0.058787096774193554, 'RH|P|C1552'),\n",
       " (621, 0.07531818181818183, 'RH|P|C1553'),\n",
       " (178, 0.05662805429864254, 'RH|P|C1554'),\n",
       " (621, 0.058787096774193554, 'RH|P|C1565'),\n",
       " (621, 0.058787096774193554, 'RH|P|C1566'),\n",
       " (34, 0.05219000000000001, 'RH|P|C1568'),\n",
       " (178, 0.05662805429864254, 'RH|P|C1572'),\n",
       " (621, 0.0623409090909091, 'RH|P|C1573'),\n",
       " (621, 0.058787096774193554, 'RH|P|C1575'),\n",
       " (471, 0.029428571428571432, 'RH|P|C1578'),\n",
       " (621, 0.08827272727272727, 'RH|P|C1581'),\n",
       " (2, 0.031063829787234043, 'RH|P|C1583'),\n",
       " (621, 0.08827272727272727, 'RH|P|C1585'),\n",
       " (621, 0.05285161290322581, 'RH|P|C1588'),\n",
       " (621, 0.0623409090909091, 'RH|P|C1589'),\n",
       " (2, 0.026106382978723402, 'RH|P|C1591'),\n",
       " (194, 0.023027777777777775, 'RH|P|C1592'),\n",
       " (621, 0.0623409090909091, 'RH|P|C1594'),\n",
       " (392, 0.05806530612244899, 'RH|P|C1595'),\n",
       " (56, 0.020892307692307696, 'RH|P|C1599'),\n",
       " (621, 0.058787096774193554, 'RH|P|C1600'),\n",
       " (621, 0.058787096774193554, 'RH|P|C1602'),\n",
       " (621, 0.058787096774193554, 'RH|P|C1603'),\n",
       " (178, 0.05662805429864254, 'RH|P|C1604'),\n",
       " (178, 0.05662805429864254, 'RH|P|C1605'),\n",
       " (34, 0.059315, 'RH|P|C1607'),\n",
       " (621, 0.0623409090909091, 'RH|P|C1613'),\n",
       " (361, 0.010644578313253012, 'RH|P|C1618'),\n",
       " (860, 0.02491304347826087, 'RH|P|C1619'),\n",
       " (621, 0.058787096774193554, 'RH|P|C1621'),\n",
       " (91, 0.03126351351351351, 'RH|P|C1622'),\n",
       " (621, 0.058787096774193554, 'RH|P|C1625'),\n",
       " (621, 0.058787096774193554, 'RH|P|C1629'),\n",
       " (471, 0.029428571428571432, 'RH|P|C1631'),\n",
       " (166, 0.022492307692307697, 'RH|P|C1632'),\n",
       " (392, 0.05806530612244899, 'RH|P|C1633'),\n",
       " (621, 0.058787096774193554, 'RH|P|C1634'),\n",
       " (392, 0.05806530612244899, 'RH|P|C1638'),\n",
       " (392, 0.05806530612244899, 'RH|P|C1641'),\n",
       " (621, 0.058787096774193554, 'RH|P|C1642'),\n",
       " (120, 0.039460550458715604, 'RH|P|C1643'),\n",
       " (11, 0.02657317073170732, 'RH|P|C1644'),\n",
       " (621, 0.036012903225806456, 'RH|P|C1647'),\n",
       " (621, 0.01989677419354839, 'RH|P|C1650'),\n",
       " (178, 0.05662805429864254, 'RH|P|C1655'),\n",
       " (621, 0.058787096774193554, 'RH|P|C1656'),\n",
       " (621, 0.058787096774193554, 'RH|P|C1665'),\n",
       " (392, 0.026083333333333333, 'RH|P|C1666'),\n",
       " (1070, 0.024438461538461537, 'RH|P|C1670'),\n",
       " (471, 0.029428571428571432, 'RH|P|C1673'),\n",
       " (860, 0.020660869565217392, 'RH|P|C1677'),\n",
       " (392, 0.01675714285714286, 'RH|P|C1682'),\n",
       " (679, 0.02917894736842105, 'RH|P|C1686'),\n",
       " (621, 0.027316129032258066, 'RH|P|C1689'),\n",
       " (621, 0.058787096774193554, 'RH|P|C1691'),\n",
       " (621, 0.07531818181818183, 'RH|P|C1694'),\n",
       " (178, 0.044991855203619924, 'RH|P|C1703'),\n",
       " (11, 0.02657317073170732, 'RH|P|C1704'),\n",
       " (621, 0.058787096774193554, 'RH|P|C1705'),\n",
       " (220, 0.023977464788732396, 'RH|P|C1706'),\n",
       " (120, 0.039460550458715604, 'RH|P|C1710'),\n",
       " (392, 0.05806530612244899, 'RH|P|C1711'),\n",
       " (621, 0.04022727272727273, 'RH|P|C1713'),\n",
       " (679, 0.02917894736842105, 'RH|P|C1715'),\n",
       " (621, 0.07531818181818183, 'RH|P|C1717'),\n",
       " (621, 0.058787096774193554, 'RH|P|C1720'),\n",
       " (621, 0.058787096774193554, 'RH|P|C1723'),\n",
       " (392, 0.05806530612244899, 'RH|P|C1724'),\n",
       " (621, 0.058787096774193554, 'RH|P|C1727'),\n",
       " (471, 0.029428571428571432, 'RH|P|C1728'),\n",
       " (178, 0.05662805429864254, 'RH|P|C1730'),\n",
       " (621, 0.058787096774193554, 'RH|P|C1735'),\n",
       " (621, 0.058787096774193554, 'RH|P|C1736'),\n",
       " (621, 0.04022727272727273, 'RH|P|C1740'),\n",
       " (178, 0.05662805429864254, 'RH|P|C1742'),\n",
       " (392, 0.026083333333333333, 'RH|P|C1746'),\n",
       " (621, 0.036012903225806456, 'RH|P|C1747'),\n",
       " (392, 0.05806530612244899, 'RH|P|C1750'),\n",
       " (621, 0.08827272727272727, 'RH|P|C1752'),\n",
       " (621, 0.058787096774193554, 'RH|P|C1754'),\n",
       " (392, 0.05806530612244899, 'RH|P|C1759'),\n",
       " (621, 0.058787096774193554, 'RH|P|C1762'),\n",
       " (621, 0.058787096774193554, 'RH|P|C1763'),\n",
       " (621, 0.07531818181818183, 'RH|P|C1764'),\n",
       " (621, 0.058787096774193554, 'RH|P|C1769'),\n",
       " (621, 0.058787096774193554, 'RH|P|C1770'),\n",
       " (2, 0.016138297872340425, 'RH|P|C1772'),\n",
       " (471, 0.029428571428571432, 'RH|P|C1773'),\n",
       " (621, 0.058787096774193554, 'RH|P|C1777'),\n",
       " (621, 0.0623409090909091, 'RH|P|C1780'),\n",
       " (392, 0.05806530612244899, 'RH|P|C1781'),\n",
       " (621, 0.058787096774193554, 'RH|P|C1784'),\n",
       " (621, 0.058787096774193554, 'RH|P|C1785'),\n",
       " (621, 0.058787096774193554, 'RH|P|C1789'),\n",
       " (534, 0.014530405405405405, 'RH|P|C1791'),\n",
       " (392, 0.026083333333333333, 'RH|P|C1793'),\n",
       " (621, 0.058787096774193554, 'RH|P|C1794'),\n",
       " (471, 0.029428571428571432, 'RH|P|C1796'),\n",
       " (178, 0.05662805429864254, 'RH|P|C1797'),\n",
       " (34, 0.05219000000000001, 'RH|P|C1798'),\n",
       " (621, 0.058787096774193554, 'RH|P|C1806'),\n",
       " (178, 0.05662805429864254, 'RH|P|C1807'),\n",
       " (34, 0.05219000000000001, 'RH|P|C1809'),\n",
       " (621, 0.058787096774193554, 'RH|P|C1811'),\n",
       " (392, 0.05806530612244899, 'RH|P|C1812'),\n",
       " (960, 0.029363095238095244, 'RH|P|C1813'),\n",
       " (621, 0.058787096774193554, 'RH|P|C1818'),\n",
       " (621, 0.058787096774193554, 'RH|P|C1824'),\n",
       " (34, 0.05219000000000001, 'RH|P|C1828'),\n",
       " (621, 0.058787096774193554, 'RH|P|C1830'),\n",
       " (621, 0.07531818181818183, 'RH|P|C1831'),\n",
       " (11, 0.02657317073170732, 'RH|P|C1836'),\n",
       " (471, 0.029428571428571432, 'RH|P|C1837'),\n",
       " (621, 0.07531818181818183, 'RH|P|C1839'),\n",
       " (860, 0.046146341463414633, 'RH|P|C1840'),\n",
       " (34, 0.059315, 'RH|P|C1842'),\n",
       " (621, 0.058787096774193554, 'RH|P|C1845'),\n",
       " (621, 0.058787096774193554, 'RH|P|C1848'),\n",
       " (621, 0.07531818181818183, 'RH|P|C1849'),\n",
       " (392, 0.05806530612244899, 'RH|P|C1852'),\n",
       " (34, 0.024833333333333332, 'RH|P|C1853'),\n",
       " (34, 0.059315, 'RH|P|C1854'),\n",
       " (621, 0.08827272727272727, 'RH|P|C1856'),\n",
       " (621, 0.08827272727272727, 'RH|P|C1857'),\n",
       " (178, 0.05662805429864254, 'RH|P|C1859'),\n",
       " (621, 0.058787096774193554, 'RH|P|C1861'),\n",
       " (34, 0.010671428571428573, 'RH|P|C1862'),\n",
       " (621, 0.058787096774193554, 'RH|P|C1863'),\n",
       " (621, 0.0623409090909091, 'RH|P|C1864'),\n",
       " (392, 0.05806530612244899, 'RH|P|C1867'),\n",
       " (392, 0.05806530612244899, 'RH|P|C1868'),\n",
       " (621, 0.058787096774193554, 'RH|P|C1870'),\n",
       " (34, 0.05219000000000001, 'RH|P|C1871'),\n",
       " (392, 0.05806530612244899, 'RH|P|C1875'),\n",
       " (860, 0.020660869565217392, 'RH|P|C1879'),\n",
       " (34, 0.059315, 'RH|P|C1880'),\n",
       " (621, 0.058787096774193554, 'RH|P|C1883'),\n",
       " (392, 0.026083333333333333, 'RH|P|C1884'),\n",
       " (392, 0.05806530612244899, 'RH|P|C1885'),\n",
       " (621, 0.05285161290322581, 'RH|P|C1886'),\n",
       " (471, 0.029428571428571432, 'RH|P|C1893'),\n",
       " (527, 0.021047979797979795, 'RH|P|C1895'),\n",
       " (621, 0.058787096774193554, 'RH|P|C1896'),\n",
       " (911, 0.020086486486486487, 'RH|P|C1898'),\n",
       " (621, 0.058787096774193554, 'RH|P|C1907'),\n",
       " (621, 0.058787096774193554, 'RH|P|C1911'),\n",
       " (621, 0.07531818181818183, 'RH|P|C1914'),\n",
       " (621, 0.08827272727272727, 'RH|P|C1915'),\n",
       " (34, 0.05219000000000001, 'RH|P|C1918'),\n",
       " (621, 0.08827272727272727, 'RH|P|C1922'),\n",
       " (621, 0.058787096774193554, 'RH|P|C1924'),\n",
       " (621, 0.07531818181818183, 'RH|P|C1925'),\n",
       " (392, 0.026083333333333333, 'RH|P|C1926'),\n",
       " (621, 0.058787096774193554, 'RH|P|C1927'),\n",
       " (220, 0.02541408450704226, 'RH|P|C1929'),\n",
       " (621, 0.058787096774193554, 'RH|P|C1933'),\n",
       " (11, 0.02657317073170732, 'RH|P|C1936'),\n",
       " (34, 0.05219000000000001, 'RH|P|C1940'),\n",
       " (621, 0.058787096774193554, 'RH|P|C1941'),\n",
       " (178, 0.05662805429864254, 'RH|P|C1942'),\n",
       " (34, 0.05219000000000001, 'RH|P|C1945'),\n",
       " (621, 0.07531818181818183, 'RH|P|C1947'),\n",
       " (621, 0.07531818181818183, 'RH|P|C1951'),\n",
       " (860, 0.046146341463414633, 'RH|P|C1953'),\n",
       " (34, 0.05219000000000001, 'RH|P|C1954'),\n",
       " (621, 0.07531818181818183, 'RH|P|C1957'),\n",
       " (621, 0.058787096774193554, 'RH|P|C1958'),\n",
       " (621, 0.058787096774193554, 'RH|P|C1960'),\n",
       " (392, 0.026083333333333333, 'RH|P|C1966'),\n",
       " (11, 0.012195121951219513, 'RH|P|C1972'),\n",
       " (860, 0.020660869565217392, 'RH|P|C1973'),\n",
       " (392, 0.05806530612244899, 'RH|P|C1975'),\n",
       " (621, 0.08827272727272727, 'RH|P|C1982'),\n",
       " (991, 0.04558421052631579, 'RH|P|C1986'),\n",
       " (621, 0.058787096774193554, 'RH|P|C1989'),\n",
       " (621, 0.08827272727272727, 'RH|P|C1990'),\n",
       " (860, 0.023936363636363638, 'RH|P|C1991'),\n",
       " (621, 0.058787096774193554, 'RH|P|C1996'),\n",
       " (621, 0.08827272727272727, 'RH|P|C2001'),\n",
       " (621, 0.07531818181818183, 'RH|P|C2004'),\n",
       " (621, 0.058787096774193554, 'RH|P|C2006'),\n",
       " (905, 0.018973684210526316, 'RH|P|C2007'),\n",
       " (621, 0.08827272727272727, 'RH|P|C2009'),\n",
       " (621, 0.08827272727272727, 'RH|P|C2011'),\n",
       " (695, 0.10273737373737372, 'RH|P|C2015'),\n",
       " (621, 0.08827272727272727, 'RH|P|C2018'),\n",
       " (621, 0.058787096774193554, 'RH|P|C2020'),\n",
       " (621, 0.058787096774193554, 'RH|P|C2022'),\n",
       " (621, 0.08827272727272727, 'RH|P|C2023'),\n",
       " (392, 0.026083333333333333, 'RH|P|C2025'),\n",
       " (178, 0.05662805429864254, 'RH|P|C2027'),\n",
       " (621, 0.058787096774193554, 'RH|P|C2029'),\n",
       " (34, 0.05219000000000001, 'RH|P|C2030'),\n",
       " (178, 0.05662805429864254, 'RH|P|C2033'),\n",
       " (621, 0.0623409090909091, 'RH|P|C2034'),\n",
       " (621, 0.08827272727272727, 'RH|P|C2039'),\n",
       " (621, 0.058787096774193554, 'RH|P|C2043'),\n",
       " (695, 0.04927272727272728, 'RH|P|C2044'),\n",
       " (621, 0.0623409090909091, 'RH|P|C2052'),\n",
       " (621, 0.058787096774193554, 'RH|P|C2053'),\n",
       " (621, 0.022727272727272728, 'RH|P|C2054'),\n",
       " (392, 0.05806530612244899, 'RH|P|C2055'),\n",
       " (621, 0.058787096774193554, 'RH|P|C2057'),\n",
       " (621, 0.018633333333333335, 'RH|P|C2058'),\n",
       " (860, 0.046146341463414633, 'RH|P|C2061'),\n",
       " (621, 0.07531818181818183, 'RH|P|C2062'),\n",
       " (471, 0.029428571428571432, 'RH|P|C2064'),\n",
       " (178, 0.05662805429864254, 'RH|P|C2067'),\n",
       " (34, 0.059315, 'RH|P|C2068'),\n",
       " (392, 0.026083333333333333, 'RH|P|C2070'),\n",
       " (860, 0.046146341463414633, 'RH|P|C2072'),\n",
       " (621, 0.058787096774193554, 'RH|P|C2075'),\n",
       " (34, 0.059315, 'RH|P|C2077'),\n",
       " (392, 0.05806530612244899, 'RH|P|C2081'),\n",
       " (34, 0.059315, 'RH|P|C2086'),\n",
       " (621, 0.058787096774193554, 'RH|P|C2087'),\n",
       " (621, 0.08827272727272727, 'RH|P|C2090'),\n",
       " (220, 0.032177083333333335, 'RH|P|C2091'),\n",
       " (621, 0.022727272727272728, 'RH|P|C2093'),\n",
       " (621, 0.058787096774193554, 'RH|P|C2094'),\n",
       " (621, 0.05285161290322581, 'RH|P|C2095'),\n",
       " (166, 0.022492307692307697, 'RH|P|C2096'),\n",
       " (621, 0.058787096774193554, 'RH|P|C2097'),\n",
       " (178, 0.05662805429864254, 'RH|P|C2098'),\n",
       " (621, 0.07531818181818183, 'RH|P|C2100'),\n",
       " (621, 0.08827272727272727, 'RH|P|C2104'),\n",
       " (621, 0.058787096774193554, 'RH|P|C2107'),\n",
       " (621, 0.08827272727272727, 'RH|P|C2108'),\n",
       " (34, 0.059315, 'RH|P|C2111'),\n",
       " (178, 0.05662805429864254, 'RH|P|C2115'),\n",
       " (621, 0.07531818181818183, 'RH|P|C2117'),\n",
       " (392, 0.05806530612244899, 'RH|P|C2119'),\n",
       " (695, 0.04927272727272728, 'RH|P|C2121'),\n",
       " (34, 0.059315, 'RH|P|C2122'),\n",
       " (621, 0.0623409090909091, 'RH|P|C2123'),\n",
       " (178, 0.05662805429864254, 'RH|P|C2124'),\n",
       " (34, 0.05219000000000001, 'RH|P|C2125'),\n",
       " (621, 0.07531818181818183, 'RH|P|C2127'),\n",
       " (11, 0.02657317073170732, 'RH|P|C2128'),\n",
       " (621, 0.08827272727272727, 'RH|P|C2131'),\n",
       " (621, 0.058787096774193554, 'RH|P|C2132'),\n",
       " (621, 0.058787096774193554, 'RH|P|C2136'),\n",
       " (621, 0.058787096774193554, 'RH|P|C2138'),\n",
       " (621, 0.08827272727272727, 'RH|P|C2140'),\n",
       " (34, 0.05219000000000001, 'RH|P|C2142'),\n",
       " (2, 0.031063829787234043, 'RH|P|C2148'),\n",
       " (621, 0.07531818181818183, 'RH|P|C2152'),\n",
       " (621, 0.058787096774193554, 'RH|P|C2159'),\n",
       " (621, 0.04022727272727273, 'RH|P|C2160'),\n",
       " (860, 0.11152439024390243, 'RH|P|C2162'),\n",
       " (621, 0.058787096774193554, 'RH|P|C2164'),\n",
       " (621, 0.07531818181818183, 'RH|P|C2167'),\n",
       " (392, 0.05806530612244899, 'RH|P|C2169'),\n",
       " (621, 0.058787096774193554, 'RH|P|C2171'),\n",
       " (178, 0.044991855203619924, 'RH|P|C2176'),\n",
       " (621, 0.0623409090909091, 'RH|P|C2177'),\n",
       " (2, 0.031063829787234043, 'RH|P|C2178'),\n",
       " (621, 0.058787096774193554, 'RH|P|C2181'),\n",
       " (621, 0.07531818181818183, 'RH|P|C2182'),\n",
       " (621, 0.07531818181818183, 'RH|P|C2189'),\n",
       " (695, 0.09108333333333338, 'RH|P|C2192'),\n",
       " (621, 0.0623409090909091, 'RH|P|C2193'),\n",
       " (621, 0.08827272727272727, 'RH|P|C2194'),\n",
       " (860, 0.020660869565217392, 'RH|P|C2195'),\n",
       " (621, 0.058787096774193554, 'RH|P|C2197'),\n",
       " (621, 0.07531818181818183, 'RH|P|C2198'),\n",
       " (194, 0.023027777777777775, 'RH|P|C2200'),\n",
       " (621, 0.027316129032258066, 'RH|P|C2201'),\n",
       " (695, 0.10273737373737372, 'RH|P|C2204'),\n",
       " (621, 0.058787096774193554, 'RH|P|C2207'),\n",
       " (178, 0.05662805429864254, 'RH|P|C2211'),\n",
       " (621, 0.04022727272727273, 'RH|P|C2219'),\n",
       " (392, 0.027142857142857142, 'RH|P|C2220'),\n",
       " (392, 0.05806530612244899, 'RH|P|C2223'),\n",
       " (621, 0.07531818181818183, 'RH|P|C2224'),\n",
       " (534, 0.02537837837837838, 'RH|P|C2225'),\n",
       " (621, 0.01593548387096774, 'RH|P|C2226'),\n",
       " (11, 0.012195121951219513, 'RH|P|C2227'),\n",
       " (392, 0.05806530612244899, 'RH|P|C2228'),\n",
       " (621, 0.07531818181818183, 'RH|P|C2233'),\n",
       " (695, 0.04591666666666667, 'RH|P|C2235'),\n",
       " (621, 0.08827272727272727, 'RH|P|C2237'),\n",
       " (621, 0.058787096774193554, 'RH|P|C2239'),\n",
       " (621, 0.07531818181818183, 'RH|P|C2242'),\n",
       " (194, 0.023027777777777775, 'RH|P|C2243'),\n",
       " (621, 0.058787096774193554, 'RH|P|C2245'),\n",
       " (621, 0.058787096774193554, 'RH|P|C2246'),\n",
       " (621, 0.058787096774193554, 'RH|P|C2249'),\n",
       " (621, 0.022727272727272728, 'RH|P|C2253'),\n",
       " (621, 0.058787096774193554, 'RH|P|C2257'),\n",
       " (695, 0.04591666666666667, 'RH|P|C2266'),\n",
       " (621, 0.058787096774193554, 'RH|P|C2267'),\n",
       " (911, 0.017633333333333334, 'RH|P|C2268'),\n",
       " (392, 0.05806530612244899, 'RH|P|C2275'),\n",
       " (621, 0.07531818181818183, 'RH|P|C2278'),\n",
       " (621, 0.0623409090909091, 'RH|P|C2279'),\n",
       " (960, 0.029363095238095244, 'RH|P|C2285'),\n",
       " (621, 0.058787096774193554, 'RH|P|C2286'),\n",
       " (194, 0.023027777777777775, 'RH|P|C2287'),\n",
       " (392, 0.05806530612244899, 'RH|P|C2292'),\n",
       " (621, 0.022727272727272728, 'RH|P|C2293'),\n",
       " (621, 0.058787096774193554, 'RH|P|C2296'),\n",
       " (178, 0.044991855203619924, 'RH|P|C2297'),\n",
       " (178, 0.05662805429864254, 'RH|P|C2302'),\n",
       " (392, 0.05806530612244899, 'RH|P|C2307'),\n",
       " (621, 0.07531818181818183, 'RH|P|C2308'),\n",
       " (621, 0.058787096774193554, 'RH|P|C2309'),\n",
       " (621, 0.058787096774193554, 'RH|P|C2317'),\n",
       " (621, 0.07531818181818183, 'RH|P|C2323'),\n",
       " (621, 0.058787096774193554, 'RH|P|C2324'),\n",
       " (621, 0.0623409090909091, 'RH|P|C2333'),\n",
       " (621, 0.01989677419354839, 'RH|P|C2334'),\n",
       " (621, 0.058787096774193554, 'RH|P|C2337'),\n",
       " (471, 0.029428571428571432, 'RH|P|C2339'),\n",
       " (621, 0.07531818181818183, 'RH|P|C2340'),\n",
       " (621, 0.058787096774193554, 'RH|P|C2341'),\n",
       " (621, 0.07531818181818183, 'RH|P|C2343'),\n",
       " (621, 0.08827272727272727, 'RH|P|C2345'),\n",
       " (621, 0.0623409090909091, 'RH|P|C2347'),\n",
       " (621, 0.08827272727272727, 'RH|P|C2350'),\n",
       " (392, 0.026083333333333333, 'RH|P|C2351'),\n",
       " (621, 0.058787096774193554, 'RH|P|C2354'),\n",
       " (960, 0.029363095238095244, 'RH|P|C2356'),\n",
       " (621, 0.058787096774193554, 'RH|P|C2358'),\n",
       " (621, 0.058787096774193554, 'RH|P|C2363'),\n",
       " (392, 0.05806530612244899, 'RH|P|C2370'),\n",
       " (220, 0.04432291666666666, 'RH|P|C2372'),\n",
       " (34, 0.059315, 'RH|P|C2374'),\n",
       " (392, 0.05806530612244899, 'RH|P|C2376'),\n",
       " (2, 0.016138297872340425, 'RH|P|C2378'),\n",
       " (621, 0.07531818181818183, 'RH|P|C2383'),\n",
       " (621, 0.08827272727272727, 'RH|P|C2384'),\n",
       " (621, 0.058787096774193554, 'RH|P|C2385'),\n",
       " (621, 0.08827272727272727, 'RH|P|C2386'),\n",
       " (621, 0.08827272727272727, 'RH|P|C2388'),\n",
       " (392, 0.05806530612244899, 'RH|P|C2390'),\n",
       " (178, 0.05662805429864254, 'RH|P|C2391'),\n",
       " (621, 0.07531818181818183, 'RH|P|C2392'),\n",
       " (621, 0.01989677419354839, 'RH|P|C2393'),\n",
       " (621, 0.058787096774193554, 'RH|P|C2395'),\n",
       " (166, 0.022492307692307697, 'RH|P|C2397'),\n",
       " (621, 0.0623409090909091, 'RH|P|C2398'),\n",
       " (621, 0.08827272727272727, 'RH|P|C2399'),\n",
       " (621, 0.08827272727272727, 'RH|P|C2401'),\n",
       " (621, 0.058787096774193554, 'RH|P|C2403'),\n",
       " (621, 0.0623409090909091, 'RH|P|C2405'),\n",
       " (34, 0.05219000000000001, 'RH|P|C2406'),\n",
       " (695, 0.04591666666666667, 'RH|P|C2407'),\n",
       " (471, 0.029428571428571432, 'RH|P|C2408'),\n",
       " (621, 0.0623409090909091, 'RH|P|C2412'),\n",
       " (392, 0.05806530612244899, 'RH|P|C2413'),\n",
       " (471, 0.029428571428571432, 'RH|P|C2415'),\n",
       " (621, 0.0623409090909091, 'RH|P|C2418'),\n",
       " (621, 0.058787096774193554, 'RH|P|C2419'),\n",
       " (621, 0.08827272727272727, 'RH|P|C2420'),\n",
       " (621, 0.07531818181818183, 'RH|P|C2424'),\n",
       " (392, 0.05806530612244899, 'RH|P|C2425'),\n",
       " (621, 0.08827272727272727, 'RH|P|C2427'),\n",
       " (621, 0.07531818181818183, 'RH|P|C2430'),\n",
       " (178, 0.05662805429864254, 'RH|P|C2433'),\n",
       " (34, 0.059315, 'RH|P|C2437'),\n",
       " (1070, 0.024438461538461537, 'RH|P|C2441'),\n",
       " (621, 0.08827272727272727, 'RH|P|C2442'),\n",
       " (621, 0.0623409090909091, 'RH|P|C2444'),\n",
       " (621, 0.08827272727272727, 'RH|P|C2445'),\n",
       " (621, 0.08827272727272727, 'RH|P|C2446'),\n",
       " (621, 0.08827272727272727, 'RH|P|C2449'),\n",
       " (621, 0.058787096774193554, 'RH|P|C2452'),\n",
       " (621, 0.036012903225806456, 'RH|P|C2453'),\n",
       " (621, 0.08827272727272727, 'RH|P|C2454'),\n",
       " (960, 0.029363095238095244, 'RH|P|C2461'),\n",
       " (621, 0.058787096774193554, 'RH|P|C2466'),\n",
       " (621, 0.058787096774193554, 'RH|P|C2469'),\n",
       " (621, 0.058787096774193554, 'RH|P|C2472'),\n",
       " (621, 0.058787096774193554, 'RH|P|C2473'),\n",
       " (621, 0.058787096774193554, 'RH|P|C2474'),\n",
       " ...]"
      ]
     },
     "execution_count": 71,
     "metadata": {},
     "output_type": "execute_result"
    }
   ],
   "source": [
    "predicts"
   ]
  },
  {
   "cell_type": "code",
   "execution_count": 70,
   "metadata": {
    "ExecuteTime": {
     "end_time": "2021-11-18T10:23:42.442738Z",
     "start_time": "2021-11-18T10:23:42.436111Z"
    }
   },
   "outputs": [
    {
     "data": {
      "text/plain": [
       "18038"
      ]
     },
     "execution_count": 70,
     "metadata": {},
     "output_type": "execute_result"
    }
   ],
   "source": [
    "unlabelled['']"
   ]
  },
  {
   "cell_type": "code",
   "execution_count": 33,
   "metadata": {
    "ExecuteTime": {
     "end_time": "2021-11-18T10:14:18.027866Z",
     "start_time": "2021-11-18T10:14:13.308279Z"
    },
    "scrolled": true
   },
   "outputs": [
    {
     "data": {
      "text/plain": [
       "<BarContainer object of 1145 artists>"
      ]
     },
     "execution_count": 33,
     "metadata": {},
     "output_type": "execute_result"
    },
    {
     "data": {
      "image/png": "[encoded data removed]",
      "text/plain": [
       "<Figure size 432x288 with 1 Axes>"
      ]
     },
     "metadata": {
      "needs_background": "light"
     },
     "output_type": "display_data"
    }
   ],
   "source": [
    "plt.bar(range(number_of_bins) , bin_portion_base_pair/ max(bin_portion_base_pair))"
   ]
  },
  {
   "cell_type": "code",
   "execution_count": 50,
   "metadata": {
    "ExecuteTime": {
     "end_time": "2021-11-18T10:17:56.257228Z",
     "start_time": "2021-11-18T10:17:56.215230Z"
    }
   },
   "outputs": [],
   "source": [
    "binfreq = (bp_bins.sum(axis=0) + cc_bins.sum(axis=0) + mf_bins.sum(axis=0) ) / max(binfreq)"
   ]
  },
  {
   "cell_type": "code",
   "execution_count": 60,
   "metadata": {
    "ExecuteTime": {
     "end_time": "2021-11-18T10:19:55.605868Z",
     "start_time": "2021-11-18T10:19:50.191174Z"
    }
   },
   "outputs": [
    {
     "data": {
      "image/png": "[encoded data removed]",
      "text/plain": [
       "<Figure size 432x288 with 1 Axes>"
      ]
     },
     "metadata": {
      "needs_background": "light"
     },
     "output_type": "display_data"
    },
    {
     "data": {
      "image/png": "[encoded data removed]",
      "text/plain": [
       "<Figure size 432x288 with 1 Axes>"
      ]
     },
     "metadata": {
      "needs_background": "light"
     },
     "output_type": "display_data"
    },
    {
     "name": "stdout",
     "output_type": "stream",
     "text": [
      "{2, 11, 1036, 13, 526, 527, 1041, 1042, 534, 25, 26, 1051, 34, 35, 552, 1070, 1077, 1079, 56, 61, 1109, 86, 91, 1121, 1125, 105, 619, 621, 1133, 624, 113, 119, 120, 1144, 124, 149, 166, 679, 178, 690, 695, 696, 185, 704, 194, 207, 725, 220, 753, 760, 770, 266, 782, 786, 790, 792, 806, 307, 821, 321, 330, 334, 854, 855, 860, 361, 876, 879, 369, 370, 392, 905, 395, 911, 926, 415, 428, 943, 433, 439, 954, 957, 960, 449, 466, 471, 473, 991, 1002, 1014}\n"
     ]
    }
   ],
   "source": [
    "x = [v[0] for v in predicts]\n",
    "plt.bar([i for i in range(1,number_of_bins+1)],[base[base['bin_id'] == i].shape[0] for i in range(1, number_of_bins+1)])\n",
    "plt.show()\n",
    "freq = pd.Series(x).value_counts()\n",
    "plt.bar(freq.index, freq.values)\n",
    "plt.show()\n",
    "print(set(x))"
   ]
  },
  {
   "cell_type": "code",
   "execution_count": 27,
   "metadata": {
    "ExecuteTime": {
     "end_time": "2021-10-08T22:23:59.286054Z",
     "start_time": "2021-10-08T22:23:59.260683Z"
    }
   },
   "outputs": [],
   "source": [
    "df = unlabelled[unlabelled['pred']!=0][['#anonymous_gsa_id','pred']]\n",
    "df.columns = ['#anonymous_gsa_id','bin_id']\n",
    "to_biobox(pd.concat([base,df]), f\"./Temp/{dataset_name}/improved\")"
   ]
  },
  {
   "cell_type": "code",
   "execution_count": 28,
   "metadata": {
    "ExecuteTime": {
     "end_time": "2021-10-08T22:24:09.779659Z",
     "start_time": "2021-10-08T22:23:59.289229Z"
    },
    "scrolled": true
   },
   "outputs": [
    {
     "name": "stdout",
     "output_type": "stream",
     "text": [
      "0.28 %          , 10\n"
     ]
    }
   ],
   "source": [
    "# Evaluate                            \n",
    "tax_bins = [i for i in range(0, number_of_bins)]\n",
    "for i in range(0, number_of_bins):    \n",
    "    base_seq = base[base['bin_id']==(i+1)]['#anonymous_gsa_id']            \n",
    "    d = contigs[contigs['#anonymous_gsa_id'].isin(base_seq)]    \n",
    "    tax_bins[i] = (d.groupby(\"bin_id\")[\"bin_id\"].count()).sort_values(ascending=False).index[0]            \n",
    "\n",
    "counter = 0    \n",
    "for index,row in df.iterrows():\n",
    "    id1 = tax_bins[row['bin_id'] - 1]\n",
    "    id2 = contigs[contigs['#anonymous_gsa_id'] == row['#anonymous_gsa_id']].head(1)['bin_id']\n",
    "    id2 = id2.to_numpy()[0]      \n",
    "    if(str(id1) == str(id2)):\n",
    "        counter += 1\n",
    "        \n",
    "print(f'{round((100 * counter) / df.shape[0],2)} %          , {counter}')"
   ]
  },
  {
   "cell_type": "code",
   "execution_count": 379,
   "metadata": {
    "ExecuteTime": {
     "end_time": "2021-08-02T10:27:36.043627Z",
     "start_time": "2021-08-02T10:27:11.468845Z"
    }
   },
   "outputs": [
    {
     "name": "stdout",
     "output_type": "stream",
     "text": [
      "2021-08-02 14:57:14,218 INFO Loading Gold standard\n",
      "2021-08-02 14:57:14,270 INFO Loading metabat1_p95\n",
      "2021-08-02 14:57:14,288 INFO Loading metabat2_p95\n",
      "2021-08-02 14:57:14,300 INFO Loading improved\n",
      "2021-08-02 14:57:14,317 INFO Creating output directories\n",
      "2021-08-02 14:57:14,319 INFO Evaluating Gold standard (sample gsa, genome binning)\n",
      "2021-08-02 14:57:14,517 INFO Evaluating metabat1_p95 (sample gsa, genome binning)\n",
      "2021-08-02 14:57:14,726 INFO Evaluating metabat2_p95 (sample gsa, genome binning)\n",
      "2021-08-02 14:57:14,928 INFO Evaluating improved (sample gsa, genome binning)\n",
      "2021-08-02 14:57:15,122 INFO Saving computed metrics\n",
      "2021-08-02 14:57:15,153 INFO Creating genome binning plots\n",
      "/home/emadi/.local/lib/python3.8/site-packages/numpy/core/_asarray.py:102: VisibleDeprecationWarning: Creating an ndarray from ragged nested sequences (which is a list-or-tuple of lists-or-tuples-or ndarrays with different lengths or shapes) is deprecated. If you meant to do this, you must specify 'dtype=object' when creating the ndarray.\n",
      "  return array(a, dtype, copy=False, order=order)\n",
      "2021-08-02 14:57:33,653 INFO Creating HTML page\n",
      "2021-08-02 14:57:35,575 INFO AMBER finished successfully. All results have been saved to /home/jupyter/Final/Output/CAMI_Low/Assesment\n"
     ]
    }
   ],
   "source": [
    "!amber.py -g ./Temp/{dataset_name}/gold_standard \\\n",
    "-o ./Output/{dataset_name}/Assesment \\\n",
    "./Temp/{dataset_name}/metabat1_p95 \\\n",
    "./Temp/{dataset_name}/metabat2_p95 \\\n",
    "./Temp/{dataset_name}/improved                  "
   ]
  },
  {
   "cell_type": "markdown",
   "metadata": {
    "heading_collapsed": true
   },
   "source": [
    "# KEGG"
   ]
  },
  {
   "cell_type": "code",
   "execution_count": null,
   "metadata": {
    "hidden": true,
    "scrolled": true
   },
   "outputs": [],
   "source": [
    "kegg = pd.read_csv('./Annotation/Toy_low/data/cds.gene2kegg.tab.txt',sep='\\t')\n",
    "print(kegg.shape)\n",
    "kegg = pd.merge(kegg,Geneid2Contigid,how='inner',on='#Geneid')\n",
    "kegg.head(2)"
   ]
  },
  {
   "cell_type": "code",
   "execution_count": null,
   "metadata": {
    "hidden": true
   },
   "outputs": [],
   "source": [
    "print(np.median(list(kegg['Kegg_id'].value_counts())))\n",
    "plt.plot(list(kegg['Kegg_id'].value_counts()))\n",
    "plt.show()"
   ]
  },
  {
   "cell_type": "markdown",
   "metadata": {
    "heading_collapsed": true
   },
   "source": [
    "# KO"
   ]
  },
  {
   "cell_type": "code",
   "execution_count": null,
   "metadata": {
    "hidden": true
   },
   "outputs": [],
   "source": []
  },
  {
   "cell_type": "code",
   "execution_count": null,
   "metadata": {
    "hidden": true
   },
   "outputs": [],
   "source": []
  },
  {
   "cell_type": "code",
   "execution_count": null,
   "metadata": {
    "hidden": true
   },
   "outputs": [],
   "source": [
    "ko = pd.read_csv('./Annotation/Toy_low/data/cds.gene2ko.tab.txt',sep='\\t')\n",
    "print(ko.shape)\n",
    "ko.head(5)"
   ]
  },
  {
   "cell_type": "code",
   "execution_count": null,
   "metadata": {
    "hidden": true
   },
   "outputs": [],
   "source": [
    "print(np.median(list(ko['koid'].value_counts())))\n",
    "plt.plot(list(ko['koid'].value_counts()))\n",
    "plt.show()"
   ]
  },
  {
   "cell_type": "code",
   "execution_count": null,
   "metadata": {
    "hidden": true
   },
   "outputs": [],
   "source": [
    "print(np.median(list(ko['Contig'].value_counts())))\n",
    "plt.plot(list(ko['Contig'].value_counts()))\n",
    "plt.show()"
   ]
  },
  {
   "cell_type": "code",
   "execution_count": null,
   "metadata": {
    "hidden": true
   },
   "outputs": [],
   "source": [
    "df = pd.read_csv('./Annotation/Toy_low/data/cds.gene2sprot.tab.txt',sep='\\t')\n",
    "print(df.shape)\n",
    "df.head(2)"
   ]
  },
  {
   "cell_type": "code",
   "execution_count": null,
   "metadata": {
    "hidden": true
   },
   "outputs": [],
   "source": [
    "uniprot = pd.read_csv('./uniprot-filtered-reviewed-yes.tab',sep='\\t')\n",
    "print(uniprot.shape)\n",
    "uniprot.head(2)"
   ]
  },
  {
   "cell_type": "code",
   "execution_count": null,
   "metadata": {
    "hidden": true
   },
   "outputs": [],
   "source": [
    "df = pd.merge(uniprot,df,how='inner',left_on='Protein names',right_on='sprot_desc')\n",
    "print(df.shape)\n",
    "df.head(2)"
   ]
  },
  {
   "cell_type": "code",
   "execution_count": null,
   "metadata": {
    "hidden": true
   },
   "outputs": [],
   "source": []
  },
  {
   "cell_type": "code",
   "execution_count": null,
   "metadata": {
    "hidden": true
   },
   "outputs": [],
   "source": []
  },
  {
   "cell_type": "code",
   "execution_count": null,
   "metadata": {
    "hidden": true
   },
   "outputs": [],
   "source": []
  },
  {
   "cell_type": "code",
   "execution_count": null,
   "metadata": {
    "hidden": true
   },
   "outputs": [],
   "source": [
    "'''\n",
    "source = []\n",
    "target = []\n",
    "weigth = []\n",
    "tax =[]\n",
    "for t in [75309, 328515,1120996]:\n",
    "    df = pd.merge(contigs,go,how=\"inner\",left_on=\"#anonymous_gsa_id\", right_on = \"#Gene\")    \n",
    "    df = df[df['tax_id']==t]    \n",
    "    print(df.shape)\n",
    "    TM = df['TM'].to_numpy()\n",
    "    Go_id = df['go_id'].to_numpy()\n",
    "    for i in range(0, len(TM)-1):\n",
    "        for j in range(i+1, len(TM)):                \n",
    "            if(TM[i] + TM[j] in bp_dictionary):\n",
    "                if(bp_dictionary[TM[i] + TM[j]] > 0.7):\n",
    "                    source.append(Go_id[i])\n",
    "                    target.append(Go_id[j])\n",
    "                    weigth.append(bp_dictionary[ TM[i] + TM[j]])            \n",
    "                    tax.append(t)\n",
    "df = pd.DataFrame({'source': source, 'target': target, 'weigth': weigth , 'tax': tax})\n",
    "df.to_csv('./data.csv', index=None)\n",
    "''';"
   ]
  }
 ],
 "metadata": {
  "hide_input": false,
  "kernelspec": {
   "display_name": "Python 3 (ipykernel)",
   "language": "python",
   "name": "python3"
  },
  "language_info": {
   "codemirror_mode": {
    "name": "ipython",
    "version": 3
   },
   "file_extension": ".py",
   "mimetype": "text/x-python",
   "name": "python",
   "nbconvert_exporter": "python",
   "pygments_lexer": "ipython3",
   "version": "3.9.7"
  },
  "varInspector": {
   "cols": {
    "lenName": 16,
    "lenType": 16,
    "lenVar": 40
   },
   "kernels_config": {
    "python": {
     "delete_cmd_postfix": "",
     "delete_cmd_prefix": "del ",
     "library": "var_list.py",
     "varRefreshCmd": "print(var_dic_list())"
    },
    "r": {
     "delete_cmd_postfix": ") ",
     "delete_cmd_prefix": "rm(",
     "library": "var_list.r",
     "varRefreshCmd": "cat(var_dic_list()) "
    }
   },
   "types_to_exclude": [
    "module",
    "function",
    "builtin_function_or_method",
    "instance",
    "_Feature"
   ],
   "window_display": false
  }
 },
 "nbformat": 4,
 "nbformat_minor": 2
}
