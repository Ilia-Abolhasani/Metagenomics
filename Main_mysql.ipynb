{
 "cells": [
  {
   "cell_type": "markdown",
   "metadata": {
    "heading_collapsed": true
   },
   "source": [
    "# Imports"
   ]
  },
  {
   "cell_type": "code",
   "execution_count": 1,
   "metadata": {
    "ExecuteTime": {
     "end_time": "2021-10-08T02:39:52.409416Z",
     "start_time": "2021-10-08T02:39:48.468650Z"
    },
    "code_folding": [],
    "hidden": true,
    "run_control": {
     "marked": true
    },
    "slideshow": {
     "slide_type": "-"
    }
   },
   "outputs": [],
   "source": [
    "#!wget http://purl.obolibrary.org/obo/go.obo\n",
    "import pandas\n",
    "import numpy\n",
    "import requests,math,pickle\n",
    "import networkx,obonet\n",
    "import numpy as np ,pandas as pd, matplotlib.pyplot as plt\n",
    "import arabic_reshaper\n",
    "import multiprocessing as mp\n",
    "import scipy.stats as stats\n",
    "from bidi.algorithm import get_display\n",
    "from functools import partial\n",
    "import sys\n",
    "import gc\n",
    "import mysql.connector\n",
    "from IPython.display import clear_output\n",
    "if sys.version_info[0] < 3: \n",
    "    from StringIO import StringIO\n",
    "else:\n",
    "    from io import StringIO"
   ]
  },
  {
   "cell_type": "markdown",
   "metadata": {
    "heading_collapsed": true
   },
   "source": [
    "# Variables"
   ]
  },
  {
   "cell_type": "code",
   "execution_count": 2,
   "metadata": {
    "ExecuteTime": {
     "end_time": "2021-10-08T02:40:01.575440Z",
     "start_time": "2021-10-08T02:40:01.277647Z"
    },
    "hidden": true
   },
   "outputs": [],
   "source": [
    "dataset_name = \"CAMI_Low\"\n",
    "num_cores = max(mp.cpu_count() - 1, 1)\n",
    "!mkdir -p ./Output/{dataset_name}/figs\n",
    "!mkdir -p ./Temp/{dataset_name}/"
   ]
  },
  {
   "cell_type": "code",
   "execution_count": 3,
   "metadata": {
    "ExecuteTime": {
     "end_time": "2021-10-08T02:40:01.828337Z",
     "start_time": "2021-10-08T02:40:01.822144Z"
    },
    "hidden": true
   },
   "outputs": [],
   "source": [
    "def to_biobox(df, path):\n",
    "    df[df[\"bin_id\"]!= 0].to_csv(path, index=None, sep='\\t',header=None)    \n",
    "    with open(path, 'r') as file:        \n",
    "        text = file.read()\n",
    "    with open(path, 'w', encoding='utf8') as file:\n",
    "        file.write(\"@Version:0.9.1\\n@SampleID:gsa\\n\\n@@SEQUENCEID\\tBINID\\n\" + text)"
   ]
  },
  {
   "cell_type": "markdown",
   "metadata": {
    "heading_collapsed": true
   },
   "source": [
    "# MySQL"
   ]
  },
  {
   "cell_type": "markdown",
   "metadata": {
    "hidden": true
   },
   "source": [
    "## Create database"
   ]
  },
  {
   "cell_type": "code",
   "execution_count": 4,
   "metadata": {
    "ExecuteTime": {
     "end_time": "2021-10-08T02:40:07.657550Z",
     "start_time": "2021-10-08T02:40:07.213260Z"
    },
    "hidden": true
   },
   "outputs": [],
   "source": [
    "db = mysql.connector.connect(host=\"localhost\",user=\"ilia\",password=\"Connect2Mysql!@#\")\n",
    "cursor = db.cursor()\n",
    "cursor.execute(f\"DROP DATABASE  IF EXISTS Improver_{dataset_name};\")\n",
    "cursor.execute(f\"CREATE DATABASE Improver_{dataset_name}\")\n",
    "cursor.execute(f\"USE Improver_{dataset_name}\")\n",
    "\n",
    "cursor.execute('''CREATE TABLE Sequence (seq_id VARCHAR(100) NOT NULL,                                   \n",
    "                                     length INT,\n",
    "                                     PRIMARY KEY (seq_id))''')\n",
    "\n",
    "cursor.execute('''CREATE TABLE GO (go_id CHAR(10) NOT NULL,                                   \n",
    "                                     namespace VARCHAR(30),\n",
    "                                     PRIMARY KEY (go_id))''')\n",
    "\n",
    "cursor.execute('''CREATE TABLE Seq_GO (seq_id VARCHAR(100) NOT NULL,                               \n",
    "                                       go_id CHAR(10) NOT NULL,   \n",
    "                                     FOREIGN KEY (seq_id) REFERENCES Sequence(seq_id),\n",
    "                                     FOREIGN KEY (go_id) REFERENCES GO(go_id))''')\n",
    "\n",
    "cursor.execute('''CREATE TABLE Base (seq_id VARCHAR(100)  NOT NULL,                                   \n",
    "                                     bin_id INT,\n",
    "                                     FOREIGN KEY (seq_id) REFERENCES Sequence(seq_id))''')\n",
    "\n",
    "cursor.execute('''CREATE TABLE Go_scores (go_id1 CHAR(10) NOT NULL,\n",
    "                                     go_id2 CHAR(10) NOT NULL,\n",
    "                                     score FLOAT,\n",
    "                                     FOREIGN KEY (go_id1) REFERENCES GO(go_id),\n",
    "                                     FOREIGN KEY (go_id2) REFERENCES GO(go_id))''')\n",
    "db.disconnect()"
   ]
  },
  {
   "cell_type": "markdown",
   "metadata": {
    "hidden": true
   },
   "source": [
    "## Connect to DB"
   ]
  },
  {
   "cell_type": "code",
   "execution_count": 5,
   "metadata": {
    "ExecuteTime": {
     "end_time": "2021-10-08T02:40:23.418751Z",
     "start_time": "2021-10-08T02:40:23.414058Z"
    },
    "hidden": true
   },
   "outputs": [],
   "source": [
    "def get_connect():\n",
    "    db = mysql.connector.connect(host=\"localhost\",user=\"ilia\",password=\"Connect2Mysql!@#\",\n",
    "         database=f\"Improver_{dataset_name}\")\n",
    "    return db"
   ]
  },
  {
   "cell_type": "markdown",
   "metadata": {
    "heading_collapsed": true
   },
   "source": [
    "# Read Fasta"
   ]
  },
  {
   "cell_type": "code",
   "execution_count": 6,
   "metadata": {
    "ExecuteTime": {
     "end_time": "2021-10-08T02:40:24.883026Z",
     "start_time": "2021-10-08T02:40:24.874735Z"
    },
    "code_folding": [],
    "hidden": true
   },
   "outputs": [],
   "source": [
    "def fasta_to_df(path):\n",
    "    with open(path, 'r') as file:\n",
    "        text = file.read()\n",
    "    lines = [line for line in text.split('\\n') if len(line) > 0]\n",
    "    s = ''\n",
    "    ids = []\n",
    "    contigs = []\n",
    "    for l in lines:\n",
    "        if(l[0]=='>'):\n",
    "            ids.append(l)        \n",
    "            contigs.append(s)\n",
    "            s = ''\n",
    "        else:\n",
    "            s += l    \n",
    "    contigs.append(s)\n",
    "    df = pd.DataFrame(\n",
    "            {\n",
    "                '#anonymous_gsa_id': ids,\n",
    "                'contig': contigs[1:]\n",
    "            })\n",
    "    df['#anonymous_gsa_id'] = df['#anonymous_gsa_id'].apply(lambda x: x[1:])    \n",
    "    return df"
   ]
  },
  {
   "cell_type": "code",
   "execution_count": 7,
   "metadata": {
    "ExecuteTime": {
     "end_time": "2021-10-08T02:40:27.717903Z",
     "start_time": "2021-10-08T02:40:25.834760Z"
    },
    "hidden": true
   },
   "outputs": [
    {
     "data": {
      "text/html": [
       "<div>\n",
       "<style scoped>\n",
       "    .dataframe tbody tr th:only-of-type {\n",
       "        vertical-align: middle;\n",
       "    }\n",
       "\n",
       "    .dataframe tbody tr th {\n",
       "        vertical-align: top;\n",
       "    }\n",
       "\n",
       "    .dataframe thead th {\n",
       "        text-align: right;\n",
       "    }\n",
       "</style>\n",
       "<table border=\"1\" class=\"dataframe\">\n",
       "  <thead>\n",
       "    <tr style=\"text-align: right;\">\n",
       "      <th></th>\n",
       "      <th>#anonymous_gsa_id</th>\n",
       "      <th>contig_length</th>\n",
       "    </tr>\n",
       "  </thead>\n",
       "  <tbody>\n",
       "    <tr>\n",
       "      <th>0</th>\n",
       "      <td>RL|S1|C0</td>\n",
       "      <td>809</td>\n",
       "    </tr>\n",
       "    <tr>\n",
       "      <th>1</th>\n",
       "      <td>RL|S1|C1</td>\n",
       "      <td>626</td>\n",
       "    </tr>\n",
       "  </tbody>\n",
       "</table>\n",
       "</div>"
      ],
      "text/plain": [
       "  #anonymous_gsa_id  contig_length\n",
       "0          RL|S1|C0            809\n",
       "1          RL|S1|C1            626"
      ]
     },
     "execution_count": 7,
     "metadata": {},
     "output_type": "execute_result"
    }
   ],
   "source": [
    "contigs = fasta_to_df(f\"./Dataset/{dataset_name}/contigs.fna\")\n",
    "all_number = contigs.shape[0]\n",
    "contigs[\"contig_length\"] = contigs[\"contig\"].apply(lambda x: len(x))\n",
    "del contigs['contig']\n",
    "contigs.head(2)"
   ]
  },
  {
   "cell_type": "code",
   "execution_count": 9,
   "metadata": {
    "ExecuteTime": {
     "end_time": "2021-10-08T02:40:45.950170Z",
     "start_time": "2021-10-08T02:40:39.521319Z"
    },
    "hidden": true
   },
   "outputs": [],
   "source": [
    "db = get_connect()\n",
    "cursor = db.cursor()\n",
    "contigs.apply(lambda row : cursor.execute(\\\n",
    "f'''INSERT INTO Sequence (seq_id, length) \n",
    "VALUES ('{row['#anonymous_gsa_id']}'\n",
    "       , {row['contig_length']})'''),axis=1)\n",
    "db.commit()\n",
    "db.disconnect()"
   ]
  },
  {
   "cell_type": "code",
   "execution_count": 10,
   "metadata": {
    "ExecuteTime": {
     "end_time": "2021-10-08T02:40:47.006455Z",
     "start_time": "2021-10-08T02:40:46.867302Z"
    },
    "hidden": true
   },
   "outputs": [
    {
     "data": {
      "text/html": [
       "<div>\n",
       "<style scoped>\n",
       "    .dataframe tbody tr th:only-of-type {\n",
       "        vertical-align: middle;\n",
       "    }\n",
       "\n",
       "    .dataframe tbody tr th {\n",
       "        vertical-align: top;\n",
       "    }\n",
       "\n",
       "    .dataframe thead th {\n",
       "        text-align: right;\n",
       "    }\n",
       "</style>\n",
       "<table border=\"1\" class=\"dataframe\">\n",
       "  <thead>\n",
       "    <tr style=\"text-align: right;\">\n",
       "      <th></th>\n",
       "      <th>#anonymous_gsa_id</th>\n",
       "      <th>contig_length</th>\n",
       "      <th>bin_id</th>\n",
       "      <th>tax_id</th>\n",
       "      <th>sequence_id</th>\n",
       "      <th>number_reads</th>\n",
       "    </tr>\n",
       "  </thead>\n",
       "  <tbody>\n",
       "    <tr>\n",
       "      <th>0</th>\n",
       "      <td>RL|S1|C0</td>\n",
       "      <td>809</td>\n",
       "      <td>1220_AJ</td>\n",
       "      <td>75309</td>\n",
       "      <td>scaffold5.1_1_from_14912_to_15720_total_809</td>\n",
       "      <td>12</td>\n",
       "    </tr>\n",
       "    <tr>\n",
       "      <th>1</th>\n",
       "      <td>RL|S1|C1</td>\n",
       "      <td>626</td>\n",
       "      <td>1048993</td>\n",
       "      <td>328515</td>\n",
       "      <td>scaffold00001_11_from_606387_to_607012_total_626</td>\n",
       "      <td>16</td>\n",
       "    </tr>\n",
       "  </tbody>\n",
       "</table>\n",
       "</div>"
      ],
      "text/plain": [
       "  #anonymous_gsa_id  contig_length   bin_id  tax_id  \\\n",
       "0          RL|S1|C0            809  1220_AJ   75309   \n",
       "1          RL|S1|C1            626  1048993  328515   \n",
       "\n",
       "                                        sequence_id  number_reads  \n",
       "0       scaffold5.1_1_from_14912_to_15720_total_809            12  \n",
       "1  scaffold00001_11_from_606387_to_607012_total_626            16  "
      ]
     },
     "execution_count": 10,
     "metadata": {},
     "output_type": "execute_result"
    }
   ],
   "source": [
    "df = pd.read_csv(f\"./Dataset/{dataset_name}/mapping.tsv\", sep='\\t')\n",
    "contigs = pd.merge(contigs, df, how='inner', on='#anonymous_gsa_id')\n",
    "contigs.head(2)"
   ]
  },
  {
   "cell_type": "markdown",
   "metadata": {
    "heading_collapsed": true
   },
   "source": [
    "# Save gold standard data as CAMI binning Bioboxes format."
   ]
  },
  {
   "cell_type": "code",
   "execution_count": 11,
   "metadata": {
    "ExecuteTime": {
     "end_time": "2021-10-08T02:40:52.425903Z",
     "start_time": "2021-10-08T02:40:52.330837Z"
    },
    "code_folding": [],
    "hidden": true,
    "run_control": {
     "marked": true
    }
   },
   "outputs": [],
   "source": [
    "path = f\"./Temp/{dataset_name}/gold_standard\"\n",
    "contigs[['#anonymous_gsa_id', 'bin_id', 'tax_id',\n",
    "         'contig_length']].to_csv(path, index=None, sep='\\t')\n",
    "\n",
    "with open(path, 'r') as file:\n",
    "    file.readline()\n",
    "    text = file.read()\n",
    "\n",
    "with open(path, 'w', encoding='utf8') as file:\n",
    "    file.write(\"@Version:0.9.1\\n@SampleID:gsa\\n\\n@@SEQUENCEID\\tBINID\\tTAXID\\t_LENGTH\\n\"+ text)"
   ]
  },
  {
   "cell_type": "markdown",
   "metadata": {
    "heading_collapsed": true
   },
   "source": [
    "# Base Algorithms"
   ]
  },
  {
   "cell_type": "code",
   "execution_count": 12,
   "metadata": {
    "ExecuteTime": {
     "end_time": "2021-10-08T02:40:54.207644Z",
     "start_time": "2021-10-08T02:40:54.201057Z"
    },
    "hidden": true
   },
   "outputs": [],
   "source": [
    "def get_base_bin(bin_name, prob=0):\n",
    "    try:\n",
    "        df = pd.read_csv(f\"./Binning/{dataset_name}/{bin_name}/prob{prob}/contigs.tab\", sep='\\t', header = None)\n",
    "        df.columns = ['#anonymous_gsa_id','bin_id']\n",
    "        df = df[df[\"bin_id\"]!= 0]\n",
    "        to_biobox(df, f\"./Temp/{dataset_name}/{bin_name}_p{prob}\")\n",
    "        print(f'binned contigs: {df.shape[0]}', f'{round(df.shape[0]*100 / all_number,2)}% assigned')    \n",
    "        display(df.head(2))\n",
    "        return df\n",
    "    except Exception as e:\n",
    "        print(e)\n",
    "        return None"
   ]
  },
  {
   "cell_type": "code",
   "execution_count": 14,
   "metadata": {
    "ExecuteTime": {
     "end_time": "2021-10-08T02:41:31.977357Z",
     "start_time": "2021-10-08T02:41:31.791096Z"
    },
    "hidden": true
   },
   "outputs": [
    {
     "name": "stdout",
     "output_type": "stream",
     "text": [
      "binned contigs: 1687 8.65% assigned\n"
     ]
    },
    {
     "data": {
      "text/html": [
       "<div>\n",
       "<style scoped>\n",
       "    .dataframe tbody tr th:only-of-type {\n",
       "        vertical-align: middle;\n",
       "    }\n",
       "\n",
       "    .dataframe tbody tr th {\n",
       "        vertical-align: top;\n",
       "    }\n",
       "\n",
       "    .dataframe thead th {\n",
       "        text-align: right;\n",
       "    }\n",
       "</style>\n",
       "<table border=\"1\" class=\"dataframe\">\n",
       "  <thead>\n",
       "    <tr style=\"text-align: right;\">\n",
       "      <th></th>\n",
       "      <th>#anonymous_gsa_id</th>\n",
       "      <th>bin_id</th>\n",
       "    </tr>\n",
       "  </thead>\n",
       "  <tbody>\n",
       "    <tr>\n",
       "      <th>0</th>\n",
       "      <td>RL|S1|C6180</td>\n",
       "      <td>1</td>\n",
       "    </tr>\n",
       "    <tr>\n",
       "      <th>1</th>\n",
       "      <td>RL|S1|C7437</td>\n",
       "      <td>1</td>\n",
       "    </tr>\n",
       "  </tbody>\n",
       "</table>\n",
       "</div>"
      ],
      "text/plain": [
       "  #anonymous_gsa_id  bin_id\n",
       "0       RL|S1|C6180       1\n",
       "1       RL|S1|C7437       1"
      ]
     },
     "metadata": {},
     "output_type": "display_data"
    }
   ],
   "source": [
    "base = get_base_bin('Metabat2',95) # Busybee, Metabat1, Metabat2, Maxbin2"
   ]
  },
  {
   "cell_type": "code",
   "execution_count": 15,
   "metadata": {
    "ExecuteTime": {
     "end_time": "2021-10-08T02:41:33.188906Z",
     "start_time": "2021-10-08T02:41:32.568522Z"
    },
    "hidden": true
   },
   "outputs": [],
   "source": [
    "db = get_connect()\n",
    "cursor = db.cursor()\n",
    "base.apply(lambda row : cursor.execute(\\\n",
    "f'''INSERT INTO Base (seq_id, bin_id) \n",
    "VALUES ('{row['#anonymous_gsa_id']}'\n",
    "       , {row['bin_id']})'''),axis=1)\n",
    "db.commit()\n",
    "db.disconnect()"
   ]
  },
  {
   "cell_type": "markdown",
   "metadata": {},
   "source": [
    "# Gene Ontology"
   ]
  },
  {
   "cell_type": "code",
   "execution_count": 16,
   "metadata": {
    "ExecuteTime": {
     "end_time": "2021-10-08T02:41:36.965780Z",
     "start_time": "2021-10-08T02:41:35.439321Z"
    }
   },
   "outputs": [
    {
     "data": {
      "text/html": [
       "<div>\n",
       "<style scoped>\n",
       "    .dataframe tbody tr th:only-of-type {\n",
       "        vertical-align: middle;\n",
       "    }\n",
       "\n",
       "    .dataframe tbody tr th {\n",
       "        vertical-align: top;\n",
       "    }\n",
       "\n",
       "    .dataframe thead th {\n",
       "        text-align: right;\n",
       "    }\n",
       "</style>\n",
       "<table border=\"1\" class=\"dataframe\">\n",
       "  <thead>\n",
       "    <tr style=\"text-align: right;\">\n",
       "      <th></th>\n",
       "      <th>#Gene</th>\n",
       "      <th>TM</th>\n",
       "    </tr>\n",
       "  </thead>\n",
       "  <tbody>\n",
       "    <tr>\n",
       "      <th>0</th>\n",
       "      <td>RL|S1|C13963</td>\n",
       "      <td>GO:0016811</td>\n",
       "    </tr>\n",
       "    <tr>\n",
       "      <th>1</th>\n",
       "      <td>RL|S1|C13963</td>\n",
       "      <td>GO:0019740</td>\n",
       "    </tr>\n",
       "  </tbody>\n",
       "</table>\n",
       "</div>"
      ],
      "text/plain": [
       "          #Gene          TM\n",
       "0  RL|S1|C13963  GO:0016811\n",
       "1  RL|S1|C13963  GO:0019740"
      ]
     },
     "execution_count": 16,
     "metadata": {},
     "output_type": "execute_result"
    }
   ],
   "source": [
    "go = pd.read_csv(f\"./Annotation/{dataset_name}/cds.gene2go.tab.txt\", sep='\\t')\n",
    "go = go.reset_index(drop=True)\n",
    "go = go[['#Gene','TM']]\n",
    "go.head(2)"
   ]
  },
  {
   "cell_type": "markdown",
   "metadata": {},
   "source": [
    "## Add namespace [ cc, bp, mf ]"
   ]
  },
  {
   "cell_type": "code",
   "execution_count": 17,
   "metadata": {
    "ExecuteTime": {
     "end_time": "2021-10-08T02:41:50.801184Z",
     "start_time": "2021-10-08T02:41:37.757168Z"
    },
    "code_folding": [],
    "run_control": {
     "marked": true
    }
   },
   "outputs": [],
   "source": [
    "go_graph = obonet.read_obo('./go.obo') \n",
    "accession_to_namespace = dict()\n",
    "go_ids = go['TM'].unique()\n",
    "for accession in go_ids:\n",
    "    try:        \n",
    "        accession_to_namespace[accession] =  go_graph.nodes[accession]['namespace']\n",
    "    except: \n",
    "        accession_to_namespace[accession] = \"unknown\""
   ]
  },
  {
   "cell_type": "code",
   "execution_count": 18,
   "metadata": {
    "ExecuteTime": {
     "end_time": "2021-10-08T02:41:51.063724Z",
     "start_time": "2021-10-08T02:41:50.804418Z"
    }
   },
   "outputs": [
    {
     "name": "stdout",
     "output_type": "stream",
     "text": [
      "molecular_function    194760\n",
      "biological_process    129305\n",
      "cellular_component     78988\n",
      "unknown                11250\n",
      "Name: Namespace, dtype: int64\n"
     ]
    },
    {
     "data": {
      "text/html": [
       "<div>\n",
       "<style scoped>\n",
       "    .dataframe tbody tr th:only-of-type {\n",
       "        vertical-align: middle;\n",
       "    }\n",
       "\n",
       "    .dataframe tbody tr th {\n",
       "        vertical-align: top;\n",
       "    }\n",
       "\n",
       "    .dataframe thead th {\n",
       "        text-align: right;\n",
       "    }\n",
       "</style>\n",
       "<table border=\"1\" class=\"dataframe\">\n",
       "  <thead>\n",
       "    <tr style=\"text-align: right;\">\n",
       "      <th></th>\n",
       "      <th>#Gene</th>\n",
       "      <th>TM</th>\n",
       "      <th>Namespace</th>\n",
       "    </tr>\n",
       "  </thead>\n",
       "  <tbody>\n",
       "    <tr>\n",
       "      <th>0</th>\n",
       "      <td>RL|S1|C13963</td>\n",
       "      <td>GO:0016811</td>\n",
       "      <td>molecular_function</td>\n",
       "    </tr>\n",
       "    <tr>\n",
       "      <th>1</th>\n",
       "      <td>RL|S1|C13963</td>\n",
       "      <td>GO:0019740</td>\n",
       "      <td>biological_process</td>\n",
       "    </tr>\n",
       "  </tbody>\n",
       "</table>\n",
       "</div>"
      ],
      "text/plain": [
       "          #Gene          TM           Namespace\n",
       "0  RL|S1|C13963  GO:0016811  molecular_function\n",
       "1  RL|S1|C13963  GO:0019740  biological_process"
      ]
     },
     "execution_count": 18,
     "metadata": {},
     "output_type": "execute_result"
    }
   ],
   "source": [
    "def get_namespace(accession):\n",
    "    if(accession in accession_to_namespace):        \n",
    "        return accession_to_namespace[accession]    \n",
    "    return \"unknown\"\n",
    "\n",
    "go['Namespace'] = go['TM'].apply(lambda x : get_namespace(x) )\n",
    "print(go['Namespace'].value_counts())\n",
    "go.head(2)"
   ]
  },
  {
   "cell_type": "code",
   "execution_count": 19,
   "metadata": {
    "ExecuteTime": {
     "end_time": "2021-10-08T02:42:20.714343Z",
     "start_time": "2021-10-08T02:42:18.409707Z"
    }
   },
   "outputs": [],
   "source": [
    "db = get_connect()\n",
    "cursor = db.cursor()\n",
    "\n",
    "go.groupby('TM').first().apply(lambda row: cursor.execute(\\\n",
    "f'''INSERT INTO GO (go_id, namespace) \n",
    "VALUES ('{row.name}'\n",
    "       , '{row['Namespace']}')'''),axis=1)\n",
    "db.commit()\n",
    "db.disconnect()"
   ]
  },
  {
   "cell_type": "code",
   "execution_count": 20,
   "metadata": {
    "ExecuteTime": {
     "end_time": "2021-10-08T02:44:42.582840Z",
     "start_time": "2021-10-08T02:42:20.717724Z"
    }
   },
   "outputs": [],
   "source": [
    "db = get_connect()\n",
    "cursor = db.cursor()\n",
    "\n",
    "go.apply(lambda row: cursor.execute(\\\n",
    "f'''INSERT INTO Seq_GO (seq_id, go_id) \n",
    "VALUES ('{row['#Gene']}'\n",
    "       , '{row['TM']}')'''),axis=1)\n",
    "db.commit()\n",
    "db.disconnect()"
   ]
  },
  {
   "cell_type": "markdown",
   "metadata": {},
   "source": [
    "# Improver Method"
   ]
  },
  {
   "cell_type": "markdown",
   "metadata": {},
   "source": [
    "## Create dictionary BP, CC , MF base of GOGO for each pair of go ids"
   ]
  },
  {
   "cell_type": "code",
   "execution_count": 21,
   "metadata": {
    "ExecuteTime": {
     "end_time": "2021-10-08T02:45:36.866642Z",
     "start_time": "2021-10-08T02:45:36.857763Z"
    }
   },
   "outputs": [],
   "source": [
    "def runGOGO(i,namespace):        \n",
    "    %cd ./GOGO/\n",
    "    !perl go_comb.pl ../Temp/{dataset_name}/{namespace}/go_ids{i}.txt ../Temp/{dataset_name}/{namespace}/go_ids_scores{i}\n",
    "    %cd ..    "
   ]
  },
  {
   "cell_type": "code",
   "execution_count": 22,
   "metadata": {
    "ExecuteTime": {
     "end_time": "2021-10-08T02:45:37.785771Z",
     "start_time": "2021-10-08T02:45:37.758550Z"
    },
    "code_folding": []
   },
   "outputs": [],
   "source": [
    "def Step1(namespace):    \n",
    "    !rm -r ./Temp/{dataset_name}/{namespace}/ \n",
    "    !mkdir ./Temp/{dataset_name}/{namespace}/\n",
    "    # first create all possible pairs of GOs for Biological Process        \n",
    "    go_ids = go[go[\"Namespace\"] == namespace]\n",
    "    \n",
    "    unlabelled = contigs[~contigs['#anonymous_gsa_id'].isin(base['#anonymous_gsa_id'])]\n",
    "    unlabelledContigs = pd.Series(list(set(unlabelled['#anonymous_gsa_id']).intersection(set(go_ids['#Gene']))))            \n",
    "    unlabeled_go = go_ids[go_ids['#Gene'].isin(unlabelledContigs)]['TM'].unique()\n",
    "    unlabeled_go = pd.DataFrame(unlabeled_go, columns=['goid1'])\n",
    "    \n",
    "    labelled = contigs[contigs['#anonymous_gsa_id'].isin(base['#anonymous_gsa_id'])]\n",
    "    labelledContigs = pd.Series(list(set(labelled['#anonymous_gsa_id']).intersection(set(go_ids['#Gene']))))            \n",
    "    labeled_go = go_ids[go_ids['#Gene'].isin(labelledContigs)]['TM'].unique()\n",
    "    labeled_go = pd.DataFrame(labeled_go, columns=['goid2'])\n",
    "            \n",
    "                    \n",
    "    df = unlabeled_go.merge(labeled_go, how='cross')    \n",
    "    indexes = np.linspace(0,df.shape[0], num_cores + 1) // 1\n",
    "    indexes[-1] =  df.shape[0]\n",
    "    \n",
    "    for i in range(0, num_cores):\n",
    "        dfi = df.iloc[int(indexes[i]):int(indexes[i+1]),:]\n",
    "        dfi.to_csv(f\"./Temp/{dataset_name}/{namespace}/go_ids{i}.txt\",sep=\" \",index=None,header=None)\n",
    "        \n",
    "    # now run GOGO in multiprocessing\n",
    "    if __name__ == '__main__':        \n",
    "        pool = mp.Pool(num_cores)        \n",
    "        pool.map(partial(runGOGO, namespace=namespace), range(0,num_cores))      \n",
    "        \n",
    "    clear_output()"
   ]
  },
  {
   "cell_type": "code",
   "execution_count": 23,
   "metadata": {
    "ExecuteTime": {
     "end_time": "2021-10-08T02:45:39.232986Z",
     "start_time": "2021-10-08T02:45:39.223475Z"
    }
   },
   "outputs": [],
   "source": [
    "def pd2sql(i, namespace):\n",
    "    lines = []    \n",
    "    with open(f\"./Temp/{dataset_name}/{namespace}/go_ids_scores{i}\",\"r\") as f:\n",
    "        text = f.read()\n",
    "        lines = [*lines, *[l for l in text.split(\"\\n\") if len(l) > 0 and l[-24:] != \"not_in_the_same_ontology\"]]                            \n",
    "    df = pd.read_csv(StringIO('\\n'.join(lines)), sep=\" \", header=None)    \n",
    "    df.columns = ['go_id1', 'go_id2', 'namespace', 'score']    \n",
    "    db = get_connect()\n",
    "    cursor = db.cursor()\n",
    "    df.apply(lambda row: cursor.execute(\\\n",
    "        f'''INSERT INTO Go_scores (go_id1, go_id2, score) \n",
    "            VALUES ('{row['go_id1']}',\n",
    "            '{row['go_id2']}',\n",
    "            {row['score']})'''),axis=1)\n",
    "    db.commit()\n",
    "    db.disconnect()\n",
    "    \n",
    "def Step2(namespace):                                \n",
    "    if __name__ == '__main__':        \n",
    "        pool = mp.Pool(num_cores)        \n",
    "        pool.map(partial(pd2sql, namespace=namespace), range(0, num_cores))      \n",
    "    #!rm -r ./Temp/{dataset_name}/{namespace}/    "
   ]
  },
  {
   "cell_type": "markdown",
   "metadata": {},
   "source": [
    "### biological process"
   ]
  },
  {
   "cell_type": "code",
   "execution_count": 156,
   "metadata": {
    "ExecuteTime": {
     "end_time": "2021-10-08T02:22:35.061712Z",
     "start_time": "2021-10-08T02:18:58.739657Z"
    }
   },
   "outputs": [],
   "source": [
    "Step1(\"biological_process\")"
   ]
  },
  {
   "cell_type": "code",
   "execution_count": 24,
   "metadata": {
    "ExecuteTime": {
     "end_time": "2021-10-08T02:49:45.289775Z",
     "start_time": "2021-10-08T02:45:43.875052Z"
    }
   },
   "outputs": [],
   "source": [
    "Step2(\"biological_process\")"
   ]
  },
  {
   "cell_type": "markdown",
   "metadata": {},
   "source": [
    "### cellular component"
   ]
  },
  {
   "cell_type": "code",
   "execution_count": 25,
   "metadata": {
    "ExecuteTime": {
     "end_time": "2021-10-08T03:02:54.021571Z",
     "start_time": "2021-10-08T03:02:45.834033Z"
    }
   },
   "outputs": [],
   "source": [
    "Step1(\"cellular_component\")"
   ]
  },
  {
   "cell_type": "code",
   "execution_count": 26,
   "metadata": {
    "ExecuteTime": {
     "end_time": "2021-10-08T03:03:02.354934Z",
     "start_time": "2021-10-08T03:02:55.327351Z"
    }
   },
   "outputs": [],
   "source": [
    "Step2(\"cellular_component\")"
   ]
  },
  {
   "cell_type": "markdown",
   "metadata": {},
   "source": [
    "### molecular function"
   ]
  },
  {
   "cell_type": "code",
   "execution_count": 27,
   "metadata": {
    "ExecuteTime": {
     "end_time": "2021-10-08T03:04:37.820459Z",
     "start_time": "2021-10-08T03:03:05.813370Z"
    }
   },
   "outputs": [],
   "source": [
    "Step1(\"molecular_function\")"
   ]
  },
  {
   "cell_type": "code",
   "execution_count": 28,
   "metadata": {
    "ExecuteTime": {
     "end_time": "2021-10-08T03:09:00.305172Z",
     "start_time": "2021-10-08T03:04:37.824640Z"
    }
   },
   "outputs": [],
   "source": [
    "Step2(\"molecular_function\")"
   ]
  },
  {
   "cell_type": "markdown",
   "metadata": {},
   "source": [
    "## Main loop"
   ]
  },
  {
   "cell_type": "code",
   "execution_count": 32,
   "metadata": {
    "ExecuteTime": {
     "end_time": "2021-10-08T10:05:11.619816Z",
     "start_time": "2021-10-08T10:05:11.578928Z"
    }
   },
   "outputs": [
    {
     "data": {
      "text/html": [
       "<div>\n",
       "<style scoped>\n",
       "    .dataframe tbody tr th:only-of-type {\n",
       "        vertical-align: middle;\n",
       "    }\n",
       "\n",
       "    .dataframe tbody tr th {\n",
       "        vertical-align: top;\n",
       "    }\n",
       "\n",
       "    .dataframe thead th {\n",
       "        text-align: right;\n",
       "    }\n",
       "</style>\n",
       "<table border=\"1\" class=\"dataframe\">\n",
       "  <thead>\n",
       "    <tr style=\"text-align: right;\">\n",
       "      <th></th>\n",
       "      <th>#anonymous_gsa_id</th>\n",
       "      <th>contig_length</th>\n",
       "      <th>bin_id</th>\n",
       "      <th>tax_id</th>\n",
       "      <th>sequence_id</th>\n",
       "      <th>number_reads</th>\n",
       "    </tr>\n",
       "  </thead>\n",
       "  <tbody>\n",
       "    <tr>\n",
       "      <th>0</th>\n",
       "      <td>RL|S1|C0</td>\n",
       "      <td>809</td>\n",
       "      <td>1220_AJ</td>\n",
       "      <td>75309</td>\n",
       "      <td>scaffold5.1_1_from_14912_to_15720_total_809</td>\n",
       "      <td>12</td>\n",
       "    </tr>\n",
       "    <tr>\n",
       "      <th>1</th>\n",
       "      <td>RL|S1|C1</td>\n",
       "      <td>626</td>\n",
       "      <td>1048993</td>\n",
       "      <td>328515</td>\n",
       "      <td>scaffold00001_11_from_606387_to_607012_total_626</td>\n",
       "      <td>16</td>\n",
       "    </tr>\n",
       "    <tr>\n",
       "      <th>2</th>\n",
       "      <td>RL|S1|C2</td>\n",
       "      <td>9870</td>\n",
       "      <td>1036743</td>\n",
       "      <td>1120996</td>\n",
       "      <td>scaffold00002_17_from_433871_to_443740_total_9870</td>\n",
       "      <td>320</td>\n",
       "    </tr>\n",
       "    <tr>\n",
       "      <th>3</th>\n",
       "      <td>RL|S1|C3</td>\n",
       "      <td>950</td>\n",
       "      <td>1365_A</td>\n",
       "      <td>29580</td>\n",
       "      <td>scaffold4.1_4_from_315635_to_316584_total_950</td>\n",
       "      <td>24</td>\n",
       "    </tr>\n",
       "    <tr>\n",
       "      <th>4</th>\n",
       "      <td>RL|S1|C4</td>\n",
       "      <td>820</td>\n",
       "      <td>evo_1049056.039</td>\n",
       "      <td>1004304</td>\n",
       "      <td>contig_4_1_from_136770_to_137589_total_820</td>\n",
       "      <td>12</td>\n",
       "    </tr>\n",
       "    <tr>\n",
       "      <th>...</th>\n",
       "      <td>...</td>\n",
       "      <td>...</td>\n",
       "      <td>...</td>\n",
       "      <td>...</td>\n",
       "      <td>...</td>\n",
       "      <td>...</td>\n",
       "    </tr>\n",
       "    <tr>\n",
       "      <th>19493</th>\n",
       "      <td>RL|S1|C19493</td>\n",
       "      <td>295</td>\n",
       "      <td>1220_AJ</td>\n",
       "      <td>75309</td>\n",
       "      <td>scaffold2.1_1_from_517462_to_517756_total_295</td>\n",
       "      <td>2</td>\n",
       "    </tr>\n",
       "    <tr>\n",
       "      <th>19494</th>\n",
       "      <td>RL|S1|C19494</td>\n",
       "      <td>150</td>\n",
       "      <td>1220_AJ</td>\n",
       "      <td>75309</td>\n",
       "      <td>scaffold2.1_1_from_837247_to_837396_total_150</td>\n",
       "      <td>1</td>\n",
       "    </tr>\n",
       "    <tr>\n",
       "      <th>19495</th>\n",
       "      <td>RL|S1|C19495</td>\n",
       "      <td>4113</td>\n",
       "      <td>1035900</td>\n",
       "      <td>644383</td>\n",
       "      <td>scaffold00071_from_1_to_4113_total_4113</td>\n",
       "      <td>4922</td>\n",
       "    </tr>\n",
       "    <tr>\n",
       "      <th>19496</th>\n",
       "      <td>RL|S1|C19496</td>\n",
       "      <td>361</td>\n",
       "      <td>1220_AJ</td>\n",
       "      <td>75309</td>\n",
       "      <td>scaffold1.1_1_from_372792_to_373152_total_361</td>\n",
       "      <td>4</td>\n",
       "    </tr>\n",
       "    <tr>\n",
       "      <th>19497</th>\n",
       "      <td>RL|S1|C19497</td>\n",
       "      <td>675</td>\n",
       "      <td>evo_1049056.039</td>\n",
       "      <td>1004304</td>\n",
       "      <td>contig_4_1_from_107332_to_108006_total_675</td>\n",
       "      <td>10</td>\n",
       "    </tr>\n",
       "  </tbody>\n",
       "</table>\n",
       "<p>17812 rows × 6 columns</p>\n",
       "</div>"
      ],
      "text/plain": [
       "      #anonymous_gsa_id  contig_length           bin_id   tax_id  \\\n",
       "0              RL|S1|C0            809          1220_AJ    75309   \n",
       "1              RL|S1|C1            626          1048993   328515   \n",
       "2              RL|S1|C2           9870          1036743  1120996   \n",
       "3              RL|S1|C3            950           1365_A    29580   \n",
       "4              RL|S1|C4            820  evo_1049056.039  1004304   \n",
       "...                 ...            ...              ...      ...   \n",
       "19493      RL|S1|C19493            295          1220_AJ    75309   \n",
       "19494      RL|S1|C19494            150          1220_AJ    75309   \n",
       "19495      RL|S1|C19495           4113          1035900   644383   \n",
       "19496      RL|S1|C19496            361          1220_AJ    75309   \n",
       "19497      RL|S1|C19497            675  evo_1049056.039  1004304   \n",
       "\n",
       "                                             sequence_id  number_reads  \n",
       "0            scaffold5.1_1_from_14912_to_15720_total_809            12  \n",
       "1       scaffold00001_11_from_606387_to_607012_total_626            16  \n",
       "2      scaffold00002_17_from_433871_to_443740_total_9870           320  \n",
       "3          scaffold4.1_4_from_315635_to_316584_total_950            24  \n",
       "4             contig_4_1_from_136770_to_137589_total_820            12  \n",
       "...                                                  ...           ...  \n",
       "19493      scaffold2.1_1_from_517462_to_517756_total_295             2  \n",
       "19494      scaffold2.1_1_from_837247_to_837396_total_150             1  \n",
       "19495            scaffold00071_from_1_to_4113_total_4113          4922  \n",
       "19496      scaffold1.1_1_from_372792_to_373152_total_361             4  \n",
       "19497         contig_4_1_from_107332_to_108006_total_675            10  \n",
       "\n",
       "[17812 rows x 6 columns]"
      ]
     },
     "execution_count": 32,
     "metadata": {},
     "output_type": "execute_result"
    }
   ],
   "source": [
    "unlabelled = contigs[~contigs['#anonymous_gsa_id'].isin(base['#anonymous_gsa_id'])]\n",
    "unlabelled\n",
    "#unlabelledContigs = pd.Series(list(set(unlabelled['#anonymous_gsa_id']).intersection(set(go['#Gene']))))            \n",
    "#unlabelledContigs"
   ]
  },
  {
   "cell_type": "code",
   "execution_count": 42,
   "metadata": {
    "ExecuteTime": {
     "end_time": "2021-10-01T21:11:49.418065Z",
     "start_time": "2021-10-01T21:11:49.408493Z"
    }
   },
   "outputs": [],
   "source": [
    "def binScore(inp_bin, go_id, dictionary,portion):        \n",
    "    go_id_rare = go_rare[go_id]\n",
    "    def run(g):\n",
    "        pair = g +  go_id                \n",
    "        if(pair in dictionary):                                          \n",
    "            return  dictionary[pair] #* portion * go_rare[g] * go_id_rare         \n",
    "        return 0                \n",
    "    scores = inp_bin.apply(lambda g: run(g))            \n",
    "    #scores = scores[scores >= 0]            \n",
    "    if(scores.shape[0] == 0):\n",
    "        return 0\n",
    "    st = sorted(scores,reverse=True)[:number]    \n",
    "    return sum(st) / len(st)\n",
    "\n",
    "def getScore(go_id):            \n",
    "    result = numpy.zeros(number_of_bins)    \n",
    "    namespace = accession_to_namespace[go_id]    \n",
    "    for i in range(0,number_of_bins):\n",
    "        result[i] = binScore(bins[i], go_id, getDictionary(namespace),bins_portion[i])    \n",
    "    return go_id, result"
   ]
  },
  {
   "cell_type": "code",
   "execution_count": 43,
   "metadata": {
    "ExecuteTime": {
     "end_time": "2021-10-01T21:11:49.505829Z",
     "start_time": "2021-10-01T21:11:49.420815Z"
    }
   },
   "outputs": [],
   "source": [
    "#pool = mp.Pool(num_cores)    \n",
    "go_ids = pd.merge(unlabelled, go, how='inner',\n",
    "             left_on='#anonymous_gsa_id',right_on='#Gene')['TM'].unique()"
   ]
  },
  {
   "cell_type": "markdown",
   "metadata": {
    "ExecuteTime": {
     "end_time": "2021-05-15T05:05:42.571472Z",
     "start_time": "2021-05-15T05:03:44.323356Z"
    }
   },
   "source": [
    "## Pred"
   ]
  },
  {
   "cell_type": "code",
   "execution_count": 380,
   "metadata": {
    "ExecuteTime": {
     "end_time": "2021-08-02T10:32:05.020960Z",
     "start_time": "2021-08-02T10:31:39.633116Z"
    }
   },
   "outputs": [],
   "source": [
    "alpha = 1  # BP\n",
    "beta  = 1  # CC\n",
    "gamma = 1  # MF\n",
    "\n",
    "def getCoefficient(namespace):\n",
    "        if(namespace == \"biological_process\"):\n",
    "            return alpha\n",
    "        if(namespace == \"cellular_component\"):\n",
    "            return beta    \n",
    "        if(namespace == \"molecular_function\"):\n",
    "            return gamma    \n",
    "    \n",
    "def pred(cnt):                                \n",
    "    coeff = 0\n",
    "    selected = go[go['#Gene'] == cnt]\n",
    "    go_ids = selected['TM']                \n",
    "    go_namespace = selected['Namespace']                \n",
    "    result = np.zeros((go_ids.shape[0], number_of_bins))    \n",
    "    for i in range(0,len(go_ids.index)):  \n",
    "        index = go_ids.index[i]               \n",
    "        namespace = go_namespace[index]        \n",
    "        coeff += getCoefficient(namespace)                                         \n",
    "        result[i,:] = go_dictionary[go_ids[index]] * getCoefficient(namespace)                     \n",
    "    score = sum(result) / coeff if coeff != 0 else sum(result) * 0            \n",
    "    index = np.where(score == max(score))[0][0] + 1                \n",
    "    return index, max(score), cnt    \n",
    "\n",
    "if __name__ == '__main__':\n",
    "    answer = {}        \n",
    "    pool = mp.Pool(num_cores)    \n",
    "    unlabelledContigs = pd.Series(list(set(unlabelled['#anonymous_gsa_id']).intersection(set(go['#Gene']))))            \n",
    "    for index, score, cnt in pool.map(pred,unlabelledContigs):        \n",
    "        answer[cnt] = (index,  score)"
   ]
  },
  {
   "cell_type": "code",
   "execution_count": 381,
   "metadata": {
    "ExecuteTime": {
     "end_time": "2021-08-02T10:32:05.597509Z",
     "start_time": "2021-08-02T10:32:05.027249Z"
    }
   },
   "outputs": [
    {
     "name": "stdout",
     "output_type": "stream",
     "text": [
      "{65, 22, 1}\n"
     ]
    },
    {
     "data": {
      "image/png": "[encoded data removed]",
      "text/plain": [
       "<Figure size 432x288 with 1 Axes>"
      ]
     },
     "metadata": {
      "needs_background": "light"
     },
     "output_type": "display_data"
    }
   ],
   "source": [
    "x = [v[0] for v in answer.values()]\n",
    "plt.hist(x, bins=number_of_bins)\n",
    "print(set(x))"
   ]
  },
  {
   "cell_type": "code",
   "execution_count": 368,
   "metadata": {
    "ExecuteTime": {
     "end_time": "2021-08-02T09:35:47.106246Z",
     "start_time": "2021-08-02T09:35:46.854355Z"
    }
   },
   "outputs": [
    {
     "data": {
      "text/plain": [
       "[<matplotlib.lines.Line2D at 0x7f5839305580>]"
      ]
     },
     "execution_count": 368,
     "metadata": {},
     "output_type": "execute_result"
    },
    {
     "data": {
      "image/png": "[encoded data removed]",
      "text/plain": [
       "<Figure size 432x288 with 1 Axes>"
      ]
     },
     "metadata": {
      "needs_background": "light"
     },
     "output_type": "display_data"
    }
   ],
   "source": [
    "l = []\n",
    "for i in range(len(bins)):\n",
    "    l.append(len(bins[i]))\n",
    "\n",
    "bin_size = np.array(l)/max(np.array(l))    \n",
    "index = np.argsort(bin_size)\n",
    "plt.plot([bin_size[i] for i in index],'o')\n",
    "plt.plot([bins_portion[i] for i in index],'o')"
   ]
  },
  {
   "cell_type": "code",
   "execution_count": 377,
   "metadata": {
    "ExecuteTime": {
     "end_time": "2021-08-02T10:27:07.465611Z",
     "start_time": "2021-08-02T10:27:07.147174Z"
    }
   },
   "outputs": [
    {
     "name": "stdout",
     "output_type": "stream",
     "text": [
      "0.1275888000000001\n",
      "2262\n"
     ]
    }
   ],
   "source": [
    "threshold = sorted([i[1] for i in answer.values()], reverse=True)[3000]\n",
    "print(threshold)\n",
    "threshold = 0.15\n",
    "counter = 0\n",
    "def assign(row):\n",
    "    global counter\n",
    "    cnt = row['#anonymous_gsa_id']\n",
    "    if(cnt in answer and answer[cnt][1] >= threshold):                \n",
    "        counter += 1\n",
    "        return answer[cnt][0]    \n",
    "    return 0\n",
    "\n",
    "unlabelled['pred'] = unlabelled.apply(lambda row:assign(row),axis=1)    \n",
    "print(counter)"
   ]
  },
  {
   "cell_type": "code",
   "execution_count": 378,
   "metadata": {
    "ExecuteTime": {
     "end_time": "2021-08-02T10:27:11.140869Z",
     "start_time": "2021-08-02T10:27:11.113497Z"
    }
   },
   "outputs": [],
   "source": [
    "df = unlabelled[unlabelled['pred']!=0][['#anonymous_gsa_id','pred']]\n",
    "df.columns = ['#anonymous_gsa_id','bin_id']\n",
    "to_biobox(pd.concat([base,df]), f\"./Temp/{dataset_name}/improved\")"
   ]
  },
  {
   "cell_type": "code",
   "execution_count": 379,
   "metadata": {
    "ExecuteTime": {
     "end_time": "2021-08-02T10:27:36.043627Z",
     "start_time": "2021-08-02T10:27:11.468845Z"
    }
   },
   "outputs": [
    {
     "name": "stdout",
     "output_type": "stream",
     "text": [
      "2021-08-02 14:57:14,218 INFO Loading Gold standard\n",
      "2021-08-02 14:57:14,270 INFO Loading metabat1_p95\n",
      "2021-08-02 14:57:14,288 INFO Loading metabat2_p95\n",
      "2021-08-02 14:57:14,300 INFO Loading improved\n",
      "2021-08-02 14:57:14,317 INFO Creating output directories\n",
      "2021-08-02 14:57:14,319 INFO Evaluating Gold standard (sample gsa, genome binning)\n",
      "2021-08-02 14:57:14,517 INFO Evaluating metabat1_p95 (sample gsa, genome binning)\n",
      "2021-08-02 14:57:14,726 INFO Evaluating metabat2_p95 (sample gsa, genome binning)\n",
      "2021-08-02 14:57:14,928 INFO Evaluating improved (sample gsa, genome binning)\n",
      "2021-08-02 14:57:15,122 INFO Saving computed metrics\n",
      "2021-08-02 14:57:15,153 INFO Creating genome binning plots\n",
      "/home/emadi/.local/lib/python3.8/site-packages/numpy/core/_asarray.py:102: VisibleDeprecationWarning: Creating an ndarray from ragged nested sequences (which is a list-or-tuple of lists-or-tuples-or ndarrays with different lengths or shapes) is deprecated. If you meant to do this, you must specify 'dtype=object' when creating the ndarray.\n",
      "  return array(a, dtype, copy=False, order=order)\n",
      "2021-08-02 14:57:33,653 INFO Creating HTML page\n",
      "2021-08-02 14:57:35,575 INFO AMBER finished successfully. All results have been saved to /home/jupyter/Final/Output/CAMI_Low/Assesment\n"
     ]
    }
   ],
   "source": [
    "!amber.py -g ./Temp/{dataset_name}/gold_standard \\\n",
    "-o ./Output/{dataset_name}/Assesment \\\n",
    "./Temp/{dataset_name}/metabat1_p95 \\\n",
    "./Temp/{dataset_name}/metabat2_p95 \\\n",
    "./Temp/{dataset_name}/improved                  "
   ]
  },
  {
   "cell_type": "markdown",
   "metadata": {
    "heading_collapsed": true
   },
   "source": [
    "# KEGG"
   ]
  },
  {
   "cell_type": "code",
   "execution_count": null,
   "metadata": {
    "hidden": true,
    "scrolled": true
   },
   "outputs": [],
   "source": [
    "kegg = pd.read_csv('./Annotation/Toy_low/data/cds.gene2kegg.tab.txt',sep='\\t')\n",
    "print(kegg.shape)\n",
    "kegg = pd.merge(kegg,Geneid2Contigid,how='inner',on='#Geneid')\n",
    "kegg.head(2)"
   ]
  },
  {
   "cell_type": "code",
   "execution_count": null,
   "metadata": {
    "hidden": true
   },
   "outputs": [],
   "source": [
    "print(np.median(list(kegg['Kegg_id'].value_counts())))\n",
    "plt.plot(list(kegg['Kegg_id'].value_counts()))\n",
    "plt.show()"
   ]
  },
  {
   "cell_type": "markdown",
   "metadata": {},
   "source": [
    "# KO"
   ]
  },
  {
   "cell_type": "code",
   "execution_count": null,
   "metadata": {},
   "outputs": [],
   "source": [
    "ko = pd.read_csv('./Annotation/Toy_low/data/cds.gene2ko.tab.txt',sep='\\t')\n",
    "print(ko.shape)\n",
    "ko.head(5)"
   ]
  },
  {
   "cell_type": "code",
   "execution_count": null,
   "metadata": {},
   "outputs": [],
   "source": [
    "print(np.median(list(ko['koid'].value_counts())))\n",
    "plt.plot(list(ko['koid'].value_counts()))\n",
    "plt.show()"
   ]
  },
  {
   "cell_type": "code",
   "execution_count": null,
   "metadata": {},
   "outputs": [],
   "source": [
    "print(np.median(list(ko['Contig'].value_counts())))\n",
    "plt.plot(list(ko['Contig'].value_counts()))\n",
    "plt.show()"
   ]
  },
  {
   "cell_type": "code",
   "execution_count": null,
   "metadata": {},
   "outputs": [],
   "source": [
    "df = pd.read_csv('./Annotation/Toy_low/data/cds.gene2sprot.tab.txt',sep='\\t')\n",
    "print(df.shape)\n",
    "df.head(2)"
   ]
  },
  {
   "cell_type": "code",
   "execution_count": null,
   "metadata": {},
   "outputs": [],
   "source": [
    "uniprot = pd.read_csv('./uniprot-filtered-reviewed-yes.tab',sep='\\t')\n",
    "print(uniprot.shape)\n",
    "uniprot.head(2)"
   ]
  },
  {
   "cell_type": "code",
   "execution_count": null,
   "metadata": {},
   "outputs": [],
   "source": [
    "df = pd.merge(uniprot,df,how='inner',left_on='Protein names',right_on='sprot_desc')\n",
    "print(df.shape)\n",
    "df.head(2)"
   ]
  }
 ],
 "metadata": {
  "hide_input": false,
  "kernelspec": {
   "display_name": "Python 3",
   "language": "python",
   "name": "python3"
  },
  "language_info": {
   "codemirror_mode": {
    "name": "ipython",
    "version": 3
   },
   "file_extension": ".py",
   "mimetype": "text/x-python",
   "name": "python",
   "nbconvert_exporter": "python",
   "pygments_lexer": "ipython3",
   "version": "3.8.10"
  },
  "varInspector": {
   "cols": {
    "lenName": 16,
    "lenType": 16,
    "lenVar": 40
   },
   "kernels_config": {
    "python": {
     "delete_cmd_postfix": "",
     "delete_cmd_prefix": "del ",
     "library": "var_list.py",
     "varRefreshCmd": "print(var_dic_list())"
    },
    "r": {
     "delete_cmd_postfix": ") ",
     "delete_cmd_prefix": "rm(",
     "library": "var_list.r",
     "varRefreshCmd": "cat(var_dic_list()) "
    }
   },
   "types_to_exclude": [
    "module",
    "function",
    "builtin_function_or_method",
    "instance",
    "_Feature"
   ],
   "window_display": false
  }
 },
 "nbformat": 4,
 "nbformat_minor": 2
}
