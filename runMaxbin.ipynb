{
 "cells": [
  {
   "cell_type": "code",
   "execution_count": 29,
   "metadata": {
    "ExecuteTime": {
     "end_time": "2021-07-19T12:13:23.397238Z",
     "start_time": "2021-07-19T12:13:23.393480Z"
    }
   },
   "outputs": [],
   "source": [
    "import glob\n",
    "import pandas as pd"
   ]
  },
  {
   "cell_type": "code",
   "execution_count": 30,
   "metadata": {
    "ExecuteTime": {
     "end_time": "2021-07-19T12:13:23.687752Z",
     "start_time": "2021-07-19T12:13:23.684270Z"
    }
   },
   "outputs": [],
   "source": [
    "dataset_name = \"CAMI_Low\"\n",
    "prob = 50"
   ]
  },
  {
   "cell_type": "markdown",
   "metadata": {},
   "source": [
    "# Maxbin 1"
   ]
  },
  {
   "cell_type": "markdown",
   "metadata": {},
   "source": [
    "# Maxbin 2"
   ]
  },
  {
   "cell_type": "code",
   "execution_count": null,
   "metadata": {
    "ExecuteTime": {
     "start_time": "2021-07-19T12:24:27.305Z"
    }
   },
   "outputs": [
    {
     "name": "stdout",
     "output_type": "stream",
     "text": [
      "/home/jupyter/Final/maxbin/MaxBin-2.2.7\n",
      "MaxBin 2.2.7\n",
      "Input contig: /home/jupyter/Final/Dataset/CAMI_Low/contigs.fna\n",
      "Located abundance file [/home/jupyter/Final/Dataset/CAMI_Low/bin.abund1]\n",
      "out header: /home/jupyter/Final/Binning/CAMI_Low/Maxbin2/prob50/bin\n",
      "Thread: 20\n",
      "Probability threshold: 0.5\n",
      "Searching against 107 marker genes to find starting seed contigs for [/home/jupyter/Final/Dataset/CAMI_Low/contigs.fna]...\n",
      "Running FragGeneScan....\n"
     ]
    }
   ],
   "source": [
    "M = 2\n",
    "%cd /home/jupyter/Final/maxbin/MaxBin-2.2.7\n",
    "!rm -r /home/jupyter/Final/Binning/{dataset_name}/Maxbin2/prob{prob}/\n",
    "!mkdir -p /home/jupyter/Final/Binning/{dataset_name}/Maxbin2/prob{prob}\n",
    "\n",
    "\n",
    "!perl run_MaxBin.pl \\\n",
    "-contig /home/jupyter/Final/Dataset/{dataset_name}/contigs.fna \\\n",
    "-abund /home/jupyter/Final/Dataset/{dataset_name}/bin.abund1 \\\n",
    "-out /home/jupyter/Final/Binning/{dataset_name}/Maxbin2/prob{prob}/bin \\\n",
    "-thread 20\\\n",
    "-prob_threshold {prob / 100}\n",
    "\n",
    "%cd /home/jupyter/Final"
   ]
  },
  {
   "cell_type": "markdown",
   "metadata": {},
   "source": [
    "# Convert list of fasta to tsv file"
   ]
  },
  {
   "cell_type": "code",
   "execution_count": null,
   "metadata": {
    "ExecuteTime": {
     "start_time": "2021-07-19T12:24:34.088Z"
    }
   },
   "outputs": [],
   "source": [
    "path = f'/home/jupyter/Final/Binning/{dataset_name}/Maxbin{M}/prob{prob}/bin.'\n",
    "seqID = []\n",
    "binIndex = []\n",
    "for file_path in glob.glob(path + '*.fasta'):\n",
    "    index = file_path[len(path):].split('.fasta')[0]    \n",
    "    with open(file_path, 'r') as file:\n",
    "        text = file.read()\n",
    "        text = [t for t in text.split('\\n') if len(t) > 0]\n",
    "        seq = [t[1:] for t in text if t[0] == '>']        \n",
    "    for s in seq:\n",
    "        seqID.append(s)\n",
    "        binIndex.append(int(index))\n",
    "df = pd.DataFrame({'seqID': seqID,'binIndex': binIndex})\n",
    "!rm {path}*.fasta\n",
    "df.to_csv(path[:-4]+\"contigs.tab\", index=None, sep='\\t',header=None)"
   ]
  },
  {
   "cell_type": "code",
   "execution_count": null,
   "metadata": {},
   "outputs": [],
   "source": []
  }
 ],
 "metadata": {
  "kernelspec": {
   "display_name": "Python 3",
   "language": "python",
   "name": "python3"
  },
  "language_info": {
   "codemirror_mode": {
    "name": "ipython",
    "version": 3
   },
   "file_extension": ".py",
   "mimetype": "text/x-python",
   "name": "python",
   "nbconvert_exporter": "python",
   "pygments_lexer": "ipython3",
   "version": "3.8.10"
  }
 },
 "nbformat": 4,
 "nbformat_minor": 4
}
