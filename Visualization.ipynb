{
 "cells": [
  {
   "cell_type": "markdown",
   "metadata": {
    "ExecuteTime": {
     "end_time": "2021-06-18T14:20:23.678828Z",
     "start_time": "2021-06-18T14:20:23.671297Z"
    }
   },
   "source": [
    "# imports"
   ]
  },
  {
   "cell_type": "code",
   "execution_count": 87,
   "metadata": {
    "ExecuteTime": {
     "end_time": "2021-06-25T12:33:09.550196Z",
     "start_time": "2021-06-25T12:33:09.541870Z"
    }
   },
   "outputs": [],
   "source": [
    "from Bio import Entrez\n",
    "import requests,math,pickle,time\n",
    "import networkx, obonet\n",
    "import numpy as np ,pandas as pd, matplotlib.pyplot as plt\n",
    "import arabic_reshaper\n",
    "import multiprocessing as mp\n",
    "from sklearn.metrics.cluster import *\n",
    "from bidi.algorithm import get_display\n",
    "from functools import partial\n",
    "from IPython.display import clear_output\n",
    "import sys\n",
    "if sys.version_info[0] < 3: \n",
    "    from StringIO import StringIO\n",
    "else:\n",
    "    from io import StringIO\n",
    "\n",
    "def fa(text):\n",
    "    return get_display(arabic_reshaper.reshape(u'%s' % str(text)))"
   ]
  },
  {
   "cell_type": "markdown",
   "metadata": {},
   "source": [
    "# Init"
   ]
  },
  {
   "cell_type": "code",
   "execution_count": 102,
   "metadata": {
    "ExecuteTime": {
     "end_time": "2021-06-25T12:34:39.944855Z",
     "start_time": "2021-06-25T12:34:39.564408Z"
    }
   },
   "outputs": [],
   "source": [
    "num_cores = max(mp.cpu_count() - 3, 1)\n",
    "dataset_name = \"Toy_Mediom\"\n",
    "!mkdir -p ./Output/{Dataset_Name}/figs"
   ]
  },
  {
   "cell_type": "markdown",
   "metadata": {},
   "source": [
    "# For Toy_*"
   ]
  },
  {
   "cell_type": "code",
   "execution_count": 103,
   "metadata": {
    "ExecuteTime": {
     "end_time": "2021-06-25T12:34:51.389079Z",
     "start_time": "2021-06-25T12:34:40.397186Z"
    }
   },
   "outputs": [
    {
     "data": {
      "text/html": [
       "<div>\n",
       "<style scoped>\n",
       "    .dataframe tbody tr th:only-of-type {\n",
       "        vertical-align: middle;\n",
       "    }\n",
       "\n",
       "    .dataframe tbody tr th {\n",
       "        vertical-align: top;\n",
       "    }\n",
       "\n",
       "    .dataframe thead th {\n",
       "        text-align: right;\n",
       "    }\n",
       "</style>\n",
       "<table border=\"1\" class=\"dataframe\">\n",
       "  <thead>\n",
       "    <tr style=\"text-align: right;\">\n",
       "      <th></th>\n",
       "      <th>#anonymous_gsa_id</th>\n",
       "      <th>contig</th>\n",
       "      <th>genome_id</th>\n",
       "      <th>tax_id</th>\n",
       "      <th>sequence_id</th>\n",
       "      <th>number_reads</th>\n",
       "      <th>contig_length</th>\n",
       "    </tr>\n",
       "  </thead>\n",
       "  <tbody>\n",
       "    <tr>\n",
       "      <th>0</th>\n",
       "      <td>M2|P|C0</td>\n",
       "      <td>CATATACTTCATTAATATCATTAAAATCCTTTAAATCTTTTACGAA...</td>\n",
       "      <td>1151347.1</td>\n",
       "      <td>1151347</td>\n",
       "      <td>NZ_AVJV01000079.1</td>\n",
       "      <td>56</td>\n",
       "      <td>1668</td>\n",
       "    </tr>\n",
       "    <tr>\n",
       "      <th>1</th>\n",
       "      <td>M2|P|C1</td>\n",
       "      <td>GGTCTTCAAAGTGCGCGATCACGTCGTCGTTCGGGATCAGGCAGGA...</td>\n",
       "      <td>1158759.1</td>\n",
       "      <td>1158759</td>\n",
       "      <td>NZ_KB897962.1</td>\n",
       "      <td>312</td>\n",
       "      <td>5427</td>\n",
       "    </tr>\n",
       "  </tbody>\n",
       "</table>\n",
       "</div>"
      ],
      "text/plain": [
       "  #anonymous_gsa_id                                             contig  \\\n",
       "0           M2|P|C0  CATATACTTCATTAATATCATTAAAATCCTTTAAATCTTTTACGAA...   \n",
       "1           M2|P|C1  GGTCTTCAAAGTGCGCGATCACGTCGTCGTTCGGGATCAGGCAGGA...   \n",
       "\n",
       "   genome_id   tax_id        sequence_id  number_reads  contig_length  \n",
       "0  1151347.1  1151347  NZ_AVJV01000079.1            56           1668  \n",
       "1  1158759.1  1158759      NZ_KB897962.1           312           5427  "
      ]
     },
     "execution_count": 103,
     "metadata": {},
     "output_type": "execute_result"
    }
   ],
   "source": [
    "with open(f\"./Dataset/{dataset_name}/anonymous.fasta\", 'r') as file:\n",
    "    lines = [line for line in file.read().split('\\n') if len(line) > 0]\n",
    "    contigs = pd.DataFrame(\n",
    "        {\n",
    "            '#anonymous_gsa_id': lines[0::2],\n",
    "            'contig': lines[1::2]\n",
    "        },\n",
    "        columns=['#anonymous_gsa_id', 'contig'])\n",
    "    contigs['#anonymous_gsa_id'] = contigs['#anonymous_gsa_id'].apply(\n",
    "        lambda x: x[1:])\n",
    "del(lines)\n",
    "contigs.head(2)\n",
    "\n",
    "df = pd.read_csv(f\"./Dataset/{dataset_name}/mapping.tsv\", sep='\\t')\n",
    "contigs = pd.merge(contigs, df, how='inner', on='#anonymous_gsa_id')\n",
    "contigs[\"contig_length\"] = contigs[\"contig\"].apply(lambda x: len(x))\n",
    "contigs.head(2)"
   ]
  },
  {
   "cell_type": "code",
   "execution_count": 104,
   "metadata": {
    "ExecuteTime": {
     "end_time": "2021-06-25T12:34:51.475051Z",
     "start_time": "2021-06-25T12:34:51.408545Z"
    }
   },
   "outputs": [
    {
     "name": "stdout",
     "output_type": "stream",
     "text": [
      "(12627, 6)\n"
     ]
    },
    {
     "data": {
      "text/html": [
       "<div>\n",
       "<style scoped>\n",
       "    .dataframe tbody tr th:only-of-type {\n",
       "        vertical-align: middle;\n",
       "    }\n",
       "\n",
       "    .dataframe tbody tr th {\n",
       "        vertical-align: top;\n",
       "    }\n",
       "\n",
       "    .dataframe thead th {\n",
       "        text-align: right;\n",
       "    }\n",
       "</style>\n",
       "<table border=\"1\" class=\"dataframe\">\n",
       "  <thead>\n",
       "    <tr style=\"text-align: right;\">\n",
       "      <th></th>\n",
       "      <th>genome_id</th>\n",
       "      <th>sequence_id</th>\n",
       "      <th>genome_fna</th>\n",
       "      <th>freq</th>\n",
       "      <th>sequence_bp</th>\n",
       "      <th></th>\n",
       "    </tr>\n",
       "  </thead>\n",
       "  <tbody>\n",
       "    <tr>\n",
       "      <th>0</th>\n",
       "      <td>457429.1</td>\n",
       "      <td>NZ_CM000950.1</td>\n",
       "      <td>457429.1.fna</td>\n",
       "      <td>25.112534</td>\n",
       "      <td>8133379</td>\n",
       "      <td>c</td>\n",
       "    </tr>\n",
       "    <tr>\n",
       "      <th>1</th>\n",
       "      <td>272951.1</td>\n",
       "      <td>NZ_AABW01000001.1</td>\n",
       "      <td>272951.1.fna</td>\n",
       "      <td>1.376710</td>\n",
       "      <td>1250021</td>\n",
       "      <td>c</td>\n",
       "    </tr>\n",
       "    <tr>\n",
       "      <th>2</th>\n",
       "      <td>457393.1</td>\n",
       "      <td>NZ_GL622500.1</td>\n",
       "      <td>457393.1.fna</td>\n",
       "      <td>6.230714</td>\n",
       "      <td>1285632</td>\n",
       "      <td>c</td>\n",
       "    </tr>\n",
       "    <tr>\n",
       "      <th>3</th>\n",
       "      <td>457393.1</td>\n",
       "      <td>NZ_GL622501.1</td>\n",
       "      <td>457393.1.fna</td>\n",
       "      <td>6.230714</td>\n",
       "      <td>553429</td>\n",
       "      <td>c</td>\n",
       "    </tr>\n",
       "    <tr>\n",
       "      <th>4</th>\n",
       "      <td>457393.1</td>\n",
       "      <td>GL622502.1</td>\n",
       "      <td>457393.1.fna</td>\n",
       "      <td>6.230714</td>\n",
       "      <td>462086</td>\n",
       "      <td>c</td>\n",
       "    </tr>\n",
       "  </tbody>\n",
       "</table>\n",
       "</div>"
      ],
      "text/plain": [
       "   genome_id        sequence_id    genome_fna       freq  sequence_bp   \n",
       "0   457429.1      NZ_CM000950.1  457429.1.fna  25.112534      8133379  c\n",
       "1   272951.1  NZ_AABW01000001.1  272951.1.fna   1.376710      1250021  c\n",
       "2   457393.1      NZ_GL622500.1  457393.1.fna   6.230714      1285632  c\n",
       "3   457393.1      NZ_GL622501.1  457393.1.fna   6.230714       553429  c\n",
       "4   457393.1         GL622502.1  457393.1.fna   6.230714       462086  c"
      ]
     },
     "execution_count": 104,
     "metadata": {},
     "output_type": "execute_result"
    }
   ],
   "source": [
    "abundances = pd.read_csv(f\"./Dataset/{dataset_name}/abundances.tsv\", sep='\\t',header=None)\n",
    "abundances.columns = ['genome_id','sequence_id','genome_fna','freq','sequence_bp','']\n",
    "print(abundances.shape)\n",
    "abundances.head()"
   ]
  },
  {
   "cell_type": "code",
   "execution_count": 105,
   "metadata": {
    "ExecuteTime": {
     "end_time": "2021-06-25T12:34:51.768010Z",
     "start_time": "2021-06-25T12:34:51.479248Z"
    }
   },
   "outputs": [],
   "source": [
    "genome2freq = {}\n",
    "for genome in abundances['genome_id'].unique():\n",
    "    data = abundances[abundances['genome_id']==genome]        \n",
    "    freq = data.iloc[0,:]['freq']\n",
    "    genome2freq[genome] = freq\n",
    "genome2freq = dict(sorted(genome2freq.items(), key=lambda item: item[1]))"
   ]
  },
  {
   "cell_type": "code",
   "execution_count": 106,
   "metadata": {
    "ExecuteTime": {
     "end_time": "2021-06-25T12:34:51.778824Z",
     "start_time": "2021-06-25T12:34:51.772034Z"
    }
   },
   "outputs": [
    {
     "data": {
      "text/plain": [
       "658085.1"
      ]
     },
     "execution_count": 106,
     "metadata": {},
     "output_type": "execute_result"
    }
   ],
   "source": [
    "list(genome2freq.keys())[0]"
   ]
  },
  {
   "cell_type": "code",
   "execution_count": 107,
   "metadata": {
    "ExecuteTime": {
     "end_time": "2021-06-25T12:34:51.786999Z",
     "start_time": "2021-06-25T12:34:51.782072Z"
    }
   },
   "outputs": [],
   "source": [
    "def getTaxName(genome_id):\n",
    "    Entrez.email = 'abolhasani.eliya@gmail.com'\n",
    "    handle = Entrez.efetch('taxonomy', \n",
    "                       id= [str(genome_id)]\n",
    "                       , rettype='xml')\n",
    "    response = Entrez.read(handle)\n",
    "    return response[0]"
   ]
  },
  {
   "cell_type": "code",
   "execution_count": null,
   "metadata": {
    "ExecuteTime": {
     "start_time": "2021-06-25T12:34:42.845Z"
    }
   },
   "outputs": [],
   "source": [
    "def my_autopct(pct):\n",
    "    if(pct >= 5):\n",
    "        return '%.1f' % pct + '%'\n",
    "    return ''\n",
    "    \n",
    "s = sum(genome2freq.values())\n",
    "labels = []\n",
    "for key,value in genome2freq.items():\n",
    "    if( value > s * 0.01):               \n",
    "        pct = ' '\n",
    "        pct = str(round(value/s*100,1)) + \"%\"\n",
    "        labels.append(getTaxName(key)['ScientificName']+ f' ({pct})')\n",
    "    else:\n",
    "        labels.append('')\n",
    "sizes = genome2freq.values()\n",
    "explode = [0 for _ in range(len(sizes))]\n",
    "plt.figure(num=None,figsize=(5,5))\n",
    "ax = plt.gca()\n",
    "ax.pie(sizes, explode=explode, labels=labels, autopct=my_autopct,\n",
    "        shadow=True, startangle=90,rotatelabels=True,pctdistance=0.85)\n",
    "ax.axis('equal')  \n",
    "plt.savefig(f\"./Output/{dataset_name}/figs/bactria_frequency_pie.svg\")\n",
    "plt.savefig(f\"./Output/{dataset_name}/figs/bactria_frequency_pie.png\")\n",
    "plt.show()"
   ]
  },
  {
   "cell_type": "markdown",
   "metadata": {},
   "source": [
    "# for ariways, urog,...."
   ]
  },
  {
   "cell_type": "code",
   "execution_count": 110,
   "metadata": {
    "ExecuteTime": {
     "end_time": "2021-06-24T14:48:27.971249Z",
     "start_time": "2021-06-24T14:47:48.467529Z"
    }
   },
   "outputs": [
    {
     "data": {
      "text/html": [
       "<div>\n",
       "<style scoped>\n",
       "    .dataframe tbody tr th:only-of-type {\n",
       "        vertical-align: middle;\n",
       "    }\n",
       "\n",
       "    .dataframe tbody tr th {\n",
       "        vertical-align: top;\n",
       "    }\n",
       "\n",
       "    .dataframe thead th {\n",
       "        text-align: right;\n",
       "    }\n",
       "</style>\n",
       "<table border=\"1\" class=\"dataframe\">\n",
       "  <thead>\n",
       "    <tr style=\"text-align: right;\">\n",
       "      <th></th>\n",
       "      <th>#anonymous_gsa_id</th>\n",
       "      <th>contig</th>\n",
       "    </tr>\n",
       "  </thead>\n",
       "  <tbody>\n",
       "    <tr>\n",
       "      <th>0</th>\n",
       "      <td>S4C8</td>\n",
       "      <td>GTTATAATTTCCCGGCTGGATCTCCTTGAAATCATCAGACAAAATA...</td>\n",
       "    </tr>\n",
       "    <tr>\n",
       "      <th>1</th>\n",
       "      <td>S4C16</td>\n",
       "      <td>CGAGCAAACGAAGGCCGTACTAGAGATTCAGGCCAAGTGGAAGACT...</td>\n",
       "    </tr>\n",
       "  </tbody>\n",
       "</table>\n",
       "</div>"
      ],
      "text/plain": [
       "  #anonymous_gsa_id                                             contig\n",
       "0              S4C8  GTTATAATTTCCCGGCTGGATCTCCTTGAAATCATCAGACAAAATA...\n",
       "1             S4C16  CGAGCAAACGAAGGCCGTACTAGAGATTCAGGCCAAGTGGAAGACT..."
      ]
     },
     "execution_count": 110,
     "metadata": {},
     "output_type": "execute_result"
    }
   ],
   "source": [
    "with open(f\"./Dataset/{dataset_name}/contigs.fna\", 'r') as file:\n",
    "    lines = [line for line in file.read().split('\\n') if len(line) > 0]\n",
    "ids = []\n",
    "contigs = []\n",
    "s = ''\n",
    "for l in lines:\n",
    "    if(l[0]=='>'):\n",
    "        ids.append(l)        \n",
    "        contigs.append(s)\n",
    "        s = ''\n",
    "    else:\n",
    "        s += l    \n",
    "contigs.append(s)\n",
    "contigs = contigs[1:]\n",
    "\n",
    "contigs = pd.DataFrame(\n",
    "        {\n",
    "            '#anonymous_gsa_id': ids,\n",
    "            'contig': contigs\n",
    "        },\n",
    "columns=['#anonymous_gsa_id', 'contig'])\n",
    "contigs['#anonymous_gsa_id'] = contigs['#anonymous_gsa_id'].apply(lambda x: x[1:])\n",
    "del(lines)\n",
    "contigs.head(2)"
   ]
  },
  {
   "cell_type": "code",
   "execution_count": 111,
   "metadata": {
    "ExecuteTime": {
     "end_time": "2021-06-24T14:48:29.048124Z",
     "start_time": "2021-06-24T14:48:27.975071Z"
    }
   },
   "outputs": [
    {
     "data": {
      "text/html": [
       "<div>\n",
       "<style scoped>\n",
       "    .dataframe tbody tr th:only-of-type {\n",
       "        vertical-align: middle;\n",
       "    }\n",
       "\n",
       "    .dataframe tbody tr th {\n",
       "        vertical-align: top;\n",
       "    }\n",
       "\n",
       "    .dataframe thead th {\n",
       "        text-align: right;\n",
       "    }\n",
       "</style>\n",
       "<table border=\"1\" class=\"dataframe\">\n",
       "  <thead>\n",
       "    <tr style=\"text-align: right;\">\n",
       "      <th></th>\n",
       "      <th>#anonymous_gsa_id</th>\n",
       "      <th>contig</th>\n",
       "      <th>OTU</th>\n",
       "      <th>Genbank Accession Number</th>\n",
       "      <th>a</th>\n",
       "      <th>b</th>\n",
       "      <th>Bacteria</th>\n",
       "      <th>Family</th>\n",
       "    </tr>\n",
       "  </thead>\n",
       "  <tbody>\n",
       "    <tr>\n",
       "      <th>0</th>\n",
       "      <td>S4C8</td>\n",
       "      <td>GTTATAATTTCCCGGCTGGATCTCCTTGAAATCATCAGACAAAATA...</td>\n",
       "      <td>OTU_97.38219.0</td>\n",
       "      <td>CP015399.1</td>\n",
       "      <td>2449858</td>\n",
       "      <td>2453454</td>\n",
       "      <td>Lachnoclostridium sp. YL32</td>\n",
       "      <td>Lachnoclostridium</td>\n",
       "    </tr>\n",
       "    <tr>\n",
       "      <th>1</th>\n",
       "      <td>S4C16</td>\n",
       "      <td>CGAGCAAACGAAGGCCGTACTAGAGATTCAGGCCAAGTGGAAGACT...</td>\n",
       "      <td>OTU_97.20930.0</td>\n",
       "      <td>AE015924.1</td>\n",
       "      <td>1271118</td>\n",
       "      <td>1273294</td>\n",
       "      <td>Porphyromonas gingivalis</td>\n",
       "      <td>Porphyromonas</td>\n",
       "    </tr>\n",
       "  </tbody>\n",
       "</table>\n",
       "</div>"
      ],
      "text/plain": [
       "  #anonymous_gsa_id                                             contig  \\\n",
       "0              S4C8  GTTATAATTTCCCGGCTGGATCTCCTTGAAATCATCAGACAAAATA...   \n",
       "1             S4C16  CGAGCAAACGAAGGCCGTACTAGAGATTCAGGCCAAGTGGAAGACT...   \n",
       "\n",
       "              OTU Genbank Accession Number        a        b  \\\n",
       "0  OTU_97.38219.0               CP015399.1  2449858  2453454   \n",
       "1  OTU_97.20930.0               AE015924.1  1271118  1273294   \n",
       "\n",
       "                     Bacteria             Family  \n",
       "0  Lachnoclostridium sp. YL32  Lachnoclostridium  \n",
       "1    Porphyromonas gingivalis      Porphyromonas  "
      ]
     },
     "execution_count": 111,
     "metadata": {},
     "output_type": "execute_result"
    }
   ],
   "source": [
    "info = pd.read_csv(f\"./Dataset/{dataset_name}/reference.tsv\", sep='\\t',header=None)\n",
    "info.columns = ['#anonymous_gsa_id','OTU','Genbank Accession Number','a','b']\n",
    "\n",
    "df = pd.read_csv(f\"./Dataset/{dataset_name}/taxonomy.tsv\", sep='\\t',header=None)\n",
    "df.columns=['OTU','Bacteria','Family']\n",
    "info = pd.merge(info, df, how='inner', on='OTU')\n",
    "\n",
    "contigs = pd.merge(contigs, info, how='inner', on='#anonymous_gsa_id')\n",
    "contigs.head(2)"
   ]
  },
  {
   "cell_type": "code",
   "execution_count": 121,
   "metadata": {
    "ExecuteTime": {
     "end_time": "2021-06-24T15:02:51.604623Z",
     "start_time": "2021-06-24T15:02:51.524755Z"
    }
   },
   "outputs": [],
   "source": [
    "with np.load(f'./Dataset/{dataset_name}/abundance_old.npz') as data:\n",
    "    d = data['arr_0']"
   ]
  },
  {
   "cell_type": "code",
   "execution_count": 143,
   "metadata": {
    "ExecuteTime": {
     "end_time": "2021-06-24T15:08:31.416152Z",
     "start_time": "2021-06-24T15:08:31.383948Z"
    }
   },
   "outputs": [
    {
     "name": "stdout",
     "output_type": "stream",
     "text": [
      "3597\n"
     ]
    },
    {
     "data": {
      "text/plain": [
       "0        2449858\n",
       "18        590051\n",
       "32        515869\n",
       "35        739586\n",
       "39       1860743\n",
       "          ...   \n",
       "30077    5294689\n",
       "30082    1570684\n",
       "30083    5855839\n",
       "30085    5026205\n",
       "30114    4840049\n",
       "Name: a, Length: 1296, dtype: int64"
      ]
     },
     "execution_count": 143,
     "metadata": {},
     "output_type": "execute_result"
    }
   ],
   "source": [
    "df = contigs[contigs['OTU']=='OTU_97.38219.0']\n",
    "print(df['contig'].apply(lambda x : len(x))[0])\n",
    "df['a']"
   ]
  },
  {
   "cell_type": "code",
   "execution_count": 135,
   "metadata": {
    "ExecuteTime": {
     "end_time": "2021-06-24T15:05:53.339550Z",
     "start_time": "2021-06-24T15:05:53.309068Z"
    }
   },
   "outputs": [
    {
     "data": {
      "text/plain": [
       "array([2.6298201e-02, 0.0000000e+00, 2.0791945e-01, 3.9093170e-02,\n",
       "       1.1132900e-02, 4.5642802e-01, 2.8636523e+03, 8.6693096e-01,\n",
       "       3.9553709e-02, 7.8102446e-01], dtype=float32)"
      ]
     },
     "execution_count": 135,
     "metadata": {},
     "output_type": "execute_result"
    }
   ],
   "source": [
    "sum(d[contigs[contigs['OTU']=='OTU_97.38219.0'].index,:])"
   ]
  },
  {
   "cell_type": "code",
   "execution_count": 127,
   "metadata": {
    "ExecuteTime": {
     "end_time": "2021-06-24T15:03:56.591497Z",
     "start_time": "2021-06-24T15:03:56.513490Z"
    }
   },
   "outputs": [],
   "source": [
    "with np.load(f'./Dataset/{dataset_name}/abundance.npz') as data:\n",
    "    d = data['arr_0']"
   ]
  },
  {
   "cell_type": "code",
   "execution_count": 129,
   "metadata": {
    "ExecuteTime": {
     "end_time": "2021-06-24T15:04:04.105303Z",
     "start_time": "2021-06-24T15:04:04.098231Z"
    }
   },
   "outputs": [
    {
     "data": {
      "text/plain": [
       "array([0.     , 0.     , 0.     , 0.     , 0.     , 0.     , 2.35598,\n",
       "       0.     , 0.     , 0.     ], dtype=float32)"
      ]
     },
     "execution_count": 129,
     "metadata": {},
     "output_type": "execute_result"
    }
   ],
   "source": [
    "d[2,:]"
   ]
  },
  {
   "cell_type": "code",
   "execution_count": 93,
   "metadata": {
    "ExecuteTime": {
     "end_time": "2021-06-24T12:13:19.978176Z",
     "start_time": "2021-06-24T12:13:19.704046Z"
    }
   },
   "outputs": [
    {
     "ename": "KeyError",
     "evalue": "'freq'",
     "output_type": "error",
     "traceback": [
      "\u001b[0;31m---------------------------------------------------------------------------\u001b[0m",
      "\u001b[0;31mKeyError\u001b[0m                                  Traceback (most recent call last)",
      "\u001b[0;32m~/.local/lib/python3.8/site-packages/pandas/core/indexes/base.py\u001b[0m in \u001b[0;36mget_loc\u001b[0;34m(self, key, method, tolerance)\u001b[0m\n\u001b[1;32m   3079\u001b[0m             \u001b[0;32mtry\u001b[0m\u001b[0;34m:\u001b[0m\u001b[0;34m\u001b[0m\u001b[0;34m\u001b[0m\u001b[0m\n\u001b[0;32m-> 3080\u001b[0;31m                 \u001b[0;32mreturn\u001b[0m \u001b[0mself\u001b[0m\u001b[0;34m.\u001b[0m\u001b[0m_engine\u001b[0m\u001b[0;34m.\u001b[0m\u001b[0mget_loc\u001b[0m\u001b[0;34m(\u001b[0m\u001b[0mcasted_key\u001b[0m\u001b[0;34m)\u001b[0m\u001b[0;34m\u001b[0m\u001b[0;34m\u001b[0m\u001b[0m\n\u001b[0m\u001b[1;32m   3081\u001b[0m             \u001b[0;32mexcept\u001b[0m \u001b[0mKeyError\u001b[0m \u001b[0;32mas\u001b[0m \u001b[0merr\u001b[0m\u001b[0;34m:\u001b[0m\u001b[0;34m\u001b[0m\u001b[0;34m\u001b[0m\u001b[0m\n",
      "\u001b[0;32mpandas/_libs/index.pyx\u001b[0m in \u001b[0;36mpandas._libs.index.IndexEngine.get_loc\u001b[0;34m()\u001b[0m\n",
      "\u001b[0;32mpandas/_libs/index.pyx\u001b[0m in \u001b[0;36mpandas._libs.index.IndexEngine.get_loc\u001b[0;34m()\u001b[0m\n",
      "\u001b[0;32mpandas/_libs/hashtable_class_helper.pxi\u001b[0m in \u001b[0;36mpandas._libs.hashtable.PyObjectHashTable.get_item\u001b[0;34m()\u001b[0m\n",
      "\u001b[0;32mpandas/_libs/hashtable_class_helper.pxi\u001b[0m in \u001b[0;36mpandas._libs.hashtable.PyObjectHashTable.get_item\u001b[0;34m()\u001b[0m\n",
      "\u001b[0;31mKeyError\u001b[0m: 'freq'",
      "\nThe above exception was the direct cause of the following exception:\n",
      "\u001b[0;31mKeyError\u001b[0m                                  Traceback (most recent call last)",
      "\u001b[0;32m<ipython-input-93-4531c11171f9>\u001b[0m in \u001b[0;36m<module>\u001b[0;34m\u001b[0m\n\u001b[1;32m      2\u001b[0m \u001b[0;32mfor\u001b[0m \u001b[0mbactria\u001b[0m \u001b[0;32min\u001b[0m \u001b[0mcontigs\u001b[0m\u001b[0;34m[\u001b[0m\u001b[0;34m'Bacteria'\u001b[0m\u001b[0;34m]\u001b[0m\u001b[0;34m.\u001b[0m\u001b[0munique\u001b[0m\u001b[0;34m(\u001b[0m\u001b[0;34m)\u001b[0m\u001b[0;34m:\u001b[0m\u001b[0;34m\u001b[0m\u001b[0;34m\u001b[0m\u001b[0m\n\u001b[1;32m      3\u001b[0m     \u001b[0mdata\u001b[0m \u001b[0;34m=\u001b[0m \u001b[0mcontigs\u001b[0m\u001b[0;34m[\u001b[0m\u001b[0mcontigs\u001b[0m\u001b[0;34m[\u001b[0m\u001b[0;34m'Bacteria'\u001b[0m\u001b[0;34m]\u001b[0m\u001b[0;34m==\u001b[0m\u001b[0mbactria\u001b[0m\u001b[0;34m]\u001b[0m\u001b[0;34m\u001b[0m\u001b[0;34m\u001b[0m\u001b[0m\n\u001b[0;32m----> 4\u001b[0;31m     \u001b[0mfreq\u001b[0m \u001b[0;34m=\u001b[0m \u001b[0mdata\u001b[0m\u001b[0;34m.\u001b[0m\u001b[0miloc\u001b[0m\u001b[0;34m[\u001b[0m\u001b[0;36m0\u001b[0m\u001b[0;34m,\u001b[0m\u001b[0;34m:\u001b[0m\u001b[0;34m]\u001b[0m\u001b[0;34m[\u001b[0m\u001b[0;34m'freq'\u001b[0m\u001b[0;34m]\u001b[0m\u001b[0;34m\u001b[0m\u001b[0;34m\u001b[0m\u001b[0m\n\u001b[0m\u001b[1;32m      5\u001b[0m     \u001b[0mbactria2freq\u001b[0m\u001b[0;34m[\u001b[0m\u001b[0mbactria\u001b[0m\u001b[0;34m]\u001b[0m \u001b[0;34m=\u001b[0m \u001b[0mfreq\u001b[0m\u001b[0;34m\u001b[0m\u001b[0;34m\u001b[0m\u001b[0m\n\u001b[1;32m      6\u001b[0m \u001b[0mbactria2freq\u001b[0m \u001b[0;34m=\u001b[0m \u001b[0mdict\u001b[0m\u001b[0;34m(\u001b[0m\u001b[0msorted\u001b[0m\u001b[0;34m(\u001b[0m\u001b[0mbactria2freq\u001b[0m\u001b[0;34m.\u001b[0m\u001b[0mitems\u001b[0m\u001b[0;34m(\u001b[0m\u001b[0;34m)\u001b[0m\u001b[0;34m,\u001b[0m \u001b[0mkey\u001b[0m\u001b[0;34m=\u001b[0m\u001b[0;32mlambda\u001b[0m \u001b[0mitem\u001b[0m\u001b[0;34m:\u001b[0m \u001b[0mitem\u001b[0m\u001b[0;34m[\u001b[0m\u001b[0;36m1\u001b[0m\u001b[0;34m]\u001b[0m\u001b[0;34m)\u001b[0m\u001b[0;34m)\u001b[0m\u001b[0;34m\u001b[0m\u001b[0;34m\u001b[0m\u001b[0m\n",
      "\u001b[0;32m~/.local/lib/python3.8/site-packages/pandas/core/series.py\u001b[0m in \u001b[0;36m__getitem__\u001b[0;34m(self, key)\u001b[0m\n\u001b[1;32m    851\u001b[0m \u001b[0;34m\u001b[0m\u001b[0m\n\u001b[1;32m    852\u001b[0m         \u001b[0;32melif\u001b[0m \u001b[0mkey_is_scalar\u001b[0m\u001b[0;34m:\u001b[0m\u001b[0;34m\u001b[0m\u001b[0;34m\u001b[0m\u001b[0m\n\u001b[0;32m--> 853\u001b[0;31m             \u001b[0;32mreturn\u001b[0m \u001b[0mself\u001b[0m\u001b[0;34m.\u001b[0m\u001b[0m_get_value\u001b[0m\u001b[0;34m(\u001b[0m\u001b[0mkey\u001b[0m\u001b[0;34m)\u001b[0m\u001b[0;34m\u001b[0m\u001b[0;34m\u001b[0m\u001b[0m\n\u001b[0m\u001b[1;32m    854\u001b[0m \u001b[0;34m\u001b[0m\u001b[0m\n\u001b[1;32m    855\u001b[0m         \u001b[0;32mif\u001b[0m \u001b[0mis_hashable\u001b[0m\u001b[0;34m(\u001b[0m\u001b[0mkey\u001b[0m\u001b[0;34m)\u001b[0m\u001b[0;34m:\u001b[0m\u001b[0;34m\u001b[0m\u001b[0;34m\u001b[0m\u001b[0m\n",
      "\u001b[0;32m~/.local/lib/python3.8/site-packages/pandas/core/series.py\u001b[0m in \u001b[0;36m_get_value\u001b[0;34m(self, label, takeable)\u001b[0m\n\u001b[1;32m    959\u001b[0m \u001b[0;34m\u001b[0m\u001b[0m\n\u001b[1;32m    960\u001b[0m         \u001b[0;31m# Similar to Index.get_value, but we do not fall back to positional\u001b[0m\u001b[0;34m\u001b[0m\u001b[0;34m\u001b[0m\u001b[0;34m\u001b[0m\u001b[0m\n\u001b[0;32m--> 961\u001b[0;31m         \u001b[0mloc\u001b[0m \u001b[0;34m=\u001b[0m \u001b[0mself\u001b[0m\u001b[0;34m.\u001b[0m\u001b[0mindex\u001b[0m\u001b[0;34m.\u001b[0m\u001b[0mget_loc\u001b[0m\u001b[0;34m(\u001b[0m\u001b[0mlabel\u001b[0m\u001b[0;34m)\u001b[0m\u001b[0;34m\u001b[0m\u001b[0;34m\u001b[0m\u001b[0m\n\u001b[0m\u001b[1;32m    962\u001b[0m         \u001b[0;32mreturn\u001b[0m \u001b[0mself\u001b[0m\u001b[0;34m.\u001b[0m\u001b[0mindex\u001b[0m\u001b[0;34m.\u001b[0m\u001b[0m_get_values_for_loc\u001b[0m\u001b[0;34m(\u001b[0m\u001b[0mself\u001b[0m\u001b[0;34m,\u001b[0m \u001b[0mloc\u001b[0m\u001b[0;34m,\u001b[0m \u001b[0mlabel\u001b[0m\u001b[0;34m)\u001b[0m\u001b[0;34m\u001b[0m\u001b[0;34m\u001b[0m\u001b[0m\n\u001b[1;32m    963\u001b[0m \u001b[0;34m\u001b[0m\u001b[0m\n",
      "\u001b[0;32m~/.local/lib/python3.8/site-packages/pandas/core/indexes/base.py\u001b[0m in \u001b[0;36mget_loc\u001b[0;34m(self, key, method, tolerance)\u001b[0m\n\u001b[1;32m   3080\u001b[0m                 \u001b[0;32mreturn\u001b[0m \u001b[0mself\u001b[0m\u001b[0;34m.\u001b[0m\u001b[0m_engine\u001b[0m\u001b[0;34m.\u001b[0m\u001b[0mget_loc\u001b[0m\u001b[0;34m(\u001b[0m\u001b[0mcasted_key\u001b[0m\u001b[0;34m)\u001b[0m\u001b[0;34m\u001b[0m\u001b[0;34m\u001b[0m\u001b[0m\n\u001b[1;32m   3081\u001b[0m             \u001b[0;32mexcept\u001b[0m \u001b[0mKeyError\u001b[0m \u001b[0;32mas\u001b[0m \u001b[0merr\u001b[0m\u001b[0;34m:\u001b[0m\u001b[0;34m\u001b[0m\u001b[0;34m\u001b[0m\u001b[0m\n\u001b[0;32m-> 3082\u001b[0;31m                 \u001b[0;32mraise\u001b[0m \u001b[0mKeyError\u001b[0m\u001b[0;34m(\u001b[0m\u001b[0mkey\u001b[0m\u001b[0;34m)\u001b[0m \u001b[0;32mfrom\u001b[0m \u001b[0merr\u001b[0m\u001b[0;34m\u001b[0m\u001b[0;34m\u001b[0m\u001b[0m\n\u001b[0m\u001b[1;32m   3083\u001b[0m \u001b[0;34m\u001b[0m\u001b[0m\n\u001b[1;32m   3084\u001b[0m         \u001b[0;32mif\u001b[0m \u001b[0mtolerance\u001b[0m \u001b[0;32mis\u001b[0m \u001b[0;32mnot\u001b[0m \u001b[0;32mNone\u001b[0m\u001b[0;34m:\u001b[0m\u001b[0;34m\u001b[0m\u001b[0;34m\u001b[0m\u001b[0m\n",
      "\u001b[0;31mKeyError\u001b[0m: 'freq'"
     ]
    }
   ],
   "source": [
    "bactria2freq = {}\n",
    "for bactria in contigs['Bacteria'].unique():\n",
    "    data = contigs[contigs['Bacteria']==bactria]        \n",
    "    freq = data.iloc[0,:]['freq']\n",
    "    bactria2freq[bactria] = freq\n",
    "bactria2freq = dict(sorted(bactria2freq.items(), key=lambda item: item[1]))"
   ]
  },
  {
   "cell_type": "code",
   "execution_count": null,
   "metadata": {},
   "outputs": [],
   "source": [
    "def my_autopct(pct):\n",
    "    return ('%.1f' % pct) if pct > 5 else ''\n",
    "s = sum(genome2freq.values())\n",
    "labels = []\n",
    "for key,value in genome2freq.items():\n",
    "    if( value > s * 0.05):\n",
    "        labels.append(key)\n",
    "    else:\n",
    "        labels.append('')\n",
    "sizes = genome2freq.values()#[15, 30, 45, 10]\n",
    "explode = [0 for _ in range(len(sizes))]\n",
    "fig1, ax1 = plt.subplots()\n",
    "ax1.pie(sizes, explode=explode, labels=labels, autopct=my_autopct,\n",
    "        shadow=True, startangle=90)\n",
    "ax1.axis('equal')  \n",
    "plt.show()"
   ]
  },
  {
   "cell_type": "markdown",
   "metadata": {
    "heading_collapsed": true
   },
   "source": [
    "# Show statistic result"
   ]
  },
  {
   "cell_type": "code",
   "execution_count": 112,
   "metadata": {
    "ExecuteTime": {
     "end_time": "2021-06-24T14:49:42.601649Z",
     "start_time": "2021-06-24T14:49:41.826161Z"
    },
    "hidden": true
   },
   "outputs": [
    {
     "name": "stdout",
     "output_type": "stream",
     "text": [
      "contigs number :  187685\n",
      "number of genomes:  266\n",
      "min : 2000\n",
      "max : 6186826\n",
      "mean : 8812.49\n",
      "median : 3286.0\n",
      "1st quartiles : 2460.0\n",
      "median : 3286.0\n",
      "3rd quartiles : 5233.0\n",
      "standard deviation : 90102.75\n",
      "variance : 8118505497.41\n"
     ]
    }
   ],
   "source": [
    "# show description of contigs and contigs length histogram.\n",
    "contigsLenght = contigs['contig'].apply(lambda x: len(x))\n",
    "print(f'contigs number :  {contigs.shape[0]}')\n",
    "try:\n",
    "    print(f\"number of genomes:  {len(contigs['genome_id'].unique())}\")\n",
    "except:\n",
    "    print(f\"number of genomes:  {len(contigs['Bacteria'].unique())}\")\n",
    "print(f'min : {contigsLenght.min()}')\n",
    "print(f'max : {contigsLenght.max()}')\n",
    "print(f'mean : {round(contigsLenght.mean(),2)}')\n",
    "print(f'median : {round(np.median(contigsLenght),2)}')\n",
    "print(f'1st quartiles : {round(np.percentile(contigsLenght, 25),2)}')\n",
    "print(f'median : {round(np.median(contigsLenght),2)}')\n",
    "print(f'3rd quartiles : {round(np.percentile(contigsLenght, 75),2)}')\n",
    "print(f'standard deviation : {round(np.std(contigsLenght),2)}')\n",
    "print(f'variance : {round(np.var(contigsLenght),2)}')"
   ]
  },
  {
   "cell_type": "code",
   "execution_count": null,
   "metadata": {
    "hidden": true
   },
   "outputs": [],
   "source": []
  }
 ],
 "metadata": {
  "kernelspec": {
   "display_name": "Python 3",
   "language": "python",
   "name": "python3"
  },
  "language_info": {
   "codemirror_mode": {
    "name": "ipython",
    "version": 3
   },
   "file_extension": ".py",
   "mimetype": "text/x-python",
   "name": "python",
   "nbconvert_exporter": "python",
   "pygments_lexer": "ipython3",
   "version": "3.8.5"
  }
 },
 "nbformat": 4,
 "nbformat_minor": 4
}
