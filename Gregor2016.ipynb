{
 "cells": [
  {
   "cell_type": "markdown",
   "metadata": {},
   "source": [
    "# Imports"
   ]
  },
  {
   "cell_type": "code",
   "execution_count": 121,
   "metadata": {
    "ExecuteTime": {
     "end_time": "2021-05-01T20:38:33.589867Z",
     "start_time": "2021-05-01T20:38:33.584903Z"
    }
   },
   "outputs": [],
   "source": [
    "#!pip install obonet  numpy pandas matplotlib  sklearn python-bidi arabic_reshaper "
   ]
  },
  {
   "cell_type": "code",
   "execution_count": 122,
   "metadata": {
    "ExecuteTime": {
     "end_time": "2021-05-01T20:38:33.754680Z",
     "start_time": "2021-05-01T20:38:33.748791Z"
    },
    "code_folding": [],
    "run_control": {
     "marked": true
    },
    "slideshow": {
     "slide_type": "-"
    }
   },
   "outputs": [],
   "source": [
    "import requests,sys,math,pickle\n",
    "import networkx,obonet\n",
    "import numpy as np ,pandas as pd, matplotlib.pyplot as plt\n",
    "import arabic_reshaper\n",
    "import multiprocessing as mp\n",
    "from sklearn.metrics.cluster import *\n",
    "from bidi.algorithm import get_display\n",
    "from functools import partial\n",
    "from IPython.display import clear_output"
   ]
  },
  {
   "cell_type": "code",
   "execution_count": 123,
   "metadata": {
    "ExecuteTime": {
     "end_time": "2021-05-01T20:38:34.063038Z",
     "start_time": "2021-05-01T20:38:34.058998Z"
    },
    "code_folding": []
   },
   "outputs": [],
   "source": [
    "def fa(text):\n",
    "    return get_display(arabic_reshaper.reshape(u'%s' % str(text)))"
   ]
  },
  {
   "cell_type": "code",
   "execution_count": 124,
   "metadata": {
    "ExecuteTime": {
     "end_time": "2021-05-01T20:38:35.365924Z",
     "start_time": "2021-05-01T20:38:35.361586Z"
    }
   },
   "outputs": [],
   "source": [
    "num_cores = max(mp.cpu_count() - 3, 1)"
   ]
  },
  {
   "cell_type": "markdown",
   "metadata": {
    "heading_collapsed": true
   },
   "source": [
    "# Load contigs dataset"
   ]
  },
  {
   "cell_type": "code",
   "execution_count": 127,
   "metadata": {
    "ExecuteTime": {
     "end_time": "2021-05-01T20:38:53.102077Z",
     "start_time": "2021-05-01T20:38:52.735396Z"
    },
    "code_folding": [],
    "hidden": true,
    "run_control": {
     "marked": false
    }
   },
   "outputs": [
    {
     "data": {
      "text/html": [
       "<div>\n",
       "<style scoped>\n",
       "    .dataframe tbody tr th:only-of-type {\n",
       "        vertical-align: middle;\n",
       "    }\n",
       "\n",
       "    .dataframe tbody tr th {\n",
       "        vertical-align: top;\n",
       "    }\n",
       "\n",
       "    .dataframe thead th {\n",
       "        text-align: right;\n",
       "    }\n",
       "</style>\n",
       "<table border=\"1\" class=\"dataframe\">\n",
       "  <thead>\n",
       "    <tr style=\"text-align: right;\">\n",
       "      <th></th>\n",
       "      <th>#anonymous_gsa_id</th>\n",
       "      <th>contig</th>\n",
       "    </tr>\n",
       "  </thead>\n",
       "  <tbody>\n",
       "    <tr>\n",
       "      <th>0</th>\n",
       "      <td>11543</td>\n",
       "      <td>CCGTGGAGATCATGTTCAGCGTCGTGAAGCCGTCGATGGCCTGGTA...</td>\n",
       "    </tr>\n",
       "    <tr>\n",
       "      <th>1</th>\n",
       "      <td>11546</td>\n",
       "      <td>GCAATGTTCCGGTGGTTCTTCGGGAACAGCGGGCCGACCAGGAGTC...</td>\n",
       "    </tr>\n",
       "    <tr>\n",
       "      <th>2</th>\n",
       "      <td>11544</td>\n",
       "      <td>CATAGAGTTGAGAGTCACAGTGATGGAACTGAAAGCCATGGCGAGT...</td>\n",
       "    </tr>\n",
       "    <tr>\n",
       "      <th>3</th>\n",
       "      <td>11545</td>\n",
       "      <td>CAAAAGCAGATGGCAGATTGAATTGTTCTTCAAATGGATAAAACAG...</td>\n",
       "    </tr>\n",
       "    <tr>\n",
       "      <th>4</th>\n",
       "      <td>11549</td>\n",
       "      <td>CTTGTGGATACGGGCAACGTGCTTTTTTGCTTTCAAGCGGTTGTTG...</td>\n",
       "    </tr>\n",
       "  </tbody>\n",
       "</table>\n",
       "</div>"
      ],
      "text/plain": [
       "  #anonymous_gsa_id                                             contig\n",
       "0             11543  CCGTGGAGATCATGTTCAGCGTCGTGAAGCCGTCGATGGCCTGGTA...\n",
       "1             11546  GCAATGTTCCGGTGGTTCTTCGGGAACAGCGGGCCGACCAGGAGTC...\n",
       "2             11544  CATAGAGTTGAGAGTCACAGTGATGGAACTGAAAGCCATGGCGAGT...\n",
       "3             11545  CAAAAGCAGATGGCAGATTGAATTGTTCTTCAAATGGATAAAACAG...\n",
       "4             11549  CTTGTGGATACGGGCAACGTGCTTTTTTGCTTTCAAGCGGTTGTTG..."
      ]
     },
     "execution_count": 127,
     "metadata": {},
     "output_type": "execute_result"
    }
   ],
   "source": [
    "# load anonymous contigs and save in contigs data frame.\n",
    "path_contigs = \"./Dataset/Gregor2016/simulated_dataset_uniform.fna\"\n",
    "\n",
    "with open(path_contigs, 'r') as file:\n",
    "    lines = [line for line in file.read().split('\\n') if len(line) > 0]    \n",
    "    contigs = pd.DataFrame(\n",
    "        {\n",
    "            '#anonymous_gsa_id': lines[0::2],\n",
    "            'contig': lines[1::2]\n",
    "        },\n",
    "        columns=['#anonymous_gsa_id', 'contig'])\n",
    "    contigs['#anonymous_gsa_id'] = contigs['#anonymous_gsa_id'].apply(\n",
    "        lambda x: x[1:])\n",
    "del(lines)\n",
    "contigs.head()"
   ]
  },
  {
   "cell_type": "code",
   "execution_count": 128,
   "metadata": {
    "ExecuteTime": {
     "end_time": "2021-05-01T20:38:53.156477Z",
     "start_time": "2021-05-01T20:38:53.105305Z"
    },
    "code_folding": [],
    "hidden": true,
    "run_control": {
     "marked": false
    },
    "scrolled": true
   },
   "outputs": [
    {
     "name": "stdout",
     "output_type": "stream",
     "text": [
      "contigs number :  14393\n",
      "number of genomes:  47\n"
     ]
    },
    {
     "data": {
      "text/html": [
       "<div>\n",
       "<style scoped>\n",
       "    .dataframe tbody tr th:only-of-type {\n",
       "        vertical-align: middle;\n",
       "    }\n",
       "\n",
       "    .dataframe tbody tr th {\n",
       "        vertical-align: top;\n",
       "    }\n",
       "\n",
       "    .dataframe thead th {\n",
       "        text-align: right;\n",
       "    }\n",
       "</style>\n",
       "<table border=\"1\" class=\"dataframe\">\n",
       "  <thead>\n",
       "    <tr style=\"text-align: right;\">\n",
       "      <th></th>\n",
       "      <th>#anonymous_gsa_id</th>\n",
       "      <th>contig</th>\n",
       "      <th>tax_id</th>\n",
       "      <th>contig_length</th>\n",
       "    </tr>\n",
       "  </thead>\n",
       "  <tbody>\n",
       "    <tr>\n",
       "      <th>0</th>\n",
       "      <td>11543</td>\n",
       "      <td>CCGTGGAGATCATGTTCAGCGTCGTGAAGCCGTCGATGGCCTGGTA...</td>\n",
       "      <td>369723</td>\n",
       "      <td>1394</td>\n",
       "    </tr>\n",
       "  </tbody>\n",
       "</table>\n",
       "</div>"
      ],
      "text/plain": [
       "  #anonymous_gsa_id                                             contig  \\\n",
       "0             11543  CCGTGGAGATCATGTTCAGCGTCGTGAAGCCGTCGATGGCCTGGTA...   \n",
       "\n",
       "   tax_id  contig_length  \n",
       "0  369723           1394  "
      ]
     },
     "execution_count": 128,
     "metadata": {},
     "output_type": "execute_result"
    }
   ],
   "source": [
    "# load gold standard file and append to contig data frame.\n",
    "path_gold_standard = \"./Dataset/Gregor2016/simulated_dataset_uniform.csv\"\n",
    "df = pd.read_csv(path_gold_standard, sep='\\t', header=None)\n",
    "df.columns = ['#anonymous_gsa_id', 'tax_id']\n",
    "contigs = pd.merge(contigs, df, how='inner', on='#anonymous_gsa_id')\n",
    "contigs[\"contig_length\"] = contigs[\"contig\"].apply(lambda x: len(x))\n",
    "print(f'contigs number :  {contigs.shape[0]}')\n",
    "print(f\"number of genomes:  {len(contigs['tax_id'].unique())}\")\n",
    "del(df)\n",
    "contigs.head(1)"
   ]
  },
  {
   "cell_type": "markdown",
   "metadata": {
    "hidden": true
   },
   "source": [
    "##  Contigs description"
   ]
  },
  {
   "cell_type": "code",
   "execution_count": 129,
   "metadata": {
    "ExecuteTime": {
     "end_time": "2021-05-01T20:38:54.972941Z",
     "start_time": "2021-05-01T20:38:54.416441Z"
    },
    "code_folding": [
     0
    ],
    "hidden": true,
    "scrolled": true
   },
   "outputs": [
    {
     "name": "stdout",
     "output_type": "stream",
     "text": [
      "min : 1000\n",
      "max : 709034\n",
      "mean : 9904.57\n",
      "median : 3531.0\n",
      "1st quartiles : 1779.0\n",
      "median : 3531.0\n",
      "3rd quartiles : 9100.0\n",
      "standard deviation : 22002.54\n",
      "variance : 484111797.66\n"
     ]
    },
    {
     "data": {
      "image/png": "[encoded data removed]",
      "text/plain": [
       "<Figure size 432x288 with 1 Axes>"
      ]
     },
     "metadata": {
      "needs_background": "light"
     },
     "output_type": "display_data"
    }
   ],
   "source": [
    "# show description of contigs and contigs length histogram.\n",
    "contigsLenght = contigs['contig'].apply(lambda x: len(x))\n",
    "\n",
    "print(f'min : {contigsLenght.min()}')\n",
    "print(f'max : {contigsLenght.max()}')\n",
    "print(f'mean : {round(contigsLenght.mean(),2)}')\n",
    "print(f'median : {round(np.median(contigsLenght),2)}')\n",
    "print(f'1st quartiles : {round(np.percentile(contigsLenght, 25),2)}')\n",
    "print(f'median : {round(np.median(contigsLenght),2)}')\n",
    "print(f'3rd quartiles : {round(np.percentile(contigsLenght, 75),2)}')\n",
    "print(f'standard deviation : {round(np.std(contigsLenght),2)}')\n",
    "print(f'variance : {round(np.var(contigsLenght),2)}')\n",
    "\n",
    "plt.hist(contigsLenght[contigsLenght < 2000], bins=100)\n",
    "plt.show()"
   ]
  },
  {
   "cell_type": "code",
   "execution_count": 130,
   "metadata": {
    "ExecuteTime": {
     "end_time": "2021-05-01T20:38:57.611087Z",
     "start_time": "2021-05-01T20:38:56.881327Z"
    },
    "code_folding": [],
    "hidden": true,
    "run_control": {
     "marked": true
    }
   },
   "outputs": [
    {
     "data": {
      "image/png": "[encoded data removed]",
      "text/plain": [
       "<Figure size 432x288 with 1 Axes>"
      ]
     },
     "metadata": {
      "needs_background": "light"
     },
     "output_type": "display_data"
    }
   ],
   "source": [
    "# show contig frequancy for every genome.\n",
    "ax = contigs['tax_id'].value_counts().plot(kind='bar',\n",
    "                                              title='Genome frequency')\n",
    "plt.xlabel('tax id')\n",
    "plt.ylabel('frequency')\n",
    "plt.show()"
   ]
  },
  {
   "cell_type": "code",
   "execution_count": 131,
   "metadata": {
    "ExecuteTime": {
     "end_time": "2021-05-01T20:38:57.664977Z",
     "start_time": "2021-05-01T20:38:57.614222Z"
    },
    "code_folding": [],
    "hidden": true,
    "run_control": {
     "marked": true
    }
   },
   "outputs": [],
   "source": [
    "# save gold standard data as CAMI binning Bioboxes format.\n",
    "path_gold_standard_output = \"./Output/Gregor2016/gold_standard.biobox\"\n",
    "\n",
    "contigs[['#anonymous_gsa_id', 'tax_id', 'tax_id',\n",
    "         'contig_length']].to_csv(path_gold_standard_output, index=None, sep='\\t')\n",
    "\n",
    "with open(path_gold_standard_output, 'r') as file:\n",
    "    file.readline()\n",
    "    text = file.read()\n",
    "\n",
    "with open(path_gold_standard_output, 'w', encoding='utf8') as file:\n",
    "    file.write(\n",
    "        \"@Version:0.9.1\\n@SampleID:gsa\\n\\n@@SEQUENCEID\\tBINID\\tTAXID\\t_LENGTH\\n\"\n",
    "        + text)"
   ]
  },
  {
   "cell_type": "markdown",
   "metadata": {
    "hidden": true
   },
   "source": [
    "## Busybee method with threshold 0%"
   ]
  },
  {
   "cell_type": "code",
   "execution_count": 132,
   "metadata": {
    "ExecuteTime": {
     "end_time": "2021-05-01T20:38:58.449566Z",
     "start_time": "2021-05-01T20:38:57.889214Z"
    },
    "code_folding": [],
    "hidden": true,
    "run_control": {
     "marked": true
    }
   },
   "outputs": [
    {
     "data": {
      "image/png": "[encoded data removed]",
      "text/plain": [
       "<Figure size 432x288 with 1 Axes>"
      ]
     },
     "metadata": {
      "needs_background": "light"
     },
     "output_type": "display_data"
    },
    {
     "data": {
      "text/html": [
       "<div>\n",
       "<style scoped>\n",
       "    .dataframe tbody tr th:only-of-type {\n",
       "        vertical-align: middle;\n",
       "    }\n",
       "\n",
       "    .dataframe tbody tr th {\n",
       "        vertical-align: top;\n",
       "    }\n",
       "\n",
       "    .dataframe thead th {\n",
       "        text-align: right;\n",
       "    }\n",
       "</style>\n",
       "<table border=\"1\" class=\"dataframe\">\n",
       "  <thead>\n",
       "    <tr style=\"text-align: right;\">\n",
       "      <th></th>\n",
       "      <th>#anonymous_gsa_id</th>\n",
       "      <th>contig</th>\n",
       "      <th>tax_id</th>\n",
       "      <th>contig_length</th>\n",
       "      <th>Busybee_bin0Percent</th>\n",
       "    </tr>\n",
       "  </thead>\n",
       "  <tbody>\n",
       "    <tr>\n",
       "      <th>0</th>\n",
       "      <td>11543</td>\n",
       "      <td>CCGTGGAGATCATGTTCAGCGTCGTGAAGCCGTCGATGGCCTGGTA...</td>\n",
       "      <td>369723</td>\n",
       "      <td>1394</td>\n",
       "      <td>11</td>\n",
       "    </tr>\n",
       "  </tbody>\n",
       "</table>\n",
       "</div>"
      ],
      "text/plain": [
       "  #anonymous_gsa_id                                             contig  \\\n",
       "0             11543  CCGTGGAGATCATGTTCAGCGTCGTGAAGCCGTCGATGGCCTGGTA...   \n",
       "\n",
       "   tax_id  contig_length  Busybee_bin0Percent  \n",
       "0  369723           1394                   11  "
      ]
     },
     "execution_count": 132,
     "metadata": {},
     "output_type": "execute_result"
    }
   ],
   "source": [
    "# read output of busybee method and append to contigs data frame.\n",
    "path_busybee_0_percent = \"./Binning/Gregor2016/Binning_busybee_0Percent/contigs.tab\"\n",
    "path_busybee_table_0_percent = \"./Binning/Gregor2016/Binning_busybee_0Percent/binning/contigs.bin.table.tsv\"\n",
    "\n",
    "contig2Id = pd.read_csv(path_busybee_0_percent, sep='\\t', header=None)\n",
    "contig2Id.columns = ['#anonymous_gsa_id', 'id']\n",
    "\n",
    "ID2Bin = pd.read_csv(path_busybee_table_0_percent, sep='\\t', header=None)\n",
    "ID2Bin.columns = ['id', 'Busybee_bin0Percent']\n",
    "\n",
    "Busybee_bin = pd.merge(contig2Id, ID2Bin, how='outer', on='id')\n",
    "Busybee_bin = Busybee_bin.drop(['id'], axis=1)\n",
    "\n",
    "## merge contigs and genome_id\n",
    "contigs = pd.merge(contigs, Busybee_bin, how='outer', on='#anonymous_gsa_id')\n",
    "contigs['Busybee_bin0Percent'] = contigs['Busybee_bin0Percent'].fillna(0)\n",
    "\n",
    "del(contig2Id, ID2Bin, Busybee_bin)\n",
    "# show contigs frequancy of each bins.\n",
    "ax = contigs['Busybee_bin0Percent'].value_counts().plot(\n",
    "    kind='bar', title='Binning frequency')\n",
    "plt.xlabel('Bins')\n",
    "plt.ylabel('frequency')\n",
    "plt.show()\n",
    "\n",
    "contigs.head(1)"
   ]
  },
  {
   "cell_type": "code",
   "execution_count": 133,
   "metadata": {
    "ExecuteTime": {
     "end_time": "2021-05-01T20:38:58.491134Z",
     "start_time": "2021-05-01T20:38:58.452559Z"
    },
    "code_folding": [],
    "hidden": true,
    "run_control": {
     "marked": true
    }
   },
   "outputs": [],
   "source": [
    "# save busybe 0% output as CAMI binning Bioboxes format\n",
    "busybee_0_percent_output = \"./Output/Gregor2016/Busybee_bin0Percent.biobox\"\n",
    "\n",
    "df = contigs[['#anonymous_gsa_id', 'Busybee_bin0Percent']]\n",
    "df[df[\"Busybee_bin0Percent\"] != 0].to_csv(busybee_0_percent_output,\n",
    "                                          index=None,\n",
    "                                          sep='\\t')\n",
    "with open(busybee_0_percent_output, 'r') as file:\n",
    "    file.readline()\n",
    "    text = file.read()\n",
    "with open(busybee_0_percent_output, 'w', encoding='utf8') as file:\n",
    "    file.write(\"@Version:0.9.1\\n@SampleID:gsa\\n\\n@@SEQUENCEID\\tBINID\\n\" + text)"
   ]
  },
  {
   "cell_type": "markdown",
   "metadata": {
    "hidden": true
   },
   "source": [
    "## Busybee method with threshold 20%"
   ]
  },
  {
   "cell_type": "code",
   "execution_count": 134,
   "metadata": {
    "ExecuteTime": {
     "end_time": "2021-05-01T20:39:00.026866Z",
     "start_time": "2021-05-01T20:38:58.741467Z"
    },
    "code_folding": [],
    "hidden": true,
    "run_control": {
     "marked": true
    }
   },
   "outputs": [
    {
     "data": {
      "image/png": "[encoded data removed]",
      "text/plain": [
       "<Figure size 432x288 with 1 Axes>"
      ]
     },
     "metadata": {
      "needs_background": "light"
     },
     "output_type": "display_data"
    },
    {
     "data": {
      "text/html": [
       "<div>\n",
       "<style scoped>\n",
       "    .dataframe tbody tr th:only-of-type {\n",
       "        vertical-align: middle;\n",
       "    }\n",
       "\n",
       "    .dataframe tbody tr th {\n",
       "        vertical-align: top;\n",
       "    }\n",
       "\n",
       "    .dataframe thead th {\n",
       "        text-align: right;\n",
       "    }\n",
       "</style>\n",
       "<table border=\"1\" class=\"dataframe\">\n",
       "  <thead>\n",
       "    <tr style=\"text-align: right;\">\n",
       "      <th></th>\n",
       "      <th>#anonymous_gsa_id</th>\n",
       "      <th>contig</th>\n",
       "      <th>tax_id</th>\n",
       "      <th>contig_length</th>\n",
       "      <th>Busybee_bin0Percent</th>\n",
       "      <th>Busybee_bin20Percent</th>\n",
       "    </tr>\n",
       "  </thead>\n",
       "  <tbody>\n",
       "    <tr>\n",
       "      <th>0</th>\n",
       "      <td>11543</td>\n",
       "      <td>CCGTGGAGATCATGTTCAGCGTCGTGAAGCCGTCGATGGCCTGGTA...</td>\n",
       "      <td>369723</td>\n",
       "      <td>1394</td>\n",
       "      <td>11</td>\n",
       "      <td>0</td>\n",
       "    </tr>\n",
       "  </tbody>\n",
       "</table>\n",
       "</div>"
      ],
      "text/plain": [
       "  #anonymous_gsa_id                                             contig  \\\n",
       "0             11543  CCGTGGAGATCATGTTCAGCGTCGTGAAGCCGTCGATGGCCTGGTA...   \n",
       "\n",
       "   tax_id  contig_length  Busybee_bin0Percent  Busybee_bin20Percent  \n",
       "0  369723           1394                   11                     0  "
      ]
     },
     "execution_count": 134,
     "metadata": {},
     "output_type": "execute_result"
    }
   ],
   "source": [
    "# read output of busybee method and append to contigs data frame.\n",
    "busybee_20_percent = \"./Binning/Gregor2016/Binning_busybee_20Percent/contigs.tab\"\n",
    "busybee_table_20_percent = \"./Binning/Gregor2016/Binning_busybee_20Percent/binning/contigs.bin.table.tsv\"\n",
    "\n",
    "contig2Id = pd.read_csv(busybee_20_percent, sep='\\t', header=None)\n",
    "contig2Id.columns = ['#anonymous_gsa_id', 'id']\n",
    "\n",
    "ID2Bin = pd.read_csv(busybee_table_20_percent, sep='\\t', header=None)\n",
    "ID2Bin.columns = ['id', 'Busybee_bin20Percent']\n",
    "\n",
    "Busybee_bin = pd.merge(contig2Id, ID2Bin, how='outer', on='id')\n",
    "Busybee_bin = Busybee_bin.drop(['id'], axis=1)\n",
    "\n",
    "## merge contigs and genome_id\n",
    "contigs = pd.merge(contigs, Busybee_bin, how='outer', on='#anonymous_gsa_id')\n",
    "contigs['Busybee_bin20Percent'] = contigs['Busybee_bin20Percent'].fillna(0)\n",
    "\n",
    "del(contig2Id, ID2Bin, Busybee_bin)\n",
    "\n",
    "ax = contigs['Busybee_bin20Percent'].value_counts().plot(\n",
    "    kind='bar', title='Binning frequency')\n",
    "plt.xlabel('Bins')\n",
    "plt.ylabel('frequency')\n",
    "plt.show()\n",
    "\n",
    "contigs.head(1)"
   ]
  },
  {
   "cell_type": "code",
   "execution_count": 135,
   "metadata": {
    "ExecuteTime": {
     "end_time": "2021-05-01T20:39:00.069406Z",
     "start_time": "2021-05-01T20:39:00.030242Z"
    },
    "code_folding": [],
    "hidden": true,
    "run_control": {
     "marked": true
    }
   },
   "outputs": [],
   "source": [
    "#CAMI binning Bioboxes format\n",
    "busybee_20_percent_output = \"./Output/Gregor2016/Busybee_bin20Percent.biobox\"\n",
    "\n",
    "df = contigs[['#anonymous_gsa_id', 'Busybee_bin20Percent']]\n",
    "df[df[\"Busybee_bin20Percent\"] != 0].to_csv(busybee_20_percent_output,\n",
    "                                           index=None,\n",
    "                                           sep='\\t')\n",
    "\n",
    "with open(busybee_20_percent_output, 'r') as file:\n",
    "    file.readline()\n",
    "    text = file.read()\n",
    "    \n",
    "with open(busybee_20_percent_output, 'w', encoding='utf8') as file:\n",
    "    file.write(\"@Version:0.9.1\\n@SampleID:gsa\\n\\n@@SEQUENCEID\\tBINID\\n\" + text)"
   ]
  },
  {
   "cell_type": "markdown",
   "metadata": {
    "hidden": true
   },
   "source": [
    "## Busybee method with threshold 50%"
   ]
  },
  {
   "cell_type": "code",
   "execution_count": 136,
   "metadata": {
    "ExecuteTime": {
     "end_time": "2021-05-01T20:39:00.654825Z",
     "start_time": "2021-05-01T20:39:00.072660Z"
    },
    "code_folding": [],
    "hidden": true
   },
   "outputs": [
    {
     "data": {
      "image/png": "[encoded data removed]",
      "text/plain": [
       "<Figure size 432x288 with 1 Axes>"
      ]
     },
     "metadata": {
      "needs_background": "light"
     },
     "output_type": "display_data"
    },
    {
     "data": {
      "text/html": [
       "<div>\n",
       "<style scoped>\n",
       "    .dataframe tbody tr th:only-of-type {\n",
       "        vertical-align: middle;\n",
       "    }\n",
       "\n",
       "    .dataframe tbody tr th {\n",
       "        vertical-align: top;\n",
       "    }\n",
       "\n",
       "    .dataframe thead th {\n",
       "        text-align: right;\n",
       "    }\n",
       "</style>\n",
       "<table border=\"1\" class=\"dataframe\">\n",
       "  <thead>\n",
       "    <tr style=\"text-align: right;\">\n",
       "      <th></th>\n",
       "      <th>#anonymous_gsa_id</th>\n",
       "      <th>contig</th>\n",
       "      <th>tax_id</th>\n",
       "      <th>contig_length</th>\n",
       "      <th>Busybee_bin0Percent</th>\n",
       "      <th>Busybee_bin20Percent</th>\n",
       "      <th>Busybee_bin50Percent</th>\n",
       "    </tr>\n",
       "  </thead>\n",
       "  <tbody>\n",
       "    <tr>\n",
       "      <th>0</th>\n",
       "      <td>11543</td>\n",
       "      <td>CCGTGGAGATCATGTTCAGCGTCGTGAAGCCGTCGATGGCCTGGTA...</td>\n",
       "      <td>369723</td>\n",
       "      <td>1394</td>\n",
       "      <td>11</td>\n",
       "      <td>0</td>\n",
       "      <td>0</td>\n",
       "    </tr>\n",
       "  </tbody>\n",
       "</table>\n",
       "</div>"
      ],
      "text/plain": [
       "  #anonymous_gsa_id                                             contig  \\\n",
       "0             11543  CCGTGGAGATCATGTTCAGCGTCGTGAAGCCGTCGATGGCCTGGTA...   \n",
       "\n",
       "   tax_id  contig_length  Busybee_bin0Percent  Busybee_bin20Percent  \\\n",
       "0  369723           1394                   11                     0   \n",
       "\n",
       "   Busybee_bin50Percent  \n",
       "0                     0  "
      ]
     },
     "execution_count": 136,
     "metadata": {},
     "output_type": "execute_result"
    }
   ],
   "source": [
    "# read output of busybee method and append to contigs data frame.\n",
    "busybee_50_percent = \"./Binning/Gregor2016/Binning_busybee_50Percent/contigs.tab\"\n",
    "busybee_table_50_percent = \"./Binning/Gregor2016/Binning_busybee_50Percent/binning/contigs.bin.table.tsv\"\n",
    "\n",
    "contig2Id = pd.read_csv(busybee_50_percent, sep='\\t', header=None)\n",
    "contig2Id.columns = ['#anonymous_gsa_id', 'id']\n",
    "\n",
    "ID2Bin = pd.read_csv(busybee_table_50_percent, sep='\\t', header=None)\n",
    "ID2Bin.columns = ['id', 'Busybee_bin50Percent']\n",
    "\n",
    "Busybee_bin = pd.merge(contig2Id, ID2Bin, how='outer', on='id')\n",
    "Busybee_bin = Busybee_bin.drop(['id'], axis=1)\n",
    "\n",
    "## merge contigs and genome_id\n",
    "contigs = pd.merge(contigs, Busybee_bin, how='outer', on='#anonymous_gsa_id')\n",
    "contigs['Busybee_bin50Percent'] = contigs['Busybee_bin50Percent'].fillna(0)\n",
    "\n",
    "del(contig2Id, ID2Bin, Busybee_bin)\n",
    "ax = contigs['Busybee_bin50Percent'].value_counts().plot(\n",
    "    kind='bar', title='Binning frequency')\n",
    "plt.xlabel('Bins')\n",
    "plt.ylabel('frequency')\n",
    "plt.show()\n",
    "contigs.head(1)"
   ]
  },
  {
   "cell_type": "code",
   "execution_count": 137,
   "metadata": {
    "ExecuteTime": {
     "end_time": "2021-05-01T20:39:00.867498Z",
     "start_time": "2021-05-01T20:39:00.831798Z"
    },
    "code_folding": [],
    "hidden": true
   },
   "outputs": [],
   "source": [
    "#CAMI binning Bioboxes format\n",
    "busybee_50_percent_output = \"./Output/Gregor2016/Busybee_bin50Percent.biobox\"\n",
    "df = contigs[['#anonymous_gsa_id', 'Busybee_bin50Percent']]\n",
    "df[df[\"Busybee_bin50Percent\"] != 0].to_csv(busybee_50_percent_output,\n",
    "                                           index=None,\n",
    "                                           sep='\\t')\n",
    "with open(busybee_50_percent_output, 'r') as file:\n",
    "    file.readline()\n",
    "    text = file.read()\n",
    "with open(busybee_50_percent_output, 'w', encoding='utf8') as file:\n",
    "    file.write(\"@Version:0.9.1\\n@SampleID:gsa\\n\\n@@SEQUENCEID\\tBINID\\n\" + text)"
   ]
  },
  {
   "cell_type": "markdown",
   "metadata": {},
   "source": [
    "# Gene Ontology\n",
    "## https://www.ebi.ac.uk/QuickGO/api/index.html#/gene_ontology"
   ]
  },
  {
   "cell_type": "code",
   "execution_count": 262,
   "metadata": {
    "ExecuteTime": {
     "end_time": "2021-05-01T21:40:02.325074Z",
     "start_time": "2021-05-01T21:40:01.190271Z"
    }
   },
   "outputs": [
    {
     "name": "stdout",
     "output_type": "stream",
     "text": [
      "gene2go table shape is : (357169, 10)\n",
      "The number of contigs to which a GO term assigned is : 41664\n",
      "The number of unique GO term assigned is : 7093\n"
     ]
    },
    {
     "name": "stderr",
     "output_type": "stream",
     "text": [
      "/usr/local/lib/python3.8/dist-packages/IPython/core/interactiveshell.py:3146: DtypeWarning: Columns (1) have mixed types.Specify dtype option on import or set low_memory=False.\n",
      "  has_raised = await self.run_ast_nodes(code_ast.body, cell_name,\n"
     ]
    },
    {
     "data": {
      "text/html": [
       "<div>\n",
       "<style scoped>\n",
       "    .dataframe tbody tr th:only-of-type {\n",
       "        vertical-align: middle;\n",
       "    }\n",
       "\n",
       "    .dataframe tbody tr th {\n",
       "        vertical-align: top;\n",
       "    }\n",
       "\n",
       "    .dataframe thead th {\n",
       "        text-align: right;\n",
       "    }\n",
       "</style>\n",
       "<table border=\"1\" class=\"dataframe\">\n",
       "  <thead>\n",
       "    <tr style=\"text-align: right;\">\n",
       "      <th></th>\n",
       "      <th>#Gene</th>\n",
       "      <th>Contig</th>\n",
       "      <th>Start</th>\n",
       "      <th>End</th>\n",
       "      <th>Gene_Length</th>\n",
       "      <th>Strand</th>\n",
       "      <th>SP</th>\n",
       "      <th>TM</th>\n",
       "      <th>go_id</th>\n",
       "      <th>Taxonomy</th>\n",
       "    </tr>\n",
       "  </thead>\n",
       "  <tbody>\n",
       "    <tr>\n",
       "      <th>metaerg.pl|00002</th>\n",
       "      <td>6631</td>\n",
       "      <td>473</td>\n",
       "      <td>1252</td>\n",
       "      <td>780</td>\n",
       "      <td>1</td>\n",
       "      <td>No</td>\n",
       "      <td>0</td>\n",
       "      <td>GO:0004190</td>\n",
       "      <td>aspartic-type endopeptidase activity</td>\n",
       "      <td>d__Bacteria;p__Aquificota;c__Aquificae;o__Hydr...</td>\n",
       "    </tr>\n",
       "  </tbody>\n",
       "</table>\n",
       "</div>"
      ],
      "text/plain": [
       "                 #Gene  Contig  Start  End  Gene_Length Strand  SP  \\\n",
       "metaerg.pl|00002  6631     473   1252  780            1     No   0   \n",
       "\n",
       "                          TM                                 go_id  \\\n",
       "metaerg.pl|00002  GO:0004190  aspartic-type endopeptidase activity   \n",
       "\n",
       "                                                           Taxonomy  \n",
       "metaerg.pl|00002  d__Bacteria;p__Aquificota;c__Aquificae;o__Hydr...  "
      ]
     },
     "execution_count": 262,
     "metadata": {},
     "output_type": "execute_result"
    }
   ],
   "source": [
    "annotation_go = \"./Annotation/Gregor2016/data/cds.gene2go.tab.txt\"\n",
    "go = pd.read_csv(annotation_go,sep='\\t')\n",
    "print(f'gene2go table shape is : {go.shape}')\n",
    "print(f'The number of contigs to which a GO term assigned is : {len(go[\"Contig\"].unique())}')\n",
    "print(f'The number of unique GO term assigned is : {len(go[\"TM\"].unique())}')\n",
    "go.head(1)"
   ]
  },
  {
   "cell_type": "code",
   "execution_count": 263,
   "metadata": {
    "ExecuteTime": {
     "end_time": "2021-05-01T21:40:02.365314Z",
     "start_time": "2021-05-01T21:40:02.328488Z"
    }
   },
   "outputs": [
    {
     "data": {
      "text/html": [
       "<div>\n",
       "<style scoped>\n",
       "    .dataframe tbody tr th:only-of-type {\n",
       "        vertical-align: middle;\n",
       "    }\n",
       "\n",
       "    .dataframe tbody tr th {\n",
       "        vertical-align: top;\n",
       "    }\n",
       "\n",
       "    .dataframe thead th {\n",
       "        text-align: right;\n",
       "    }\n",
       "</style>\n",
       "<table border=\"1\" class=\"dataframe\">\n",
       "  <thead>\n",
       "    <tr style=\"text-align: right;\">\n",
       "      <th></th>\n",
       "      <th>#GO_id</th>\n",
       "      <th>Name</th>\n",
       "      <th>Count</th>\n",
       "      <th>Count_pct</th>\n",
       "      <th>Abund</th>\n",
       "      <th>Abund_pct</th>\n",
       "    </tr>\n",
       "  </thead>\n",
       "  <tbody>\n",
       "    <tr>\n",
       "      <th>4857</th>\n",
       "      <td>GO:0005737</td>\n",
       "      <td>cytoplasm</td>\n",
       "      <td>14337</td>\n",
       "      <td>10.71</td>\n",
       "      <td>0</td>\n",
       "      <td>0</td>\n",
       "    </tr>\n",
       "  </tbody>\n",
       "</table>\n",
       "</div>"
      ],
      "text/plain": [
       "          #GO_id       Name  Count  Count_pct  Abund  Abund_pct\n",
       "4857  GO:0005737  cytoplasm  14337      10.71      0          0"
      ]
     },
     "execution_count": 263,
     "metadata": {},
     "output_type": "execute_result"
    }
   ],
   "source": [
    "annotation_go_profile = \"./Annotation/Gregor2016/data/go.cds.profile.tab.txt\"\n",
    "go_profile = pd.read_csv(annotation_go_profile,sep='\\t')\n",
    "go_profile = go_profile.sort_values(by ='Count' ,ascending=False)\n",
    "go_profile.head(1)"
   ]
  },
  {
   "cell_type": "code",
   "execution_count": 264,
   "metadata": {
    "ExecuteTime": {
     "end_time": "2021-05-01T21:40:03.537278Z",
     "start_time": "2021-05-01T21:40:02.826468Z"
    }
   },
   "outputs": [
    {
     "name": "stdout",
     "output_type": "stream",
     "text": [
      "5.0\n"
     ]
    },
    {
     "data": {
      "image/png": "[encoded data removed]",
      "text/plain": [
       "<Figure size 432x288 with 1 Axes>"
      ]
     },
     "metadata": {
      "needs_background": "light"
     },
     "output_type": "display_data"
    },
    {
     "data": {
      "image/png": "[encoded data removed]",
      "text/plain": [
       "<Figure size 432x288 with 1 Axes>"
      ]
     },
     "metadata": {
      "needs_background": "light"
     },
     "output_type": "display_data"
    }
   ],
   "source": [
    "print(np.median(list(go['TM'].value_counts())))\n",
    "plt.plot(list(go['TM'].value_counts()))\n",
    "plt.title('show GO frequency number')\n",
    "plt.show()\n",
    "\n",
    "plt.plot(list(go['TM'].value_counts()[:100]))\n",
    "plt.title('show first 100 GO frequency number')\n",
    "plt.show()"
   ]
  },
  {
   "cell_type": "markdown",
   "metadata": {
    "heading_collapsed": true
   },
   "source": [
    "## Add namespace [ cc, bp, mf ]"
   ]
  },
  {
   "cell_type": "code",
   "execution_count": 265,
   "metadata": {
    "ExecuteTime": {
     "end_time": "2021-05-01T21:41:22.206899Z",
     "start_time": "2021-05-01T21:40:21.600039Z"
    },
    "code_folding": [],
    "hidden": true,
    "run_control": {
     "marked": true
    }
   },
   "outputs": [
    {
     "name": "stdout",
     "output_type": "stream",
     "text": [
      "GO:0003996\n",
      "GO:0015595\n",
      "GO:0055114\n",
      "GO:0023014\n",
      "GO:0004003\n",
      "GO:0048037\n",
      "GO:0015991\n",
      "GO:0008565\n",
      "GO:0050662\n",
      "GO:0005623\n",
      "GO:0070011\n",
      "GO:0042623\n",
      "GO:0009108\n",
      "GO:0004004\n",
      "GO:0043140\n",
      "GO:0051188\n",
      "GO:0008026\n",
      "GO:0043142\n",
      "GO:0044212\n",
      "GO:0102008\n",
      "GO:0052143\n",
      "GO:0043775\n",
      "GO:0102017\n",
      "GO:0015604\n",
      "GO:0018192\n",
      "GO:0045153\n",
      "GO:0043725\n",
      "GO:0043141\n",
      "GO:0015672\n",
      "GO:0015077\n",
      "GO:0000784\n",
      "GO:0000790\n",
      "GO:0015321\n",
      "GO:0103115\n",
      "GO:0001047\n",
      "GO:0071438\n",
      "GO:0001017\n",
      "GO:0102022\n",
      "GO:0051187\n",
      "GO:0051186\n",
      "GO:0033317\n",
      "GO:0072509\n",
      "GO:0070838\n",
      "GO:0090197\n",
      "GO:0102908\n",
      "GO:0102023\n",
      "GO:0015623\n",
      "GO:0015609\n",
      "GO:0017091\n",
      "GO:0038005\n",
      "GO:0001150\n",
      "GO:0043764\n",
      "GO:0001302\n",
      "GO:0070870\n",
      "GO:0044415\n",
      "GO:0045154\n",
      "GO:0034459\n",
      "GO:1902377\n",
      "GO:0005724\n",
      "GO:0033682\n",
      "GO:0018307\n",
      "GO:0044119\n",
      "GO:0097679\n",
      "GO:0048474\n",
      "GO:0097756\n",
      "GO:0052212\n",
      "GO:0010204\n",
      "GO:0032575\n",
      "GO:1902478\n",
      "GO:0044117\n",
      "GO:0033680\n",
      "GO:0030702\n",
      "GO:0017127\n",
      "GO:0001300\n",
      "GO:0048365\n",
      "GO:0052051\n"
     ]
    }
   ],
   "source": [
    "# function to get accession and return namespace\n",
    "accession_to_namespace = dict()\n",
    "go_graph = obonet.read_obo('./go.obo') \n",
    "go_ids = go['TM'].unique()\n",
    "for accession in go_ids:\n",
    "    try:        \n",
    "        accession_to_namespace[accession] =  go_graph.nodes[accession]['namespace']\n",
    "    except: # if not exist,store in list to get from API                                \n",
    "        r = requests.get(\"https://www.ebi.ac.uk/QuickGO/services/ontology/go/terms/\" + accession\n",
    "                     , headers={ \"Accept\" : \"application/json\"})\n",
    "        if not r.ok:\n",
    "            print(f'Not found ', accession)                                              \n",
    "        else:\n",
    "            accession_to_namespace[accession]= r.json()['results'][0]['aspect']         "
   ]
  },
  {
   "cell_type": "code",
   "execution_count": 266,
   "metadata": {
    "ExecuteTime": {
     "end_time": "2021-05-01T21:42:24.245665Z",
     "start_time": "2021-05-01T21:42:24.012301Z"
    },
    "hidden": true
   },
   "outputs": [
    {
     "name": "stdout",
     "output_type": "stream",
     "text": [
      "molecular_function    173296\n",
      "biological_process    117274\n",
      "cellular_component     66599\n",
      "Name: Namespace, dtype: int64\n"
     ]
    },
    {
     "data": {
      "text/html": [
       "<div>\n",
       "<style scoped>\n",
       "    .dataframe tbody tr th:only-of-type {\n",
       "        vertical-align: middle;\n",
       "    }\n",
       "\n",
       "    .dataframe tbody tr th {\n",
       "        vertical-align: top;\n",
       "    }\n",
       "\n",
       "    .dataframe thead th {\n",
       "        text-align: right;\n",
       "    }\n",
       "</style>\n",
       "<table border=\"1\" class=\"dataframe\">\n",
       "  <thead>\n",
       "    <tr style=\"text-align: right;\">\n",
       "      <th></th>\n",
       "      <th>#Gene</th>\n",
       "      <th>Contig</th>\n",
       "      <th>Start</th>\n",
       "      <th>End</th>\n",
       "      <th>Gene_Length</th>\n",
       "      <th>Strand</th>\n",
       "      <th>SP</th>\n",
       "      <th>TM</th>\n",
       "      <th>go_id</th>\n",
       "      <th>Taxonomy</th>\n",
       "      <th>Namespace</th>\n",
       "    </tr>\n",
       "  </thead>\n",
       "  <tbody>\n",
       "    <tr>\n",
       "      <th>metaerg.pl|00002</th>\n",
       "      <td>6631</td>\n",
       "      <td>473</td>\n",
       "      <td>1252</td>\n",
       "      <td>780</td>\n",
       "      <td>1</td>\n",
       "      <td>No</td>\n",
       "      <td>0</td>\n",
       "      <td>GO:0004190</td>\n",
       "      <td>aspartic-type endopeptidase activity</td>\n",
       "      <td>d__Bacteria;p__Aquificota;c__Aquificae;o__Hydr...</td>\n",
       "      <td>molecular_function</td>\n",
       "    </tr>\n",
       "    <tr>\n",
       "      <th>metaerg.pl|00002</th>\n",
       "      <td>6631</td>\n",
       "      <td>473</td>\n",
       "      <td>1252</td>\n",
       "      <td>780</td>\n",
       "      <td>1</td>\n",
       "      <td>No</td>\n",
       "      <td>0</td>\n",
       "      <td>GO:0016020</td>\n",
       "      <td>membrane</td>\n",
       "      <td>d__Bacteria;p__Aquificota;c__Aquificae;o__Hydr...</td>\n",
       "      <td>cellular_component</td>\n",
       "    </tr>\n",
       "  </tbody>\n",
       "</table>\n",
       "</div>"
      ],
      "text/plain": [
       "                 #Gene  Contig  Start  End  Gene_Length Strand  SP  \\\n",
       "metaerg.pl|00002  6631     473   1252  780            1     No   0   \n",
       "metaerg.pl|00002  6631     473   1252  780            1     No   0   \n",
       "\n",
       "                          TM                                 go_id  \\\n",
       "metaerg.pl|00002  GO:0004190  aspartic-type endopeptidase activity   \n",
       "metaerg.pl|00002  GO:0016020                              membrane   \n",
       "\n",
       "                                                           Taxonomy  \\\n",
       "metaerg.pl|00002  d__Bacteria;p__Aquificota;c__Aquificae;o__Hydr...   \n",
       "metaerg.pl|00002  d__Bacteria;p__Aquificota;c__Aquificae;o__Hydr...   \n",
       "\n",
       "                           Namespace  \n",
       "metaerg.pl|00002  molecular_function  \n",
       "metaerg.pl|00002  cellular_component  "
      ]
     },
     "execution_count": 266,
     "metadata": {},
     "output_type": "execute_result"
    }
   ],
   "source": [
    "l = list()\n",
    "def get_namespace(accession):\n",
    "    if(accession in accession_to_namespace):        \n",
    "        return accession_to_namespace[accession]\n",
    "    l.append(accession)\n",
    "    return None\n",
    "\n",
    "go['Namespace'] = go['TM'].apply(lambda x : get_namespace(x) )\n",
    "print(go['Namespace'].value_counts())\n",
    "go.head(2)"
   ]
  },
  {
   "cell_type": "markdown",
   "metadata": {},
   "source": [
    "# Our Method"
   ]
  },
  {
   "cell_type": "markdown",
   "metadata": {},
   "source": [
    "## Create dictionary BP, CC , MF base of GOGO for each pair of go ids"
   ]
  },
  {
   "cell_type": "code",
   "execution_count": 351,
   "metadata": {
    "ExecuteTime": {
     "end_time": "2021-05-01T22:26:21.138766Z",
     "start_time": "2021-05-01T22:26:21.130768Z"
    }
   },
   "outputs": [],
   "source": [
    "def runGOGO(i,namespace):        \n",
    "    %cd ./GOGO/\n",
    "    !perl go_comb.pl ../Output/Gregor2016/{namespace}/go_ids{i}.txt ../Output/Gregor2016/{namespace}/go_ids_scores{i}\n",
    "    %cd ..    "
   ]
  },
  {
   "cell_type": "code",
   "execution_count": 352,
   "metadata": {
    "ExecuteTime": {
     "end_time": "2021-05-01T22:26:21.597130Z",
     "start_time": "2021-05-01T22:26:21.538438Z"
    }
   },
   "outputs": [],
   "source": [
    "def Step1(namespace):\n",
    "    !rm -r ./Output/Gregor2016/{namespace}/ & mkdir ./Output/Gregor2016/{namespace}/\n",
    "    # first create all possible pairs of GOs for Biological Process\n",
    "    go_ids = go[go[\"Namespace\"] == namespace]['TM'].unique()    \n",
    "    go1 = []\n",
    "    go2 = []\n",
    "    for i in range(0,go_ids.shape[0]):\n",
    "        for j in range(i, go_ids.shape[0]):            \n",
    "            go1.append(go_ids[i])\n",
    "            go2.append(go_ids[j])\n",
    "    df = pd.DataFrame({'goid1': go1,'goid2': go2},columns = ['goid1', 'goid2'])\n",
    "    indexes = np.linspace(0,df.shape[0], num_cores + 1) // 1\n",
    "    indexes[-1] =  df.shape[0]\n",
    "    for i in range(0, num_cores):\n",
    "        dfi = df.iloc[int(indexes[i]):int(indexes[i+1]),:]\n",
    "        dfi.to_csv(f\"./Output/Gregor2016/{namespace}/go_ids{i}.txt\",sep=\" \",index=None,header=None)\n",
    "        \n",
    "    # now run GOGO in multiprocessing\n",
    "    if __name__ == '__main__':        \n",
    "        pool = mp.Pool(num_cores)        \n",
    "        pool.map(partial(runGOGO, namespace=namespace), range(0,num_cores))      \n",
    "        \n",
    "    clear_output()"
   ]
  },
  {
   "cell_type": "code",
   "execution_count": 353,
   "metadata": {
    "ExecuteTime": {
     "end_time": "2021-05-01T22:26:21.925979Z",
     "start_time": "2021-05-01T22:26:21.912998Z"
    }
   },
   "outputs": [],
   "source": [
    "def Step2(namespace):            \n",
    "    def add2dict(row, dictionary):\n",
    "        dictionary[row[0]+row[1]] = row[3]\n",
    "        dictionary[row[1]+row[0]] = row[3]\n",
    "        \n",
    "    lines = []\n",
    "    for i in range(0,num_cores):\n",
    "        with open(f\"./Output/Gregor2016/{namespace}/go_ids_scores{i}\",\"r\") as f:\n",
    "            text = f.read()\n",
    "            lines = [*lines, *[l for l in text.split(\"\\n\") if len(l) > 0 and l[-24:] != \"not_in_the_same_ontology\"]]                        \n",
    "        \n",
    "    with open(f\"./Output/Gregor2016/{namespace}/go_ids_scores\",\"w\") as f:\n",
    "        f.write('\\n'.join(lines))    \n",
    "    # create bp dictionary       \n",
    "    df = pd.read_csv(f\"./Output/Gregor2016/{namespace}/go_ids_scores\", sep=\" \", header=None)                \n",
    "    dictionary = dict()    \n",
    "    df.apply(lambda row:add2dict(row, dictionary), axis=1)\n",
    "               \n",
    "    with open(f\"./Output/Gregor2016/{namespace}.pkl\", \"wb\") as file:\n",
    "        pickle.dump(dictionary, file)        \n",
    "    !rm -r ./Output/Gregor2016/{namespace}/    "
   ]
  },
  {
   "cell_type": "markdown",
   "metadata": {
    "ExecuteTime": {
     "end_time": "2021-04-01T20:26:03.301013Z",
     "start_time": "2021-04-01T20:26:03.297983Z"
    }
   },
   "source": [
    "### Biological Process"
   ]
  },
  {
   "cell_type": "code",
   "execution_count": 354,
   "metadata": {
    "ExecuteTime": {
     "end_time": "2021-05-01T22:29:38.225460Z",
     "start_time": "2021-05-01T22:26:24.810513Z"
    }
   },
   "outputs": [],
   "source": [
    "namespace = \"biological_process\"\n",
    "Step1(namespace)"
   ]
  },
  {
   "cell_type": "code",
   "execution_count": 355,
   "metadata": {
    "ExecuteTime": {
     "end_time": "2021-05-01T22:45:41.128309Z",
     "start_time": "2021-05-01T22:29:38.229343Z"
    }
   },
   "outputs": [],
   "source": [
    "Step2(namespace)"
   ]
  },
  {
   "cell_type": "markdown",
   "metadata": {},
   "source": [
    "### Cellular Component"
   ]
  },
  {
   "cell_type": "code",
   "execution_count": 356,
   "metadata": {
    "ExecuteTime": {
     "end_time": "2021-05-01T22:45:49.990915Z",
     "start_time": "2021-05-01T22:45:41.134017Z"
    }
   },
   "outputs": [],
   "source": [
    "namespace = \"cellular_component\"\n",
    "Step1(namespace)"
   ]
  },
  {
   "cell_type": "code",
   "execution_count": 357,
   "metadata": {
    "ExecuteTime": {
     "end_time": "2021-05-01T22:46:20.368679Z",
     "start_time": "2021-05-01T22:45:49.994919Z"
    }
   },
   "outputs": [],
   "source": [
    "Step2(namespace)"
   ]
  },
  {
   "cell_type": "markdown",
   "metadata": {},
   "source": [
    "### Molecular Function"
   ]
  },
  {
   "cell_type": "code",
   "execution_count": 358,
   "metadata": {
    "ExecuteTime": {
     "end_time": "2021-05-01T22:47:30.839252Z",
     "start_time": "2021-05-01T22:46:20.372636Z"
    }
   },
   "outputs": [],
   "source": [
    "namespace = \"molecular_function\"\n",
    "Step1(namespace)"
   ]
  },
  {
   "cell_type": "code",
   "execution_count": 359,
   "metadata": {
    "ExecuteTime": {
     "end_time": "2021-05-01T23:02:31.120536Z",
     "start_time": "2021-05-01T22:47:30.842909Z"
    }
   },
   "outputs": [],
   "source": [
    "Step2(namespace)"
   ]
  },
  {
   "cell_type": "markdown",
   "metadata": {},
   "source": [
    "## Select unlabled contigs"
   ]
  },
  {
   "cell_type": "code",
   "execution_count": 360,
   "metadata": {
    "ExecuteTime": {
     "end_time": "2021-05-01T23:02:31.320143Z",
     "start_time": "2021-05-01T23:02:31.125793Z"
    }
   },
   "outputs": [
    {
     "name": "stdout",
     "output_type": "stream",
     "text": [
      "Number of unlable for:\n",
      "            bussybee 0% :     0    0.0%\n",
      "            bussybee 20% :    348    2.42%\n",
      "            bussybee 50% :    1532    10.64%\n",
      "Contigs with go for: \t0% : 0\t,20% : 0\t,50% : 0\n"
     ]
    }
   ],
   "source": [
    "unlabelled0 = contigs[contigs['Busybee_bin0Percent']==0] \n",
    "unlabelled20 = contigs[contigs['Busybee_bin20Percent']==0] \n",
    "unlabelled50 = contigs[contigs['Busybee_bin50Percent']==0]\n",
    "n=contigs.shape[0];n0= unlabelled0.shape[0];n20=unlabelled20.shape[0];n50=unlabelled50.shape[0];\n",
    "print(f'''Number of unlable for:\n",
    "            bussybee 0% :     {n0}    {round(n0*100/n,2)}%\n",
    "            bussybee 20% :    {n20}    {round(n20*100/n,2)}%\n",
    "            bussybee 50% :    {n50}    {round(n50*100/n,2)}%''')\n",
    "\n",
    "def contigs_with_go(df):\n",
    "    return len(set(df['#anonymous_gsa_id']).intersection(set(go['Contig'])))\n",
    "\n",
    "print(f'Contigs with go for: \\t0% : {contigs_with_go(unlabelled0)}\\t,20% : {contigs_with_go(unlabelled20)}\\t,50% : {contigs_with_go(unlabelled50)}')"
   ]
  },
  {
   "cell_type": "markdown",
   "metadata": {},
   "source": [
    "## Load data"
   ]
  },
  {
   "cell_type": "code",
   "execution_count": 366,
   "metadata": {
    "ExecuteTime": {
     "end_time": "2021-05-01T23:20:16.422975Z",
     "start_time": "2021-05-01T23:19:54.792046Z"
    }
   },
   "outputs": [],
   "source": [
    "number_of_bins = int(max(contigs['Busybee_bin50Percent']))\n",
    "\n",
    "bins = [0 for i in range(0,number_of_bins + 1)]\n",
    "\n",
    "for i in range(0, number_of_bins):    \n",
    "    cnt = contigs[contigs['Busybee_bin50Percent'] == (i+1)] # select contigs where bin_id = i    \n",
    "    bins[i] = pd.merge(go, cnt, how=\"inner\", \n",
    "                    left_on='#Gene',\n",
    "                    right_on=\"#anonymous_gsa_id\")['TM'].value_counts()        \n",
    "    \n",
    "with open(\"./Output/Gregor2016/biological_process.pkl\", \"rb\") as file:\n",
    "    bp_dictionary = pickle.load(file)\n",
    "\n",
    "with open(\"./Output/Gregor2016/cellular_component.pkl\", \"rb\") as file:\n",
    "    cc_dictionary = pickle.load(file)\n",
    "    \n",
    "with open(\"./Output/Gregor2016/molecular_function.pkl\", \"rb\") as file:\n",
    "    mf_dictionary = pickle.load(file)"
   ]
  },
  {
   "cell_type": "code",
   "execution_count": 367,
   "metadata": {
    "ExecuteTime": {
     "end_time": "2021-05-01T23:20:16.442145Z",
     "start_time": "2021-05-01T23:20:16.427169Z"
    }
   },
   "outputs": [],
   "source": [
    "threshold = 0.2\n",
    "alpha = 1  # BP\n",
    "beta  = 1  # CC\n",
    "gamma = 1  # MF\n",
    "\n",
    "# this function recived a contig and return pred bin and score\n",
    "def pred(cnt):                    \n",
    "    def binScore(inp_bin, go_id,dictionary):\n",
    "        scores = 0\n",
    "        number = 0                \n",
    "        for i in range(0, inp_bin.shape[0]):          \n",
    "            pair = inp_bin.index[i] + go_id            \n",
    "            if(pair in dictionary):                     \n",
    "                n = inp_bin.values[i]\n",
    "                scores += dictionary[pair] * n\n",
    "                number += n\n",
    "        if(number == 0):                \n",
    "            return 0                  \n",
    "        return scores / number\n",
    "    \n",
    "    sum_coefficient = 0    \n",
    "    go_ids = go[go['#Gene'] == cnt]['TM']                    \n",
    "    go_namespace =  go[go['#Gene'] == cnt]['Namespace']                \n",
    "    \n",
    "    result = np.zeros((go_ids.shape[0], number_of_bins))\n",
    "    \n",
    "    for i in range(0,len(go_ids.index)):              \n",
    "        if(go_namespace[i] == \"biological_process\"):\n",
    "            sum_coefficient += alpha\n",
    "        if(go_namespace[i] == \"cellular_component\"):\n",
    "            sum_coefficient += beta\n",
    "        if(go_namespace[i] == \"molecular_function\"):\n",
    "            sum_coefficient += gamma\n",
    "                     \n",
    "        for j in range(0, number_of_bins):                \n",
    "            # Biological Process\n",
    "            if(go_namespace[i] == \"biological_process\"):\n",
    "                result[i,j] = binScore(bins[j], go_ids[i], bp_dictionary) * alpha            \n",
    "                \n",
    "            # Cellular Component\n",
    "            if(go_namespace[i] == \"cellular_component\"):\n",
    "                result[i,j] = binScore(bins[j], go_ids[i], cc_dictionary) * beta\n",
    "                \n",
    "            # Molecular Function\n",
    "            if(go_namespace[i] == \"molecular_function\"):\n",
    "                result[i,j] = binScore(bins[j], go_ids[i], mf_dictionary) * gamma                \n",
    "    #         \n",
    "    score = sum(result) / sum_coefficient          \n",
    "    index = np.where(score == max(score))[0][0] + 1            \n",
    "    return index, max(score), cnt    "
   ]
  },
  {
   "cell_type": "code",
   "execution_count": 372,
   "metadata": {
    "ExecuteTime": {
     "end_time": "2021-05-01T23:28:03.899018Z",
     "start_time": "2021-05-01T23:21:40.005852Z"
    }
   },
   "outputs": [],
   "source": [
    "if __name__ == '__main__':\n",
    "    answer = {}        \n",
    "    pool = mp.Pool(num_cores)    \n",
    "    unlabelledContigs = pd.Series(list(set(unlabelled50['#anonymous_gsa_id']).intersection(set(go['#Gene']))))        \n",
    "    for index, score, cnt in pool.map(pred,unlabelledContigs):        \n",
    "        answer[cnt] = (index,  score)"
   ]
  },
  {
   "cell_type": "code",
   "execution_count": 393,
   "metadata": {
    "ExecuteTime": {
     "end_time": "2021-05-01T23:45:29.827425Z",
     "start_time": "2021-05-01T23:45:28.544714Z"
    }
   },
   "outputs": [
    {
     "name": "stdout",
     "output_type": "stream",
     "text": [
      "37\n",
      "28\n",
      "37\n",
      "37\n",
      "36\n",
      "36\n",
      "7\n",
      "36\n",
      "7\n",
      "21\n",
      "37\n",
      "33\n",
      "36\n",
      "36\n",
      "7\n",
      "7\n",
      "7\n",
      "37\n",
      "17\n",
      "36\n",
      "28\n",
      "11\n",
      "33\n",
      "37\n",
      "7\n",
      "36\n",
      "28\n",
      "28\n",
      "36\n",
      "7\n",
      "33\n",
      "7\n",
      "7\n",
      "7\n",
      "37\n",
      "7\n",
      "7\n",
      "36\n",
      "36\n",
      "37\n",
      "36\n",
      "28\n",
      "36\n",
      "36\n",
      "36\n",
      "28\n",
      "23\n",
      "33\n",
      "28\n",
      "37\n",
      "12\n",
      "37\n",
      "37\n",
      "37\n",
      "2\n",
      "36\n",
      "33\n",
      "7\n",
      "7\n",
      "28\n",
      "37\n",
      "28\n",
      "7\n",
      "37\n",
      "37\n",
      "7\n",
      "33\n",
      "7\n",
      "33\n",
      "33\n",
      "7\n",
      "28\n",
      "37\n",
      "28\n",
      "36\n",
      "21\n",
      "37\n",
      "11\n",
      "3\n",
      "36\n",
      "28\n",
      "11\n",
      "7\n",
      "7\n",
      "21\n",
      "7\n",
      "36\n",
      "7\n",
      "37\n",
      "7\n",
      "36\n",
      "37\n",
      "26\n",
      "37\n",
      "33\n",
      "26\n",
      "7\n",
      "36\n",
      "11\n",
      "7\n",
      "28\n",
      "37\n",
      "3\n",
      "36\n",
      "36\n",
      "28\n",
      "37\n",
      "7\n",
      "7\n",
      "36\n",
      "37\n",
      "36\n",
      "37\n",
      "7\n",
      "37\n",
      "37\n",
      "28\n",
      "11\n",
      "36\n",
      "7\n",
      "21\n",
      "7\n",
      "33\n",
      "37\n",
      "37\n",
      "28\n",
      "36\n",
      "33\n",
      "28\n",
      "14\n",
      "28\n",
      "7\n",
      "36\n",
      "28\n",
      "36\n",
      "11\n",
      "37\n",
      "12\n",
      "28\n",
      "21\n",
      "37\n",
      "37\n",
      "28\n",
      "36\n",
      "36\n",
      "28\n",
      "23\n",
      "28\n",
      "19\n",
      "7\n",
      "23\n",
      "33\n",
      "35\n",
      "2\n",
      "37\n",
      "37\n",
      "37\n",
      "36\n",
      "36\n",
      "36\n",
      "28\n",
      "36\n",
      "35\n",
      "36\n",
      "33\n",
      "36\n",
      "7\n",
      "37\n",
      "33\n",
      "36\n",
      "36\n",
      "7\n",
      "28\n",
      "36\n",
      "28\n",
      "36\n",
      "37\n",
      "28\n",
      "28\n",
      "28\n",
      "29\n",
      "37\n",
      "37\n",
      "33\n",
      "7\n",
      "28\n",
      "28\n",
      "7\n",
      "7\n",
      "3\n",
      "28\n",
      "21\n",
      "37\n",
      "28\n",
      "28\n",
      "28\n",
      "36\n",
      "28\n",
      "28\n",
      "37\n",
      "37\n",
      "37\n",
      "37\n",
      "28\n",
      "36\n",
      "37\n",
      "7\n",
      "28\n",
      "21\n",
      "33\n",
      "33\n",
      "28\n",
      "37\n",
      "28\n",
      "36\n",
      "37\n",
      "28\n",
      "37\n",
      "37\n",
      "28\n",
      "36\n",
      "7\n",
      "36\n",
      "36\n",
      "36\n",
      "33\n",
      "23\n",
      "28\n",
      "37\n",
      "7\n",
      "37\n",
      "37\n",
      "36\n",
      "7\n",
      "37\n",
      "7\n",
      "37\n",
      "36\n",
      "37\n",
      "37\n",
      "7\n",
      "37\n",
      "37\n",
      "36\n",
      "28\n",
      "36\n",
      "33\n",
      "36\n",
      "28\n",
      "36\n",
      "36\n",
      "11\n",
      "36\n",
      "7\n",
      "28\n",
      "17\n",
      "33\n",
      "28\n",
      "7\n",
      "18\n",
      "36\n",
      "11\n",
      "37\n",
      "7\n",
      "28\n",
      "21\n",
      "37\n",
      "28\n",
      "37\n",
      "2\n",
      "7\n",
      "36\n",
      "21\n",
      "36\n",
      "37\n",
      "37\n",
      "36\n",
      "33\n",
      "28\n",
      "11\n",
      "5\n",
      "37\n",
      "37\n",
      "36\n",
      "36\n",
      "11\n",
      "28\n",
      "28\n",
      "28\n",
      "37\n",
      "28\n",
      "28\n",
      "36\n",
      "28\n",
      "33\n",
      "7\n",
      "28\n",
      "37\n",
      "2\n",
      "7\n",
      "28\n",
      "21\n",
      "28\n",
      "36\n",
      "3\n",
      "21\n",
      "7\n",
      "2\n",
      "28\n",
      "36\n",
      "37\n",
      "33\n",
      "21\n",
      "28\n",
      "36\n",
      "21\n",
      "36\n",
      "35\n",
      "37\n",
      "33\n",
      "3\n",
      "28\n",
      "37\n",
      "7\n",
      "11\n",
      "2\n",
      "37\n",
      "36\n",
      "37\n",
      "7\n",
      "28\n",
      "3\n",
      "23\n",
      "26\n",
      "36\n",
      "7\n",
      "37\n",
      "7\n",
      "37\n",
      "28\n",
      "7\n",
      "36\n",
      "28\n",
      "7\n",
      "37\n",
      "33\n",
      "37\n",
      "28\n",
      "37\n",
      "7\n",
      "7\n",
      "7\n",
      "28\n",
      "37\n",
      "7\n",
      "36\n",
      "7\n",
      "28\n",
      "28\n",
      "36\n",
      "33\n",
      "33\n",
      "28\n",
      "28\n",
      "7\n",
      "3\n",
      "37\n",
      "31\n",
      "37\n",
      "36\n",
      "19\n",
      "2\n",
      "37\n",
      "37\n",
      "7\n",
      "36\n",
      "17\n",
      "7\n",
      "2\n",
      "7\n",
      "37\n",
      "2\n",
      "28\n",
      "26\n",
      "23\n",
      "21\n",
      "23\n",
      "7\n",
      "37\n",
      "36\n",
      "7\n",
      "7\n",
      "37\n",
      "37\n",
      "7\n",
      "28\n",
      "36\n",
      "28\n",
      "28\n",
      "35\n",
      "7\n",
      "28\n",
      "36\n",
      "28\n",
      "37\n",
      "7\n",
      "3\n",
      "7\n",
      "28\n",
      "36\n",
      "7\n",
      "37\n",
      "28\n",
      "36\n",
      "36\n",
      "28\n",
      "37\n",
      "7\n",
      "37\n",
      "17\n",
      "26\n",
      "7\n",
      "36\n",
      "28\n",
      "2\n",
      "37\n",
      "11\n",
      "7\n",
      "28\n",
      "36\n",
      "7\n",
      "7\n",
      "28\n",
      "11\n",
      "36\n",
      "7\n",
      "28\n",
      "7\n",
      "30\n",
      "36\n",
      "36\n",
      "36\n",
      "7\n",
      "28\n",
      "7\n",
      "33\n",
      "36\n",
      "7\n",
      "36\n",
      "37\n",
      "7\n",
      "7\n",
      "37\n",
      "7\n",
      "11\n",
      "36\n",
      "37\n",
      "35\n",
      "37\n",
      "7\n",
      "7\n",
      "2\n",
      "7\n",
      "21\n",
      "36\n",
      "3\n",
      "7\n",
      "7\n",
      "28\n",
      "37\n",
      "23\n",
      "33\n",
      "31\n",
      "37\n",
      "31\n",
      "19\n",
      "7\n",
      "7\n",
      "23\n",
      "37\n",
      "36\n",
      "33\n",
      "37\n",
      "28\n",
      "33\n",
      "36\n",
      "21\n",
      "36\n",
      "7\n",
      "37\n",
      "28\n",
      "36\n",
      "36\n",
      "28\n",
      "36\n",
      "37\n",
      "21\n",
      "7\n",
      "7\n",
      "36\n",
      "36\n",
      "36\n",
      "28\n",
      "37\n",
      "37\n",
      "7\n",
      "37\n",
      "36\n",
      "28\n",
      "36\n",
      "36\n",
      "37\n",
      "7\n",
      "33\n",
      "28\n",
      "7\n",
      "37\n",
      "7\n",
      "36\n",
      "36\n",
      "36\n",
      "37\n",
      "28\n",
      "37\n",
      "36\n",
      "37\n",
      "7\n",
      "28\n",
      "7\n",
      "37\n",
      "3\n",
      "36\n",
      "37\n",
      "28\n",
      "36\n",
      "28\n",
      "37\n",
      "23\n",
      "37\n",
      "37\n",
      "7\n",
      "28\n",
      "31\n",
      "37\n",
      "36\n",
      "37\n",
      "2\n",
      "37\n",
      "33\n",
      "7\n",
      "36\n",
      "31\n",
      "7\n",
      "7\n",
      "33\n",
      "36\n",
      "28\n",
      "7\n",
      "37\n",
      "36\n",
      "36\n",
      "36\n",
      "7\n",
      "7\n",
      "28\n",
      "21\n",
      "36\n",
      "7\n",
      "36\n",
      "37\n",
      "37\n",
      "36\n",
      "33\n",
      "7\n",
      "23\n",
      "37\n",
      "21\n",
      "2\n",
      "28\n",
      "28\n",
      "28\n",
      "28\n",
      "11\n",
      "7\n",
      "7\n",
      "28\n",
      "28\n",
      "28\n",
      "28\n",
      "37\n",
      "37\n",
      "28\n",
      "35\n",
      "28\n",
      "28\n",
      "36\n",
      "21\n",
      "28\n",
      "37\n",
      "28\n",
      "7\n",
      "7\n",
      "36\n",
      "7\n",
      "23\n",
      "28\n",
      "36\n",
      "36\n",
      "36\n",
      "28\n",
      "28\n",
      "37\n",
      "28\n",
      "23\n",
      "28\n",
      "7\n",
      "7\n",
      "36\n",
      "17\n",
      "2\n",
      "2\n",
      "7\n",
      "36\n",
      "23\n",
      "23\n",
      "7\n",
      "28\n",
      "37\n",
      "37\n",
      "2\n",
      "28\n",
      "28\n",
      "28\n",
      "37\n",
      "37\n",
      "37\n",
      "33\n",
      "36\n",
      "37\n",
      "28\n",
      "7\n",
      "37\n",
      "28\n",
      "37\n",
      "26\n",
      "36\n",
      "23\n",
      "37\n",
      "28\n",
      "36\n",
      "7\n",
      "37\n",
      "37\n",
      "28\n",
      "36\n",
      "28\n",
      "36\n",
      "33\n",
      "28\n",
      "35\n",
      "37\n",
      "21\n",
      "26\n",
      "28\n",
      "7\n",
      "7\n",
      "37\n",
      "28\n",
      "2\n",
      "28\n",
      "37\n",
      "28\n",
      "37\n",
      "23\n",
      "28\n",
      "21\n",
      "36\n",
      "37\n",
      "37\n",
      "28\n",
      "7\n",
      "37\n",
      "7\n",
      "37\n",
      "36\n",
      "28\n",
      "7\n",
      "37\n",
      "37\n",
      "28\n",
      "37\n",
      "10\n",
      "7\n",
      "36\n",
      "7\n",
      "7\n",
      "11\n",
      "3\n",
      "36\n",
      "3\n",
      "36\n",
      "37\n",
      "36\n",
      "7\n",
      "36\n",
      "36\n",
      "28\n",
      "7\n",
      "37\n",
      "33\n",
      "28\n",
      "37\n",
      "28\n",
      "37\n",
      "36\n",
      "28\n",
      "28\n",
      "28\n",
      "28\n",
      "28\n",
      "37\n",
      "37\n",
      "7\n",
      "7\n",
      "28\n",
      "21\n",
      "37\n",
      "28\n",
      "11\n",
      "11\n",
      "28\n",
      "7\n",
      "7\n",
      "33\n",
      "7\n",
      "36\n",
      "33\n",
      "36\n",
      "11\n",
      "37\n",
      "28\n",
      "7\n",
      "28\n",
      "37\n",
      "11\n",
      "26\n",
      "28\n",
      "36\n",
      "7\n",
      "7\n",
      "28\n",
      "28\n",
      "36\n",
      "28\n",
      "3\n",
      "36\n",
      "21\n",
      "7\n",
      "2\n",
      "37\n",
      "28\n",
      "11\n",
      "37\n",
      "26\n",
      "28\n",
      "28\n",
      "36\n",
      "11\n",
      "37\n",
      "28\n",
      "28\n",
      "36\n",
      "36\n",
      "37\n",
      "17\n",
      "36\n",
      "36\n",
      "36\n",
      "7\n",
      "21\n",
      "23\n",
      "17\n",
      "7\n",
      "7\n",
      "37\n",
      "28\n",
      "37\n",
      "28\n",
      "11\n",
      "33\n",
      "33\n",
      "7\n",
      "18\n",
      "36\n",
      "7\n",
      "7\n",
      "33\n",
      "33\n",
      "36\n",
      "37\n",
      "33\n",
      "4\n",
      "36\n",
      "28\n",
      "7\n",
      "37\n",
      "7\n",
      "37\n",
      "37\n",
      "28\n",
      "37\n",
      "33\n",
      "7\n",
      "36\n",
      "7\n",
      "36\n",
      "7\n",
      "28\n",
      "36\n",
      "28\n",
      "37\n",
      "37\n",
      "3\n",
      "7\n",
      "28\n",
      "37\n",
      "2\n",
      "28\n",
      "17\n",
      "33\n",
      "3\n",
      "36\n",
      "36\n",
      "28\n",
      "36\n",
      "33\n",
      "28\n",
      "36\n",
      "37\n",
      "7\n",
      "36\n",
      "28\n",
      "7\n",
      "14\n",
      "23\n",
      "7\n",
      "33\n",
      "37\n",
      "7\n",
      "7\n",
      "36\n",
      "36\n",
      "11\n",
      "28\n",
      "7\n",
      "7\n",
      "7\n",
      "36\n",
      "2\n",
      "36\n",
      "36\n",
      "36\n",
      "21\n",
      "36\n",
      "36\n",
      "21\n",
      "36\n",
      "7\n",
      "36\n",
      "17\n",
      "33\n",
      "37\n",
      "36\n",
      "7\n",
      "37\n",
      "17\n",
      "36\n",
      "28\n",
      "36\n",
      "36\n",
      "21\n",
      "7\n",
      "37\n",
      "36\n",
      "23\n",
      "36\n",
      "11\n",
      "7\n",
      "36\n",
      "37\n",
      "33\n",
      "22\n",
      "36\n",
      "26\n",
      "36\n",
      "36\n",
      "7\n",
      "36\n",
      "28\n",
      "33\n",
      "37\n"
     ]
    }
   ],
   "source": [
    "def assign(row):\n",
    "    cnt = row['#anonymous_gsa_id']\n",
    "    if(cnt in answer and answer[cnt][1] > 0):                \n",
    "        return answer[row['#anonymous_gsa_id']][0]    \n",
    "    return row['Busybee_bin50Percent']\n",
    "contigs['OurMethod'] = contigs.apply(lambda row:assign(row),axis=1)    "
   ]
  },
  {
   "cell_type": "code",
   "execution_count": 390,
   "metadata": {
    "ExecuteTime": {
     "end_time": "2021-05-01T23:41:13.264425Z",
     "start_time": "2021-05-01T23:41:13.220823Z"
    }
   },
   "outputs": [],
   "source": [
    "#CAMI binning Bioboxes format\n",
    "OurMethod_output =  \"./Output/Gregor2016/OurMethod.txt\"\n",
    "\n",
    "df = contigs[['#anonymous_gsa_id','OurMethod']]\n",
    "df[df[\"OurMethod\"]!= 0].to_csv(OurMethod_output,index=None, sep='\\t')\n",
    "with open(OurMethod_output,'r') as file:\n",
    "    file.readline()\n",
    "    text = file.read()\n",
    "with open(OurMethod_output,'w',encoding='utf8') as file:\n",
    "    file.write(\"@Version:0.9.1\\n@SampleID:gsa\\n\\n@@SEQUENCEID\\tBINID\\n\" + text)"
   ]
  },
  {
   "cell_type": "code",
   "execution_count": 391,
   "metadata": {
    "ExecuteTime": {
     "end_time": "2021-05-01T23:41:41.640153Z",
     "start_time": "2021-05-01T23:41:15.099901Z"
    }
   },
   "outputs": [
    {
     "name": "stdout",
     "output_type": "stream",
     "text": [
      "2021-05-02 04:11:17,835 INFO Loading Gold standard\n",
      "2021-05-02 04:11:17,875 INFO Loading Busybee_bin0Percent.biobox\n",
      "2021-05-02 04:11:17,912 INFO Loading Busybee_bin20Percent.biobox\n",
      "2021-05-02 04:11:17,949 INFO Loading Busybee_bin50Percent.biobox\n",
      "2021-05-02 04:11:17,983 INFO Loading OurMethod.txt\n",
      "2021-05-02 04:11:18,019 INFO Creating output directories\n",
      "2021-05-02 04:11:18,021 INFO Evaluating Gold standard (sample gsa, genome binning)\n",
      "2021-05-02 04:11:18,204 INFO Evaluating Busybee_bin0Percent.biobox (sample gsa, genome binning)\n",
      "2021-05-02 04:11:18,395 INFO Evaluating Busybee_bin20Percent.biobox (sample gsa, genome binning)\n",
      "2021-05-02 04:11:18,585 INFO Evaluating Busybee_bin50Percent.biobox (sample gsa, genome binning)\n",
      "2021-05-02 04:11:18,786 INFO Evaluating OurMethod.txt (sample gsa, genome binning)\n",
      "2021-05-02 04:11:18,982 INFO Saving computed metrics\n",
      "2021-05-02 04:11:19,019 INFO Creating genome binning plots\n",
      "2021-05-02 04:11:39,309 INFO Creating HTML page\n",
      "2021-05-02 04:11:41,268 INFO AMBER finished successfully. All results have been saved to /home/jupyter/Final/Output/Gregor2016/Busybee\n"
     ]
    }
   ],
   "source": [
    "!amber.py -g ./Output/Gregor2016/gold_standard.biobox -o ./Output/Gregor2016/Busybee/  ./Output/Gregor2016/Busybee_bin0Percent.biobox  ./Output/Gregor2016/Busybee_bin20Percent.biobox  ./Output/Gregor2016/Busybee_bin50Percent.biobox  ./Output/Gregor2016/OurMethod.txt"
   ]
  },
  {
   "cell_type": "markdown",
   "metadata": {
    "heading_collapsed": true
   },
   "source": [
    "# KEGG"
   ]
  },
  {
   "cell_type": "code",
   "execution_count": null,
   "metadata": {
    "hidden": true,
    "scrolled": true
   },
   "outputs": [],
   "source": [
    "kegg = pd.read_csv('./Annotation/Toy_low/data/cds.gene2kegg.tab.txt',sep='\\t')\n",
    "print(kegg.shape)\n",
    "kegg = pd.merge(kegg,Geneid2Contigid,how='inner',on='#Geneid')\n",
    "kegg.head(2)"
   ]
  },
  {
   "cell_type": "code",
   "execution_count": null,
   "metadata": {
    "hidden": true
   },
   "outputs": [],
   "source": [
    "print(np.median(list(kegg['Kegg_id'].value_counts())))\n",
    "plt.plot(list(kegg['Kegg_id'].value_counts()))\n",
    "plt.show()"
   ]
  },
  {
   "cell_type": "markdown",
   "metadata": {
    "heading_collapsed": true
   },
   "source": [
    "# KO"
   ]
  },
  {
   "cell_type": "code",
   "execution_count": null,
   "metadata": {
    "hidden": true
   },
   "outputs": [],
   "source": [
    "ko = pd.read_csv('./Annotation/Toy_low/data/cds.gene2ko.tab.txt',sep='\\t')\n",
    "print(ko.shape)\n",
    "ko.head(5)"
   ]
  },
  {
   "cell_type": "code",
   "execution_count": null,
   "metadata": {
    "hidden": true
   },
   "outputs": [],
   "source": [
    "print(np.median(list(ko['koid'].value_counts())))\n",
    "plt.plot(list(ko['koid'].value_counts()))\n",
    "plt.show()"
   ]
  },
  {
   "cell_type": "code",
   "execution_count": null,
   "metadata": {
    "hidden": true
   },
   "outputs": [],
   "source": [
    "print(np.median(list(ko['Contig'].value_counts())))\n",
    "plt.plot(list(ko['Contig'].value_counts()))\n",
    "plt.show()"
   ]
  },
  {
   "cell_type": "code",
   "execution_count": null,
   "metadata": {
    "hidden": true
   },
   "outputs": [],
   "source": [
    "df = pd.read_csv('./Annotation/Toy_low/data/cds.gene2sprot.tab.txt',sep='\\t')\n",
    "print(df.shape)\n",
    "df.head(2)"
   ]
  },
  {
   "cell_type": "code",
   "execution_count": null,
   "metadata": {
    "hidden": true
   },
   "outputs": [],
   "source": [
    "uniprot = pd.read_csv('./uniprot-filtered-reviewed-yes.tab',sep='\\t')\n",
    "print(uniprot.shape)\n",
    "uniprot.head(2)"
   ]
  },
  {
   "cell_type": "code",
   "execution_count": null,
   "metadata": {
    "hidden": true
   },
   "outputs": [],
   "source": [
    "df = pd.merge(uniprot,df,how='inner',left_on='Protein names',right_on='sprot_desc')\n",
    "print(df.shape)\n",
    "df.head(2)"
   ]
  },
  {
   "cell_type": "markdown",
   "metadata": {},
   "source": [
    "# Gene id  to contig id maper"
   ]
  },
  {
   "cell_type": "code",
   "execution_count": null,
   "metadata": {},
   "outputs": [],
   "source": [
    "with open('./Annotation/Toy_low/data/cds.faa', 'r') as file:     \n",
    "    lines = [line.split('\\n')[0] for line in file.read().split('>') if len(line) > 0]    \n",
    "    data = {'#Geneid': [l.split(' ')[0] for l in lines],\n",
    "        'Contigid': [l.split(' ')[-1][4:] for l in lines]}\n",
    "    Geneid2Contigid = pd.DataFrame(data, columns = ['#Geneid', 'Contigid'])\n",
    "Geneid2Contigid.head(2)"
   ]
  },
  {
   "cell_type": "code",
   "execution_count": null,
   "metadata": {},
   "outputs": [],
   "source": [
    "plt.plot(np.linspace(0,1,1000),np.linspace(0,1,1000) ** 1, 'r')\n",
    "plt.plot(np.linspace(0,1,1000),np.linspace(0,1,1000) ** 10, 'g')"
   ]
  }
 ],
 "metadata": {
  "hide_input": false,
  "kernelspec": {
   "display_name": "Python 3",
   "language": "python",
   "name": "python3"
  },
  "language_info": {
   "codemirror_mode": {
    "name": "ipython",
    "version": 3
   },
   "file_extension": ".py",
   "mimetype": "text/x-python",
   "name": "python",
   "nbconvert_exporter": "python",
   "pygments_lexer": "ipython3",
   "version": "3.8.5"
  },
  "varInspector": {
   "cols": {
    "lenName": 16,
    "lenType": 16,
    "lenVar": 40
   },
   "kernels_config": {
    "python": {
     "delete_cmd_postfix": "",
     "delete_cmd_prefix": "del ",
     "library": "var_list.py",
     "varRefreshCmd": "print(var_dic_list())"
    },
    "r": {
     "delete_cmd_postfix": ") ",
     "delete_cmd_prefix": "rm(",
     "library": "var_list.r",
     "varRefreshCmd": "cat(var_dic_list()) "
    }
   },
   "types_to_exclude": [
    "module",
    "function",
    "builtin_function_or_method",
    "instance",
    "_Feature"
   ],
   "window_display": false
  }
 },
 "nbformat": 4,
 "nbformat_minor": 2
}
