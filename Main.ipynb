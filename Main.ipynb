{
 "cells": [
  {
   "cell_type": "markdown",
   "metadata": {},
   "source": [
    "# Imports"
   ]
  },
  {
   "cell_type": "code",
   "execution_count": 50,
   "metadata": {
    "ExecuteTime": {
     "end_time": "2021-07-19T12:15:22.353878Z",
     "start_time": "2021-07-19T12:15:22.344656Z"
    },
    "code_folding": [],
    "run_control": {
     "marked": true
    },
    "slideshow": {
     "slide_type": "-"
    }
   },
   "outputs": [],
   "source": [
    "#!pip install obonet  numpy pandas matplotlib  sklearn python-bidi arabic_reshaper \n",
    "#!wget http://purl.obolibrary.org/obo/go.obo\n",
    "\n",
    "import requests,math,pickle\n",
    "import networkx,obonet\n",
    "import time\n",
    "import numpy as np ,pandas as pd, matplotlib.pyplot as plt\n",
    "import arabic_reshaper\n",
    "import multiprocessing as mp\n",
    "from sklearn.metrics.cluster import *\n",
    "from bidi.algorithm import get_display\n",
    "from functools import partial\n",
    "from IPython.display import clear_output\n",
    "import sys\n",
    "if sys.version_info[0] < 3: \n",
    "    from StringIO import StringIO\n",
    "else:\n",
    "    from io import StringIO\n",
    "\n",
    "def fa(text):\n",
    "    return get_display(arabic_reshaper.reshape(u'%s' % str(text)))"
   ]
  },
  {
   "cell_type": "code",
   "execution_count": 51,
   "metadata": {
    "ExecuteTime": {
     "end_time": "2021-07-19T12:15:23.845331Z",
     "start_time": "2021-07-19T12:15:23.287797Z"
    }
   },
   "outputs": [],
   "source": [
    "dataset_name = \"CAMI_Low\"\n",
    "num_cores = max(mp.cpu_count() - 3, 1)\n",
    "!mkdir -p ./Output/{dataset_name}/figs\n",
    "!mkdir -p ./Temp/{dataset_name}/"
   ]
  },
  {
   "cell_type": "code",
   "execution_count": 52,
   "metadata": {
    "ExecuteTime": {
     "end_time": "2021-07-19T12:15:24.414423Z",
     "start_time": "2021-07-19T12:15:24.406902Z"
    }
   },
   "outputs": [],
   "source": [
    "def to_biobox(df, path):\n",
    "    df[df[\"bin_id\"]!= 0].to_csv(path, index=None, sep='\\t',header=None)    \n",
    "    with open(path, 'r') as file:        \n",
    "        text = file.read()\n",
    "    with open(path, 'w', encoding='utf8') as file:\n",
    "        file.write(\"@Version:0.9.1\\n@SampleID:gsa\\n\\n@@SEQUENCEID\\tBINID\\n\" + text)"
   ]
  },
  {
   "cell_type": "markdown",
   "metadata": {},
   "source": [
    "# Read Fasta"
   ]
  },
  {
   "cell_type": "code",
   "execution_count": 53,
   "metadata": {
    "ExecuteTime": {
     "end_time": "2021-07-19T12:15:25.159363Z",
     "start_time": "2021-07-19T12:15:25.150241Z"
    },
    "code_folding": []
   },
   "outputs": [],
   "source": [
    "def fasta_to_df(path):\n",
    "    with open(path, 'r') as file:\n",
    "        text = file.read()\n",
    "    lines = [line for line in text.split('\\n') if len(line) > 0]\n",
    "    s = ''\n",
    "    ids = []\n",
    "    contigs = []\n",
    "    for l in lines:\n",
    "        if(l[0]=='>'):\n",
    "            ids.append(l)        \n",
    "            contigs.append(s)\n",
    "            s = ''\n",
    "        else:\n",
    "            s += l    \n",
    "    contigs.append(s)\n",
    "    df = pd.DataFrame(\n",
    "            {\n",
    "                '#anonymous_gsa_id': ids,\n",
    "                'contig': contigs[1:]\n",
    "            })\n",
    "    df['#anonymous_gsa_id'] = df['#anonymous_gsa_id'].apply(lambda x: x[1:])    \n",
    "    return df"
   ]
  },
  {
   "cell_type": "code",
   "execution_count": 54,
   "metadata": {
    "ExecuteTime": {
     "end_time": "2021-07-19T12:15:26.241249Z",
     "start_time": "2021-07-19T12:15:25.536908Z"
    }
   },
   "outputs": [
    {
     "data": {
      "text/html": [
       "<div>\n",
       "<style scoped>\n",
       "    .dataframe tbody tr th:only-of-type {\n",
       "        vertical-align: middle;\n",
       "    }\n",
       "\n",
       "    .dataframe tbody tr th {\n",
       "        vertical-align: top;\n",
       "    }\n",
       "\n",
       "    .dataframe thead th {\n",
       "        text-align: right;\n",
       "    }\n",
       "</style>\n",
       "<table border=\"1\" class=\"dataframe\">\n",
       "  <thead>\n",
       "    <tr style=\"text-align: right;\">\n",
       "      <th></th>\n",
       "      <th>#anonymous_gsa_id</th>\n",
       "      <th>contig</th>\n",
       "    </tr>\n",
       "  </thead>\n",
       "  <tbody>\n",
       "    <tr>\n",
       "      <th>0</th>\n",
       "      <td>RL|S1|C0</td>\n",
       "      <td>TCTCCGCCGACGAGAGCTACACGTTCGACCGTGATCACGCCGACTG...</td>\n",
       "    </tr>\n",
       "    <tr>\n",
       "      <th>1</th>\n",
       "      <td>RL|S1|C1</td>\n",
       "      <td>CCTGGCCATACTTTTCCTTTCATATAAGGTCCATCAGCACGTTTAC...</td>\n",
       "    </tr>\n",
       "  </tbody>\n",
       "</table>\n",
       "</div>"
      ],
      "text/plain": [
       "  #anonymous_gsa_id                                             contig\n",
       "0          RL|S1|C0  TCTCCGCCGACGAGAGCTACACGTTCGACCGTGATCACGCCGACTG...\n",
       "1          RL|S1|C1  CCTGGCCATACTTTTCCTTTCATATAAGGTCCATCAGCACGTTTAC..."
      ]
     },
     "execution_count": 54,
     "metadata": {},
     "output_type": "execute_result"
    }
   ],
   "source": [
    "contigs = fasta_to_df(f\"./Dataset/{dataset_name}/contigs.fna\")\n",
    "all_number = contigs.shape[0]\n",
    "contigs.head(2)"
   ]
  },
  {
   "cell_type": "code",
   "execution_count": 55,
   "metadata": {
    "ExecuteTime": {
     "end_time": "2021-07-19T12:15:26.347722Z",
     "start_time": "2021-07-19T12:15:26.244699Z"
    }
   },
   "outputs": [
    {
     "data": {
      "text/html": [
       "<div>\n",
       "<style scoped>\n",
       "    .dataframe tbody tr th:only-of-type {\n",
       "        vertical-align: middle;\n",
       "    }\n",
       "\n",
       "    .dataframe tbody tr th {\n",
       "        vertical-align: top;\n",
       "    }\n",
       "\n",
       "    .dataframe thead th {\n",
       "        text-align: right;\n",
       "    }\n",
       "</style>\n",
       "<table border=\"1\" class=\"dataframe\">\n",
       "  <thead>\n",
       "    <tr style=\"text-align: right;\">\n",
       "      <th></th>\n",
       "      <th>#anonymous_gsa_id</th>\n",
       "      <th>contig</th>\n",
       "      <th>bin_id</th>\n",
       "      <th>tax_id</th>\n",
       "      <th>sequence_id</th>\n",
       "      <th>number_reads</th>\n",
       "      <th>contig_length</th>\n",
       "    </tr>\n",
       "  </thead>\n",
       "  <tbody>\n",
       "    <tr>\n",
       "      <th>0</th>\n",
       "      <td>RL|S1|C0</td>\n",
       "      <td>TCTCCGCCGACGAGAGCTACACGTTCGACCGTGATCACGCCGACTG...</td>\n",
       "      <td>1220_AJ</td>\n",
       "      <td>75309</td>\n",
       "      <td>scaffold5.1_1_from_14912_to_15720_total_809</td>\n",
       "      <td>12</td>\n",
       "      <td>809</td>\n",
       "    </tr>\n",
       "    <tr>\n",
       "      <th>1</th>\n",
       "      <td>RL|S1|C1</td>\n",
       "      <td>CCTGGCCATACTTTTCCTTTCATATAAGGTCCATCAGCACGTTTAC...</td>\n",
       "      <td>1048993</td>\n",
       "      <td>328515</td>\n",
       "      <td>scaffold00001_11_from_606387_to_607012_total_626</td>\n",
       "      <td>16</td>\n",
       "      <td>626</td>\n",
       "    </tr>\n",
       "  </tbody>\n",
       "</table>\n",
       "</div>"
      ],
      "text/plain": [
       "  #anonymous_gsa_id                                             contig  \\\n",
       "0          RL|S1|C0  TCTCCGCCGACGAGAGCTACACGTTCGACCGTGATCACGCCGACTG...   \n",
       "1          RL|S1|C1  CCTGGCCATACTTTTCCTTTCATATAAGGTCCATCAGCACGTTTAC...   \n",
       "\n",
       "    bin_id  tax_id                                       sequence_id  \\\n",
       "0  1220_AJ   75309       scaffold5.1_1_from_14912_to_15720_total_809   \n",
       "1  1048993  328515  scaffold00001_11_from_606387_to_607012_total_626   \n",
       "\n",
       "   number_reads  contig_length  \n",
       "0            12            809  \n",
       "1            16            626  "
      ]
     },
     "execution_count": 55,
     "metadata": {},
     "output_type": "execute_result"
    }
   ],
   "source": [
    "df = pd.read_csv(f\"./Dataset/{dataset_name}/mapping.tsv\", sep='\\t')\n",
    "contigs = pd.merge(contigs, df, how='inner', on='#anonymous_gsa_id')\n",
    "contigs[\"contig_length\"] = contigs[\"contig\"].apply(lambda x: len(x))\n",
    "contigs.head(2)"
   ]
  },
  {
   "cell_type": "markdown",
   "metadata": {},
   "source": [
    "# Save gold standard data as CAMI binning Bioboxes format."
   ]
  },
  {
   "cell_type": "code",
   "execution_count": 56,
   "metadata": {
    "ExecuteTime": {
     "end_time": "2021-07-19T12:15:26.798306Z",
     "start_time": "2021-07-19T12:15:26.729361Z"
    },
    "code_folding": [],
    "run_control": {
     "marked": true
    }
   },
   "outputs": [],
   "source": [
    "path = f\"./Temp/{dataset_name}/gold_standard\"\n",
    "contigs[['#anonymous_gsa_id', 'bin_id', 'tax_id',\n",
    "         'contig_length']].to_csv(path, index=None, sep='\\t')\n",
    "\n",
    "with open(path, 'r') as file:\n",
    "    file.readline()\n",
    "    text = file.read()\n",
    "\n",
    "with open(path, 'w', encoding='utf8') as file:\n",
    "    file.write(\"@Version:0.9.1\\n@SampleID:gsa\\n\\n@@SEQUENCEID\\tBINID\\tTAXID\\t_LENGTH\\n\"+ text)"
   ]
  },
  {
   "cell_type": "markdown",
   "metadata": {},
   "source": [
    "# Base Algorithms"
   ]
  },
  {
   "cell_type": "code",
   "execution_count": 57,
   "metadata": {
    "ExecuteTime": {
     "end_time": "2021-07-19T12:15:29.532948Z",
     "start_time": "2021-07-19T12:15:29.487132Z"
    }
   },
   "outputs": [
    {
     "name": "stdout",
     "output_type": "stream",
     "text": [
      "5986\n",
      "30.7% assigned\n"
     ]
    },
    {
     "data": {
      "text/html": [
       "<div>\n",
       "<style scoped>\n",
       "    .dataframe tbody tr th:only-of-type {\n",
       "        vertical-align: middle;\n",
       "    }\n",
       "\n",
       "    .dataframe tbody tr th {\n",
       "        vertical-align: top;\n",
       "    }\n",
       "\n",
       "    .dataframe thead th {\n",
       "        text-align: right;\n",
       "    }\n",
       "</style>\n",
       "<table border=\"1\" class=\"dataframe\">\n",
       "  <thead>\n",
       "    <tr style=\"text-align: right;\">\n",
       "      <th></th>\n",
       "      <th>#anonymous_gsa_id</th>\n",
       "      <th>bin_id</th>\n",
       "    </tr>\n",
       "  </thead>\n",
       "  <tbody>\n",
       "    <tr>\n",
       "      <th>0</th>\n",
       "      <td>RL|S1|C19179</td>\n",
       "      <td>1</td>\n",
       "    </tr>\n",
       "    <tr>\n",
       "      <th>1</th>\n",
       "      <td>RL|S1|C19147</td>\n",
       "      <td>1</td>\n",
       "    </tr>\n",
       "  </tbody>\n",
       "</table>\n",
       "</div>"
      ],
      "text/plain": [
       "  #anonymous_gsa_id  bin_id\n",
       "0      RL|S1|C19179       1\n",
       "1      RL|S1|C19147       1"
      ]
     },
     "execution_count": 57,
     "metadata": {},
     "output_type": "execute_result"
    }
   ],
   "source": [
    "metabat1_p30 = pd.read_csv(f\"./Binning/{dataset_name}/Metabat1/prob30/contigs.tab\", sep='\\t', header = None)\n",
    "metabat1_p30.columns = ['#anonymous_gsa_id','bin_id']\n",
    "to_biobox(metabat1_p30, f\"./Temp/{dataset_name}/metabat1_p30\")\n",
    "print(metabat1_p30.shape[0])\n",
    "print(f'{round(metabat1_p30[metabat1_p30[\"bin_id\"]!= 0].shape[0]*100 / all_number,2)}% assigned')\n",
    "metabat1_p30.head(2)"
   ]
  },
  {
   "cell_type": "code",
   "execution_count": 58,
   "metadata": {
    "ExecuteTime": {
     "end_time": "2021-07-19T12:15:29.575521Z",
     "start_time": "2021-07-19T12:15:29.536790Z"
    }
   },
   "outputs": [
    {
     "name": "stdout",
     "output_type": "stream",
     "text": [
      "(5710, 2)\n",
      "29.28% assigned\n"
     ]
    },
    {
     "data": {
      "text/html": [
       "<div>\n",
       "<style scoped>\n",
       "    .dataframe tbody tr th:only-of-type {\n",
       "        vertical-align: middle;\n",
       "    }\n",
       "\n",
       "    .dataframe tbody tr th {\n",
       "        vertical-align: top;\n",
       "    }\n",
       "\n",
       "    .dataframe thead th {\n",
       "        text-align: right;\n",
       "    }\n",
       "</style>\n",
       "<table border=\"1\" class=\"dataframe\">\n",
       "  <thead>\n",
       "    <tr style=\"text-align: right;\">\n",
       "      <th></th>\n",
       "      <th>#anonymous_gsa_id</th>\n",
       "      <th>bin_id</th>\n",
       "    </tr>\n",
       "  </thead>\n",
       "  <tbody>\n",
       "    <tr>\n",
       "      <th>0</th>\n",
       "      <td>RL|S1|C19179</td>\n",
       "      <td>1</td>\n",
       "    </tr>\n",
       "    <tr>\n",
       "      <th>1</th>\n",
       "      <td>RL|S1|C19147</td>\n",
       "      <td>1</td>\n",
       "    </tr>\n",
       "  </tbody>\n",
       "</table>\n",
       "</div>"
      ],
      "text/plain": [
       "  #anonymous_gsa_id  bin_id\n",
       "0      RL|S1|C19179       1\n",
       "1      RL|S1|C19147       1"
      ]
     },
     "execution_count": 58,
     "metadata": {},
     "output_type": "execute_result"
    }
   ],
   "source": [
    "metabat1_p50 = pd.read_csv(f\"./Binning/{dataset_name}/Metabat1/prob50/contigs.tab\", sep='\\t', header = None)\n",
    "metabat1_p50.columns = ['#anonymous_gsa_id','bin_id']\n",
    "to_biobox(metabat1_p50, f\"./Temp/{dataset_name}/metabat1_p50\")\n",
    "print(metabat1_p50.shape)\n",
    "print(f'{round(metabat1_p50[metabat1_p50[\"bin_id\"]!= 0].shape[0]*100 / all_number,2)}% assigned')\n",
    "metabat1_p50.head(2)"
   ]
  },
  {
   "cell_type": "code",
   "execution_count": 59,
   "metadata": {
    "ExecuteTime": {
     "end_time": "2021-07-19T12:15:29.617472Z",
     "start_time": "2021-07-19T12:15:29.579032Z"
    }
   },
   "outputs": [
    {
     "name": "stdout",
     "output_type": "stream",
     "text": [
      "(5815, 2)\n",
      "29.82% assigned\n"
     ]
    },
    {
     "data": {
      "text/html": [
       "<div>\n",
       "<style scoped>\n",
       "    .dataframe tbody tr th:only-of-type {\n",
       "        vertical-align: middle;\n",
       "    }\n",
       "\n",
       "    .dataframe tbody tr th {\n",
       "        vertical-align: top;\n",
       "    }\n",
       "\n",
       "    .dataframe thead th {\n",
       "        text-align: right;\n",
       "    }\n",
       "</style>\n",
       "<table border=\"1\" class=\"dataframe\">\n",
       "  <thead>\n",
       "    <tr style=\"text-align: right;\">\n",
       "      <th></th>\n",
       "      <th>#anonymous_gsa_id</th>\n",
       "      <th>bin_id</th>\n",
       "    </tr>\n",
       "  </thead>\n",
       "  <tbody>\n",
       "    <tr>\n",
       "      <th>0</th>\n",
       "      <td>RL|S1|C19179</td>\n",
       "      <td>1</td>\n",
       "    </tr>\n",
       "    <tr>\n",
       "      <th>1</th>\n",
       "      <td>RL|S1|C19147</td>\n",
       "      <td>1</td>\n",
       "    </tr>\n",
       "  </tbody>\n",
       "</table>\n",
       "</div>"
      ],
      "text/plain": [
       "  #anonymous_gsa_id  bin_id\n",
       "0      RL|S1|C19179       1\n",
       "1      RL|S1|C19147       1"
      ]
     },
     "execution_count": 59,
     "metadata": {},
     "output_type": "execute_result"
    }
   ],
   "source": [
    "metabat1_p70 = pd.read_csv(f\"./Binning/{dataset_name}/Metabat1/prob70/contigs.tab\", sep='\\t', header = None)\n",
    "metabat1_p70.columns = ['#anonymous_gsa_id','bin_id']\n",
    "to_biobox(metabat1_p70, f\"./Temp/{dataset_name}/metabat1_p70\")\n",
    "print(metabat1_p70.shape)\n",
    "print(f'{round(metabat1_p70[metabat1_p70[\"bin_id\"]!= 0].shape[0]*100 / all_number,2)}% assigned')\n",
    "metabat1_p70.head(2)"
   ]
  },
  {
   "cell_type": "code",
   "execution_count": 60,
   "metadata": {
    "ExecuteTime": {
     "end_time": "2021-07-19T12:15:29.659356Z",
     "start_time": "2021-07-19T12:15:29.620348Z"
    }
   },
   "outputs": [
    {
     "name": "stdout",
     "output_type": "stream",
     "text": [
      "(5673, 2)\n",
      "29.09% assigned\n"
     ]
    },
    {
     "data": {
      "text/html": [
       "<div>\n",
       "<style scoped>\n",
       "    .dataframe tbody tr th:only-of-type {\n",
       "        vertical-align: middle;\n",
       "    }\n",
       "\n",
       "    .dataframe tbody tr th {\n",
       "        vertical-align: top;\n",
       "    }\n",
       "\n",
       "    .dataframe thead th {\n",
       "        text-align: right;\n",
       "    }\n",
       "</style>\n",
       "<table border=\"1\" class=\"dataframe\">\n",
       "  <thead>\n",
       "    <tr style=\"text-align: right;\">\n",
       "      <th></th>\n",
       "      <th>#anonymous_gsa_id</th>\n",
       "      <th>bin_id</th>\n",
       "    </tr>\n",
       "  </thead>\n",
       "  <tbody>\n",
       "    <tr>\n",
       "      <th>0</th>\n",
       "      <td>RL|S1|C19147</td>\n",
       "      <td>1</td>\n",
       "    </tr>\n",
       "    <tr>\n",
       "      <th>1</th>\n",
       "      <td>RL|S1|C19085</td>\n",
       "      <td>1</td>\n",
       "    </tr>\n",
       "  </tbody>\n",
       "</table>\n",
       "</div>"
      ],
      "text/plain": [
       "  #anonymous_gsa_id  bin_id\n",
       "0      RL|S1|C19147       1\n",
       "1      RL|S1|C19085       1"
      ]
     },
     "execution_count": 60,
     "metadata": {},
     "output_type": "execute_result"
    }
   ],
   "source": [
    "metabat1_p80 = pd.read_csv(f\"./Binning/{dataset_name}/Metabat1/prob80/contigs.tab\", sep='\\t', header = None)\n",
    "metabat1_p80.columns = ['#anonymous_gsa_id','bin_id']\n",
    "to_biobox(metabat1_p80, f\"./Temp/{dataset_name}/metabat1_p80\")\n",
    "print(metabat1_p80.shape)\n",
    "print(f'{round(metabat1_p80[metabat1_p80[\"bin_id\"]!= 0].shape[0]*100 / all_number,2)}% assigned')\n",
    "metabat1_p80.head(2)"
   ]
  },
  {
   "cell_type": "code",
   "execution_count": 61,
   "metadata": {
    "ExecuteTime": {
     "end_time": "2021-07-19T12:15:29.986650Z",
     "start_time": "2021-07-19T12:15:29.948493Z"
    }
   },
   "outputs": [
    {
     "name": "stdout",
     "output_type": "stream",
     "text": [
      "(5322, 2)\n",
      "27.29% assigned\n"
     ]
    },
    {
     "data": {
      "text/html": [
       "<div>\n",
       "<style scoped>\n",
       "    .dataframe tbody tr th:only-of-type {\n",
       "        vertical-align: middle;\n",
       "    }\n",
       "\n",
       "    .dataframe tbody tr th {\n",
       "        vertical-align: top;\n",
       "    }\n",
       "\n",
       "    .dataframe thead th {\n",
       "        text-align: right;\n",
       "    }\n",
       "</style>\n",
       "<table border=\"1\" class=\"dataframe\">\n",
       "  <thead>\n",
       "    <tr style=\"text-align: right;\">\n",
       "      <th></th>\n",
       "      <th>#anonymous_gsa_id</th>\n",
       "      <th>bin_id</th>\n",
       "    </tr>\n",
       "  </thead>\n",
       "  <tbody>\n",
       "    <tr>\n",
       "      <th>0</th>\n",
       "      <td>RL|S1|C19446</td>\n",
       "      <td>1</td>\n",
       "    </tr>\n",
       "    <tr>\n",
       "      <th>1</th>\n",
       "      <td>RL|S1|C19333</td>\n",
       "      <td>1</td>\n",
       "    </tr>\n",
       "  </tbody>\n",
       "</table>\n",
       "</div>"
      ],
      "text/plain": [
       "  #anonymous_gsa_id  bin_id\n",
       "0      RL|S1|C19446       1\n",
       "1      RL|S1|C19333       1"
      ]
     },
     "execution_count": 61,
     "metadata": {},
     "output_type": "execute_result"
    }
   ],
   "source": [
    "metabat1_p90 = pd.read_csv(f\"./Binning/{dataset_name}/Metabat1/prob90/contigs.tab\", sep='\\t', header = None)\n",
    "metabat1_p90.columns = ['#anonymous_gsa_id','bin_id']\n",
    "to_biobox(metabat1_p90, f\"./Temp/{dataset_name}/metabat1_p90\")\n",
    "print(metabat1_p90.shape)\n",
    "print(f'{round(metabat1_p90[metabat1_p90[\"bin_id\"]!= 0].shape[0]*100 / all_number,2)}% assigned')\n",
    "metabat1_p90.head(2)"
   ]
  },
  {
   "cell_type": "code",
   "execution_count": 62,
   "metadata": {
    "ExecuteTime": {
     "end_time": "2021-07-19T12:15:30.887527Z",
     "start_time": "2021-07-19T12:15:30.848340Z"
    }
   },
   "outputs": [
    {
     "name": "stdout",
     "output_type": "stream",
     "text": [
      "(5021, 2)\n",
      "25.75% assigned\n"
     ]
    },
    {
     "data": {
      "text/html": [
       "<div>\n",
       "<style scoped>\n",
       "    .dataframe tbody tr th:only-of-type {\n",
       "        vertical-align: middle;\n",
       "    }\n",
       "\n",
       "    .dataframe tbody tr th {\n",
       "        vertical-align: top;\n",
       "    }\n",
       "\n",
       "    .dataframe thead th {\n",
       "        text-align: right;\n",
       "    }\n",
       "</style>\n",
       "<table border=\"1\" class=\"dataframe\">\n",
       "  <thead>\n",
       "    <tr style=\"text-align: right;\">\n",
       "      <th></th>\n",
       "      <th>#anonymous_gsa_id</th>\n",
       "      <th>bin_id</th>\n",
       "    </tr>\n",
       "  </thead>\n",
       "  <tbody>\n",
       "    <tr>\n",
       "      <th>0</th>\n",
       "      <td>RL|S1|C19446</td>\n",
       "      <td>1</td>\n",
       "    </tr>\n",
       "    <tr>\n",
       "      <th>1</th>\n",
       "      <td>RL|S1|C19333</td>\n",
       "      <td>1</td>\n",
       "    </tr>\n",
       "  </tbody>\n",
       "</table>\n",
       "</div>"
      ],
      "text/plain": [
       "  #anonymous_gsa_id  bin_id\n",
       "0      RL|S1|C19446       1\n",
       "1      RL|S1|C19333       1"
      ]
     },
     "execution_count": 62,
     "metadata": {},
     "output_type": "execute_result"
    }
   ],
   "source": [
    "metabat1_p95 = pd.read_csv(f\"./Binning/{dataset_name}/Metabat1/prob95/contigs.tab\", sep='\\t', header = None)\n",
    "metabat1_p95.columns = ['#anonymous_gsa_id','bin_id']\n",
    "to_biobox(metabat1_p95, f\"./Temp/{dataset_name}/metabat1_p95\")\n",
    "print(metabat1_p95.shape)\n",
    "print(f'{round(metabat1_p95[metabat1_p95[\"bin_id\"]!= 0].shape[0]*100 / all_number,2)}% assigned')\n",
    "metabat1_p95.head(2)"
   ]
  },
  {
   "cell_type": "code",
   "execution_count": 63,
   "metadata": {
    "ExecuteTime": {
     "end_time": "2021-07-19T12:15:31.215419Z",
     "start_time": "2021-07-19T12:15:31.178419Z"
    }
   },
   "outputs": [
    {
     "name": "stdout",
     "output_type": "stream",
     "text": [
      "(3869, 2)\n",
      "19.84% assigned\n"
     ]
    },
    {
     "data": {
      "text/html": [
       "<div>\n",
       "<style scoped>\n",
       "    .dataframe tbody tr th:only-of-type {\n",
       "        vertical-align: middle;\n",
       "    }\n",
       "\n",
       "    .dataframe tbody tr th {\n",
       "        vertical-align: top;\n",
       "    }\n",
       "\n",
       "    .dataframe thead th {\n",
       "        text-align: right;\n",
       "    }\n",
       "</style>\n",
       "<table border=\"1\" class=\"dataframe\">\n",
       "  <thead>\n",
       "    <tr style=\"text-align: right;\">\n",
       "      <th></th>\n",
       "      <th>#anonymous_gsa_id</th>\n",
       "      <th>bin_id</th>\n",
       "    </tr>\n",
       "  </thead>\n",
       "  <tbody>\n",
       "    <tr>\n",
       "      <th>0</th>\n",
       "      <td>RL|S1|C9238</td>\n",
       "      <td>1</td>\n",
       "    </tr>\n",
       "    <tr>\n",
       "      <th>1</th>\n",
       "      <td>RL|S1|C15230</td>\n",
       "      <td>1</td>\n",
       "    </tr>\n",
       "  </tbody>\n",
       "</table>\n",
       "</div>"
      ],
      "text/plain": [
       "  #anonymous_gsa_id  bin_id\n",
       "0       RL|S1|C9238       1\n",
       "1      RL|S1|C15230       1"
      ]
     },
     "execution_count": 63,
     "metadata": {},
     "output_type": "execute_result"
    }
   ],
   "source": [
    "metabat2_p50 = pd.read_csv(f\"./Binning/{dataset_name}/Metabat2/prob50/contigs.tab\", sep='\\t', header = None)\n",
    "metabat2_p50.columns = ['#anonymous_gsa_id','bin_id']\n",
    "to_biobox(metabat2_p50, f\"./Temp/{dataset_name}/metabat2_p50\")\n",
    "print(metabat2_p50.shape)\n",
    "print(f'{round(metabat2_p50[metabat2_p50[\"bin_id\"]!= 0].shape[0]*100 / all_number,2)}% assigned')\n",
    "metabat2_p50.head(2)"
   ]
  },
  {
   "cell_type": "code",
   "execution_count": 64,
   "metadata": {
    "ExecuteTime": {
     "end_time": "2021-07-19T12:15:32.010803Z",
     "start_time": "2021-07-19T12:15:31.983012Z"
    }
   },
   "outputs": [
    {
     "name": "stdout",
     "output_type": "stream",
     "text": [
      "(1687, 2)\n",
      "8.65% assigned\n"
     ]
    },
    {
     "data": {
      "text/html": [
       "<div>\n",
       "<style scoped>\n",
       "    .dataframe tbody tr th:only-of-type {\n",
       "        vertical-align: middle;\n",
       "    }\n",
       "\n",
       "    .dataframe tbody tr th {\n",
       "        vertical-align: top;\n",
       "    }\n",
       "\n",
       "    .dataframe thead th {\n",
       "        text-align: right;\n",
       "    }\n",
       "</style>\n",
       "<table border=\"1\" class=\"dataframe\">\n",
       "  <thead>\n",
       "    <tr style=\"text-align: right;\">\n",
       "      <th></th>\n",
       "      <th>#anonymous_gsa_id</th>\n",
       "      <th>bin_id</th>\n",
       "    </tr>\n",
       "  </thead>\n",
       "  <tbody>\n",
       "    <tr>\n",
       "      <th>0</th>\n",
       "      <td>RL|S1|C6180</td>\n",
       "      <td>1</td>\n",
       "    </tr>\n",
       "    <tr>\n",
       "      <th>1</th>\n",
       "      <td>RL|S1|C7437</td>\n",
       "      <td>1</td>\n",
       "    </tr>\n",
       "  </tbody>\n",
       "</table>\n",
       "</div>"
      ],
      "text/plain": [
       "  #anonymous_gsa_id  bin_id\n",
       "0       RL|S1|C6180       1\n",
       "1       RL|S1|C7437       1"
      ]
     },
     "execution_count": 64,
     "metadata": {},
     "output_type": "execute_result"
    }
   ],
   "source": [
    "metabat2_p95 = pd.read_csv(f\"./Binning/{dataset_name}/Metabat2/prob95/contigs.tab\", sep='\\t', header = None)\n",
    "metabat2_p95.columns = ['#anonymous_gsa_id','bin_id']\n",
    "to_biobox(metabat2_p95, f\"./Temp/{dataset_name}/metabat2_p95\")\n",
    "print(metabat2_p95.shape)\n",
    "print(f'{round(metabat2_p95[metabat2_p95[\"bin_id\"]!= 0].shape[0]*100 / all_number,2)}% assigned')\n",
    "metabat2_p95.head(2)"
   ]
  },
  {
   "cell_type": "code",
   "execution_count": 65,
   "metadata": {
    "ExecuteTime": {
     "end_time": "2021-07-19T12:15:32.990061Z",
     "start_time": "2021-07-19T12:15:32.658032Z"
    }
   },
   "outputs": [
    {
     "ename": "FileNotFoundError",
     "evalue": "[Errno 2] No such file or directory: './Binning/CAMI_Low/Maxbin2/prob50/contigs.tab'",
     "output_type": "error",
     "traceback": [
      "\u001b[0;31m---------------------------------------------------------------------------\u001b[0m",
      "\u001b[0;31mFileNotFoundError\u001b[0m                         Traceback (most recent call last)",
      "\u001b[0;32m<ipython-input-65-bd84af1b2b99>\u001b[0m in \u001b[0;36m<module>\u001b[0;34m\u001b[0m\n\u001b[0;32m----> 1\u001b[0;31m \u001b[0mmaxbin2_p50\u001b[0m \u001b[0;34m=\u001b[0m \u001b[0mpd\u001b[0m\u001b[0;34m.\u001b[0m\u001b[0mread_csv\u001b[0m\u001b[0;34m(\u001b[0m\u001b[0;34mf\"./Binning/{dataset_name}/Maxbin2/prob50/contigs.tab\"\u001b[0m\u001b[0;34m,\u001b[0m \u001b[0msep\u001b[0m\u001b[0;34m=\u001b[0m\u001b[0;34m'\\t'\u001b[0m\u001b[0;34m,\u001b[0m \u001b[0mheader\u001b[0m \u001b[0;34m=\u001b[0m \u001b[0;32mNone\u001b[0m\u001b[0;34m)\u001b[0m\u001b[0;34m\u001b[0m\u001b[0;34m\u001b[0m\u001b[0m\n\u001b[0m\u001b[1;32m      2\u001b[0m \u001b[0mmaxbin2_p50\u001b[0m\u001b[0;34m.\u001b[0m\u001b[0mcolumns\u001b[0m \u001b[0;34m=\u001b[0m \u001b[0;34m[\u001b[0m\u001b[0;34m'#anonymous_gsa_id'\u001b[0m\u001b[0;34m,\u001b[0m\u001b[0;34m'bin_id'\u001b[0m\u001b[0;34m]\u001b[0m\u001b[0;34m\u001b[0m\u001b[0;34m\u001b[0m\u001b[0m\n\u001b[1;32m      3\u001b[0m \u001b[0mto_biobox\u001b[0m\u001b[0;34m(\u001b[0m\u001b[0mmaxbin2_p50\u001b[0m\u001b[0;34m,\u001b[0m \u001b[0;34mf\"./Temp/{dataset_name}/maxbin2_p50\"\u001b[0m\u001b[0;34m)\u001b[0m\u001b[0;34m\u001b[0m\u001b[0;34m\u001b[0m\u001b[0m\n\u001b[1;32m      4\u001b[0m \u001b[0mprint\u001b[0m\u001b[0;34m(\u001b[0m\u001b[0mmaxbin2_p50\u001b[0m\u001b[0;34m.\u001b[0m\u001b[0mshape\u001b[0m\u001b[0;34m)\u001b[0m\u001b[0;34m\u001b[0m\u001b[0;34m\u001b[0m\u001b[0m\n\u001b[1;32m      5\u001b[0m \u001b[0mprint\u001b[0m\u001b[0;34m(\u001b[0m\u001b[0;34mf'{round(maxbin2_p50[maxbin2_p50[\"bin_id\"]!= 0].shape[0]*100 / all_number,2)}% assigned'\u001b[0m\u001b[0;34m)\u001b[0m\u001b[0;34m\u001b[0m\u001b[0;34m\u001b[0m\u001b[0m\n",
      "\u001b[0;32m~/.local/lib/python3.8/site-packages/pandas/io/parsers.py\u001b[0m in \u001b[0;36mread_csv\u001b[0;34m(filepath_or_buffer, sep, delimiter, header, names, index_col, usecols, squeeze, prefix, mangle_dupe_cols, dtype, engine, converters, true_values, false_values, skipinitialspace, skiprows, skipfooter, nrows, na_values, keep_default_na, na_filter, verbose, skip_blank_lines, parse_dates, infer_datetime_format, keep_date_col, date_parser, dayfirst, cache_dates, iterator, chunksize, compression, thousands, decimal, lineterminator, quotechar, quoting, doublequote, escapechar, comment, encoding, dialect, error_bad_lines, warn_bad_lines, delim_whitespace, low_memory, memory_map, float_precision, storage_options)\u001b[0m\n\u001b[1;32m    608\u001b[0m     \u001b[0mkwds\u001b[0m\u001b[0;34m.\u001b[0m\u001b[0mupdate\u001b[0m\u001b[0;34m(\u001b[0m\u001b[0mkwds_defaults\u001b[0m\u001b[0;34m)\u001b[0m\u001b[0;34m\u001b[0m\u001b[0;34m\u001b[0m\u001b[0m\n\u001b[1;32m    609\u001b[0m \u001b[0;34m\u001b[0m\u001b[0m\n\u001b[0;32m--> 610\u001b[0;31m     \u001b[0;32mreturn\u001b[0m \u001b[0m_read\u001b[0m\u001b[0;34m(\u001b[0m\u001b[0mfilepath_or_buffer\u001b[0m\u001b[0;34m,\u001b[0m \u001b[0mkwds\u001b[0m\u001b[0;34m)\u001b[0m\u001b[0;34m\u001b[0m\u001b[0;34m\u001b[0m\u001b[0m\n\u001b[0m\u001b[1;32m    611\u001b[0m \u001b[0;34m\u001b[0m\u001b[0m\n\u001b[1;32m    612\u001b[0m \u001b[0;34m\u001b[0m\u001b[0m\n",
      "\u001b[0;32m~/.local/lib/python3.8/site-packages/pandas/io/parsers.py\u001b[0m in \u001b[0;36m_read\u001b[0;34m(filepath_or_buffer, kwds)\u001b[0m\n\u001b[1;32m    460\u001b[0m \u001b[0;34m\u001b[0m\u001b[0m\n\u001b[1;32m    461\u001b[0m     \u001b[0;31m# Create the parser.\u001b[0m\u001b[0;34m\u001b[0m\u001b[0;34m\u001b[0m\u001b[0;34m\u001b[0m\u001b[0m\n\u001b[0;32m--> 462\u001b[0;31m     \u001b[0mparser\u001b[0m \u001b[0;34m=\u001b[0m \u001b[0mTextFileReader\u001b[0m\u001b[0;34m(\u001b[0m\u001b[0mfilepath_or_buffer\u001b[0m\u001b[0;34m,\u001b[0m \u001b[0;34m**\u001b[0m\u001b[0mkwds\u001b[0m\u001b[0;34m)\u001b[0m\u001b[0;34m\u001b[0m\u001b[0;34m\u001b[0m\u001b[0m\n\u001b[0m\u001b[1;32m    463\u001b[0m \u001b[0;34m\u001b[0m\u001b[0m\n\u001b[1;32m    464\u001b[0m     \u001b[0;32mif\u001b[0m \u001b[0mchunksize\u001b[0m \u001b[0;32mor\u001b[0m \u001b[0miterator\u001b[0m\u001b[0;34m:\u001b[0m\u001b[0;34m\u001b[0m\u001b[0;34m\u001b[0m\u001b[0m\n",
      "\u001b[0;32m~/.local/lib/python3.8/site-packages/pandas/io/parsers.py\u001b[0m in \u001b[0;36m__init__\u001b[0;34m(self, f, engine, **kwds)\u001b[0m\n\u001b[1;32m    817\u001b[0m             \u001b[0mself\u001b[0m\u001b[0;34m.\u001b[0m\u001b[0moptions\u001b[0m\u001b[0;34m[\u001b[0m\u001b[0;34m\"has_index_names\"\u001b[0m\u001b[0;34m]\u001b[0m \u001b[0;34m=\u001b[0m \u001b[0mkwds\u001b[0m\u001b[0;34m[\u001b[0m\u001b[0;34m\"has_index_names\"\u001b[0m\u001b[0;34m]\u001b[0m\u001b[0;34m\u001b[0m\u001b[0;34m\u001b[0m\u001b[0m\n\u001b[1;32m    818\u001b[0m \u001b[0;34m\u001b[0m\u001b[0m\n\u001b[0;32m--> 819\u001b[0;31m         \u001b[0mself\u001b[0m\u001b[0;34m.\u001b[0m\u001b[0m_engine\u001b[0m \u001b[0;34m=\u001b[0m \u001b[0mself\u001b[0m\u001b[0;34m.\u001b[0m\u001b[0m_make_engine\u001b[0m\u001b[0;34m(\u001b[0m\u001b[0mself\u001b[0m\u001b[0;34m.\u001b[0m\u001b[0mengine\u001b[0m\u001b[0;34m)\u001b[0m\u001b[0;34m\u001b[0m\u001b[0;34m\u001b[0m\u001b[0m\n\u001b[0m\u001b[1;32m    820\u001b[0m \u001b[0;34m\u001b[0m\u001b[0m\n\u001b[1;32m    821\u001b[0m     \u001b[0;32mdef\u001b[0m \u001b[0mclose\u001b[0m\u001b[0;34m(\u001b[0m\u001b[0mself\u001b[0m\u001b[0;34m)\u001b[0m\u001b[0;34m:\u001b[0m\u001b[0;34m\u001b[0m\u001b[0;34m\u001b[0m\u001b[0m\n",
      "\u001b[0;32m~/.local/lib/python3.8/site-packages/pandas/io/parsers.py\u001b[0m in \u001b[0;36m_make_engine\u001b[0;34m(self, engine)\u001b[0m\n\u001b[1;32m   1048\u001b[0m             )\n\u001b[1;32m   1049\u001b[0m         \u001b[0;31m# error: Too many arguments for \"ParserBase\"\u001b[0m\u001b[0;34m\u001b[0m\u001b[0;34m\u001b[0m\u001b[0;34m\u001b[0m\u001b[0m\n\u001b[0;32m-> 1050\u001b[0;31m         \u001b[0;32mreturn\u001b[0m \u001b[0mmapping\u001b[0m\u001b[0;34m[\u001b[0m\u001b[0mengine\u001b[0m\u001b[0;34m]\u001b[0m\u001b[0;34m(\u001b[0m\u001b[0mself\u001b[0m\u001b[0;34m.\u001b[0m\u001b[0mf\u001b[0m\u001b[0;34m,\u001b[0m \u001b[0;34m**\u001b[0m\u001b[0mself\u001b[0m\u001b[0;34m.\u001b[0m\u001b[0moptions\u001b[0m\u001b[0;34m)\u001b[0m  \u001b[0;31m# type: ignore[call-arg]\u001b[0m\u001b[0;34m\u001b[0m\u001b[0;34m\u001b[0m\u001b[0m\n\u001b[0m\u001b[1;32m   1051\u001b[0m \u001b[0;34m\u001b[0m\u001b[0m\n\u001b[1;32m   1052\u001b[0m     \u001b[0;32mdef\u001b[0m \u001b[0m_failover_to_python\u001b[0m\u001b[0;34m(\u001b[0m\u001b[0mself\u001b[0m\u001b[0;34m)\u001b[0m\u001b[0;34m:\u001b[0m\u001b[0;34m\u001b[0m\u001b[0;34m\u001b[0m\u001b[0m\n",
      "\u001b[0;32m~/.local/lib/python3.8/site-packages/pandas/io/parsers.py\u001b[0m in \u001b[0;36m__init__\u001b[0;34m(self, src, **kwds)\u001b[0m\n\u001b[1;32m   1865\u001b[0m \u001b[0;34m\u001b[0m\u001b[0m\n\u001b[1;32m   1866\u001b[0m         \u001b[0;31m# open handles\u001b[0m\u001b[0;34m\u001b[0m\u001b[0;34m\u001b[0m\u001b[0;34m\u001b[0m\u001b[0m\n\u001b[0;32m-> 1867\u001b[0;31m         \u001b[0mself\u001b[0m\u001b[0;34m.\u001b[0m\u001b[0m_open_handles\u001b[0m\u001b[0;34m(\u001b[0m\u001b[0msrc\u001b[0m\u001b[0;34m,\u001b[0m \u001b[0mkwds\u001b[0m\u001b[0;34m)\u001b[0m\u001b[0;34m\u001b[0m\u001b[0;34m\u001b[0m\u001b[0m\n\u001b[0m\u001b[1;32m   1868\u001b[0m         \u001b[0;32massert\u001b[0m \u001b[0mself\u001b[0m\u001b[0;34m.\u001b[0m\u001b[0mhandles\u001b[0m \u001b[0;32mis\u001b[0m \u001b[0;32mnot\u001b[0m \u001b[0;32mNone\u001b[0m\u001b[0;34m\u001b[0m\u001b[0;34m\u001b[0m\u001b[0m\n\u001b[1;32m   1869\u001b[0m         \u001b[0;32mfor\u001b[0m \u001b[0mkey\u001b[0m \u001b[0;32min\u001b[0m \u001b[0;34m(\u001b[0m\u001b[0;34m\"storage_options\"\u001b[0m\u001b[0;34m,\u001b[0m \u001b[0;34m\"encoding\"\u001b[0m\u001b[0;34m,\u001b[0m \u001b[0;34m\"memory_map\"\u001b[0m\u001b[0;34m,\u001b[0m \u001b[0;34m\"compression\"\u001b[0m\u001b[0;34m)\u001b[0m\u001b[0;34m:\u001b[0m\u001b[0;34m\u001b[0m\u001b[0;34m\u001b[0m\u001b[0m\n",
      "\u001b[0;32m~/.local/lib/python3.8/site-packages/pandas/io/parsers.py\u001b[0m in \u001b[0;36m_open_handles\u001b[0;34m(self, src, kwds)\u001b[0m\n\u001b[1;32m   1360\u001b[0m         \u001b[0mLet\u001b[0m \u001b[0mthe\u001b[0m \u001b[0mreaders\u001b[0m \u001b[0mopen\u001b[0m \u001b[0mIOHanldes\u001b[0m \u001b[0mafter\u001b[0m \u001b[0mthey\u001b[0m \u001b[0mare\u001b[0m \u001b[0mdone\u001b[0m \u001b[0;32mwith\u001b[0m \u001b[0mtheir\u001b[0m \u001b[0mpotential\u001b[0m \u001b[0mraises\u001b[0m\u001b[0;34m.\u001b[0m\u001b[0;34m\u001b[0m\u001b[0;34m\u001b[0m\u001b[0m\n\u001b[1;32m   1361\u001b[0m         \"\"\"\n\u001b[0;32m-> 1362\u001b[0;31m         self.handles = get_handle(\n\u001b[0m\u001b[1;32m   1363\u001b[0m             \u001b[0msrc\u001b[0m\u001b[0;34m,\u001b[0m\u001b[0;34m\u001b[0m\u001b[0;34m\u001b[0m\u001b[0m\n\u001b[1;32m   1364\u001b[0m             \u001b[0;34m\"r\"\u001b[0m\u001b[0;34m,\u001b[0m\u001b[0;34m\u001b[0m\u001b[0;34m\u001b[0m\u001b[0m\n",
      "\u001b[0;32m~/.local/lib/python3.8/site-packages/pandas/io/common.py\u001b[0m in \u001b[0;36mget_handle\u001b[0;34m(path_or_buf, mode, encoding, compression, memory_map, is_text, errors, storage_options)\u001b[0m\n\u001b[1;32m    640\u001b[0m                 \u001b[0merrors\u001b[0m \u001b[0;34m=\u001b[0m \u001b[0;34m\"replace\"\u001b[0m\u001b[0;34m\u001b[0m\u001b[0;34m\u001b[0m\u001b[0m\n\u001b[1;32m    641\u001b[0m             \u001b[0;31m# Encoding\u001b[0m\u001b[0;34m\u001b[0m\u001b[0;34m\u001b[0m\u001b[0;34m\u001b[0m\u001b[0m\n\u001b[0;32m--> 642\u001b[0;31m             handle = open(\n\u001b[0m\u001b[1;32m    643\u001b[0m                 \u001b[0mhandle\u001b[0m\u001b[0;34m,\u001b[0m\u001b[0;34m\u001b[0m\u001b[0;34m\u001b[0m\u001b[0m\n\u001b[1;32m    644\u001b[0m                 \u001b[0mioargs\u001b[0m\u001b[0;34m.\u001b[0m\u001b[0mmode\u001b[0m\u001b[0;34m,\u001b[0m\u001b[0;34m\u001b[0m\u001b[0;34m\u001b[0m\u001b[0m\n",
      "\u001b[0;31mFileNotFoundError\u001b[0m: [Errno 2] No such file or directory: './Binning/CAMI_Low/Maxbin2/prob50/contigs.tab'"
     ]
    }
   ],
   "source": [
    "maxbin2_p50 = pd.read_csv(f\"./Binning/{dataset_name}/Maxbin2/prob50/contigs.tab\", sep='\\t', header = None)\n",
    "maxbin2_p50.columns = ['#anonymous_gsa_id','bin_id']\n",
    "to_biobox(maxbin2_p50, f\"./Temp/{dataset_name}/maxbin2_p50\")\n",
    "print(maxbin2_p50.shape)\n",
    "print(f'{round(maxbin2_p50[maxbin2_p50[\"bin_id\"]!= 0].shape[0]*100 / all_number,2)}% assigned')\n",
    "maxbin2_p50.head(2)"
   ]
  },
  {
   "cell_type": "code",
   "execution_count": 66,
   "metadata": {
    "ExecuteTime": {
     "end_time": "2021-07-19T12:15:33.146451Z",
     "start_time": "2021-07-19T12:15:33.095884Z"
    }
   },
   "outputs": [
    {
     "name": "stdout",
     "output_type": "stream",
     "text": [
      "(7567, 2)\n",
      "38.81% assigned\n"
     ]
    },
    {
     "data": {
      "text/html": [
       "<div>\n",
       "<style scoped>\n",
       "    .dataframe tbody tr th:only-of-type {\n",
       "        vertical-align: middle;\n",
       "    }\n",
       "\n",
       "    .dataframe tbody tr th {\n",
       "        vertical-align: top;\n",
       "    }\n",
       "\n",
       "    .dataframe thead th {\n",
       "        text-align: right;\n",
       "    }\n",
       "</style>\n",
       "<table border=\"1\" class=\"dataframe\">\n",
       "  <thead>\n",
       "    <tr style=\"text-align: right;\">\n",
       "      <th></th>\n",
       "      <th>#anonymous_gsa_id</th>\n",
       "      <th>bin_id</th>\n",
       "    </tr>\n",
       "  </thead>\n",
       "  <tbody>\n",
       "    <tr>\n",
       "      <th>0</th>\n",
       "      <td>RL|S1|C135</td>\n",
       "      <td>7</td>\n",
       "    </tr>\n",
       "    <tr>\n",
       "      <th>1</th>\n",
       "      <td>RL|S1|C465</td>\n",
       "      <td>7</td>\n",
       "    </tr>\n",
       "  </tbody>\n",
       "</table>\n",
       "</div>"
      ],
      "text/plain": [
       "  #anonymous_gsa_id  bin_id\n",
       "0        RL|S1|C135       7\n",
       "1        RL|S1|C465       7"
      ]
     },
     "execution_count": 66,
     "metadata": {},
     "output_type": "execute_result"
    }
   ],
   "source": [
    "maxbin2_p80 = pd.read_csv(f\"./Binning/{dataset_name}/Maxbin2/prob80/contigs.tab\", sep='\\t', header = None)\n",
    "maxbin2_p80.columns = ['#anonymous_gsa_id','bin_id']\n",
    "to_biobox(maxbin2_p80, f\"./Temp/{dataset_name}/maxbin2_p80\")\n",
    "print(maxbin2_p80.shape)\n",
    "print(f'{round(maxbin2_p80[maxbin2_p80[\"bin_id\"]!= 0].shape[0]*100 / all_number,2)}% assigned')\n",
    "maxbin2_p80.head(2)"
   ]
  },
  {
   "cell_type": "code",
   "execution_count": 67,
   "metadata": {
    "ExecuteTime": {
     "end_time": "2021-07-19T12:15:35.957207Z",
     "start_time": "2021-07-19T12:15:35.912165Z"
    }
   },
   "outputs": [
    {
     "name": "stdout",
     "output_type": "stream",
     "text": [
      "(7498, 2)\n",
      "38.45% assigned\n"
     ]
    },
    {
     "data": {
      "text/html": [
       "<div>\n",
       "<style scoped>\n",
       "    .dataframe tbody tr th:only-of-type {\n",
       "        vertical-align: middle;\n",
       "    }\n",
       "\n",
       "    .dataframe tbody tr th {\n",
       "        vertical-align: top;\n",
       "    }\n",
       "\n",
       "    .dataframe thead th {\n",
       "        text-align: right;\n",
       "    }\n",
       "</style>\n",
       "<table border=\"1\" class=\"dataframe\">\n",
       "  <thead>\n",
       "    <tr style=\"text-align: right;\">\n",
       "      <th></th>\n",
       "      <th>#anonymous_gsa_id</th>\n",
       "      <th>bin_id</th>\n",
       "    </tr>\n",
       "  </thead>\n",
       "  <tbody>\n",
       "    <tr>\n",
       "      <th>0</th>\n",
       "      <td>RL|S1|C135</td>\n",
       "      <td>7</td>\n",
       "    </tr>\n",
       "    <tr>\n",
       "      <th>1</th>\n",
       "      <td>RL|S1|C465</td>\n",
       "      <td>7</td>\n",
       "    </tr>\n",
       "  </tbody>\n",
       "</table>\n",
       "</div>"
      ],
      "text/plain": [
       "  #anonymous_gsa_id  bin_id\n",
       "0        RL|S1|C135       7\n",
       "1        RL|S1|C465       7"
      ]
     },
     "execution_count": 67,
     "metadata": {},
     "output_type": "execute_result"
    }
   ],
   "source": [
    "maxbin2_p90 = pd.read_csv(f\"./Binning/{dataset_name}/Maxbin2/prob90/contigs.tab\", sep='\\t', header = None)\n",
    "maxbin2_p90.columns = ['#anonymous_gsa_id','bin_id']\n",
    "to_biobox(maxbin2_p90, f\"./Temp/{dataset_name}/maxbin2_p90\")\n",
    "print(maxbin2_p90.shape)\n",
    "print(f'{round(maxbin2_p90[maxbin2_p90[\"bin_id\"]!= 0].shape[0]*100 / all_number,2)}% assigned')\n",
    "maxbin2_p90.head(2)"
   ]
  },
  {
   "cell_type": "code",
   "execution_count": 23,
   "metadata": {
    "ExecuteTime": {
     "end_time": "2021-07-18T17:04:07.551816Z",
     "start_time": "2021-07-18T17:04:07.513593Z"
    }
   },
   "outputs": [
    {
     "name": "stdout",
     "output_type": "stream",
     "text": [
      "(7227, 2)\n",
      "37.06% assigned\n"
     ]
    },
    {
     "data": {
      "text/html": [
       "<div>\n",
       "<style scoped>\n",
       "    .dataframe tbody tr th:only-of-type {\n",
       "        vertical-align: middle;\n",
       "    }\n",
       "\n",
       "    .dataframe tbody tr th {\n",
       "        vertical-align: top;\n",
       "    }\n",
       "\n",
       "    .dataframe thead th {\n",
       "        text-align: right;\n",
       "    }\n",
       "</style>\n",
       "<table border=\"1\" class=\"dataframe\">\n",
       "  <thead>\n",
       "    <tr style=\"text-align: right;\">\n",
       "      <th></th>\n",
       "      <th>#anonymous_gsa_id</th>\n",
       "      <th>bin_id</th>\n",
       "    </tr>\n",
       "  </thead>\n",
       "  <tbody>\n",
       "    <tr>\n",
       "      <th>0</th>\n",
       "      <td>RL|S1|C465</td>\n",
       "      <td>7</td>\n",
       "    </tr>\n",
       "    <tr>\n",
       "      <th>1</th>\n",
       "      <td>RL|S1|C618</td>\n",
       "      <td>7</td>\n",
       "    </tr>\n",
       "  </tbody>\n",
       "</table>\n",
       "</div>"
      ],
      "text/plain": [
       "  #anonymous_gsa_id  bin_id\n",
       "0        RL|S1|C465       7\n",
       "1        RL|S1|C618       7"
      ]
     },
     "execution_count": 23,
     "metadata": {},
     "output_type": "execute_result"
    }
   ],
   "source": [
    "maxbin2_p95 = pd.read_csv(f\"./Binning/{dataset_name}/Maxbin2/prob95/contigs.tab\", sep='\\t', header = None)\n",
    "maxbin2_p95.columns = ['#anonymous_gsa_id','bin_id']\n",
    "to_biobox(maxbin2_p95, f\"./Temp/{dataset_name}/maxbin2_p95\")\n",
    "print(maxbin2_p95.shape)\n",
    "print(f'{round(maxbin2_p95[maxbin2_p95[\"bin_id\"]!= 0].shape[0]*100 / all_number,2)}% assigned')\n",
    "maxbin2_p95.head(2)"
   ]
  },
  {
   "cell_type": "markdown",
   "metadata": {},
   "source": [
    "# Gene Ontology\n",
    "## https://www.ebi.ac.uk/QuickGO/api/index.html#/gene_ontology"
   ]
  },
  {
   "cell_type": "code",
   "execution_count": 29,
   "metadata": {
    "ExecuteTime": {
     "end_time": "2021-07-18T17:13:03.209782Z",
     "start_time": "2021-07-18T17:13:01.682708Z"
    }
   },
   "outputs": [
    {
     "data": {
      "text/html": [
       "<div>\n",
       "<style scoped>\n",
       "    .dataframe tbody tr th:only-of-type {\n",
       "        vertical-align: middle;\n",
       "    }\n",
       "\n",
       "    .dataframe tbody tr th {\n",
       "        vertical-align: top;\n",
       "    }\n",
       "\n",
       "    .dataframe thead th {\n",
       "        text-align: right;\n",
       "    }\n",
       "</style>\n",
       "<table border=\"1\" class=\"dataframe\">\n",
       "  <thead>\n",
       "    <tr style=\"text-align: right;\">\n",
       "      <th></th>\n",
       "      <th>#Gene</th>\n",
       "      <th>Contig</th>\n",
       "      <th>Start</th>\n",
       "      <th>End</th>\n",
       "      <th>Gene_Length</th>\n",
       "      <th>Strand</th>\n",
       "      <th>SP</th>\n",
       "      <th>TM</th>\n",
       "      <th>go_id</th>\n",
       "      <th>Taxonomy</th>\n",
       "    </tr>\n",
       "  </thead>\n",
       "  <tbody>\n",
       "    <tr>\n",
       "      <th>0</th>\n",
       "      <td>RL|S1|C13963</td>\n",
       "      <td>1160</td>\n",
       "      <td>2104</td>\n",
       "      <td>945</td>\n",
       "      <td>1</td>\n",
       "      <td>No</td>\n",
       "      <td>0</td>\n",
       "      <td>GO:0016811</td>\n",
       "      <td>hydrolase activity, acting on carbon-nitrogen ...</td>\n",
       "      <td>d__Bacteria;p__Actinobacteriota;c__Actinobacte...</td>\n",
       "    </tr>\n",
       "    <tr>\n",
       "      <th>1</th>\n",
       "      <td>RL|S1|C13963</td>\n",
       "      <td>1160</td>\n",
       "      <td>2104</td>\n",
       "      <td>945</td>\n",
       "      <td>1</td>\n",
       "      <td>No</td>\n",
       "      <td>0</td>\n",
       "      <td>GO:0019740</td>\n",
       "      <td>nitrogen utilization</td>\n",
       "      <td>d__Bacteria;p__Actinobacteriota;c__Actinobacte...</td>\n",
       "    </tr>\n",
       "  </tbody>\n",
       "</table>\n",
       "</div>"
      ],
      "text/plain": [
       "          #Gene  Contig  Start  End  Gene_Length Strand  SP          TM  \\\n",
       "0  RL|S1|C13963    1160   2104  945            1     No   0  GO:0016811   \n",
       "1  RL|S1|C13963    1160   2104  945            1     No   0  GO:0019740   \n",
       "\n",
       "                                               go_id  \\\n",
       "0  hydrolase activity, acting on carbon-nitrogen ...   \n",
       "1                               nitrogen utilization   \n",
       "\n",
       "                                            Taxonomy  \n",
       "0  d__Bacteria;p__Actinobacteriota;c__Actinobacte...  \n",
       "1  d__Bacteria;p__Actinobacteriota;c__Actinobacte...  "
      ]
     },
     "execution_count": 29,
     "metadata": {},
     "output_type": "execute_result"
    }
   ],
   "source": [
    "go = pd.read_csv(f\"./Annotation/{dataset_name}/cds.gene2go.tab.txt\", sep='\\t')\n",
    "go = go.reset_index(drop=True)\n",
    "go.head(2)"
   ]
  },
  {
   "cell_type": "markdown",
   "metadata": {},
   "source": [
    "## Add namespace [ cc, bp, mf ]"
   ]
  },
  {
   "cell_type": "code",
   "execution_count": 30,
   "metadata": {
    "ExecuteTime": {
     "end_time": "2021-07-18T17:14:18.209780Z",
     "start_time": "2021-07-18T17:13:03.213260Z"
    },
    "code_folding": [],
    "run_control": {
     "marked": true
    }
   },
   "outputs": [],
   "source": [
    "go_graph = obonet.read_obo('./go.obo') \n",
    "accession_to_namespace = dict()\n",
    "go_ids = go['TM'].unique()\n",
    "for accession in go_ids:\n",
    "    try:        \n",
    "        accession_to_namespace[accession] =  go_graph.nodes[accession]['namespace']\n",
    "    except: \n",
    "        # if not exist,store in list to get from API                        \n",
    "        r = requests.get(\"https://www.ebi.ac.uk/QuickGO/services/ontology/go/terms/\" + accession\n",
    "                     , headers={ \"Accept\" : \"application/json\"})\n",
    "        if not r.ok:\n",
    "            print(f'Not found ', r.raise_for_status())                                              \n",
    "        else:\n",
    "            accession_to_namespace[accession]= r.json()['results'][0]['aspect']         "
   ]
  },
  {
   "cell_type": "code",
   "execution_count": 31,
   "metadata": {
    "ExecuteTime": {
     "end_time": "2021-07-18T17:14:18.479349Z",
     "start_time": "2021-07-18T17:14:18.213800Z"
    }
   },
   "outputs": [
    {
     "name": "stdout",
     "output_type": "stream",
     "text": [
      "molecular_function    196928\n",
      "biological_process    138153\n",
      "cellular_component     79222\n",
      "Name: Namespace, dtype: int64\n"
     ]
    },
    {
     "data": {
      "text/html": [
       "<div>\n",
       "<style scoped>\n",
       "    .dataframe tbody tr th:only-of-type {\n",
       "        vertical-align: middle;\n",
       "    }\n",
       "\n",
       "    .dataframe tbody tr th {\n",
       "        vertical-align: top;\n",
       "    }\n",
       "\n",
       "    .dataframe thead th {\n",
       "        text-align: right;\n",
       "    }\n",
       "</style>\n",
       "<table border=\"1\" class=\"dataframe\">\n",
       "  <thead>\n",
       "    <tr style=\"text-align: right;\">\n",
       "      <th></th>\n",
       "      <th>#Gene</th>\n",
       "      <th>Contig</th>\n",
       "      <th>Start</th>\n",
       "      <th>End</th>\n",
       "      <th>Gene_Length</th>\n",
       "      <th>Strand</th>\n",
       "      <th>SP</th>\n",
       "      <th>TM</th>\n",
       "      <th>go_id</th>\n",
       "      <th>Taxonomy</th>\n",
       "      <th>Namespace</th>\n",
       "    </tr>\n",
       "  </thead>\n",
       "  <tbody>\n",
       "    <tr>\n",
       "      <th>0</th>\n",
       "      <td>RL|S1|C13963</td>\n",
       "      <td>1160</td>\n",
       "      <td>2104</td>\n",
       "      <td>945</td>\n",
       "      <td>1</td>\n",
       "      <td>No</td>\n",
       "      <td>0</td>\n",
       "      <td>GO:0016811</td>\n",
       "      <td>hydrolase activity, acting on carbon-nitrogen ...</td>\n",
       "      <td>d__Bacteria;p__Actinobacteriota;c__Actinobacte...</td>\n",
       "      <td>molecular_function</td>\n",
       "    </tr>\n",
       "    <tr>\n",
       "      <th>1</th>\n",
       "      <td>RL|S1|C13963</td>\n",
       "      <td>1160</td>\n",
       "      <td>2104</td>\n",
       "      <td>945</td>\n",
       "      <td>1</td>\n",
       "      <td>No</td>\n",
       "      <td>0</td>\n",
       "      <td>GO:0019740</td>\n",
       "      <td>nitrogen utilization</td>\n",
       "      <td>d__Bacteria;p__Actinobacteriota;c__Actinobacte...</td>\n",
       "      <td>biological_process</td>\n",
       "    </tr>\n",
       "  </tbody>\n",
       "</table>\n",
       "</div>"
      ],
      "text/plain": [
       "          #Gene  Contig  Start  End  Gene_Length Strand  SP          TM  \\\n",
       "0  RL|S1|C13963    1160   2104  945            1     No   0  GO:0016811   \n",
       "1  RL|S1|C13963    1160   2104  945            1     No   0  GO:0019740   \n",
       "\n",
       "                                               go_id  \\\n",
       "0  hydrolase activity, acting on carbon-nitrogen ...   \n",
       "1                               nitrogen utilization   \n",
       "\n",
       "                                            Taxonomy           Namespace  \n",
       "0  d__Bacteria;p__Actinobacteriota;c__Actinobacte...  molecular_function  \n",
       "1  d__Bacteria;p__Actinobacteriota;c__Actinobacte...  biological_process  "
      ]
     },
     "execution_count": 31,
     "metadata": {},
     "output_type": "execute_result"
    }
   ],
   "source": [
    "def get_namespace(accession):\n",
    "    if(accession in accession_to_namespace):        \n",
    "        return accession_to_namespace[accession]    \n",
    "    return \"unknown\"\n",
    "\n",
    "go['Namespace'] = go['TM'].apply(lambda x : get_namespace(x) )\n",
    "print(go['Namespace'].value_counts())\n",
    "go.head(2)"
   ]
  },
  {
   "cell_type": "markdown",
   "metadata": {},
   "source": [
    "# Improver Method"
   ]
  },
  {
   "cell_type": "markdown",
   "metadata": {
    "heading_collapsed": true
   },
   "source": [
    "## Create dictionary BP, CC , MF base of GOGO for each pair of go ids"
   ]
  },
  {
   "cell_type": "code",
   "execution_count": 78,
   "metadata": {
    "ExecuteTime": {
     "end_time": "2021-07-10T18:30:49.183329Z",
     "start_time": "2021-07-10T18:30:49.175206Z"
    },
    "hidden": true
   },
   "outputs": [],
   "source": [
    "def runGOGO(i,namespace):        \n",
    "    %cd ./GOGO/\n",
    "    !perl go_comb.pl ../Temp/{dataset_name}/{namespace}/go_ids{i}.txt ../Temp/{dataset_name}/{namespace}/go_ids_scores{i}\n",
    "    %cd ..    "
   ]
  },
  {
   "cell_type": "code",
   "execution_count": 79,
   "metadata": {
    "ExecuteTime": {
     "end_time": "2021-07-10T18:30:51.553940Z",
     "start_time": "2021-07-10T18:30:51.533078Z"
    },
    "code_folding": [],
    "hidden": true
   },
   "outputs": [],
   "source": [
    "def Step1(namespace):    \n",
    "    !rm -r ./Temp/{dataset_name}/{namespace}/ \n",
    "    !mkdir ./Temp/{dataset_name}/{namespace}/\n",
    "    # first create all possible pairs of GOs for Biological Process\n",
    "    go_ids = go[go[\"Namespace\"] == namespace]['TM'].unique()    \n",
    "    go1 = []\n",
    "    go2 = []\n",
    "    for i in range(0,go_ids.shape[0]):\n",
    "        for j in range(i, go_ids.shape[0]):            \n",
    "            go1.append(go_ids[i])\n",
    "            go2.append(go_ids[j])\n",
    "    df = pd.DataFrame({'goid1': go1,'goid2': go2},columns = ['goid1', 'goid2'])\n",
    "    indexes = np.linspace(0,df.shape[0], num_cores + 1) // 1\n",
    "    indexes[-1] =  df.shape[0]\n",
    "    \n",
    "    for i in range(0, num_cores):\n",
    "        dfi = df.iloc[int(indexes[i]):int(indexes[i+1]),:]\n",
    "        dfi.to_csv(f\"./Temp/{dataset_name}/{namespace}/go_ids{i}.txt\",sep=\" \",index=None,header=None)\n",
    "        \n",
    "    # now run GOGO in multiprocessing\n",
    "    if __name__ == '__main__':        \n",
    "        pool = mp.Pool(num_cores)        \n",
    "        pool.map(partial(runGOGO, namespace=namespace), range(0,num_cores))      \n",
    "        \n",
    "    clear_output()"
   ]
  },
  {
   "cell_type": "code",
   "execution_count": 85,
   "metadata": {
    "ExecuteTime": {
     "end_time": "2021-07-10T18:42:42.949832Z",
     "start_time": "2021-07-10T18:42:42.933822Z"
    },
    "hidden": true
   },
   "outputs": [],
   "source": [
    "def Step2(namespace):            \n",
    "    def add2dict(row, dictionary):\n",
    "        dictionary[row[0]+row[1]] = row[3]\n",
    "        dictionary[row[1]+row[0]] = row[3]\n",
    "    print('start reading files')            \n",
    "    lines = []\n",
    "    for i in range(0,num_cores):\n",
    "        with open(f\"./Temp/{dataset_name}/{namespace}/go_ids_scores{i}\",\"r\") as f:\n",
    "            text = f.read()\n",
    "            lines = [*lines, *[l for l in text.split(\"\\n\") if len(l) > 0 and l[-24:] != \"not_in_the_same_ontology\"]]                        \n",
    "    print('files reading process was finished.')        \n",
    "    print('start adding to dictionary')        \n",
    "    df = pd.read_csv(StringIO('\\n'.join(lines)), sep=\" \", header=None)                \n",
    "    dictionary = dict()    \n",
    "    df.apply(lambda row:add2dict(row, dictionary), axis=1)\n",
    "    print('adding to dictionary was finished')                   \n",
    "    with open(f\"./Temp/{dataset_name}/{namespace}.pkl\", \"wb\") as file:\n",
    "        pickle.dump(dictionary, file)        \n",
    "    !rm -r ./Temp/{dataset_name}/{namespace}/    "
   ]
  },
  {
   "cell_type": "markdown",
   "metadata": {
    "heading_collapsed": true,
    "hidden": true
   },
   "source": [
    "### biological process"
   ]
  },
  {
   "cell_type": "code",
   "execution_count": 81,
   "metadata": {
    "ExecuteTime": {
     "end_time": "2021-07-10T18:34:06.176922Z",
     "start_time": "2021-07-10T18:31:15.022143Z"
    },
    "hidden": true
   },
   "outputs": [],
   "source": [
    "Step1(\"biological_process\")"
   ]
  },
  {
   "cell_type": "code",
   "execution_count": 82,
   "metadata": {
    "ExecuteTime": {
     "end_time": "2021-07-10T18:41:40.936086Z",
     "start_time": "2021-07-10T18:36:49.694075Z"
    },
    "hidden": true
   },
   "outputs": [],
   "source": [
    "Step2(\"biological_process\")"
   ]
  },
  {
   "cell_type": "markdown",
   "metadata": {
    "heading_collapsed": true,
    "hidden": true
   },
   "source": [
    "### cellular component"
   ]
  },
  {
   "cell_type": "code",
   "execution_count": 83,
   "metadata": {
    "ExecuteTime": {
     "end_time": "2021-07-10T18:42:11.148801Z",
     "start_time": "2021-07-10T18:42:04.145326Z"
    },
    "hidden": true
   },
   "outputs": [],
   "source": [
    "Step1(\"cellular_component\")"
   ]
  },
  {
   "cell_type": "code",
   "execution_count": 84,
   "metadata": {
    "ExecuteTime": {
     "end_time": "2021-07-10T18:42:19.112334Z",
     "start_time": "2021-07-10T18:42:11.153380Z"
    },
    "hidden": true
   },
   "outputs": [],
   "source": [
    "Step2(\"cellular_component\")"
   ]
  },
  {
   "cell_type": "markdown",
   "metadata": {
    "heading_collapsed": true,
    "hidden": true
   },
   "source": [
    "### molecular function"
   ]
  },
  {
   "cell_type": "code",
   "execution_count": 86,
   "metadata": {
    "ExecuteTime": {
     "end_time": "2021-07-10T18:43:56.954712Z",
     "start_time": "2021-07-10T18:42:48.998040Z"
    },
    "hidden": true
   },
   "outputs": [],
   "source": [
    "Step1(\"molecular_function\")"
   ]
  },
  {
   "cell_type": "code",
   "execution_count": 87,
   "metadata": {
    "ExecuteTime": {
     "end_time": "2021-07-10T18:48:28.247492Z",
     "start_time": "2021-07-10T18:43:56.958829Z"
    },
    "hidden": true
   },
   "outputs": [
    {
     "name": "stdout",
     "output_type": "stream",
     "text": [
      "start reading files\n",
      "files reading process was finished.\n",
      "start adding to dictionary\n",
      "adding to dictionary was finished\n"
     ]
    }
   ],
   "source": [
    "Step2(\"molecular_function\")"
   ]
  },
  {
   "cell_type": "markdown",
   "metadata": {
    "heading_collapsed": true
   },
   "source": [
    "## Load data"
   ]
  },
  {
   "cell_type": "code",
   "execution_count": 32,
   "metadata": {
    "ExecuteTime": {
     "end_time": "2021-07-18T17:14:18.509223Z",
     "start_time": "2021-07-18T17:14:18.483053Z"
    },
    "hidden": true
   },
   "outputs": [],
   "source": [
    "base = maxbin2_p95\n",
    "unlabelled = contigs[~contigs['#anonymous_gsa_id'].isin(base['#anonymous_gsa_id'])]"
   ]
  },
  {
   "cell_type": "code",
   "execution_count": 33,
   "metadata": {
    "ExecuteTime": {
     "end_time": "2021-07-18T17:14:20.068099Z",
     "start_time": "2021-07-18T17:14:18.512058Z"
    },
    "hidden": true
   },
   "outputs": [],
   "source": [
    "number_of_bins = base['bin_id'].max() \n",
    "\n",
    "bins = [0 for i in range(0,number_of_bins)]\n",
    "for i in range(0, number_of_bins):    \n",
    "    bins[i] = pd.merge(go, base[base['bin_id']==(i+1)], how=\"inner\", \n",
    "                    left_on='#Gene',right_on=\"#anonymous_gsa_id\")"
   ]
  },
  {
   "cell_type": "code",
   "execution_count": 34,
   "metadata": {
    "ExecuteTime": {
     "end_time": "2021-07-18T17:14:33.239818Z",
     "start_time": "2021-07-18T17:14:20.072290Z"
    },
    "hidden": true
   },
   "outputs": [],
   "source": [
    "with open(f\"./Temp/{dataset_name}/biological_process.pkl\", \"rb\") as file:\n",
    "    bp_dictionary = pickle.load(file)\n",
    "\n",
    "with open(f\"./Temp/{dataset_name}/cellular_component.pkl\", \"rb\") as file:\n",
    "    cc_dictionary = pickle.load(file)\n",
    "    \n",
    "with open(f\"./Temp/{dataset_name}/molecular_function.pkl\", \"rb\") as file:\n",
    "    mf_dictionary = pickle.load(file)"
   ]
  },
  {
   "cell_type": "code",
   "execution_count": 35,
   "metadata": {
    "ExecuteTime": {
     "end_time": "2021-07-18T17:14:56.221852Z",
     "start_time": "2021-07-18T17:14:56.088752Z"
    },
    "hidden": true
   },
   "outputs": [
    {
     "name": "stdout",
     "output_type": "stream",
     "text": [
      "upper_value : 29.0\n"
     ]
    }
   ],
   "source": [
    "go_rare = go.groupby(\"TM\")[\"TM\"].count()\n",
    "upper_value = np.percentile(go_rare.values, 75)\n",
    "print(f'upper_value : {upper_value}')\n",
    "go_rare = go_rare.apply(lambda x : min(x,upper_value))\n",
    "go_rare = go_rare.apply(lambda x : ((upper_value - x) + 1)/upper_value)"
   ]
  },
  {
   "cell_type": "code",
   "execution_count": 36,
   "metadata": {
    "ExecuteTime": {
     "end_time": "2021-07-18T17:14:58.956161Z",
     "start_time": "2021-07-18T17:14:58.951751Z"
    },
    "code_folding": [
     6
    ],
    "hidden": true
   },
   "outputs": [],
   "source": [
    "'''source = []\n",
    "target = []\n",
    "weigth = []\n",
    "TM = df['TM'].to_numpy()\n",
    "Go_id = df['go_id'].to_numpy()\n",
    "\n",
    "for i in range(0, len(TM)-1):\n",
    "    for j in range(i+1, len(TM)):                \n",
    "        if(TM[i] + TM[j] in bp_dictionary):\n",
    "                if(bp_dictionary[TM[i] + TM[j]] > 0.7):\n",
    "                    source.append(Go_id[i])\n",
    "                    target.append(Go_id[j])\n",
    "                    weigth.append(bp_dictionary[ TM[i] + TM[j]])            \n",
    "df = pd.DataFrame({'source': source, 'target': target, 'weigth': weigth})\n",
    "df.to_csv('./data.csv', index=None)''';"
   ]
  },
  {
   "cell_type": "markdown",
   "metadata": {
    "heading_collapsed": true
   },
   "source": [
    "## Disjoint"
   ]
  },
  {
   "cell_type": "markdown",
   "metadata": {
    "ExecuteTime": {
     "end_time": "2021-05-08T22:31:43.777889Z",
     "start_time": "2021-05-08T22:31:43.771849Z"
    },
    "hidden": true
   },
   "source": [
    "### 16S"
   ]
  },
  {
   "cell_type": "code",
   "execution_count": 127,
   "metadata": {
    "ExecuteTime": {
     "end_time": "2021-07-10T19:12:27.845459Z",
     "start_time": "2021-07-10T19:12:27.839793Z"
    },
    "hidden": true
   },
   "outputs": [],
   "source": [
    "'''\n",
    "with open(\"Annotation/Toy_Low/data/16SrRNA.ffn\", \"r\") as file:    \n",
    "    lines = [t for t in file.read().split('\\n') if len(t) > 0]\n",
    "    lines = [t for t in lines if t[0] == '>']\n",
    "    rRNA16S = pd.read_csv(StringIO('\\n'.join(lines)), sep=\"/\", header=None)                \n",
    "    rRNA16S = rRNA16S.iloc[:,1:]\n",
    "    rRNA16S.columns = [\"Name\", \"rRNA_taxon\", \"cid\"]\n",
    "    rRNA16S[\"Name\"] = rRNA16S[\"Name\"].apply(lambda x : x.replace(\"Name=\",\"\"))\n",
    "    rRNA16S[\"rRNA_taxon\"] = rRNA16S[\"rRNA_taxon\"].apply(lambda x : x.replace(\"rRNA_taxon=\",\"\"))\n",
    "    rRNA16S[\"cid\"] = rRNA16S[\"cid\"].apply(lambda x : x.replace(\"cid=\",\"\"))\n",
    "print(rRNA16S.shape)\n",
    "rRNA16S.head()\n",
    "\n",
    "bins = [[] for i in range(0,number_of_bins+1)]\n",
    "for i in range(1, number_of_bins+1):\n",
    "    df = contigs[contigs['Busybee_bin50Percent']==i]\n",
    "    df = pd.merge(df, rRNA16S, how=\"inner\", left_on=\"#anonymous_gsa_id\", right_on=\"cid\")    \n",
    "    for index, row in df.iterrows():\n",
    "        bins[i].append(row['rRNA_taxon'])    \n",
    "    bins[i] = [s for s in set(bins[i])]    \n",
    "    \n",
    "[i for i in range(1, number_of_bins+1) if len(bins[i]) > 1]''';"
   ]
  },
  {
   "cell_type": "markdown",
   "metadata": {},
   "source": [
    "## Main loop"
   ]
  },
  {
   "cell_type": "code",
   "execution_count": 47,
   "metadata": {
    "ExecuteTime": {
     "end_time": "2021-07-18T19:32:52.861934Z",
     "start_time": "2021-07-18T19:28:42.458168Z"
    }
   },
   "outputs": [],
   "source": [
    "number = 5\n",
    "power_coeff = 1\n",
    "\n",
    "def getDictionary(namespace):\n",
    "    if(namespace == \"biological_process\"):\n",
    "        return bp_dictionary\n",
    "    if(namespace == \"cellular_component\"):\n",
    "        return cc_dictionary    \n",
    "    if(namespace == \"molecular_function\"):\n",
    "        return mf_dictionary\n",
    "    \n",
    "# this function recived a contig and return pred bin and score\n",
    "def binScore(inp_bin, go_id,dictionary):        \n",
    "    def run(g1,g2):\n",
    "        pair = g1 + g2\n",
    "        if(pair in dictionary):          \n",
    "            return go_rare[g1] * go_rare[g2] * dictionary[pair] ** power_coeff\n",
    "        return -1    \n",
    "    scores = pd.Series(inp_bin['TM'].unique()).apply(lambda g: run(g , go_id))    \n",
    "    scores = scores[scores >= 0]    \n",
    "    if(scores.shape[0] == 0):\n",
    "        return 0\n",
    "    st = sorted(scores,reverse=True)[:number]\n",
    "    return sum(st) / len(st)\n",
    "\n",
    "def getScore(go_id):            \n",
    "    result = np.zeros(number_of_bins)    \n",
    "    namespace = accession_to_namespace[go_id]\n",
    "    for i in range(0,number_of_bins):\n",
    "        result[i] = binScore(bins[i], go_id, getDictionary(namespace))\n",
    "    return go_id, result\n",
    "\n",
    "if __name__ == '__main__':\n",
    "    pool = mp.Pool(num_cores)    \n",
    "    go_ids = pd.merge(unlabelled, go, how='inner',\n",
    "             left_on='#anonymous_gsa_id',right_on='#Gene')['TM'].unique()\n",
    "\n",
    "    go_dictionary = dict()\n",
    "    for go_id, result in pool.map(getScore, go_ids):        \n",
    "        go_dictionary[go_id] = result"
   ]
  },
  {
   "cell_type": "markdown",
   "metadata": {
    "ExecuteTime": {
     "end_time": "2021-05-15T05:05:42.571472Z",
     "start_time": "2021-05-15T05:03:44.323356Z"
    }
   },
   "source": [
    "## Pred"
   ]
  },
  {
   "cell_type": "code",
   "execution_count": 48,
   "metadata": {
    "ExecuteTime": {
     "end_time": "2021-07-18T19:33:14.946964Z",
     "start_time": "2021-07-18T19:32:52.867676Z"
    }
   },
   "outputs": [],
   "source": [
    "alpha = 1  # BP\n",
    "beta  = 0.1  # CC\n",
    "gamma = 1  # MF\n",
    "\n",
    "def getCoefficient(namespace):\n",
    "        if(namespace == \"biological_process\"):\n",
    "            return alpha\n",
    "        if(namespace == \"cellular_component\"):\n",
    "            return beta    \n",
    "        if(namespace == \"molecular_function\"):\n",
    "            return gamma    \n",
    "    \n",
    "def pred(cnt):                                \n",
    "    coeff = 0\n",
    "    selected = go[go['#Gene'] == cnt]\n",
    "    go_ids = selected['TM']                \n",
    "    go_namespace = selected['Namespace']                \n",
    "    result = np.zeros((go_ids.shape[0], number_of_bins))    \n",
    "    for i in range(0,len(go_ids.index)):  \n",
    "        index = go_ids.index[i]               \n",
    "        namespace = go_namespace[index]        \n",
    "        coeff += getCoefficient(namespace)                                         \n",
    "        result[i,:] = go_dictionary[go_ids[index]] * getCoefficient(namespace)                 \n",
    "    score = sum(result) / coeff if coeff != 0 else sum(result) * 0    \n",
    "    index = np.where(score == max(score))[0][0] + 1                \n",
    "    return index, max(score), cnt    \n",
    "\n",
    "if __name__ == '__main__':\n",
    "    answer = {}        \n",
    "    pool = mp.Pool(num_cores)    \n",
    "    unlabelledContigs = pd.Series(list(set(unlabelled['#anonymous_gsa_id']).intersection(set(go['#Gene']))))        \n",
    "    for index, score, cnt in pool.map(pred,unlabelledContigs):        \n",
    "        answer[cnt] = (index,  score)"
   ]
  },
  {
   "cell_type": "code",
   "execution_count": 49,
   "metadata": {
    "ExecuteTime": {
     "end_time": "2021-07-18T19:33:15.317882Z",
     "start_time": "2021-07-18T19:33:14.952598Z"
    }
   },
   "outputs": [
    {
     "data": {
      "image/png": "[encoded data removed]",
      "text/plain": [
       "<Figure size 432x288 with 1 Axes>"
      ]
     },
     "metadata": {
      "needs_background": "light"
     },
     "output_type": "display_data"
    }
   ],
   "source": [
    "plt.hist([v[0] for v in answer.values()],bins=base['bin_id'].max());"
   ]
  },
  {
   "cell_type": "code",
   "execution_count": 40,
   "metadata": {
    "ExecuteTime": {
     "end_time": "2021-07-18T17:23:38.292544Z",
     "start_time": "2021-07-18T17:23:37.986464Z"
    }
   },
   "outputs": [
    {
     "name": "stdout",
     "output_type": "stream",
     "text": [
      "415\n"
     ]
    },
    {
     "name": "stderr",
     "output_type": "stream",
     "text": [
      "<ipython-input-40-13fa229bafae>:11: SettingWithCopyWarning: \n",
      "A value is trying to be set on a copy of a slice from a DataFrame.\n",
      "Try using .loc[row_indexer,col_indexer] = value instead\n",
      "\n",
      "See the caveats in the documentation: https://pandas.pydata.org/pandas-docs/stable/user_guide/indexing.html#returning-a-view-versus-a-copy\n",
      "  unlabelled['pred'] = unlabelled.apply(lambda row:assign(row),axis=1)\n"
     ]
    }
   ],
   "source": [
    "threshold = 0.05\n",
    "counter = 0\n",
    "def assign(row):\n",
    "    global counter\n",
    "    cnt = row['#anonymous_gsa_id']\n",
    "    if(cnt in answer and answer[cnt][1] >= threshold):                \n",
    "        counter += 1\n",
    "        return answer[cnt][0]    \n",
    "    return 0\n",
    "\n",
    "unlabelled['pred'] = unlabelled.apply(lambda row:assign(row),axis=1)    \n",
    "print(counter)"
   ]
  },
  {
   "cell_type": "code",
   "execution_count": 41,
   "metadata": {
    "ExecuteTime": {
     "end_time": "2021-07-18T17:23:57.198514Z",
     "start_time": "2021-07-18T17:23:57.162671Z"
    }
   },
   "outputs": [],
   "source": [
    "df = unlabelled[unlabelled['pred']!=0][['#anonymous_gsa_id','pred']]\n",
    "df.columns = ['#anonymous_gsa_id','bin_id']\n",
    "to_biobox(pd.concat([base,df]), f\"./Temp/{dataset_name}/improved\")"
   ]
  },
  {
   "cell_type": "code",
   "execution_count": 42,
   "metadata": {
    "ExecuteTime": {
     "end_time": "2021-07-18T17:28:40.304589Z",
     "start_time": "2021-07-18T17:28:07.261010Z"
    }
   },
   "outputs": [
    {
     "name": "stdout",
     "output_type": "stream",
     "text": [
      "2021-07-18 21:58:09,708 INFO Loading Gold standard\n",
      "2021-07-18 21:58:09,760 INFO Loading metabat2_p50\n",
      "2021-07-18 21:58:09,777 INFO Loading metabat2_p95\n",
      "2021-07-18 21:58:09,789 INFO Loading maxbin2_p50\n",
      "2021-07-18 21:58:09,817 INFO Loading maxbin2_p80\n",
      "2021-07-18 21:58:09,843 INFO Loading maxbin2_p95\n",
      "2021-07-18 21:58:09,867 INFO Loading improved\n",
      "2021-07-18 21:58:09,893 INFO Creating output directories\n",
      "2021-07-18 21:58:09,895 INFO Evaluating Gold standard (sample gsa, genome binning)\n",
      "2021-07-18 21:58:10,095 INFO Evaluating metabat2_p50 (sample gsa, genome binning)\n",
      "2021-07-18 21:58:10,273 INFO Evaluating metabat2_p95 (sample gsa, genome binning)\n",
      "2021-07-18 21:58:10,464 INFO Evaluating maxbin2_p50 (sample gsa, genome binning)\n",
      "2021-07-18 21:58:10,646 INFO Evaluating maxbin2_p80 (sample gsa, genome binning)\n",
      "2021-07-18 21:58:10,825 INFO Evaluating maxbin2_p95 (sample gsa, genome binning)\n",
      "2021-07-18 21:58:11,001 INFO Evaluating improved (sample gsa, genome binning)\n",
      "2021-07-18 21:58:11,182 INFO Saving computed metrics\n",
      "2021-07-18 21:58:11,227 INFO Creating genome binning plots\n",
      "/home/emadi/.local/lib/python3.8/site-packages/numpy/core/_asarray.py:102: VisibleDeprecationWarning: Creating an ndarray from ragged nested sequences (which is a list-or-tuple of lists-or-tuples-or ndarrays with different lengths or shapes) is deprecated. If you meant to do this, you must specify 'dtype=object' when creating the ndarray.\n",
      "  return array(a, dtype, copy=False, order=order)\n",
      "2021-07-18 21:58:37,572 INFO Creating HTML page\n",
      "2021-07-18 21:58:39,892 INFO AMBER finished successfully. All results have been saved to /home/jupyter/Final/Output/CAMI_Low/Assesment\n"
     ]
    }
   ],
   "source": [
    "!amber.py -g ./Temp/{dataset_name}/gold_standard \\\n",
    "-o ./Output/{dataset_name}/Assesment \\\n",
    "./Temp/{dataset_name}/metabat2_p50 \\\n",
    "./Temp/{dataset_name}/metabat2_p95 \\\n",
    "./Temp/{dataset_name}/maxbin2_p50 \\\n",
    "./Temp/{dataset_name}/maxbin2_p80 \\\n",
    "./Temp/{dataset_name}/maxbin2_p95 \\\n",
    "./Temp/{dataset_name}/improved                  "
   ]
  },
  {
   "cell_type": "markdown",
   "metadata": {
    "heading_collapsed": true
   },
   "source": [
    "# KEGG"
   ]
  },
  {
   "cell_type": "code",
   "execution_count": null,
   "metadata": {
    "hidden": true,
    "scrolled": true
   },
   "outputs": [],
   "source": [
    "kegg = pd.read_csv('./Annotation/Toy_low/data/cds.gene2kegg.tab.txt',sep='\\t')\n",
    "print(kegg.shape)\n",
    "kegg = pd.merge(kegg,Geneid2Contigid,how='inner',on='#Geneid')\n",
    "kegg.head(2)"
   ]
  },
  {
   "cell_type": "code",
   "execution_count": null,
   "metadata": {
    "hidden": true
   },
   "outputs": [],
   "source": [
    "print(np.median(list(kegg['Kegg_id'].value_counts())))\n",
    "plt.plot(list(kegg['Kegg_id'].value_counts()))\n",
    "plt.show()"
   ]
  },
  {
   "cell_type": "markdown",
   "metadata": {
    "heading_collapsed": true
   },
   "source": [
    "# KO"
   ]
  },
  {
   "cell_type": "code",
   "execution_count": null,
   "metadata": {
    "hidden": true
   },
   "outputs": [],
   "source": [
    "ko = pd.read_csv('./Annotation/Toy_low/data/cds.gene2ko.tab.txt',sep='\\t')\n",
    "print(ko.shape)\n",
    "ko.head(5)"
   ]
  },
  {
   "cell_type": "code",
   "execution_count": null,
   "metadata": {
    "hidden": true
   },
   "outputs": [],
   "source": [
    "print(np.median(list(ko['koid'].value_counts())))\n",
    "plt.plot(list(ko['koid'].value_counts()))\n",
    "plt.show()"
   ]
  },
  {
   "cell_type": "code",
   "execution_count": null,
   "metadata": {
    "hidden": true
   },
   "outputs": [],
   "source": [
    "print(np.median(list(ko['Contig'].value_counts())))\n",
    "plt.plot(list(ko['Contig'].value_counts()))\n",
    "plt.show()"
   ]
  },
  {
   "cell_type": "code",
   "execution_count": null,
   "metadata": {
    "hidden": true
   },
   "outputs": [],
   "source": [
    "df = pd.read_csv('./Annotation/Toy_low/data/cds.gene2sprot.tab.txt',sep='\\t')\n",
    "print(df.shape)\n",
    "df.head(2)"
   ]
  },
  {
   "cell_type": "code",
   "execution_count": null,
   "metadata": {
    "hidden": true
   },
   "outputs": [],
   "source": [
    "uniprot = pd.read_csv('./uniprot-filtered-reviewed-yes.tab',sep='\\t')\n",
    "print(uniprot.shape)\n",
    "uniprot.head(2)"
   ]
  },
  {
   "cell_type": "code",
   "execution_count": null,
   "metadata": {
    "hidden": true
   },
   "outputs": [],
   "source": [
    "df = pd.merge(uniprot,df,how='inner',left_on='Protein names',right_on='sprot_desc')\n",
    "print(df.shape)\n",
    "df.head(2)"
   ]
  }
 ],
 "metadata": {
  "hide_input": false,
  "kernelspec": {
   "display_name": "Python 3",
   "language": "python",
   "name": "python3"
  },
  "language_info": {
   "codemirror_mode": {
    "name": "ipython",
    "version": 3
   },
   "file_extension": ".py",
   "mimetype": "text/x-python",
   "name": "python",
   "nbconvert_exporter": "python",
   "pygments_lexer": "ipython3",
   "version": "3.8.10"
  },
  "varInspector": {
   "cols": {
    "lenName": 16,
    "lenType": 16,
    "lenVar": 40
   },
   "kernels_config": {
    "python": {
     "delete_cmd_postfix": "",
     "delete_cmd_prefix": "del ",
     "library": "var_list.py",
     "varRefreshCmd": "print(var_dic_list())"
    },
    "r": {
     "delete_cmd_postfix": ") ",
     "delete_cmd_prefix": "rm(",
     "library": "var_list.r",
     "varRefreshCmd": "cat(var_dic_list()) "
    }
   },
   "types_to_exclude": [
    "module",
    "function",
    "builtin_function_or_method",
    "instance",
    "_Feature"
   ],
   "window_display": false
  }
 },
 "nbformat": 4,
 "nbformat_minor": 2
}
