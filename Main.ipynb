{
 "cells": [
  {
   "cell_type": "markdown",
   "metadata": {},
   "source": [
    "# Imports"
   ]
  },
  {
   "cell_type": "code",
   "execution_count": 1,
   "metadata": {
    "ExecuteTime": {
     "end_time": "2021-06-18T14:13:41.032051Z",
     "start_time": "2021-06-18T14:13:41.028120Z"
    }
   },
   "outputs": [],
   "source": [
    "#!pip install obonet  numpy pandas matplotlib  sklearn python-bidi arabic_reshaper \n",
    "#!pip install 'plotnine[all]' # we use this package for plot figures like ggplot2\n",
    "#!pip install plotnine         \n",
    "#!wget http://purl.obolibrary.org/obo/go.obo"
   ]
  },
  {
   "cell_type": "code",
   "execution_count": 37,
   "metadata": {
    "ExecuteTime": {
     "end_time": "2021-05-28T13:05:00.491134Z",
     "start_time": "2021-05-28T13:05:00.484019Z"
    },
    "code_folding": [],
    "run_control": {
     "marked": true
    },
    "slideshow": {
     "slide_type": "-"
    }
   },
   "outputs": [],
   "source": [
    "#from plotnine import *\n",
    "import requests,math,pickle\n",
    "import networkx,obonet\n",
    "import time\n",
    "import numpy as np ,pandas as pd, matplotlib.pyplot as plt\n",
    "import arabic_reshaper\n",
    "import multiprocessing as mp\n",
    "from sklearn.metrics.cluster import *\n",
    "from bidi.algorithm import get_display\n",
    "from functools import partial\n",
    "from IPython.display import clear_output\n",
    "import sys\n",
    "if sys.version_info[0] < 3: \n",
    "    from StringIO import StringIO\n",
    "else:\n",
    "    from io import StringIO"
   ]
  },
  {
   "cell_type": "code",
   "execution_count": 38,
   "metadata": {
    "ExecuteTime": {
     "end_time": "2021-05-28T13:05:00.660902Z",
     "start_time": "2021-05-28T13:05:00.656638Z"
    },
    "code_folding": []
   },
   "outputs": [],
   "source": [
    "def fa(text):\n",
    "    return get_display(arabic_reshaper.reshape(u'%s' % str(text)))"
   ]
  },
  {
   "cell_type": "code",
   "execution_count": 39,
   "metadata": {
    "ExecuteTime": {
     "end_time": "2021-05-28T13:05:01.062126Z",
     "start_time": "2021-05-28T13:05:00.908669Z"
    }
   },
   "outputs": [],
   "source": [
    "num_cores = max(mp.cpu_count() - 3, 1)\n",
    "Dataset_Name = \"Toy_Low\"\n",
    "GO_ID_Column = \"go_id\"\n",
    "\n",
    "!mkdir -p ./Output/{Dataset_Name}/figs"
   ]
  },
  {
   "cell_type": "markdown",
   "metadata": {},
   "source": [
    "# Load contigs dataset"
   ]
  },
  {
   "cell_type": "code",
   "execution_count": 40,
   "metadata": {
    "ExecuteTime": {
     "end_time": "2021-05-28T13:05:02.390403Z",
     "start_time": "2021-05-28T13:05:01.931726Z"
    },
    "code_folding": [],
    "run_control": {
     "marked": false
    }
   },
   "outputs": [
    {
     "data": {
      "text/html": [
       "<div>\n",
       "<style scoped>\n",
       "    .dataframe tbody tr th:only-of-type {\n",
       "        vertical-align: middle;\n",
       "    }\n",
       "\n",
       "    .dataframe tbody tr th {\n",
       "        vertical-align: top;\n",
       "    }\n",
       "\n",
       "    .dataframe thead th {\n",
       "        text-align: right;\n",
       "    }\n",
       "</style>\n",
       "<table border=\"1\" class=\"dataframe\">\n",
       "  <thead>\n",
       "    <tr style=\"text-align: right;\">\n",
       "      <th></th>\n",
       "      <th>#anonymous_gsa_id</th>\n",
       "      <th>contig</th>\n",
       "    </tr>\n",
       "  </thead>\n",
       "  <tbody>\n",
       "    <tr>\n",
       "      <th>0</th>\n",
       "      <td>S|S1|C0</td>\n",
       "      <td>AGTAATAAGCGCCCGTTTCGCAGTCATTATAAAATCTCCCTTTTCA...</td>\n",
       "    </tr>\n",
       "    <tr>\n",
       "      <th>1</th>\n",
       "      <td>S|S1|C1</td>\n",
       "      <td>GCACCTGCGCGACCAGCGCCTTGGCGTGGATATAGCTGCCCTGGCC...</td>\n",
       "    </tr>\n",
       "  </tbody>\n",
       "</table>\n",
       "</div>"
      ],
      "text/plain": [
       "  #anonymous_gsa_id                                             contig\n",
       "0           S|S1|C0  AGTAATAAGCGCCCGTTTCGCAGTCATTATAAAATCTCCCTTTTCA...\n",
       "1           S|S1|C1  GCACCTGCGCGACCAGCGCCTTGGCGTGGATATAGCTGCCCTGGCC..."
      ]
     },
     "execution_count": 40,
     "metadata": {},
     "output_type": "execute_result"
    }
   ],
   "source": [
    "# load anonymous contigs and save in contigs data frame.\n",
    "path_contigs = f\"./Dataset/{Dataset_Name}/anonymous.fasta\"\n",
    "\n",
    "with open(path_contigs, 'r') as file:\n",
    "    lines = [line for line in file.read().split('\\n') if len(line) > 0]\n",
    "    contigs = pd.DataFrame(\n",
    "        {\n",
    "            '#anonymous_gsa_id': lines[0::2],\n",
    "            'contig': lines[1::2]\n",
    "        },\n",
    "        columns=['#anonymous_gsa_id', 'contig'])\n",
    "    contigs['#anonymous_gsa_id'] = contigs['#anonymous_gsa_id'].apply(\n",
    "        lambda x: x[1:])\n",
    "del(lines)\n",
    "contigs.head(2)"
   ]
  },
  {
   "cell_type": "code",
   "execution_count": 41,
   "metadata": {
    "ExecuteTime": {
     "end_time": "2021-05-28T13:05:02.673132Z",
     "start_time": "2021-05-28T13:05:02.478957Z"
    },
    "code_folding": [],
    "run_control": {
     "marked": false
    },
    "scrolled": true
   },
   "outputs": [
    {
     "name": "stdout",
     "output_type": "stream",
     "text": [
      "contigs number :  56168\n",
      "number of genomes:  30\n"
     ]
    },
    {
     "data": {
      "text/html": [
       "<div>\n",
       "<style scoped>\n",
       "    .dataframe tbody tr th:only-of-type {\n",
       "        vertical-align: middle;\n",
       "    }\n",
       "\n",
       "    .dataframe tbody tr th {\n",
       "        vertical-align: top;\n",
       "    }\n",
       "\n",
       "    .dataframe thead th {\n",
       "        text-align: right;\n",
       "    }\n",
       "</style>\n",
       "<table border=\"1\" class=\"dataframe\">\n",
       "  <thead>\n",
       "    <tr style=\"text-align: right;\">\n",
       "      <th></th>\n",
       "      <th>#anonymous_gsa_id</th>\n",
       "      <th>contig</th>\n",
       "      <th>genome_id</th>\n",
       "      <th>tax_id</th>\n",
       "      <th>sequence_id</th>\n",
       "      <th>number_reads</th>\n",
       "      <th>contig_length</th>\n",
       "    </tr>\n",
       "  </thead>\n",
       "  <tbody>\n",
       "    <tr>\n",
       "      <th>0</th>\n",
       "      <td>S|S1|C0</td>\n",
       "      <td>AGTAATAAGCGCCCGTTTCGCAGTCATTATAAAATCTCCCTTTTCA...</td>\n",
       "      <td>1394711.1</td>\n",
       "      <td>1394711</td>\n",
       "      <td>NC_023004.1</td>\n",
       "      <td>4</td>\n",
       "      <td>186</td>\n",
       "    </tr>\n",
       "    <tr>\n",
       "      <th>1</th>\n",
       "      <td>S|S1|C1</td>\n",
       "      <td>GCACCTGCGCGACCAGCGCCTTGGCGTGGATATAGCTGCCCTGGCC...</td>\n",
       "      <td>1230476.1</td>\n",
       "      <td>1230476</td>\n",
       "      <td>NZ_KE747857.1</td>\n",
       "      <td>14</td>\n",
       "      <td>617</td>\n",
       "    </tr>\n",
       "  </tbody>\n",
       "</table>\n",
       "</div>"
      ],
      "text/plain": [
       "  #anonymous_gsa_id                                             contig  \\\n",
       "0           S|S1|C0  AGTAATAAGCGCCCGTTTCGCAGTCATTATAAAATCTCCCTTTTCA...   \n",
       "1           S|S1|C1  GCACCTGCGCGACCAGCGCCTTGGCGTGGATATAGCTGCCCTGGCC...   \n",
       "\n",
       "   genome_id   tax_id    sequence_id  number_reads  contig_length  \n",
       "0  1394711.1  1394711    NC_023004.1             4            186  \n",
       "1  1230476.1  1230476  NZ_KE747857.1            14            617  "
      ]
     },
     "execution_count": 41,
     "metadata": {},
     "output_type": "execute_result"
    }
   ],
   "source": [
    "# load gold standard file and append to contig data frame.\n",
    "path_gold_standard = f\"./Dataset/{Dataset_Name}/mapping.tsv\"\n",
    "df = pd.read_csv(path_gold_standard, sep='\\t')\n",
    "contigs = pd.merge(contigs, df, how='inner', on='#anonymous_gsa_id')\n",
    "contigs[\"contig_length\"] = contigs[\"contig\"].apply(lambda x: len(x))\n",
    "print(f'contigs number :  {contigs.shape[0]}')\n",
    "print(f\"number of genomes:  {len(contigs['genome_id'].unique())}\")\n",
    "del(df)\n",
    "contigs.head(2)"
   ]
  },
  {
   "cell_type": "markdown",
   "metadata": {},
   "source": [
    "##  Contigs description"
   ]
  },
  {
   "cell_type": "code",
   "execution_count": 42,
   "metadata": {
    "ExecuteTime": {
     "end_time": "2021-05-28T13:05:03.718814Z",
     "start_time": "2021-05-28T13:05:03.665625Z"
    },
    "code_folding": [],
    "scrolled": true
   },
   "outputs": [
    {
     "name": "stdout",
     "output_type": "stream",
     "text": [
      "min : 100\n",
      "max : 2780101\n",
      "mean : 1730.46\n",
      "median : 345.0\n",
      "1st quartiles : 193.0\n",
      "median : 345.0\n",
      "3rd quartiles : 701.0\n",
      "standard deviation : 19478.59\n",
      "variance : 379415438.94\n"
     ]
    }
   ],
   "source": [
    "# show description of contigs and contigs length histogram.\n",
    "contigsLenght = contigs['contig'].apply(lambda x: len(x))\n",
    "\n",
    "print(f'min : {contigsLenght.min()}')\n",
    "print(f'max : {contigsLenght.max()}')\n",
    "print(f'mean : {round(contigsLenght.mean(),2)}')\n",
    "print(f'median : {round(np.median(contigsLenght),2)}')\n",
    "print(f'1st quartiles : {round(np.percentile(contigsLenght, 25),2)}')\n",
    "print(f'median : {round(np.median(contigsLenght),2)}')\n",
    "print(f'3rd quartiles : {round(np.percentile(contigsLenght, 75),2)}')\n",
    "print(f'standard deviation : {round(np.std(contigsLenght),2)}')\n",
    "print(f'variance : {round(np.var(contigsLenght),2)}')"
   ]
  },
  {
   "cell_type": "code",
   "execution_count": 28,
   "metadata": {
    "ExecuteTime": {
     "end_time": "2021-05-28T11:58:42.720314Z",
     "start_time": "2021-05-28T11:58:40.396570Z"
    }
   },
   "outputs": [
    {
     "data": {
      "image/png": "[encoded data removed]",
      "text/plain": [
       "<Figure size 960x480 with 1 Axes>"
      ]
     },
     "metadata": {},
     "output_type": "display_data"
    }
   ],
   "source": [
    "plt.figure(num=None, figsize=(12, 6), dpi=80, facecolor='w', edgecolor='k')\n",
    "plt.hist(contigsLenght, bins=500)\n",
    "plt.savefig(f\"./Output/{Dataset_Name}/figs/histogram_lower_than_2000.svg\")\n",
    "plt.show()"
   ]
  },
  {
   "cell_type": "code",
   "execution_count": 43,
   "metadata": {
    "ExecuteTime": {
     "end_time": "2021-05-28T13:05:04.576099Z",
     "start_time": "2021-05-28T13:05:03.751696Z"
    }
   },
   "outputs": [
    {
     "data": {
      "image/png": "[encoded data removed]",
      "text/plain": [
       "<Figure size 960x480 with 1 Axes>"
      ]
     },
     "metadata": {},
     "output_type": "display_data"
    }
   ],
   "source": [
    "plt.figure(num=None, figsize=(12, 6), dpi=80, facecolor='w', edgecolor='k')\n",
    "plt.hist(contigsLenght[contigsLenght < 2000], bins=100)\n",
    "plt.xlabel(fa(\"طول کانتیگ\"))\n",
    "plt.ylabel(fa(\"فراوانی\"))\n",
    "plt.title(fa(\"نمودار فراوانی طول کانتیگ‌ها\"))\n",
    "plt.savefig(f\"./Output/{Dataset_Name}/figs/histogram_lower_than_2000.svg\")\n",
    "plt.show()"
   ]
  },
  {
   "cell_type": "code",
   "execution_count": 44,
   "metadata": {
    "ExecuteTime": {
     "end_time": "2021-05-28T13:05:05.345284Z",
     "start_time": "2021-05-28T13:05:04.579604Z"
    },
    "code_folding": [],
    "run_control": {
     "marked": true
    }
   },
   "outputs": [
    {
     "data": {
      "image/png": "[encoded data removed]",
      "text/plain": [
       "<Figure size 960x480 with 1 Axes>"
      ]
     },
     "metadata": {},
     "output_type": "display_data"
    }
   ],
   "source": [
    "# show contig frequancy for every genome.\n",
    "plt.figure(num=None, figsize=(12, 6), dpi=80, facecolor='w', edgecolor='k')\n",
    "ax = contigs['genome_id'].value_counts().plot(kind='bar',\n",
    "                                              title='Genome frequency')\n",
    "plt.xlabel(fa(\"شناسه ژنوم\"))\n",
    "plt.ylabel(fa(\"تعداد کانتیگ ژنوم\"))\n",
    "plt.title(fa(\"نمودار فراوانی طول کانتیگ‌ها\"))\n",
    "\n",
    "plt.savefig(f\"./Output/{Dataset_Name}/figs/genome_frequency.svg\")\n",
    "plt.show()"
   ]
  },
  {
   "cell_type": "code",
   "execution_count": 45,
   "metadata": {
    "ExecuteTime": {
     "end_time": "2021-05-28T13:05:05.728422Z",
     "start_time": "2021-05-28T13:05:05.348933Z"
    },
    "code_folding": [],
    "run_control": {
     "marked": true
    }
   },
   "outputs": [],
   "source": [
    "# save gold standard data as CAMI binning Bioboxes format.\n",
    "!mkdir -p ./Temp/{Dataset_Name}/\n",
    "path_gold_standard_output = f\"./Temp/{Dataset_Name}/gold_standard\"\n",
    "\n",
    "contigs[['#anonymous_gsa_id', 'genome_id', 'tax_id',\n",
    "         'contig_length']].to_csv(path_gold_standard_output, index=None, sep='\\t')\n",
    "\n",
    "with open(path_gold_standard_output, 'r') as file:\n",
    "    file.readline()\n",
    "    text = file.read()\n",
    "\n",
    "with open(path_gold_standard_output, 'w', encoding='utf8') as file:\n",
    "    file.write(\n",
    "        \"@Version:0.9.1\\n@SampleID:gsa\\n\\n@@SEQUENCEID\\tBINID\\tTAXID\\t_LENGTH\\n\"\n",
    "        + text)"
   ]
  },
  {
   "cell_type": "markdown",
   "metadata": {},
   "source": [
    "## Busybee method with threshold 0%"
   ]
  },
  {
   "cell_type": "code",
   "execution_count": 46,
   "metadata": {
    "ExecuteTime": {
     "end_time": "2021-05-28T13:05:06.420478Z",
     "start_time": "2021-05-28T13:05:05.732418Z"
    },
    "code_folding": [],
    "run_control": {
     "marked": true
    }
   },
   "outputs": [
    {
     "data": {
      "image/png": "[encoded data removed]",
      "text/plain": [
       "<Figure size 960x480 with 1 Axes>"
      ]
     },
     "metadata": {},
     "output_type": "display_data"
    },
    {
     "data": {
      "text/html": [
       "<div>\n",
       "<style scoped>\n",
       "    .dataframe tbody tr th:only-of-type {\n",
       "        vertical-align: middle;\n",
       "    }\n",
       "\n",
       "    .dataframe tbody tr th {\n",
       "        vertical-align: top;\n",
       "    }\n",
       "\n",
       "    .dataframe thead th {\n",
       "        text-align: right;\n",
       "    }\n",
       "</style>\n",
       "<table border=\"1\" class=\"dataframe\">\n",
       "  <thead>\n",
       "    <tr style=\"text-align: right;\">\n",
       "      <th></th>\n",
       "      <th>#anonymous_gsa_id</th>\n",
       "      <th>contig</th>\n",
       "      <th>genome_id</th>\n",
       "      <th>tax_id</th>\n",
       "      <th>sequence_id</th>\n",
       "      <th>number_reads</th>\n",
       "      <th>contig_length</th>\n",
       "      <th>Busybee_bin0Percent</th>\n",
       "    </tr>\n",
       "  </thead>\n",
       "  <tbody>\n",
       "    <tr>\n",
       "      <th>0</th>\n",
       "      <td>S|S1|C0</td>\n",
       "      <td>AGTAATAAGCGCCCGTTTCGCAGTCATTATAAAATCTCCCTTTTCA...</td>\n",
       "      <td>1394711.1</td>\n",
       "      <td>1394711</td>\n",
       "      <td>NC_023004.1</td>\n",
       "      <td>4</td>\n",
       "      <td>186</td>\n",
       "      <td>0.0</td>\n",
       "    </tr>\n",
       "  </tbody>\n",
       "</table>\n",
       "</div>"
      ],
      "text/plain": [
       "  #anonymous_gsa_id                                             contig  \\\n",
       "0           S|S1|C0  AGTAATAAGCGCCCGTTTCGCAGTCATTATAAAATCTCCCTTTTCA...   \n",
       "\n",
       "   genome_id   tax_id  sequence_id  number_reads  contig_length  \\\n",
       "0  1394711.1  1394711  NC_023004.1             4            186   \n",
       "\n",
       "   Busybee_bin0Percent  \n",
       "0                  0.0  "
      ]
     },
     "execution_count": 46,
     "metadata": {},
     "output_type": "execute_result"
    }
   ],
   "source": [
    "# read output of busybee method and append to contigs data frame.\n",
    "path_busybee_0_percent = f\"./Binning/{Dataset_Name}/Binning_busybee_0Percent/Output/contigs.tab\"\n",
    "path_busybee_table_0_percent = f\"./Binning/{Dataset_Name}/Binning_busybee_0Percent/Output/binning/contigs.bin.table.tsv\"\n",
    "\n",
    "contig2Id = pd.read_csv(path_busybee_0_percent, sep='\\t', header=None)\n",
    "contig2Id.columns = ['#anonymous_gsa_id', 'id']\n",
    "\n",
    "ID2Bin = pd.read_csv(path_busybee_table_0_percent, sep='\\t', header=None)\n",
    "ID2Bin.columns = ['id', 'Busybee_bin0Percent']\n",
    "\n",
    "Busybee_bin = pd.merge(contig2Id, ID2Bin, how='outer', on='id')\n",
    "Busybee_bin = Busybee_bin.drop(['id'], axis=1)\n",
    "\n",
    "## merge contigs and genome_id\n",
    "contigs = pd.merge(contigs, Busybee_bin, how='outer', on='#anonymous_gsa_id')\n",
    "contigs['Busybee_bin0Percent'] = contigs['Busybee_bin0Percent'].fillna(0)\n",
    "\n",
    "del(contig2Id, ID2Bin, Busybee_bin)\n",
    "# show contigs frequancy of each bins.\n",
    "plt.figure(num=None, figsize=(12, 6), dpi=80, facecolor='w', edgecolor='k')\n",
    "ax = contigs['Busybee_bin0Percent'].value_counts().plot(\n",
    "    kind='bar', title='Binning frequency')\n",
    "plt.xlabel('Bins')\n",
    "plt.ylabel('frequency')\n",
    "plt.savefig(f\"./Output/{Dataset_Name}/figs/busybee_binning0_frequency.svg\")\n",
    "plt.show()\n",
    "\n",
    "contigs.head(1)"
   ]
  },
  {
   "cell_type": "code",
   "execution_count": 47,
   "metadata": {
    "ExecuteTime": {
     "end_time": "2021-05-28T13:05:06.489146Z",
     "start_time": "2021-05-28T13:05:06.423826Z"
    },
    "code_folding": [],
    "run_control": {
     "marked": true
    }
   },
   "outputs": [],
   "source": [
    "# save busybe 0% output as CAMI binning Bioboxes format\n",
    "busybee_0_percent_output = f\"./Temp/{Dataset_Name}/Busybee0\"\n",
    "\n",
    "df = contigs[['#anonymous_gsa_id', 'Busybee_bin0Percent']]\n",
    "df[df[\"Busybee_bin0Percent\"] != 0].to_csv(busybee_0_percent_output,\n",
    "                                          index=None,\n",
    "                                          sep='\\t')\n",
    "with open(busybee_0_percent_output, 'r') as file:\n",
    "    file.readline()\n",
    "    text = file.read()\n",
    "with open(busybee_0_percent_output, 'w', encoding='utf8') as file:\n",
    "    file.write(\"@Version:0.9.1\\n@SampleID:gsa\\n\\n@@SEQUENCEID\\tBINID\\n\" + text)"
   ]
  },
  {
   "cell_type": "markdown",
   "metadata": {},
   "source": [
    "## Busybee method with threshold 20%"
   ]
  },
  {
   "cell_type": "code",
   "execution_count": 48,
   "metadata": {
    "ExecuteTime": {
     "end_time": "2021-05-28T13:05:07.487609Z",
     "start_time": "2021-05-28T13:05:06.780274Z"
    },
    "code_folding": [],
    "run_control": {
     "marked": true
    }
   },
   "outputs": [
    {
     "data": {
      "image/png": "[encoded data removed]",
      "text/plain": [
       "<Figure size 960x480 with 1 Axes>"
      ]
     },
     "metadata": {},
     "output_type": "display_data"
    },
    {
     "data": {
      "text/html": [
       "<div>\n",
       "<style scoped>\n",
       "    .dataframe tbody tr th:only-of-type {\n",
       "        vertical-align: middle;\n",
       "    }\n",
       "\n",
       "    .dataframe tbody tr th {\n",
       "        vertical-align: top;\n",
       "    }\n",
       "\n",
       "    .dataframe thead th {\n",
       "        text-align: right;\n",
       "    }\n",
       "</style>\n",
       "<table border=\"1\" class=\"dataframe\">\n",
       "  <thead>\n",
       "    <tr style=\"text-align: right;\">\n",
       "      <th></th>\n",
       "      <th>#anonymous_gsa_id</th>\n",
       "      <th>contig</th>\n",
       "      <th>genome_id</th>\n",
       "      <th>tax_id</th>\n",
       "      <th>sequence_id</th>\n",
       "      <th>number_reads</th>\n",
       "      <th>contig_length</th>\n",
       "      <th>Busybee_bin0Percent</th>\n",
       "      <th>Busybee_bin20Percent</th>\n",
       "    </tr>\n",
       "  </thead>\n",
       "  <tbody>\n",
       "    <tr>\n",
       "      <th>0</th>\n",
       "      <td>S|S1|C0</td>\n",
       "      <td>AGTAATAAGCGCCCGTTTCGCAGTCATTATAAAATCTCCCTTTTCA...</td>\n",
       "      <td>1394711.1</td>\n",
       "      <td>1394711</td>\n",
       "      <td>NC_023004.1</td>\n",
       "      <td>4</td>\n",
       "      <td>186</td>\n",
       "      <td>0.0</td>\n",
       "      <td>0.0</td>\n",
       "    </tr>\n",
       "  </tbody>\n",
       "</table>\n",
       "</div>"
      ],
      "text/plain": [
       "  #anonymous_gsa_id                                             contig  \\\n",
       "0           S|S1|C0  AGTAATAAGCGCCCGTTTCGCAGTCATTATAAAATCTCCCTTTTCA...   \n",
       "\n",
       "   genome_id   tax_id  sequence_id  number_reads  contig_length  \\\n",
       "0  1394711.1  1394711  NC_023004.1             4            186   \n",
       "\n",
       "   Busybee_bin0Percent  Busybee_bin20Percent  \n",
       "0                  0.0                   0.0  "
      ]
     },
     "execution_count": 48,
     "metadata": {},
     "output_type": "execute_result"
    }
   ],
   "source": [
    "# read output of busybee method and append to contigs data frame.\n",
    "busybee_20_percent = f\"./Binning/{Dataset_Name}/Binning_busybee_20Percent/Output/contigs.tab\"\n",
    "busybee_table_20_percent = f\"./Binning/{Dataset_Name}/Binning_busybee_20Percent/Output/binning/contigs.bin.table.tsv\"\n",
    "\n",
    "contig2Id = pd.read_csv(busybee_20_percent, sep='\\t', header=None)\n",
    "contig2Id.columns = ['#anonymous_gsa_id', 'id']\n",
    "\n",
    "ID2Bin = pd.read_csv(busybee_table_20_percent, sep='\\t', header=None)\n",
    "ID2Bin.columns = ['id', 'Busybee_bin20Percent']\n",
    "\n",
    "Busybee_bin = pd.merge(contig2Id, ID2Bin, how='outer', on='id')\n",
    "Busybee_bin = Busybee_bin.drop(['id'], axis=1)\n",
    "\n",
    "## merge contigs and genome_id\n",
    "contigs = pd.merge(contigs, Busybee_bin, how='outer', on='#anonymous_gsa_id')\n",
    "contigs['Busybee_bin20Percent'] = contigs['Busybee_bin20Percent'].fillna(0)\n",
    "\n",
    "del(contig2Id, ID2Bin, Busybee_bin)\n",
    "plt.figure(num=None, figsize=(12, 6), dpi=80, facecolor='w', edgecolor='k')\n",
    "ax = contigs['Busybee_bin20Percent'].value_counts().plot(\n",
    "    kind='bar', title='Binning frequency')\n",
    "plt.xlabel('Bins')\n",
    "plt.ylabel('frequency')\n",
    "plt.savefig(f\"./Output/{Dataset_Name}/figs/busybee_binning20_frequency.svg\")\n",
    "plt.show()\n",
    "\n",
    "contigs.head(1)"
   ]
  },
  {
   "cell_type": "code",
   "execution_count": 49,
   "metadata": {
    "ExecuteTime": {
     "end_time": "2021-05-28T13:05:07.549854Z",
     "start_time": "2021-05-28T13:05:07.490904Z"
    },
    "code_folding": [],
    "run_control": {
     "marked": true
    }
   },
   "outputs": [],
   "source": [
    "#CAMI binning Bioboxes format\n",
    "busybee_20_percent_output = f\"./Temp/{Dataset_Name}/Busybee20\"\n",
    "\n",
    "df = contigs[['#anonymous_gsa_id', 'Busybee_bin20Percent']]\n",
    "df[df[\"Busybee_bin20Percent\"] != 0].to_csv(busybee_20_percent_output,\n",
    "                                           index=None,\n",
    "                                           sep='\\t')\n",
    "\n",
    "with open(busybee_20_percent_output, 'r') as file:\n",
    "    file.readline()\n",
    "    text = file.read()\n",
    "    \n",
    "with open(busybee_20_percent_output, 'w', encoding='utf8') as file:\n",
    "    file.write(\"@Version:0.9.1\\n@SampleID:gsa\\n\\n@@SEQUENCEID\\tBINID\\n\" + text)"
   ]
  },
  {
   "cell_type": "markdown",
   "metadata": {},
   "source": [
    "## Busybee method with threshold 50%"
   ]
  },
  {
   "cell_type": "code",
   "execution_count": 50,
   "metadata": {
    "ExecuteTime": {
     "end_time": "2021-05-28T13:05:08.909576Z",
     "start_time": "2021-05-28T13:05:08.244723Z"
    },
    "code_folding": []
   },
   "outputs": [
    {
     "data": {
      "image/png": "[encoded data removed]",
      "text/plain": [
       "<Figure size 960x480 with 1 Axes>"
      ]
     },
     "metadata": {},
     "output_type": "display_data"
    },
    {
     "data": {
      "text/html": [
       "<div>\n",
       "<style scoped>\n",
       "    .dataframe tbody tr th:only-of-type {\n",
       "        vertical-align: middle;\n",
       "    }\n",
       "\n",
       "    .dataframe tbody tr th {\n",
       "        vertical-align: top;\n",
       "    }\n",
       "\n",
       "    .dataframe thead th {\n",
       "        text-align: right;\n",
       "    }\n",
       "</style>\n",
       "<table border=\"1\" class=\"dataframe\">\n",
       "  <thead>\n",
       "    <tr style=\"text-align: right;\">\n",
       "      <th></th>\n",
       "      <th>#anonymous_gsa_id</th>\n",
       "      <th>contig</th>\n",
       "      <th>genome_id</th>\n",
       "      <th>tax_id</th>\n",
       "      <th>sequence_id</th>\n",
       "      <th>number_reads</th>\n",
       "      <th>contig_length</th>\n",
       "      <th>Busybee_bin0Percent</th>\n",
       "      <th>Busybee_bin20Percent</th>\n",
       "      <th>Busybee_bin50Percent</th>\n",
       "    </tr>\n",
       "  </thead>\n",
       "  <tbody>\n",
       "    <tr>\n",
       "      <th>0</th>\n",
       "      <td>S|S1|C0</td>\n",
       "      <td>AGTAATAAGCGCCCGTTTCGCAGTCATTATAAAATCTCCCTTTTCA...</td>\n",
       "      <td>1394711.1</td>\n",
       "      <td>1394711</td>\n",
       "      <td>NC_023004.1</td>\n",
       "      <td>4</td>\n",
       "      <td>186</td>\n",
       "      <td>0.0</td>\n",
       "      <td>0.0</td>\n",
       "      <td>0.0</td>\n",
       "    </tr>\n",
       "  </tbody>\n",
       "</table>\n",
       "</div>"
      ],
      "text/plain": [
       "  #anonymous_gsa_id                                             contig  \\\n",
       "0           S|S1|C0  AGTAATAAGCGCCCGTTTCGCAGTCATTATAAAATCTCCCTTTTCA...   \n",
       "\n",
       "   genome_id   tax_id  sequence_id  number_reads  contig_length  \\\n",
       "0  1394711.1  1394711  NC_023004.1             4            186   \n",
       "\n",
       "   Busybee_bin0Percent  Busybee_bin20Percent  Busybee_bin50Percent  \n",
       "0                  0.0                   0.0                   0.0  "
      ]
     },
     "execution_count": 50,
     "metadata": {},
     "output_type": "execute_result"
    }
   ],
   "source": [
    "# read output of busybee method and append to contigs data frame.\n",
    "busybee_50_percent = f\"./Binning/{Dataset_Name}/Binning_busybee_50Percent/Output/contigs.tab\"\n",
    "busybee_table_50_percent = f\"./Binning/{Dataset_Name}/Binning_busybee_50Percent/Output/binning/contigs.bin.table.tsv\"\n",
    "\n",
    "contig2Id = pd.read_csv(busybee_50_percent, sep='\\t', header=None)\n",
    "contig2Id.columns = ['#anonymous_gsa_id', 'id']\n",
    "\n",
    "ID2Bin = pd.read_csv(busybee_table_50_percent, sep='\\t', header=None)\n",
    "ID2Bin.columns = ['id', 'Busybee_bin50Percent']\n",
    "\n",
    "Busybee_bin = pd.merge(contig2Id, ID2Bin, how='outer', on='id')\n",
    "Busybee_bin = Busybee_bin.drop(['id'], axis=1)\n",
    "\n",
    "## merge contigs and genome_id\n",
    "contigs = pd.merge(contigs, Busybee_bin, how='outer', on='#anonymous_gsa_id')\n",
    "contigs['Busybee_bin50Percent'] = contigs['Busybee_bin50Percent'].fillna(0)\n",
    "\n",
    "del(contig2Id, ID2Bin, Busybee_bin)\n",
    "plt.figure(num=None, figsize=(12, 6), dpi=80, facecolor='w', edgecolor='k')\n",
    "ax = contigs['Busybee_bin50Percent'].value_counts().plot(\n",
    "    kind='bar', title='Binning frequency')\n",
    "plt.xlabel('Bins')\n",
    "plt.ylabel('frequency')\n",
    "plt.savefig(f\"./Output/{Dataset_Name}/figs/busybee_binning50_frequency.svg\")\n",
    "plt.show()\n",
    "contigs.head(1)"
   ]
  },
  {
   "cell_type": "code",
   "execution_count": 51,
   "metadata": {
    "ExecuteTime": {
     "end_time": "2021-05-28T13:05:08.951478Z",
     "start_time": "2021-05-28T13:05:08.912842Z"
    },
    "code_folding": []
   },
   "outputs": [],
   "source": [
    "#CAMI binning Bioboxes format\n",
    "busybee_50_percent_output = f\"./Temp/{Dataset_Name}/Busybee50\"\n",
    "df = contigs[['#anonymous_gsa_id', 'Busybee_bin50Percent']]\n",
    "df[df[\"Busybee_bin50Percent\"] != 0].to_csv(busybee_50_percent_output,\n",
    "                                           index=None,\n",
    "                                           sep='\\t')\n",
    "with open(busybee_50_percent_output, 'r') as file:\n",
    "    file.readline()\n",
    "    text = file.read()\n",
    "with open(busybee_50_percent_output, 'w', encoding='utf8') as file:\n",
    "    file.write(\"@Version:0.9.1\\n@SampleID:gsa\\n\\n@@SEQUENCEID\\tBINID\\n\" + text)"
   ]
  },
  {
   "cell_type": "markdown",
   "metadata": {},
   "source": [
    "# Gene Ontology\n",
    "## https://www.ebi.ac.uk/QuickGO/api/index.html#/gene_ontology"
   ]
  },
  {
   "cell_type": "code",
   "execution_count": 52,
   "metadata": {
    "ExecuteTime": {
     "end_time": "2021-05-28T13:05:10.596709Z",
     "start_time": "2021-05-28T13:05:09.605495Z"
    }
   },
   "outputs": [
    {
     "name": "stdout",
     "output_type": "stream",
     "text": [
      "gene2go table shape is : (289891, 11)\n",
      "The number of contigs to which a GO term assigned is : 24075\n",
      "The number of unique GO term assigned is : 6745\n"
     ]
    },
    {
     "data": {
      "text/html": [
       "<div>\n",
       "<style scoped>\n",
       "    .dataframe tbody tr th:only-of-type {\n",
       "        vertical-align: middle;\n",
       "    }\n",
       "\n",
       "    .dataframe tbody tr th {\n",
       "        vertical-align: top;\n",
       "    }\n",
       "\n",
       "    .dataframe thead th {\n",
       "        text-align: right;\n",
       "    }\n",
       "</style>\n",
       "<table border=\"1\" class=\"dataframe\">\n",
       "  <thead>\n",
       "    <tr style=\"text-align: right;\">\n",
       "      <th></th>\n",
       "      <th>#Gene</th>\n",
       "      <th>Contig</th>\n",
       "      <th>Start</th>\n",
       "      <th>End</th>\n",
       "      <th>Gene_Length</th>\n",
       "      <th>Strand</th>\n",
       "      <th>SP</th>\n",
       "      <th>TM</th>\n",
       "      <th>go_id</th>\n",
       "      <th>Taxonomy</th>\n",
       "      <th>Terms</th>\n",
       "    </tr>\n",
       "  </thead>\n",
       "  <tbody>\n",
       "    <tr>\n",
       "      <th>0</th>\n",
       "      <td>metaerg.pl|00001</td>\n",
       "      <td>S|S1|C4223</td>\n",
       "      <td>71</td>\n",
       "      <td>1423</td>\n",
       "      <td>1353</td>\n",
       "      <td>1</td>\n",
       "      <td>No</td>\n",
       "      <td>0</td>\n",
       "      <td>GO:0005524</td>\n",
       "      <td>ATP binding</td>\n",
       "      <td>d__Bacteria;p__Firmicutes;c__Bacilli;o__Bacill...</td>\n",
       "    </tr>\n",
       "  </tbody>\n",
       "</table>\n",
       "</div>"
      ],
      "text/plain": [
       "              #Gene      Contig  Start   End  Gene_Length  Strand  SP  TM  \\\n",
       "0  metaerg.pl|00001  S|S1|C4223     71  1423         1353       1  No   0   \n",
       "\n",
       "        go_id     Taxonomy                                              Terms  \n",
       "0  GO:0005524  ATP binding  d__Bacteria;p__Firmicutes;c__Bacilli;o__Bacill...  "
      ]
     },
     "execution_count": 52,
     "metadata": {},
     "output_type": "execute_result"
    }
   ],
   "source": [
    "annotation_go = f\"./Annotation/{Dataset_Name}/data/cds.gene2go.tab.txt\"\n",
    "go = pd.read_csv(annotation_go,sep='\\t')\n",
    "print(f'gene2go table shape is : {go.shape}')\n",
    "print(f'The number of contigs to which a GO term assigned is : {len(go[\"Contig\"].unique())}')\n",
    "print(f'The number of unique GO term assigned is : {len(go[\"go_id\"].unique())}')\n",
    "go.head(1)"
   ]
  },
  {
   "cell_type": "code",
   "execution_count": 53,
   "metadata": {
    "ExecuteTime": {
     "end_time": "2021-05-28T13:05:10.633334Z",
     "start_time": "2021-05-28T13:05:10.599926Z"
    }
   },
   "outputs": [
    {
     "data": {
      "text/html": [
       "<div>\n",
       "<style scoped>\n",
       "    .dataframe tbody tr th:only-of-type {\n",
       "        vertical-align: middle;\n",
       "    }\n",
       "\n",
       "    .dataframe tbody tr th {\n",
       "        vertical-align: top;\n",
       "    }\n",
       "\n",
       "    .dataframe thead th {\n",
       "        text-align: right;\n",
       "    }\n",
       "</style>\n",
       "<table border=\"1\" class=\"dataframe\">\n",
       "  <thead>\n",
       "    <tr style=\"text-align: right;\">\n",
       "      <th></th>\n",
       "      <th>#GO_id</th>\n",
       "      <th>Name</th>\n",
       "      <th>Count</th>\n",
       "      <th>Count_pct</th>\n",
       "      <th>Abund</th>\n",
       "      <th>Abund_pct</th>\n",
       "    </tr>\n",
       "  </thead>\n",
       "  <tbody>\n",
       "    <tr>\n",
       "      <th>5957</th>\n",
       "      <td>GO:0005737</td>\n",
       "      <td>cytoplasm</td>\n",
       "      <td>11991</td>\n",
       "      <td>10.98</td>\n",
       "      <td>0</td>\n",
       "      <td>0</td>\n",
       "    </tr>\n",
       "  </tbody>\n",
       "</table>\n",
       "</div>"
      ],
      "text/plain": [
       "          #GO_id       Name  Count  Count_pct  Abund  Abund_pct\n",
       "5957  GO:0005737  cytoplasm  11991      10.98      0          0"
      ]
     },
     "execution_count": 53,
     "metadata": {},
     "output_type": "execute_result"
    }
   ],
   "source": [
    "annotation_go_profile = f\"./Annotation/{Dataset_Name}/data/go.cds.profile.tab.txt\"\n",
    "go_profile = pd.read_csv(annotation_go_profile,sep='\\t')\n",
    "go_profile = go_profile.sort_values(by ='Count' ,ascending=False)\n",
    "go_profile.head(1)"
   ]
  },
  {
   "cell_type": "code",
   "execution_count": 54,
   "metadata": {
    "ExecuteTime": {
     "end_time": "2021-05-28T13:05:11.899218Z",
     "start_time": "2021-05-28T13:05:10.858527Z"
    }
   },
   "outputs": [
    {
     "name": "stdout",
     "output_type": "stream",
     "text": [
      "5.0\n"
     ]
    },
    {
     "data": {
      "image/png": "[encoded data removed]",
      "text/plain": [
       "<Figure size 960x480 with 1 Axes>"
      ]
     },
     "metadata": {},
     "output_type": "display_data"
    },
    {
     "data": {
      "image/png": "[encoded data removed]",
      "text/plain": [
       "<Figure size 960x480 with 1 Axes>"
      ]
     },
     "metadata": {},
     "output_type": "display_data"
    }
   ],
   "source": [
    "linewidth = 4\n",
    "print(np.median(list(go['go_id'].value_counts())))\n",
    "plt.figure(num=None, figsize=(12, 6), dpi=80, facecolor='w', edgecolor='k')\n",
    "plt.plot(list(go['go_id'].value_counts()),linewidth=linewidth)\n",
    "plt.title('show GO frequency number')\n",
    "plt.savefig(f\"./Output/{Dataset_Name}/figs/GO_frequency_number.svg\")\n",
    "plt.show()\n",
    "\n",
    "plt.figure(num=None, figsize=(12, 6), dpi=80, facecolor='w', edgecolor='k')\n",
    "plt.plot(list(go['go_id'].value_counts()[:100]),linewidth=linewidth)\n",
    "plt.title('show first 100 GO frequency number')\n",
    "plt.savefig(f\"./Output/{Dataset_Name}/figs/first_100_GO_frequency_number.svg\")\n",
    "plt.show()"
   ]
  },
  {
   "cell_type": "markdown",
   "metadata": {},
   "source": [
    "## Add namespace [ cc, bp, mf ]"
   ]
  },
  {
   "cell_type": "code",
   "execution_count": 55,
   "metadata": {
    "ExecuteTime": {
     "end_time": "2021-05-28T13:06:16.402041Z",
     "start_time": "2021-05-28T13:05:13.461742Z"
    },
    "code_folding": [],
    "run_control": {
     "marked": true
    }
   },
   "outputs": [],
   "source": [
    "# function to get accession and return namespace\n",
    "accession_to_namespace = dict()\n",
    "go_graph = obonet.read_obo('./go.obo') \n",
    "go_ids = go['go_id'].unique()\n",
    "for accession in go_ids:\n",
    "    try:        \n",
    "        accession_to_namespace[accession] =  go_graph.nodes[accession]['namespace']\n",
    "    except: # if not exist,store in list to get from API                        \n",
    "        r = requests.get(\"https://www.ebi.ac.uk/QuickGO/services/ontology/go/terms/\" + accession\n",
    "                     , headers={ \"Accept\" : \"application/json\"})\n",
    "        if not r.ok:\n",
    "            print(f'Not found ', r.raise_for_status())                                              \n",
    "        else:\n",
    "            accession_to_namespace[accession]= r.json()['results'][0]['aspect']         "
   ]
  },
  {
   "cell_type": "code",
   "execution_count": 56,
   "metadata": {
    "ExecuteTime": {
     "end_time": "2021-05-28T13:09:21.139130Z",
     "start_time": "2021-05-28T13:09:20.939637Z"
    }
   },
   "outputs": [
    {
     "name": "stdout",
     "output_type": "stream",
     "text": [
      "molecular_function    139288\n",
      "biological_process     95557\n",
      "cellular_component     55046\n",
      "Name: Namespace, dtype: int64\n"
     ]
    },
    {
     "data": {
      "text/html": [
       "<div>\n",
       "<style scoped>\n",
       "    .dataframe tbody tr th:only-of-type {\n",
       "        vertical-align: middle;\n",
       "    }\n",
       "\n",
       "    .dataframe tbody tr th {\n",
       "        vertical-align: top;\n",
       "    }\n",
       "\n",
       "    .dataframe thead th {\n",
       "        text-align: right;\n",
       "    }\n",
       "</style>\n",
       "<table border=\"1\" class=\"dataframe\">\n",
       "  <thead>\n",
       "    <tr style=\"text-align: right;\">\n",
       "      <th></th>\n",
       "      <th>#Gene</th>\n",
       "      <th>Contig</th>\n",
       "      <th>Start</th>\n",
       "      <th>End</th>\n",
       "      <th>Gene_Length</th>\n",
       "      <th>Strand</th>\n",
       "      <th>SP</th>\n",
       "      <th>TM</th>\n",
       "      <th>go_id</th>\n",
       "      <th>Taxonomy</th>\n",
       "      <th>Terms</th>\n",
       "      <th>Namespace</th>\n",
       "    </tr>\n",
       "  </thead>\n",
       "  <tbody>\n",
       "    <tr>\n",
       "      <th>0</th>\n",
       "      <td>metaerg.pl|00001</td>\n",
       "      <td>S|S1|C4223</td>\n",
       "      <td>71</td>\n",
       "      <td>1423</td>\n",
       "      <td>1353</td>\n",
       "      <td>1</td>\n",
       "      <td>No</td>\n",
       "      <td>0</td>\n",
       "      <td>GO:0005524</td>\n",
       "      <td>ATP binding</td>\n",
       "      <td>d__Bacteria;p__Firmicutes;c__Bacilli;o__Bacill...</td>\n",
       "      <td>molecular_function</td>\n",
       "    </tr>\n",
       "    <tr>\n",
       "      <th>1</th>\n",
       "      <td>metaerg.pl|00001</td>\n",
       "      <td>S|S1|C4223</td>\n",
       "      <td>71</td>\n",
       "      <td>1423</td>\n",
       "      <td>1353</td>\n",
       "      <td>1</td>\n",
       "      <td>No</td>\n",
       "      <td>0</td>\n",
       "      <td>GO:0005737</td>\n",
       "      <td>cytoplasm</td>\n",
       "      <td>d__Bacteria;p__Firmicutes;c__Bacilli;o__Bacill...</td>\n",
       "      <td>cellular_component</td>\n",
       "    </tr>\n",
       "  </tbody>\n",
       "</table>\n",
       "</div>"
      ],
      "text/plain": [
       "              #Gene      Contig  Start   End  Gene_Length  Strand  SP  TM  \\\n",
       "0  metaerg.pl|00001  S|S1|C4223     71  1423         1353       1  No   0   \n",
       "1  metaerg.pl|00001  S|S1|C4223     71  1423         1353       1  No   0   \n",
       "\n",
       "        go_id     Taxonomy                                              Terms  \\\n",
       "0  GO:0005524  ATP binding  d__Bacteria;p__Firmicutes;c__Bacilli;o__Bacill...   \n",
       "1  GO:0005737    cytoplasm  d__Bacteria;p__Firmicutes;c__Bacilli;o__Bacill...   \n",
       "\n",
       "            Namespace  \n",
       "0  molecular_function  \n",
       "1  cellular_component  "
      ]
     },
     "execution_count": 56,
     "metadata": {},
     "output_type": "execute_result"
    }
   ],
   "source": [
    "l = list()\n",
    "def get_namespace(accession):\n",
    "    if(accession in accession_to_namespace):        \n",
    "        return accession_to_namespace[accession]\n",
    "    l.append(accession)\n",
    "    return None\n",
    "\n",
    "go['Namespace'] = go['go_id'].apply(lambda x : get_namespace(x) )\n",
    "print(go['Namespace'].value_counts())\n",
    "go.head(2)"
   ]
  },
  {
   "cell_type": "markdown",
   "metadata": {},
   "source": [
    "# Visbin"
   ]
  },
  {
   "cell_type": "code",
   "execution_count": 173,
   "metadata": {
    "ExecuteTime": {
     "end_time": "2021-05-23T09:32:04.647310Z",
     "start_time": "2021-05-23T09:32:04.375457Z"
    }
   },
   "outputs": [
    {
     "name": "stdout",
     "output_type": "stream",
     "text": [
      "anonymous.fasta  mapping.tsv\r\n"
     ]
    }
   ],
   "source": []
  },
  {
   "cell_type": "code",
   "execution_count": null,
   "metadata": {
    "ExecuteTime": {
     "start_time": "2021-05-23T09:33:08.754Z"
    }
   },
   "outputs": [
    {
     "name": "stdout",
     "output_type": "stream",
     "text": [
      "2021-05-23 14:03:11,018 DEBUG [main] (MainFrame.java:109) - Init of Main application frame\n",
      "2021-05-23 14:03:11,590 DEBUG [main] (MainFrame.java:114) - Property changed: defaultCloseOperation. Old: 1 New: 3\n",
      "2021-05-23 14:03:12,692 DEBUG [main] (MainFrame.java:114) - Property changed: font. Old: null New: java.awt.Font[family=Dialog,name=Dialog,style=plain,size=12]\n",
      "2021-05-23 14:03:12,694 DEBUG [main] (MainFrame.java:114) - Property changed: foreground. Old: null New: java.awt.SystemColor[i=9]\n"
     ]
    }
   ],
   "source": [
    "!java -jar VizBin-dist.jar -Dtextfield_file=./Dataset/Toy_Low/anonymous.fasta  "
   ]
  },
  {
   "cell_type": "markdown",
   "metadata": {},
   "source": [
    "# Our Method"
   ]
  },
  {
   "cell_type": "markdown",
   "metadata": {},
   "source": [
    "## Create dictionary BP, CC , MF base of GOGO for each pair of go ids"
   ]
  },
  {
   "cell_type": "code",
   "execution_count": 57,
   "metadata": {
    "ExecuteTime": {
     "end_time": "2021-05-28T13:09:26.965819Z",
     "start_time": "2021-05-28T13:09:26.957814Z"
    }
   },
   "outputs": [],
   "source": [
    "def runGOGO(i,namespace):        \n",
    "    %cd ./GOGO/\n",
    "    !perl go_comb.pl ../Temp/{Dataset_Name}/{namespace}/go_ids{i}.txt ../Temp/{Dataset_Name}/{namespace}/go_ids_scores{i}\n",
    "    %cd ..    "
   ]
  },
  {
   "cell_type": "code",
   "execution_count": 58,
   "metadata": {
    "ExecuteTime": {
     "end_time": "2021-05-28T13:09:27.959457Z",
     "start_time": "2021-05-28T13:09:27.938882Z"
    },
    "code_folding": []
   },
   "outputs": [],
   "source": [
    "def Step1(namespace):    \n",
    "    !rm -r ./Temp/{Dataset_Name}/{namespace}/ \n",
    "    !mkdir ./Temp/{Dataset_Name}/{namespace}/\n",
    "    # first create all possible pairs of GOs for Biological Process\n",
    "    go_ids = go[go[\"Namespace\"] == namespace]['go_id'].unique()    \n",
    "    go1 = []\n",
    "    go2 = []\n",
    "    for i in range(0,go_ids.shape[0]):\n",
    "        for j in range(i, go_ids.shape[0]):            \n",
    "            go1.append(go_ids[i])\n",
    "            go2.append(go_ids[j])\n",
    "    df = pd.DataFrame({'goid1': go1,'goid2': go2},columns = ['goid1', 'goid2'])\n",
    "    indexes = np.linspace(0,df.shape[0], num_cores + 1) // 1\n",
    "    indexes[-1] =  df.shape[0]\n",
    "    for i in range(0, num_cores):\n",
    "        dfi = df.iloc[int(indexes[i]):int(indexes[i+1]),:]\n",
    "        dfi.to_csv(f\"./Temp/{Dataset_Name}/{namespace}/go_ids{i}.txt\",sep=\" \",index=None,header=None)\n",
    "        \n",
    "    # now run GOGO in multiprocessing\n",
    "    if __name__ == '__main__':        \n",
    "        pool = mp.Pool(num_cores)        \n",
    "        pool.map(partial(runGOGO, namespace=namespace), range(0,num_cores))      \n",
    "        \n",
    "    clear_output()"
   ]
  },
  {
   "cell_type": "code",
   "execution_count": 59,
   "metadata": {
    "ExecuteTime": {
     "end_time": "2021-05-28T13:09:28.168701Z",
     "start_time": "2021-05-28T13:09:28.155765Z"
    }
   },
   "outputs": [],
   "source": [
    "def Step2(namespace):            \n",
    "    def add2dict(row, dictionary):\n",
    "        dictionary[row[0]+row[1]] = row[3]\n",
    "        dictionary[row[1]+row[0]] = row[3]\n",
    "        \n",
    "    lines = []\n",
    "    for i in range(0,num_cores):\n",
    "        with open(f\"./Temp/{Dataset_Name}/{namespace}/go_ids_scores{i}\",\"r\") as f:\n",
    "            text = f.read()\n",
    "            lines = [*lines, *[l for l in text.split(\"\\n\") if len(l) > 0 and l[-24:] != \"not_in_the_same_ontology\"]]                        \n",
    "            \n",
    "    df = pd.read_csv(StringIO('\\n'.join(lines)), sep=\" \", header=None)                \n",
    "    dictionary = dict()    \n",
    "    df.apply(lambda row:add2dict(row, dictionary), axis=1)\n",
    "               \n",
    "    with open(f\"./Temp/{Dataset_Name}/{namespace}.pkl\", \"wb\") as file:\n",
    "        pickle.dump(dictionary, file)        \n",
    "    !rm -r ./Temp/{Dataset_Name}/{namespace}/    "
   ]
  },
  {
   "cell_type": "markdown",
   "metadata": {},
   "source": [
    "### biological process"
   ]
  },
  {
   "cell_type": "code",
   "execution_count": 60,
   "metadata": {
    "ExecuteTime": {
     "end_time": "2021-05-28T13:12:31.103379Z",
     "start_time": "2021-05-28T13:09:30.208633Z"
    }
   },
   "outputs": [],
   "source": [
    "Step1(\"biological_process\")"
   ]
  },
  {
   "cell_type": "code",
   "execution_count": null,
   "metadata": {
    "ExecuteTime": {
     "start_time": "2021-05-28T17:08:09.627Z"
    }
   },
   "outputs": [],
   "source": [
    "Step2(\"biological_process\")"
   ]
  },
  {
   "cell_type": "markdown",
   "metadata": {},
   "source": [
    "### cellular component"
   ]
  },
  {
   "cell_type": "code",
   "execution_count": null,
   "metadata": {
    "ExecuteTime": {
     "start_time": "2021-05-28T17:08:11.668Z"
    }
   },
   "outputs": [],
   "source": [
    "Step1(\"cellular_component\")"
   ]
  },
  {
   "cell_type": "code",
   "execution_count": null,
   "metadata": {
    "ExecuteTime": {
     "start_time": "2021-05-28T17:08:12.713Z"
    }
   },
   "outputs": [],
   "source": [
    "Step2(\"cellular_component\")"
   ]
  },
  {
   "cell_type": "markdown",
   "metadata": {},
   "source": [
    "### molecular function"
   ]
  },
  {
   "cell_type": "code",
   "execution_count": null,
   "metadata": {
    "ExecuteTime": {
     "start_time": "2021-05-28T17:08:13.515Z"
    }
   },
   "outputs": [],
   "source": [
    "Step1(\"molecular_function\")"
   ]
  },
  {
   "cell_type": "code",
   "execution_count": null,
   "metadata": {
    "ExecuteTime": {
     "start_time": "2021-05-28T17:08:13.906Z"
    }
   },
   "outputs": [],
   "source": [
    "Step2(\"molecular_function\")"
   ]
  },
  {
   "cell_type": "markdown",
   "metadata": {},
   "source": [
    "## Select unlabled contigs"
   ]
  },
  {
   "cell_type": "code",
   "execution_count": null,
   "metadata": {
    "ExecuteTime": {
     "start_time": "2021-05-28T17:08:15.400Z"
    }
   },
   "outputs": [],
   "source": [
    "unlabelled0 = contigs[contigs['Busybee_bin0Percent']==0] \n",
    "unlabelled20 = contigs[contigs['Busybee_bin20Percent']==0] \n",
    "unlabelled50 = contigs[contigs['Busybee_bin50Percent']==0]\n",
    "n=contigs.shape[0];n0= unlabelled0.shape[0];n20=unlabelled20.shape[0];n50=unlabelled50.shape[0];\n",
    "print(f'''Number of unlable for:\n",
    "            bussybee 0% :     {n0}    {round(n0*100/n,2)}% unassigned\n",
    "            bussybee 20% :    {n20}    {round(n20*100/n,2)}% unassigned\n",
    "            bussybee 50% :    {n50}    {round(n50*100/n,2)}% unassigned''')\n",
    "\n",
    "def contigs_with_go(df):\n",
    "    return len(set(df['#anonymous_gsa_id']).intersection(set(go['Contig'])))\n",
    "\n",
    "print(f'Contigs with go for: \\t0% : {contigs_with_go(unlabelled0)}\\t,20% : {contigs_with_go(unlabelled20)}\\t,50% : {contigs_with_go(unlabelled50)}')"
   ]
  },
  {
   "cell_type": "markdown",
   "metadata": {},
   "source": [
    "## Load data"
   ]
  },
  {
   "cell_type": "code",
   "execution_count": null,
   "metadata": {
    "ExecuteTime": {
     "start_time": "2021-05-28T17:08:16.505Z"
    }
   },
   "outputs": [],
   "source": [
    "number_of_bins = int(max(contigs['Busybee_bin50Percent']))\n",
    "\n",
    "bins = [0 for i in range(0,number_of_bins + 1)]\n",
    "for i in range(0, number_of_bins):    \n",
    "    cnt = contigs[contigs['Busybee_bin50Percent'] == (i+1)] # select contigs where bin_id = i\n",
    "    bins[i] = pd.merge(go, cnt, how=\"inner\", \n",
    "                    left_on='Contig',\n",
    "                    right_on=\"#anonymous_gsa_id\")#['go_id'].value_counts()        \n",
    "        \n",
    "with open(f\"./Temp/{Dataset_Name}/biological_process.pkl\", \"rb\") as file:\n",
    "    bp_dictionary = pickle.load(file)\n",
    "\n",
    "with open(f\"./Temp/{Dataset_Name}/cellular_component.pkl\", \"rb\") as file:\n",
    "    cc_dictionary = pickle.load(file)\n",
    "    \n",
    "with open(f\"./Temp/{Dataset_Name}/molecular_function.pkl\", \"rb\") as file:\n",
    "    mf_dictionary = pickle.load(file)"
   ]
  },
  {
   "cell_type": "markdown",
   "metadata": {},
   "source": [
    "## Disjoint"
   ]
  },
  {
   "cell_type": "markdown",
   "metadata": {
    "ExecuteTime": {
     "end_time": "2021-05-08T22:31:43.777889Z",
     "start_time": "2021-05-08T22:31:43.771849Z"
    }
   },
   "source": [
    "### 16S"
   ]
  },
  {
   "cell_type": "code",
   "execution_count": 51,
   "metadata": {
    "ExecuteTime": {
     "end_time": "2021-05-13T12:27:18.211252Z",
     "start_time": "2021-05-13T12:27:18.178618Z"
    }
   },
   "outputs": [
    {
     "name": "stdout",
     "output_type": "stream",
     "text": [
      "(71, 3)\n"
     ]
    },
    {
     "data": {
      "text/html": [
       "<div>\n",
       "<style scoped>\n",
       "    .dataframe tbody tr th:only-of-type {\n",
       "        vertical-align: middle;\n",
       "    }\n",
       "\n",
       "    .dataframe tbody tr th {\n",
       "        vertical-align: top;\n",
       "    }\n",
       "\n",
       "    .dataframe thead th {\n",
       "        text-align: right;\n",
       "    }\n",
       "</style>\n",
       "<table border=\"1\" class=\"dataframe\">\n",
       "  <thead>\n",
       "    <tr style=\"text-align: right;\">\n",
       "      <th></th>\n",
       "      <th>Name</th>\n",
       "      <th>rRNA_taxon</th>\n",
       "      <th>cid</th>\n",
       "    </tr>\n",
       "  </thead>\n",
       "  <tbody>\n",
       "    <tr>\n",
       "      <th>0</th>\n",
       "      <td>bac_16SrRNA</td>\n",
       "      <td>Bacteria;Firmicutes;Bacilli;Bacillales;Bacilla...</td>\n",
       "      <td>S|S1|C4223</td>\n",
       "    </tr>\n",
       "    <tr>\n",
       "      <th>1</th>\n",
       "      <td>bac_16SrRNA</td>\n",
       "      <td>Bacteria;Firmicutes;Bacilli;Bacillales;Bacilla...</td>\n",
       "      <td>S|S1|C4223</td>\n",
       "    </tr>\n",
       "    <tr>\n",
       "      <th>2</th>\n",
       "      <td>bac_16SrRNA</td>\n",
       "      <td>Bacteria;Firmicutes;Bacilli;Bacillales;Bacilla...</td>\n",
       "      <td>S|S1|C4223</td>\n",
       "    </tr>\n",
       "    <tr>\n",
       "      <th>3</th>\n",
       "      <td>bac_16SrRNA</td>\n",
       "      <td>Bacteria;Firmicutes;Bacilli;Bacillales;Bacilla...</td>\n",
       "      <td>S|S1|C4223</td>\n",
       "    </tr>\n",
       "    <tr>\n",
       "      <th>4</th>\n",
       "      <td>bac_16SrRNA</td>\n",
       "      <td>Bacteria;Firmicutes;Bacilli;Bacillales;Bacilla...</td>\n",
       "      <td>S|S1|C4223</td>\n",
       "    </tr>\n",
       "  </tbody>\n",
       "</table>\n",
       "</div>"
      ],
      "text/plain": [
       "           Name                                         rRNA_taxon         cid\n",
       "0  bac_16SrRNA   Bacteria;Firmicutes;Bacilli;Bacillales;Bacilla...  S|S1|C4223\n",
       "1  bac_16SrRNA   Bacteria;Firmicutes;Bacilli;Bacillales;Bacilla...  S|S1|C4223\n",
       "2  bac_16SrRNA   Bacteria;Firmicutes;Bacilli;Bacillales;Bacilla...  S|S1|C4223\n",
       "3  bac_16SrRNA   Bacteria;Firmicutes;Bacilli;Bacillales;Bacilla...  S|S1|C4223\n",
       "4  bac_16SrRNA   Bacteria;Firmicutes;Bacilli;Bacillales;Bacilla...  S|S1|C4223"
      ]
     },
     "execution_count": 51,
     "metadata": {},
     "output_type": "execute_result"
    }
   ],
   "source": [
    "with open(\"Annotation/Toy_Low/data/16SrRNA.ffn\", \"r\") as file:    \n",
    "    lines = [t for t in file.read().split('\\n') if len(t) > 0]\n",
    "    lines = [t for t in lines if t[0] == '>']\n",
    "    rRNA16S = pd.read_csv(StringIO('\\n'.join(lines)), sep=\"/\", header=None)                \n",
    "    rRNA16S = rRNA16S.iloc[:,1:]\n",
    "    rRNA16S.columns = [\"Name\", \"rRNA_taxon\", \"cid\"]\n",
    "    rRNA16S[\"Name\"] = rRNA16S[\"Name\"].apply(lambda x : x.replace(\"Name=\",\"\"))\n",
    "    rRNA16S[\"rRNA_taxon\"] = rRNA16S[\"rRNA_taxon\"].apply(lambda x : x.replace(\"rRNA_taxon=\",\"\"))\n",
    "    rRNA16S[\"cid\"] = rRNA16S[\"cid\"].apply(lambda x : x.replace(\"cid=\",\"\"))\n",
    "print(rRNA16S.shape)\n",
    "rRNA16S.head()"
   ]
  },
  {
   "cell_type": "code",
   "execution_count": 57,
   "metadata": {
    "ExecuteTime": {
     "end_time": "2021-05-13T12:33:55.626524Z",
     "start_time": "2021-05-13T12:33:55.487397Z"
    },
    "scrolled": true
   },
   "outputs": [],
   "source": [
    "bins = [[] for i in range(0,number_of_bins+1)]\n",
    "for i in range(1, number_of_bins+1):\n",
    "    df = contigs[contigs['Busybee_bin50Percent']==i]\n",
    "    df = pd.merge(df, rRNA16S, how=\"inner\", left_on=\"#anonymous_gsa_id\", right_on=\"cid\")    \n",
    "    for index, row in df.iterrows():\n",
    "        bins[i].append(row['rRNA_taxon'])    \n",
    "    bins[i] = [s for s in set(bins[i])]    "
   ]
  },
  {
   "cell_type": "code",
   "execution_count": 70,
   "metadata": {
    "ExecuteTime": {
     "end_time": "2021-05-13T12:45:16.673561Z",
     "start_time": "2021-05-13T12:45:16.665946Z"
    }
   },
   "outputs": [
    {
     "data": {
      "text/plain": [
       "[9, 10]"
      ]
     },
     "execution_count": 70,
     "metadata": {},
     "output_type": "execute_result"
    }
   ],
   "source": [
    "[i for i in range(1, number_of_bins+1) if len(bins[i]) > 1]"
   ]
  },
  {
   "cell_type": "markdown",
   "metadata": {
    "heading_collapsed": true
   },
   "source": [
    "## main loop"
   ]
  },
  {
   "cell_type": "code",
   "execution_count": 123,
   "metadata": {
    "ExecuteTime": {
     "end_time": "2021-05-17T11:27:55.692432Z",
     "start_time": "2021-05-17T11:26:17.492545Z"
    },
    "hidden": true
   },
   "outputs": [],
   "source": [
    "number = 1000\n",
    "power_coeff = 1\n",
    "\n",
    "def getDictionary(namespace):\n",
    "    if(namespace == \"biological_process\"):\n",
    "        return bp_dictionary\n",
    "    if(namespace == \"cellular_component\"):\n",
    "        return cc_dictionary    \n",
    "    if(namespace == \"molecular_function\"):\n",
    "        return mf_dictionary\n",
    "    \n",
    "# this function recived a contig and return pred bin and score\n",
    "def binScore(inp_bin, go_id,dictionary):        \n",
    "    def run(pair):\n",
    "        if(pair in dictionary):          \n",
    "            return dictionary[pair] ** power_coeff\n",
    "        return -1\n",
    "    scores = inp_bin['go_id'].apply(lambda g: run(g + go_id))    \n",
    "    scores = scores[scores>=0]    \n",
    "    if(scores.shape[0] == 0):\n",
    "        return 0\n",
    "    return sum(sorted(scores,reverse=True)[:number]) / number\n",
    "\n",
    "def getScore(go_id):            \n",
    "    result = np.zeros(number_of_bins)    \n",
    "    namespace = accession_to_namespace[go_id]\n",
    "    for i in range(0,number_of_bins):\n",
    "        result[i] = binScore(bins[i],\n",
    "                             go_id,\n",
    "                             getDictionary(namespace))\n",
    "    return go_id, result\n",
    "\n",
    "if __name__ == '__main__':\n",
    "    num_cores = mp.cpu_count()\n",
    "    pool = mp.Pool(num_cores - 3)    \n",
    "    go_ids = pd.merge(unlabelled50,\n",
    "             go,how='inner',\n",
    "             left_on='#anonymous_gsa_id',\n",
    "             right_on='Contig')['go_id'].unique()\n",
    "\n",
    "    go_dictionary = dict()\n",
    "\n",
    "    for go_id, result in pool.map(getScore, go_ids):        \n",
    "        go_dictionary[go_id] = result"
   ]
  },
  {
   "cell_type": "markdown",
   "metadata": {
    "ExecuteTime": {
     "end_time": "2021-05-15T05:05:42.571472Z",
     "start_time": "2021-05-15T05:03:44.323356Z"
    }
   },
   "source": [
    "## Pred"
   ]
  },
  {
   "cell_type": "code",
   "execution_count": 132,
   "metadata": {
    "ExecuteTime": {
     "end_time": "2021-05-17T11:57:29.967036Z",
     "start_time": "2021-05-17T11:56:37.732831Z"
    }
   },
   "outputs": [],
   "source": [
    "alpha = 1  # BP\n",
    "beta  = 0.5  # CC\n",
    "gamma = 1  # MF\n",
    "\n",
    "def getCoefficient(namespace):\n",
    "        if(namespace == \"biological_process\"):\n",
    "            return alpha\n",
    "        if(namespace == \"cellular_component\"):\n",
    "            return beta    \n",
    "        if(namespace == \"molecular_function\"):\n",
    "            return gamma    \n",
    "    \n",
    "def pred(cnt):                                \n",
    "    coeff = 0\n",
    "    selected = go[go['Contig'] == cnt]\n",
    "    go_ids = selected['go_id']            \n",
    "    go_namespace = selected['Namespace']            \n",
    "    result = np.zeros((go_ids.shape[0], number_of_bins))    \n",
    "    for i in range(0,len(go_ids.index)):  \n",
    "        index = go_ids.index[i]       \n",
    "        namespace = go_namespace[index]\n",
    "        coeff += getCoefficient(namespace)                                         \n",
    "        result[i,:] = go_dictionary[go_ids[index]] * getCoefficient(namespace)                 \n",
    "    score = sum(result) / coeff if coeff != 0 else sum(result) * 0    \n",
    "    index = np.where(score == max(score))[0][0] + 1                \n",
    "    return index, max(score), cnt    \n",
    "\n",
    "if __name__ == '__main__':\n",
    "    answer = {}    \n",
    "    num_cores = mp.cpu_count()\n",
    "    pool = mp.Pool(num_cores - 3)    \n",
    "    unlabelledContigs = pd.Series(list(set(unlabelled50['#anonymous_gsa_id']).intersection(set(go['Contig']))))        \n",
    "    for index, score, cnt in pool.map(pred,unlabelledContigs):        \n",
    "        answer[cnt] = (index,  score)"
   ]
  },
  {
   "cell_type": "code",
   "execution_count": 142,
   "metadata": {
    "ExecuteTime": {
     "end_time": "2021-05-17T11:58:56.262801Z",
     "start_time": "2021-05-17T11:58:54.681620Z"
    }
   },
   "outputs": [
    {
     "name": "stdout",
     "output_type": "stream",
     "text": [
      "11992\n"
     ]
    },
    {
     "data": {
      "text/plain": [
       "36368"
      ]
     },
     "execution_count": 142,
     "metadata": {},
     "output_type": "execute_result"
    }
   ],
   "source": [
    "threshold = 0.41\n",
    "counter = 0\n",
    "def assign(row):\n",
    "    global counter\n",
    "    cnt = row['#anonymous_gsa_id']\n",
    "    if(cnt in answer and answer[cnt][1] >= threshold):                \n",
    "        counter += 1\n",
    "        return answer[row['#anonymous_gsa_id']][0]    \n",
    "    return row['Busybee_bin50Percent']\n",
    "\n",
    "contigs['OurMethod'] = contigs.apply(lambda row:assign(row),axis=1)    \n",
    "print(counter)\n",
    "sum(contigs['OurMethod'] == 0)"
   ]
  },
  {
   "cell_type": "code",
   "execution_count": 143,
   "metadata": {
    "ExecuteTime": {
     "end_time": "2021-05-17T11:58:58.530945Z",
     "start_time": "2021-05-17T11:58:58.461922Z"
    }
   },
   "outputs": [],
   "source": [
    "#CAMI binning Bioboxes format\n",
    "OurMethod_output =  f\"./Temp/{Dataset_Name}/OurMethod\"\n",
    "\n",
    "df = contigs[['#anonymous_gsa_id','OurMethod']]\n",
    "df[df[\"OurMethod\"]!= 0].to_csv(OurMethod_output,index=None, sep='\\t')\n",
    "with open(OurMethod_output,'r') as file:\n",
    "    file.readline()\n",
    "    text = file.read()\n",
    "with open(OurMethod_output,'w',encoding='utf8') as file:\n",
    "    file.write(\"@Version:0.9.1\\n@SampleID:gsa\\n\\n@@SEQUENCEID\\tBINID\\n\" + text)"
   ]
  },
  {
   "cell_type": "code",
   "execution_count": 144,
   "metadata": {
    "ExecuteTime": {
     "end_time": "2021-05-17T11:59:19.887316Z",
     "start_time": "2021-05-17T11:58:59.268290Z"
    }
   },
   "outputs": [
    {
     "name": "stdout",
     "output_type": "stream",
     "text": [
      "2021-05-17 16:29:01,676 INFO Loading Gold standard\n",
      "2021-05-17 16:29:01,812 INFO Loading Busybee0\n",
      "2021-05-17 16:29:01,869 INFO Loading OurMethod.txt\n",
      "2021-05-17 16:29:01,924 INFO Creating output directories\n",
      "2021-05-17 16:29:01,926 INFO Evaluating Gold standard (sample gsa, genome binning)\n",
      "2021-05-17 16:29:02,241 INFO Evaluating Busybee0 (sample gsa, genome binning)\n",
      "2021-05-17 16:29:02,522 INFO Evaluating OurMethod.txt (sample gsa, genome binning)\n",
      "2021-05-17 16:29:02,788 INFO Saving computed metrics\n",
      "2021-05-17 16:29:02,810 INFO Creating genome binning plots\n",
      "2021-05-17 16:29:17,951 INFO Creating HTML page\n",
      "2021-05-17 16:29:19,462 INFO AMBER finished successfully. All results have been saved to /home/jupyter/Final/Output/Toy_Low/Assesment\n"
     ]
    }
   ],
   "source": [
    "!amber.py -g ./Temp/{Dataset_Name}/gold_standard -o ./Output/{Dataset_Name}/Assesment/  ./Temp/{Dataset_Name}/Busybee0  ./Temp/{Dataset_Name}/OurMethod"
   ]
  },
  {
   "cell_type": "markdown",
   "metadata": {},
   "source": [
    "# Visualization"
   ]
  },
  {
   "cell_type": "code",
   "execution_count": null,
   "metadata": {},
   "outputs": [],
   "source": [
    "#!wget https://github.com/claczny/VizBin/releases/download/v1.0.0/VizBin-dist.jar"
   ]
  },
  {
   "cell_type": "code",
   "execution_count": 145,
   "metadata": {
    "ExecuteTime": {
     "end_time": "2021-05-17T17:39:00.485642Z",
     "start_time": "2021-05-17T17:39:00.228463Z"
    }
   },
   "outputs": [
    {
     "name": "stdout",
     "output_type": "stream",
     "text": [
      "/bin/bash: java: command not found\r\n"
     ]
    }
   ],
   "source": [
    "!java -jar ./VizBin-dist.jar"
   ]
  },
  {
   "cell_type": "markdown",
   "metadata": {
    "heading_collapsed": true
   },
   "source": [
    "# KEGG"
   ]
  },
  {
   "cell_type": "code",
   "execution_count": null,
   "metadata": {
    "hidden": true,
    "scrolled": true
   },
   "outputs": [],
   "source": [
    "kegg = pd.read_csv('./Annotation/Toy_low/data/cds.gene2kegg.tab.txt',sep='\\t')\n",
    "print(kegg.shape)\n",
    "kegg = pd.merge(kegg,Geneid2Contigid,how='inner',on='#Geneid')\n",
    "kegg.head(2)"
   ]
  },
  {
   "cell_type": "code",
   "execution_count": null,
   "metadata": {
    "hidden": true
   },
   "outputs": [],
   "source": [
    "print(np.median(list(kegg['Kegg_id'].value_counts())))\n",
    "plt.plot(list(kegg['Kegg_id'].value_counts()))\n",
    "plt.show()"
   ]
  },
  {
   "cell_type": "markdown",
   "metadata": {
    "heading_collapsed": true
   },
   "source": [
    "# KO"
   ]
  },
  {
   "cell_type": "code",
   "execution_count": null,
   "metadata": {
    "hidden": true
   },
   "outputs": [],
   "source": [
    "ko = pd.read_csv('./Annotation/Toy_low/data/cds.gene2ko.tab.txt',sep='\\t')\n",
    "print(ko.shape)\n",
    "ko.head(5)"
   ]
  },
  {
   "cell_type": "code",
   "execution_count": null,
   "metadata": {
    "hidden": true
   },
   "outputs": [],
   "source": [
    "print(np.median(list(ko['koid'].value_counts())))\n",
    "plt.plot(list(ko['koid'].value_counts()))\n",
    "plt.show()"
   ]
  },
  {
   "cell_type": "code",
   "execution_count": null,
   "metadata": {
    "hidden": true
   },
   "outputs": [],
   "source": [
    "print(np.median(list(ko['Contig'].value_counts())))\n",
    "plt.plot(list(ko['Contig'].value_counts()))\n",
    "plt.show()"
   ]
  },
  {
   "cell_type": "code",
   "execution_count": null,
   "metadata": {
    "hidden": true
   },
   "outputs": [],
   "source": [
    "df = pd.read_csv('./Annotation/Toy_low/data/cds.gene2sprot.tab.txt',sep='\\t')\n",
    "print(df.shape)\n",
    "df.head(2)"
   ]
  },
  {
   "cell_type": "code",
   "execution_count": null,
   "metadata": {
    "hidden": true
   },
   "outputs": [],
   "source": [
    "uniprot = pd.read_csv('./uniprot-filtered-reviewed-yes.tab',sep='\\t')\n",
    "print(uniprot.shape)\n",
    "uniprot.head(2)"
   ]
  },
  {
   "cell_type": "code",
   "execution_count": null,
   "metadata": {
    "hidden": true
   },
   "outputs": [],
   "source": [
    "df = pd.merge(uniprot,df,how='inner',left_on='Protein names',right_on='sprot_desc')\n",
    "print(df.shape)\n",
    "df.head(2)"
   ]
  },
  {
   "cell_type": "markdown",
   "metadata": {
    "heading_collapsed": true
   },
   "source": [
    "# Gene id  to contig id maper"
   ]
  },
  {
   "cell_type": "code",
   "execution_count": null,
   "metadata": {
    "hidden": true
   },
   "outputs": [],
   "source": [
    "with open('./Annotation/{Dataset_Name}/data/cds.faa', 'r') as file:     \n",
    "    lines = [line.split('\\n')[0] for line in file.read().split('>') if len(line) > 0]    \n",
    "    data = {'#Geneid': [l.split(' ')[0] for l in lines],\n",
    "        'Contigid': [l.split(' ')[-1][4:] for l in lines]}\n",
    "    Geneid2Contigid = pd.DataFrame(data, columns = ['#Geneid', 'Contigid'])\n",
    "Geneid2Contigid.head(2)"
   ]
  },
  {
   "cell_type": "code",
   "execution_count": null,
   "metadata": {
    "hidden": true
   },
   "outputs": [],
   "source": [
    "plt.plot(np.linspace(0,1,1000),np.linspace(0,1,1000) ** 1, 'r')\n",
    "plt.plot(np.linspace(0,1,1000),np.linspace(0,1,1000) ** 10, 'g')"
   ]
  }
 ],
 "metadata": {
  "hide_input": false,
  "kernelspec": {
   "display_name": "Python 3",
   "language": "python",
   "name": "python3"
  },
  "language_info": {
   "codemirror_mode": {
    "name": "ipython",
    "version": 3
   },
   "file_extension": ".py",
   "mimetype": "text/x-python",
   "name": "python",
   "nbconvert_exporter": "python",
   "pygments_lexer": "ipython3",
   "version": "3.8.5"
  },
  "varInspector": {
   "cols": {
    "lenName": 16,
    "lenType": 16,
    "lenVar": 40
   },
   "kernels_config": {
    "python": {
     "delete_cmd_postfix": "",
     "delete_cmd_prefix": "del ",
     "library": "var_list.py",
     "varRefreshCmd": "print(var_dic_list())"
    },
    "r": {
     "delete_cmd_postfix": ") ",
     "delete_cmd_prefix": "rm(",
     "library": "var_list.r",
     "varRefreshCmd": "cat(var_dic_list()) "
    }
   },
   "types_to_exclude": [
    "module",
    "function",
    "builtin_function_or_method",
    "instance",
    "_Feature"
   ],
   "window_display": false
  }
 },
 "nbformat": 4,
 "nbformat_minor": 2
}
