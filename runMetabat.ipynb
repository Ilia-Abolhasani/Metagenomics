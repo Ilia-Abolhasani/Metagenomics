{
 "cells": [
  {
   "cell_type": "code",
   "execution_count": 1,
   "metadata": {
    "ExecuteTime": {
     "end_time": "2021-07-31T20:10:16.552591Z",
     "start_time": "2021-07-31T20:10:16.113207Z"
    }
   },
   "outputs": [],
   "source": [
    "import glob\n",
    "import pandas as pd"
   ]
  },
  {
   "cell_type": "code",
   "execution_count": 5,
   "metadata": {
    "ExecuteTime": {
     "end_time": "2021-07-31T20:10:54.356213Z",
     "start_time": "2021-07-31T20:10:54.352209Z"
    }
   },
   "outputs": [],
   "source": [
    "dataset_name = \"CAMI_Mediom\"\n",
    "prob = 80"
   ]
  },
  {
   "cell_type": "markdown",
   "metadata": {
    "ExecuteTime": {
     "end_time": "2021-07-03T13:09:00.025529Z",
     "start_time": "2021-07-03T13:09:00.020924Z"
    }
   },
   "source": [
    "# MetaBat 1 & 2"
   ]
  },
  {
   "cell_type": "markdown",
   "metadata": {
    "heading_collapsed": true
   },
   "source": [
    "## MetaBat 1"
   ]
  },
  {
   "cell_type": "code",
   "execution_count": 3,
   "metadata": {
    "ExecuteTime": {
     "end_time": "2021-07-31T20:10:34.012328Z",
     "start_time": "2021-07-31T20:10:23.781299Z"
    },
    "hidden": true
   },
   "outputs": [
    {
     "name": "stdout",
     "output_type": "stream",
     "text": [
      "/home/jupyter/Final/metabat/berkeleylab-metabat-8b5702be9852/build/src\n",
      "MetaBAT 1 (GIT-NOTFOUND) using p1 85.0%, p2 90.0%, p3 95.0%, minProb 80.0%, minBinned 40%, minCV 1.0, minContig 1500, minContigByCorr 1000, minCorr  0%, paired 0, and 20 bootstrapping\n",
      "^C\n",
      "/home/jupyter/Final\n"
     ]
    }
   ],
   "source": [
    "M = 1\n",
    "%cd /home/jupyter/Final/metabat/berkeleylab-metabat-8b5702be9852/build/src\n",
    "!mkdir -p /home/jupyter/Final/Binning/{dataset_name}/Metabat1/prob{prob}\n",
    "!./metabat1\\\n",
    "    -i /home/jupyter/Final/Dataset/{dataset_name}/contigs.fna \\\n",
    "    -a /home/jupyter/Final/Dataset/{dataset_name}/depth.txt \\\n",
    "    -o /home/jupyter/Final/Binning/{dataset_name}/Metabat1/prob{prob}/bin \\\n",
    "    -m 1500 \\\n",
    "    -t 20  \\\n",
    "    --minProb {prob} \\\n",
    "    --p1 85 \\\n",
    "    --p2 90 \\\n",
    "    --p3 95 \\\n",
    "    --minBinned 40\n",
    "\n",
    "%cd /home/jupyter/Final"
   ]
  },
  {
   "cell_type": "markdown",
   "metadata": {},
   "source": [
    "# MetaBat 2"
   ]
  },
  {
   "cell_type": "code",
   "execution_count": 6,
   "metadata": {
    "ExecuteTime": {
     "end_time": "2021-07-31T20:11:17.016766Z",
     "start_time": "2021-07-31T20:10:57.353089Z"
    }
   },
   "outputs": [
    {
     "name": "stdout",
     "output_type": "stream",
     "text": [
      "/home/jupyter/Final/metabat/berkeleylab-metabat-8b5702be9852/build/src\n",
      "MetaBAT 2 (GIT-NOTFOUND) using minContig 2500, minCV 1.0, minCVSum 1.0, maxP 95%, minS 80, maxEdges 200 and minClsSize 200000. with random seed=1627762257\n",
      "173 bins (481475495 bases in total) formed.\n",
      "/home/jupyter/Final\n"
     ]
    }
   ],
   "source": [
    "M = 2\n",
    "%cd /home/jupyter/Final/metabat/berkeleylab-metabat-8b5702be9852/build/src\n",
    "!mkdir -p /home/jupyter/Final/Binning/{dataset_name}/Metabat2/prob{prob}\n",
    "!./metabat2\\\n",
    "    -i /home/jupyter/Final/Dataset/{dataset_name}/contigs.fna \\\n",
    "    -a /home/jupyter/Final/Dataset/{dataset_name}/depth.txt \\\n",
    "    -o /home/jupyter/Final/Binning/{dataset_name}/Metabat2/prob{prob}/bin \\\n",
    "    -m 2500 \\\n",
    "    --maxP 95\\\n",
    "    --minS {prob}\n",
    "%cd /home/jupyter/Final"
   ]
  },
  {
   "cell_type": "markdown",
   "metadata": {},
   "source": [
    "# Reformat"
   ]
  },
  {
   "cell_type": "code",
   "execution_count": 7,
   "metadata": {
    "ExecuteTime": {
     "end_time": "2021-07-31T20:11:20.151757Z",
     "start_time": "2021-07-31T20:11:17.020793Z"
    }
   },
   "outputs": [],
   "source": [
    "path = f'/home/jupyter/Final/Binning/{dataset_name}/Metabat{M}/prob{prob}/bin.'\n",
    "seqID = []\n",
    "binIndex = []\n",
    "for file_path in glob.glob(path + '*.fa'):\n",
    "    index = file_path[len(path):].split('.fa')[0]\n",
    "    with open(file_path, 'r') as file:\n",
    "        text = file.read()\n",
    "        text = [t for t in text.split('\\n') if len(t) > 0]\n",
    "        seq = [t[1:] for t in text if t[0] == '>']        \n",
    "    for s in seq:\n",
    "        seqID.append(s)\n",
    "        binIndex.append(index)\n",
    "df = pd.DataFrame({'seqID': seqID,'binIndex': binIndex})\n",
    "df.to_csv(path[:-4]+\"contigs.tab\", index=None, sep='\\t',header=None)\n",
    "!rm {path}*"
   ]
  },
  {
   "cell_type": "code",
   "execution_count": null,
   "metadata": {},
   "outputs": [],
   "source": []
  }
 ],
 "metadata": {
  "kernelspec": {
   "display_name": "Python 3",
   "language": "python",
   "name": "python3"
  },
  "language_info": {
   "codemirror_mode": {
    "name": "ipython",
    "version": 3
   },
   "file_extension": ".py",
   "mimetype": "text/x-python",
   "name": "python",
   "nbconvert_exporter": "python",
   "pygments_lexer": "ipython3",
   "version": "3.8.10"
  }
 },
 "nbformat": 4,
 "nbformat_minor": 4
}
