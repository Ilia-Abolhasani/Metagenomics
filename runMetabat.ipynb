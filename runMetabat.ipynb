{
 "cells": [
  {
   "cell_type": "code",
   "execution_count": 2,
   "metadata": {
    "ExecuteTime": {
     "end_time": "2021-07-11T22:31:09.225545Z",
     "start_time": "2021-07-11T22:31:09.220763Z"
    }
   },
   "outputs": [],
   "source": [
    "import glob\n",
    "import pandas as pd"
   ]
  },
  {
   "cell_type": "code",
   "execution_count": 18,
   "metadata": {
    "ExecuteTime": {
     "end_time": "2021-07-11T22:39:07.662629Z",
     "start_time": "2021-07-11T22:39:07.658481Z"
    }
   },
   "outputs": [],
   "source": [
    "dataset_name = \"CAMI_Low\"\n",
    "prob = 95"
   ]
  },
  {
   "cell_type": "markdown",
   "metadata": {
    "ExecuteTime": {
     "end_time": "2021-07-03T13:09:00.025529Z",
     "start_time": "2021-07-03T13:09:00.020924Z"
    }
   },
   "source": [
    "# MetaBat 1 & 2"
   ]
  },
  {
   "cell_type": "markdown",
   "metadata": {},
   "source": [
    "## MetaBat 1"
   ]
  },
  {
   "cell_type": "code",
   "execution_count": 19,
   "metadata": {
    "ExecuteTime": {
     "end_time": "2021-07-11T22:39:50.548177Z",
     "start_time": "2021-07-11T22:39:17.559857Z"
    }
   },
   "outputs": [
    {
     "name": "stdout",
     "output_type": "stream",
     "text": [
      "/home/jupyter/Final/metabat/berkeleylab-metabat-8b5702be9852/build/src\n",
      "MetaBAT 1 (GIT-NOTFOUND) using p1 85.0%, p2 90.0%, p3 95.0%, minProb 95.0%, minBinned 40%, minCV 1.0, minContig 1500, minContigByCorr 1000, minCorr  0%, paired 0, and 20 bootstrapping\n",
      "[Info] Correlation binning won't be applied since the number of samples (1) < minSamples (10)\n",
      "Number of clusters formed: 25\n",
      "/home/jupyter/Final\n"
     ]
    }
   ],
   "source": [
    "M = 1\n",
    "%cd /home/jupyter/Final/metabat/berkeleylab-metabat-8b5702be9852/build/src\n",
    "!mkdir -p /home/jupyter/Final/Binning/{dataset_name}/Metabat1/prob{prob}\n",
    "!./metabat1\\\n",
    "    -i /home/jupyter/Final/Dataset/{dataset_name}/contigs.fna \\\n",
    "    -a /home/jupyter/Final/Dataset/{dataset_name}/depth.txt \\\n",
    "    -o /home/jupyter/Final/Binning/{dataset_name}/Metabat1/prob{prob}/bin \\\n",
    "    -m 1500 \\\n",
    "    -t 20  \\\n",
    "    --minProb {prob} \\\n",
    "    --p1 85 \\\n",
    "    --p2 90 \\\n",
    "    --p3 95 \\\n",
    "    --minBinned 40\n",
    "\n",
    "%cd /home/jupyter/Final"
   ]
  },
  {
   "cell_type": "markdown",
   "metadata": {},
   "source": [
    "# MetaBat 2"
   ]
  },
  {
   "cell_type": "code",
   "execution_count": 30,
   "metadata": {
    "ExecuteTime": {
     "end_time": "2021-07-10T21:32:38.606219Z",
     "start_time": "2021-07-10T21:32:36.320469Z"
    }
   },
   "outputs": [
    {
     "name": "stdout",
     "output_type": "stream",
     "text": [
      "/home/jupyter/Final/metabat/berkeleylab-metabat-8b5702be9852/build/src\n",
      "MetaBAT 2 (GIT-NOTFOUND) using minContig 2500, minCV 1.0, minCVSum 1.0, maxP 95%, minS 95, maxEdges 200 and minClsSize 200000. with random seed=1625952756\n",
      "84 bins (120755561 bases in total) formed.\n",
      "/home/jupyter/Final\n"
     ]
    }
   ],
   "source": [
    "M = 2\n",
    "%cd /home/jupyter/Final/metabat/berkeleylab-metabat-8b5702be9852/build/src\n",
    "!mkdir -p /home/jupyter/Final/Binning/{dataset_name}/Metabat2/prob{prob}\n",
    "!./metabat2\\\n",
    "    -i /home/jupyter/Final/Dataset/{dataset_name}/contigs.fna \\\n",
    "    -a /home/jupyter/Final/Dataset/{dataset_name}/depth.txt \\\n",
    "    -o /home/jupyter/Final/Binning/{dataset_name}/Metabat2/prob{prob}/bin \\\n",
    "    -m 2500 \\\n",
    "    --maxP 95\\\n",
    "    --minS {prob}\n",
    "%cd /home/jupyter/Final"
   ]
  },
  {
   "cell_type": "code",
   "execution_count": 1,
   "metadata": {
    "ExecuteTime": {
     "end_time": "2021-07-18T14:03:28.916079Z",
     "start_time": "2021-07-18T14:03:28.797400Z"
    }
   },
   "outputs": [
    {
     "ename": "NameError",
     "evalue": "name 'dataset_name' is not defined",
     "output_type": "error",
     "traceback": [
      "\u001b[0;31m---------------------------------------------------------------------------\u001b[0m",
      "\u001b[0;31mNameError\u001b[0m                                 Traceback (most recent call last)",
      "\u001b[0;32m<ipython-input-1-4a8c7d7f5bc0>\u001b[0m in \u001b[0;36m<module>\u001b[0;34m\u001b[0m\n\u001b[0;32m----> 1\u001b[0;31m \u001b[0mpath\u001b[0m \u001b[0;34m=\u001b[0m \u001b[0;34mf'/home/jupyter/Final/Binning/{dataset_name}/Metabat{M}/prob{prob}/bin.'\u001b[0m\u001b[0;34m\u001b[0m\u001b[0;34m\u001b[0m\u001b[0m\n\u001b[0m\u001b[1;32m      2\u001b[0m \u001b[0mseqID\u001b[0m \u001b[0;34m=\u001b[0m \u001b[0;34m[\u001b[0m\u001b[0;34m]\u001b[0m\u001b[0;34m\u001b[0m\u001b[0;34m\u001b[0m\u001b[0m\n\u001b[1;32m      3\u001b[0m \u001b[0mbinIndex\u001b[0m \u001b[0;34m=\u001b[0m \u001b[0;34m[\u001b[0m\u001b[0;34m]\u001b[0m\u001b[0;34m\u001b[0m\u001b[0;34m\u001b[0m\u001b[0m\n\u001b[1;32m      4\u001b[0m \u001b[0;32mfor\u001b[0m \u001b[0mfile_path\u001b[0m \u001b[0;32min\u001b[0m \u001b[0mglob\u001b[0m\u001b[0;34m.\u001b[0m\u001b[0mglob\u001b[0m\u001b[0;34m(\u001b[0m\u001b[0mpath\u001b[0m \u001b[0;34m+\u001b[0m \u001b[0;34m'*.fa'\u001b[0m\u001b[0;34m)\u001b[0m\u001b[0;34m:\u001b[0m\u001b[0;34m\u001b[0m\u001b[0;34m\u001b[0m\u001b[0m\n\u001b[1;32m      5\u001b[0m     \u001b[0mindex\u001b[0m \u001b[0;34m=\u001b[0m \u001b[0mfile_path\u001b[0m\u001b[0;34m[\u001b[0m\u001b[0mlen\u001b[0m\u001b[0;34m(\u001b[0m\u001b[0mpath\u001b[0m\u001b[0;34m)\u001b[0m\u001b[0;34m:\u001b[0m\u001b[0;34m]\u001b[0m\u001b[0;34m.\u001b[0m\u001b[0msplit\u001b[0m\u001b[0;34m(\u001b[0m\u001b[0;34m'.fa'\u001b[0m\u001b[0;34m)\u001b[0m\u001b[0;34m[\u001b[0m\u001b[0;36m0\u001b[0m\u001b[0;34m]\u001b[0m\u001b[0;34m\u001b[0m\u001b[0;34m\u001b[0m\u001b[0m\n",
      "\u001b[0;31mNameError\u001b[0m: name 'dataset_name' is not defined"
     ]
    }
   ],
   "source": [
    "path = f'/home/jupyter/Final/Binning/{dataset_name}/Metabat{M}/prob{prob}/bin.'\n",
    "seqID = []\n",
    "binIndex = []\n",
    "for file_path in glob.glob(path + '*.fa'):\n",
    "    index = file_path[len(path):].split('.fa')[0]\n",
    "    with open(file_path, 'r') as file:\n",
    "        text = file.read()\n",
    "        text = [t for t in text.split('\\n') if len(t) > 0]\n",
    "        seq = [t[1:] for t in text if t[0] == '>']        \n",
    "    for s in seq:\n",
    "        seqID.append(s)\n",
    "        binIndex.append(index)\n",
    "df = pd.DataFrame({'seqID': seqID,'binIndex': binIndex})\n",
    "df.to_csv(path[:-4]+\"contigs.tab\", index=None, sep='\\t',header=None)\n",
    "!rm {path}*"
   ]
  },
  {
   "cell_type": "code",
   "execution_count": null,
   "metadata": {},
   "outputs": [],
   "source": []
  }
 ],
 "metadata": {
  "kernelspec": {
   "display_name": "Python 3",
   "language": "python",
   "name": "python3"
  },
  "language_info": {
   "codemirror_mode": {
    "name": "ipython",
    "version": 3
   },
   "file_extension": ".py",
   "mimetype": "text/x-python",
   "name": "python",
   "nbconvert_exporter": "python",
   "pygments_lexer": "ipython3",
   "version": "3.8.10"
  }
 },
 "nbformat": 4,
 "nbformat_minor": 4
}
