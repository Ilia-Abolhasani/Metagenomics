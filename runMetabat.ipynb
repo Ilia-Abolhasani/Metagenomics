{
 "cells": [
  {
   "cell_type": "code",
   "execution_count": 43,
   "metadata": {
    "ExecuteTime": {
     "end_time": "2021-07-04T20:43:38.320025Z",
     "start_time": "2021-07-04T20:43:38.315343Z"
    }
   },
   "outputs": [],
   "source": [
    "import glob\n",
    "import pandas as pd"
   ]
  },
  {
   "cell_type": "code",
   "execution_count": 75,
   "metadata": {
    "ExecuteTime": {
     "end_time": "2021-07-04T21:00:07.081959Z",
     "start_time": "2021-07-04T21:00:07.077452Z"
    }
   },
   "outputs": [],
   "source": [
    "dataset_name = \"CAMI_Low\"\n",
    "prob = 95"
   ]
  },
  {
   "cell_type": "markdown",
   "metadata": {
    "ExecuteTime": {
     "end_time": "2021-07-03T13:09:00.025529Z",
     "start_time": "2021-07-03T13:09:00.020924Z"
    }
   },
   "source": [
    "# MetaBat 1 & 2"
   ]
  },
  {
   "cell_type": "markdown",
   "metadata": {},
   "source": [
    "## MetaBat 1"
   ]
  },
  {
   "cell_type": "code",
   "execution_count": 76,
   "metadata": {
    "ExecuteTime": {
     "end_time": "2021-07-04T21:00:33.551789Z",
     "start_time": "2021-07-04T21:00:07.810874Z"
    }
   },
   "outputs": [
    {
     "name": "stdout",
     "output_type": "stream",
     "text": [
      "/home/jupyter/Final/metabat/berkeleylab-metabat-8b5702be9852/build/src\n",
      "MetaBAT 1 (GIT-NOTFOUND) using p1 85.0%, p2 90.0%, p3 95.0%, minProb 95.0%, minBinned 40%, minCV 1.0, minContig 2500, minContigByCorr 1000, minCorr  0%, paired 0, and 20 bootstrapping\n",
      "[Info] Correlation binning won't be applied since the number of samples (1) < minSamples (10)\n",
      "Number of clusters formed: 27\n",
      "/home/jupyter/Final\n"
     ]
    }
   ],
   "source": [
    "%cd /home/jupyter/Final/metabat/berkeleylab-metabat-8b5702be9852/build/src\n",
    "!mkdir -p /home/jupyter/Final/Binning/{dataset_name}/Metabat1/prob{prob}\n",
    "!./metabat1\\\n",
    "    -i /home/jupyter/Final/Dataset/{dataset_name}/anonymous.fasta \\\n",
    "    -a /home/jupyter/Final/Dataset/{dataset_name}/depth.txt \\\n",
    "    -o /home/jupyter/Final/Binning/{dataset_name}/Metabat1/prob{prob}/bin \\\n",
    "    -m 2500 \\\n",
    "    -t 20  \\\n",
    "    --minProb {prob} \\\n",
    "    --p1 85 \\\n",
    "    --p2 90 \\\n",
    "    --p3 95 \\\n",
    "    --minBinned 40\n",
    "\n",
    "%cd /home/jupyter/Final"
   ]
  },
  {
   "cell_type": "markdown",
   "metadata": {},
   "source": [
    "# MetaBat 2"
   ]
  },
  {
   "cell_type": "code",
   "execution_count": 54,
   "metadata": {
    "ExecuteTime": {
     "end_time": "2021-07-03T13:04:37.894658Z",
     "start_time": "2021-07-03T13:04:37.883306Z"
    }
   },
   "outputs": [
    {
     "ename": "IndentationError",
     "evalue": "unexpected indent (<ipython-input-54-9009f7098503>, line 3)",
     "output_type": "error",
     "traceback": [
      "\u001b[0;36m  File \u001b[0;32m\"<ipython-input-54-9009f7098503>\"\u001b[0;36m, line \u001b[0;32m3\u001b[0m\n\u001b[0;31m    -t 20 \\ #number of thread\u001b[0m\n\u001b[0m    ^\u001b[0m\n\u001b[0;31mIndentationError\u001b[0m\u001b[0;31m:\u001b[0m unexpected indent\n"
     ]
    }
   ],
   "source": [
    "%cd /home/jupyter/Final/metabat/berkeleylab-metabat-8b5702be9852/build/src\n",
    "!mkdir -p /home/jupyter/Final/Binning/{dataset_name}/Metabat2/prob{prob}\n",
    "!./metabat2\\\n",
    "    -i /home/jupyter/Final/Dataset/{dataset_name}/anonymous.fasta \\\n",
    "    -a /home/jupyter/Final/Dataset/{dataset_name}/depth.txt \\\n",
    "    -o /home/jupyter/Final/Binning/{dataset_name}/Metabat2/prob{prob}/bin \\\n",
    "    -m 2500  # minimom contig length            \n",
    "%cd /home/jupyter/Final"
   ]
  },
  {
   "cell_type": "code",
   "execution_count": 77,
   "metadata": {
    "ExecuteTime": {
     "end_time": "2021-07-04T21:00:34.584525Z",
     "start_time": "2021-07-04T21:00:33.556428Z"
    }
   },
   "outputs": [],
   "source": [
    "path = f'/home/jupyter/Final/Binning/{dataset_name}/Metabat1/prob{prob}/bin.'\n",
    "seqID = []\n",
    "binIndex = []\n",
    "for file_path in glob.glob(path + '*.fa'):\n",
    "    index = file_path[len(path):].split('.fa')[0]\n",
    "    with open(file_path, 'r') as file:\n",
    "        text = file.read()\n",
    "        text = [t for t in text.split('\\n') if len(t) > 0]\n",
    "        seq = [t[1:] for t in text if t[0] == '>']        \n",
    "    for s in seq:\n",
    "        seqID.append(s)\n",
    "        binIndex.append(index)\n",
    "df = pd.DataFrame({'seqID': seqID,'binIndex': binIndex})\n",
    "df.to_csv(path[:-4]+\"contigs.tab\", index=None, sep='\\t',header=None)\n",
    "!rm {path}*"
   ]
  },
  {
   "cell_type": "code",
   "execution_count": null,
   "metadata": {},
   "outputs": [],
   "source": []
  }
 ],
 "metadata": {
  "kernelspec": {
   "display_name": "Python 3",
   "language": "python",
   "name": "python3"
  },
  "language_info": {
   "codemirror_mode": {
    "name": "ipython",
    "version": 3
   },
   "file_extension": ".py",
   "mimetype": "text/x-python",
   "name": "python",
   "nbconvert_exporter": "python",
   "pygments_lexer": "ipython3",
   "version": "3.8.10"
  }
 },
 "nbformat": 4,
 "nbformat_minor": 4
}
