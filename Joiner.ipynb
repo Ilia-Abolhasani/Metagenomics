{
 "cells": [
  {
   "cell_type": "code",
   "execution_count": 1,
   "metadata": {
    "ExecuteTime": {
     "end_time": "2021-09-29T12:41:58.752125Z",
     "start_time": "2021-09-29T12:41:55.488474Z"
    }
   },
   "outputs": [],
   "source": [
    "import numpy as np ,pandas as pd, matplotlib.pyplot as plt"
   ]
  },
  {
   "cell_type": "code",
   "execution_count": 2,
   "metadata": {
    "ExecuteTime": {
     "end_time": "2021-09-29T12:42:11.489161Z",
     "start_time": "2021-09-29T12:42:11.484169Z"
    }
   },
   "outputs": [],
   "source": [
    "db_name = \"urog\"\n",
    "p0 = f\"./Annotation/{db_name}/runC0_01/data\"\n",
    "p1 = f\"./Annotation/{db_name}/runC1_01/data\"\n",
    "p2 = f\"./Annotation/{db_name}/runC2_01/data\"\n",
    "p3 = f\"./Annotation/{db_name}/runC3_01/data\"\n",
    "p4 = f\"./Annotation/{db_name}/runC4_01/data\"\n",
    "p5 = f\"./Annotation/{db_name}/runC5_01/data\"\n",
    "\n",
    "paths = [p0,p1,p2,p3,p4,p5]"
   ]
  },
  {
   "cell_type": "markdown",
   "metadata": {},
   "source": [
    "# join txt files"
   ]
  },
  {
   "cell_type": "code",
   "execution_count": 3,
   "metadata": {
    "ExecuteTime": {
     "end_time": "2021-09-29T12:43:08.765527Z",
     "start_time": "2021-09-29T12:42:27.110369Z"
    }
   },
   "outputs": [],
   "source": [
    "for f in ['cds.gene2ko.tab.txt',\n",
    "          'cds.gene2casgene.tab.txt',\n",
    "          'cds.gene2ec.tab.txt',\n",
    "          'cds.gene2genomedb.tab.txt',\n",
    "          'cds.gene2go.tab.txt',\n",
    "          'cds.gene2metabolic.tab.txt',\n",
    "          'cds.gene2pfam.tab.txt',\n",
    "          'cds.gene2sprot.tab.txt',\n",
    "          'cds.gene2tigrfam.tab.txt',\n",
    "          'crispr.tab.txt',\n",
    "          'rRNA.tab.txt',\n",
    "          'tRNA.tab.txt']:\n",
    "    for p in paths[1:] : \n",
    "        with open(f'{p}/{f}','r') as file:\n",
    "            text = file.read().split('\\n')        \n",
    "        with open(f'{p}/{f}','w') as file:\n",
    "            file.write('/n'.join(text[1:]))        "
   ]
  },
  {
   "cell_type": "code",
   "execution_count": 4,
   "metadata": {
    "ExecuteTime": {
     "end_time": "2021-09-29T12:48:00.951932Z",
     "start_time": "2021-09-29T12:45:15.303608Z"
    }
   },
   "outputs": [
    {
     "name": "stdout",
     "output_type": "stream",
     "text": [
      "start : all.gff\n",
      "Finished : all.gff\n",
      "start : cds.ffn\n",
      "Finished : cds.ffn\n",
      "start : master.tbl.txt\n",
      "Finished : master.tbl.txt\n",
      "start : cds.faa\n",
      "Finished : cds.faa\n",
      "start : tRNA.ffn\n",
      "Finished : tRNA.ffn\n",
      "start : cds.gene2ko.tab.txt\n",
      "Finished : cds.gene2ko.tab.txt\n",
      "start : master.gff.txt\n",
      "Finished : master.gff.txt\n",
      "start : cds.gene2casgene.tab.txt\n",
      "Finished : cds.gene2casgene.tab.txt\n",
      "start : cds.gene2ec.tab.txt\n",
      "Finished : cds.gene2ec.tab.txt\n",
      "start : cds.gene2genomedb.tab.txt\n",
      "Finished : cds.gene2genomedb.tab.txt\n",
      "start : cds.gene2go.tab.txt\n",
      "Finished : cds.gene2go.tab.txt\n",
      "start : cds.gene2metabolic.tab.txt\n",
      "Finished : cds.gene2metabolic.tab.txt\n",
      "start : cds.gene2pfam.tab.txt\n",
      "Finished : cds.gene2pfam.tab.txt\n",
      "start : cds.gene2sprot.tab.txt\n",
      "Finished : cds.gene2sprot.tab.txt\n",
      "start : cds.gene2tigrfam.tab.txt\n",
      "Finished : cds.gene2tigrfam.tab.txt\n",
      "start : crispr.tab.txt\n",
      "Finished : crispr.tab.txt\n",
      "start : rRNA.tab.txt\n",
      "Finished : rRNA.tab.txt\n",
      "start : tRNA.tab.txt\n",
      "Finished : tRNA.tab.txt\n",
      "start : 16SrRNA.ffn\n",
      "Finished : 16SrRNA.ffn\n",
      "start : 18SrRNA.ffn\n",
      "Finished : 18SrRNA.ffn\n",
      "start : 23SrRNA.ffn\n",
      "Finished : 23SrRNA.ffn\n",
      "start : 28SrRNA.ffn\n",
      "Finished : 28SrRNA.ffn\n",
      "start : 5SrRNA.ffn\n",
      "Finished : 5SrRNA.ffn\n"
     ]
    }
   ],
   "source": [
    "for f in [\"all.gff\", \"cds.ffn\",\"master.tbl.txt\", \"cds.faa\",\"tRNA.ffn\",\n",
    "         \"cds.gene2ko.tab.txt\",\"master.gff.txt\",  'cds.gene2casgene.tab.txt',\n",
    "         'cds.gene2ec.tab.txt','cds.gene2genomedb.tab.txt','cds.gene2go.tab.txt',\n",
    "         'cds.gene2metabolic.tab.txt','cds.gene2pfam.tab.txt',\n",
    "         'cds.gene2sprot.tab.txt','cds.gene2tigrfam.tab.txt','crispr.tab.txt','rRNA.tab.txt','tRNA.tab.txt',\n",
    "         '16SrRNA.ffn','18SrRNA.ffn','23SrRNA.ffn','28SrRNA.ffn','5SrRNA.ffn']:\n",
    "    print(f'start : {f}')\n",
    "    !cat $p0/$f $p1/$f $p2/$f $p3/$f $p4/$f $p5/$f> $p0/../../$f\n",
    "    for p in paths :\n",
    "        !rm {p}/{f}        \n",
    "    print(f'Finished : {f}')"
   ]
  },
  {
   "cell_type": "code",
   "execution_count": null,
   "metadata": {},
   "outputs": [],
   "source": []
  }
 ],
 "metadata": {
  "kernelspec": {
   "display_name": "Python 3",
   "language": "python",
   "name": "python3"
  },
  "language_info": {
   "codemirror_mode": {
    "name": "ipython",
    "version": 3
   },
   "file_extension": ".py",
   "mimetype": "text/x-python",
   "name": "python",
   "nbconvert_exporter": "python",
   "pygments_lexer": "ipython3",
   "version": "3.8.10"
  }
 },
 "nbformat": 4,
 "nbformat_minor": 4
}
